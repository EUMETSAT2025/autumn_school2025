{
 "cells": [
  {
   "cell_type": "markdown",
   "metadata": {
    "Collapsed": "false"
   },
   "source": [
    "<span style=float:center><img src='../../lsa-saf/img/LSASAF_Name_Colour.png' alt='LSA SAF' align='right' width='20%'></img>\n",
    "<span style=float:center><img src='../../lsa-saf/img/eumet_logo.png' alt='Eumetsat logo' align='center' width='30%'></img>"
   ]
  },
  {
   "cell_type": "markdown",
   "metadata": {},
   "source": [
    "<div class=\"alert alert-block alert-success\">\n",
    "<b>PREREQUISITE </b><br>\n",
    "    \n",
    "To ensure a smooth experience, please note the following requirements and data availability:\n",
    "* **User Knowledge**: Familiarity with Python and commonly used data science libraries is expected.\n",
    "* **MSG FRPPixel** data are readily available from the [LSA SAF data server](https://datalsasaf.lsasvcs.ipma.pt/PRODUCTS/MSG/FRP-PIXEL/HDF5/2025/08/) in the `HDF5` format \n",
    "\n",
    "</div>\n"
   ]
  },
  {
   "cell_type": "markdown",
   "metadata": {
    "Collapsed": "false"
   },
   "source": [
    "<hr>"
   ]
  },
  {
   "cell_type": "markdown",
   "metadata": {},
   "source": [
    "# LSA SAF Fire Radiative Power - Utilizing MSG data"
   ]
  },
  {
   "cell_type": "markdown",
   "metadata": {},
   "source": [
    "#### **About**"
   ]
  },
  {
   "cell_type": "markdown",
   "metadata": {},
   "source": [
    "Southern Europe is highly susceptible to large wildfires, which can have severe socio-economic and ecological consequences. The Mediterranean climate, characterized by hot, dry summers and mild, wet winters, creates favorable conditions for the outbreak and rapid spread of fires, exacerbated by factors such as drought, high temperatures, and strong winds. Therefore, a reliable detection of fires as well as an estimation of their severity and impact is of great importance when addressing the risk posed by wildfires.\n",
    "\n",
    "This Jupyter Notebook (JN) aims to analyze Fire Radiative Power (FRP) data measured by SEVIRI onboard Meteosat Second Generation (MSG)\n",
    "For more information on the SEVIRI dataset, refer to the LSA SAF FRP Pixel Product documentation [LSA SAF FRPPixel [502]](https://landsaf.ipma.pt/en/data/products/fire-products/)."
   ]
  },
  {
   "cell_type": "markdown",
   "metadata": {},
   "source": [
    "#### **How to Access the Data**\n",
    "\n",
    "In this example, Fire Radiative Power (FRP) measurements for August 2025 need to be obtained. The FRPPixel is disseminated as \n",
    "* `HDF5` file for MSG\n",
    "\n",
    "\n",
    "The LSA SAF products files can be downloaded from the [data server](https://datalsasaf.lsasvcs.ipma.pt/PRODUCTS/) available at https://datalsasaf.lsasvcs.ipma.pt/ with prior registration. As of September 2025, MSG-based products and pre-operational MTG-based products (Albedo and Land Surface Temperature) are available.\n",
    "\n",
    "Data can be downloaded in various ways, for instance manually, using approach published on the [lsasaf_data_access GitLab](https://gitlab.com/helpdesk.landsaf/lsasaf_data_access/-/blob/main/examples/webdav/webdav_colab_example.ipynb) repository or using [WebDAV protocol](https://gitlab.com/helpdesk.landsaf/lsasaf_data_access/-/wikis/data/webdav). An additional option is to use the `GNU Wget` program."
   ]
  },
  {
   "cell_type": "markdown",
   "metadata": {},
   "source": [
    "#### Basic facts on the LSA SAF FRPPixel (MSG)\n",
    "> **Product number**: LSA-502\n",
    ">\n",
    "> **Spatial resolution**: 3km at nadir\n",
    "> \n",
    "> **Spatial coverage**: MSG-Disk\n",
    "> \n",
    "> **Time steps**: 15 min\n",
    "> \n",
    "> **Data availability**: from 2016\n",
    "> \n"
   ]
  },
  {
   "cell_type": "markdown",
   "metadata": {
    "Collapsed": "false"
   },
   "source": [
    "<hr>"
   ]
  },
  {
   "cell_type": "markdown",
   "metadata": {},
   "source": [
    "#### **Load required libraries**"
   ]
  },
  {
   "cell_type": "code",
   "execution_count": null,
   "metadata": {
    "editable": true,
    "slideshow": {
     "slide_type": ""
    },
    "tags": []
   },
   "outputs": [],
   "source": [
    "import h5py as h5                     # a library for working with HDF5 file formats.\n",
    "import numpy as np                    # a library that lets us work with arrays; we import this with a new name \"np\"\n",
    "import matplotlib.patches as mpatches\n",
    "from matplotlib.lines import Line2D\n",
    "from matplotlib.collections import LineCollection\n",
    "import pandas as pd                   # a library for time series analysis\n",
    "import geopandas as gpd\n",
    "import datetime as dt                 # a library that allows us to work with dates and times\n",
    "import xarray as xr                   # a library that helps us work efficiently with multi-dimensional arrays\n",
    "import matplotlib.pyplot as plt       # a library the provides plotting capability\n",
    "from tqdm import tqdm                 # a library to display progress meter with low overhead\n",
    "\n",
    "from scipy import interpolate\n",
    "from scipy.ndimage import zoom\n",
    "import sys\n",
    "import os\n",
    "import shutil\n",
    "import glob \n",
    "\n",
    "import cartopy.crs as ccrs  \n",
    "import cartopy.feature as cf\n",
    "import cartopy.io.img_tiles as cimgt\n",
    "\n",
    "from matplotlib.colors import BoundaryNorm, ListedColormap\n",
    "#testing of this libraries\n",
    "#import rasterio as rio\n",
    "import xarray as xr\n",
    "\n",
    "import matplotlib.pyplot as plt\n",
    "\n",
    "#for making unions of \n",
    "from geopandas.tools import sjoin\n",
    "from datetime import datetime\n",
    "import pyproj\n",
    "\n",
    "from shapely.geometry import Polygon\n",
    "from shapely.ops import polygonize\n",
    "\n",
    "import warnings\n",
    "from cartopy.io import DownloadWarning\n",
    "warnings.filterwarnings(\"ignore\", category=DownloadWarning)\n",
    "\n",
    "from utility_functions import *"
   ]
  },
  {
   "cell_type": "markdown",
   "metadata": {},
   "source": [
    "### <a id='First'></a>1. **Accessing the Data**"
   ]
  },
  {
   "cell_type": "markdown",
   "metadata": {},
   "source": [
    "We first define the directories for the MSG FRP data, MTG FRP data and fire polygons. Using the `glob` library, we then create lists of all available FRP pixel estimates for both MSG and MTG datasets. These file lists will be used later for data loading, filtering, and comparative analyses."
   ]
  },
  {
   "cell_type": "code",
   "execution_count": null,
   "metadata": {},
   "outputs": [],
   "source": [
    "pathMSG = '../../../autumn_school2025/lsa-saf/data/FRP-PIXEL/'\n",
    "\n",
    "\n",
    "MSG_Frp_files = glob.glob(pathMSG+'HDF5_LSASAF_MSG_FRP-PIXEL-ListProduct_MSG-Disk_*')\n"
   ]
  },
  {
   "cell_type": "markdown",
   "metadata": {},
   "source": [
    "Here we demonstrate how to read a single MSG FRPPixel file. The function `readFRP_list` loads selected variables from the first file in the list and returns the extracted data as a pandas DataFrame."
   ]
  },
  {
   "cell_type": "code",
   "execution_count": null,
   "metadata": {},
   "outputs": [],
   "source": [
    "# # save TIME - DO NOT RUN this cell (data have been pre-prepared)!!\n",
    "# # We read MSG all the necesary parts of data into the dataframe\n",
    "\n",
    "firstFile = True\n",
    "for datafile in MSG_Frp_files:\n",
    "     print(datafile)\n",
    "     if firstFile:\n",
    "         msg_frp_df = readFRP_list(datafile, 'FRP','FRP_UNCERTAINTY','LATITUDE','LONGITUDE' ,'FIRE_CONFIDENCE','PIXEL_SIZE',group=False)\n",
    "         firstFile = False\n",
    "     else:\n",
    "         b = readFRP_list(datafile, 'FRP','FRP_UNCERTAINTY','LATITUDE','LONGITUDE' ,'FIRE_CONFIDENCE','PIXEL_SIZE',group=False)\n",
    "         msg_frp_df = pd.concat([msg_frp_df, b], axis= 0)"
   ]
  },
  {
   "cell_type": "markdown",
   "metadata": {},
   "source": []
  },
  {
   "cell_type": "markdown",
   "metadata": {},
   "source": [
    "### <a id='Third'></a>3. **High confidence FRP data statistics**\n"
   ]
  },
  {
   "cell_type": "markdown",
   "metadata": {},
   "source": [
    "Only pixels with fire confidence level exceeding 90% are considered:"
   ]
  },
  {
   "cell_type": "code",
   "execution_count": null,
   "metadata": {},
   "outputs": [],
   "source": [
    "## Filter out all data with FIRE CONFIDENCE below treshold\n",
    "msg_frp_df_conf90 = msg_frp_df.loc[msg_frp_df['FIRE_CONFIDENCE'] >= 0.9].copy() \n",
    "\n"
   ]
  },
  {
   "cell_type": "markdown",
   "metadata": {},
   "source": [
    "#### **Daily FRP values for DAY X**"
   ]
  },
  {
   "cell_type": "markdown",
   "metadata": {},
   "source": [
    "We will select only the records from the datasets that correspond to a given day. We can then further explore the data, for example by printing the first few rows with `head()` or by generating summary statistics with `describe()`."
   ]
  },
  {
   "cell_type": "code",
   "execution_count": null,
   "metadata": {},
   "outputs": [],
   "source": [
    "msg_frp_df_conf90['DAY'] = msg_frp_df_conf90['TIME'].dt.day\n",
    "msg_frp_df_conf90['HOUR'] = msg_frp_df_conf90['TIME'].dt.hour\n"
   ]
  },
  {
   "cell_type": "markdown",
   "metadata": {},
   "source": [
    "<div class=\"alert alert-block alert-success\"> \n",
    "To display data for a specific day, replace <code>X</code> in the next cell with the desired day number:\n",
    "<br>\n",
    "<br> msg_frp_15 = msg_frp_df_conf90.loc[msg_frp_df_conf90['DAY'] == <code>X</code>].copy() </div>"
   ]
  },
  {
   "cell_type": "code",
   "execution_count": null,
   "metadata": {},
   "outputs": [],
   "source": [
    "msg_frp_15 = msg_frp_df_conf90.loc[msg_frp_df_conf90['DAY']==5].copy()\n"
   ]
  },
  {
   "cell_type": "markdown",
   "metadata": {},
   "source": [
    "In this step, the datasets are prepared for grouping by geographic coordinates.\n",
    "\n",
    "First, the LATITUDE and the LONGITUDE values are rounded to three decimal places. This slightly reduces precision but simplifies the grouping process. Then, a combined LATLON column is created that stores each pixel’s latitude–longitude pair (this step may not be strictly necessary).\n",
    "\n",
    "Finally, the data is then grouped by the rounded latitude and longitude, and for each grid point, the maximum FRP value is calculated. The resulting grouped dataset is stored in a new dataframe, and the first few rows are displayed to verify successful processing."
   ]
  },
  {
   "cell_type": "code",
   "execution_count": null,
   "metadata": {},
   "outputs": [],
   "source": [
    "# MSG rounded latitude and longitude for easier grouping\n",
    "msg_frp_15['LATITUDE'] = msg_frp_15['LATITUDE'].round(3)\n",
    "msg_frp_15['LONGITUDE'] = msg_frp_15['LONGITUDE'].round(3)\n",
    "\n",
    "msg_frp_15_m = msg_frp_15.groupby(['LATITUDE','LONGITUDE'])['FRP'].max().reset_index()\n",
    "print(msg_frp_15_m.head())"
   ]
  },
  {
   "cell_type": "markdown",
   "metadata": {},
   "source": [
    "We define a Plate Carrée cartographic projection with the central meridian set to 0° (central_longitude = 0.0) is defined. A figure is created with two subplots, positioned side by side, each using the defined projection.\n",
    "\n"
   ]
  },
  {
   "cell_type": "code",
   "execution_count": null,
   "metadata": {},
   "outputs": [],
   "source": [
    "import matplotlib.pyplot as plt\n",
    "import cartopy.crs as ccrs\n",
    "import cartopy.feature as cf\n",
    "\n",
    "choosen_projection = ccrs.PlateCarree(central_longitude=0.0)\n",
    "\n",
    "# Limit c value using the 75th percentile\n",
    "msg_75percentile = msg_frp_15['FRP'].quantile(q=0.75)\n",
    "\n",
    "# Create a single-plot figure\n",
    "fig, ax = plt.subplots(subplot_kw={'projection': choosen_projection}, figsize=(10, 8))\n",
    "\n",
    "# Plot MTG data only\n",
    "msg_frp_15.plot.scatter(\n",
    "    ax=ax,\n",
    "    x='LONGITUDE', y='LATITUDE',\n",
    "    c='FRP', cmap='viridis',\n",
    "    alpha=0.5,\n",
    "    xlabel='LON', ylabel='LAT',\n",
    "    clim=(0, msg_75percentile),\n",
    "    title='MSG distribution of FRP for specific day.'\n",
    ")\n",
    "\n",
    "# Add map features\n",
    "ax.add_feature(cf.BORDERS)\n",
    "ax.add_feature(cf.RIVERS)\n",
    "ax.coastlines()\n",
    "ax.gridlines(draw_labels=True, linestyle='--', color='gray', alpha=0.5)\n",
    "#Iberian Peninsula:\n",
    "#ax.set_extent([-10, 3, 35, 45], crs=ccrs.PlateCarree())\n",
    "#Global\n",
    "#ax.set_extent([-65, 50, -35, 55], crs=ccrs.PlateCarree())\n",
    "#Mediterranean\n",
    "ax.set_extent([10, 30, 35, 45], crs=ccrs.PlateCarree())\n",
    "plt.show()\n"
   ]
  },
  {
   "cell_type": "markdown",
   "metadata": {},
   "source": [
    "#### References:\n",
    "\n",
    "* array Developers (2023). xarray User Guide. [https://docs.xarray.dev/en/stable/user-guide/index.html](https://docs.xarray.dev/en/stable/user-guide/index.html). Accesed: 11.9.2025\n",
    "* Met Office (2010-2015). Cartopy: a cartographic python library with a Matplotlib interface. https://scitools.org.uk/cartopy. Accessed: 20.11.2023."
   ]
  }
 ],
 "metadata": {
  "author": "Vid Primožič, Ahac Pazlar, Boštjan Muri",
  "description": "This notebook demonstrates the effect of wildfires on FVC. LSA SAF FRP product is used to show the fire power in the effected area and a change of LSA SAF FVC value is used to demonstrate the effect of fire on vegetation.",
  "image": "../img/vege_4_thumbnaill.png",
  "kernelspec": {
   "display_name": "Python [conda env:.conda-LSASAF_env_plus]",
   "language": "python",
   "name": "conda-env-.conda-LSASAF_env_plus-py"
  },
  "language_info": {
   "codemirror_mode": {
    "name": "ipython",
    "version": 3
   },
   "file_extension": ".py",
   "mimetype": "text/x-python",
   "name": "python",
   "nbconvert_exporter": "python",
   "pygments_lexer": "ipython3",
   "version": "3.10.15"
  },
  "services": {
   "eumetsat": {
    "git": {
     "link": "https://gitlab.eumetsat.int/eumetlab/atmosphere/atmosphere/-/blob/master/name.ipynb",
     "service_contact": "training@eumetsat.int",
     "service_provider": "EUMETSAT"
    },
    "jupyter": {
     "link": "",
     "service_contact": "",
     "service_provider": ""
    }
   }
  },
  "tags": {
   "domain": "Land",
   "service": "",
   "subtheme": "subtheme",
   "tags": ""
  },
  "title": "Analysing the Effects of Wild Fires on Vegetation Using LSA SAF MSG MDFVC Product and LSA SAF MSG-FRP Pixel Product"
 },
 "nbformat": 4,
 "nbformat_minor": 4
}
