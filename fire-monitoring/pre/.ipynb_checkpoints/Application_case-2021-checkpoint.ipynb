{
 "cells": [
  {
   "cell_type": "markdown",
   "metadata": {},
   "source": [
    "<img src='./img/EU-Copernicus-EUM_3Logos.png' alt='Logo EU Copernicus EUMETSAT' align='right' width='50%'></img>"
   ]
  },
  {
   "cell_type": "markdown",
   "metadata": {},
   "source": [
    "<hr>"
   ]
  },
  {
   "cell_type": "markdown",
   "metadata": {
    "tags": []
   },
   "source": [
    "# Forecasting pre-fire risk: Mediterranean Fires Case Study\n"
   ]
  },
  {
   "cell_type": "markdown",
   "metadata": {
    "tags": []
   },
   "source": [
    "\n",
    "## The Case Event\n",
    "A long period of warm and dry weather led to fires breaking out across the Mediterranean during the summer of 2021. In the Mediterranean region, the winters are rainy and mild while the summers are hot and dry, leading to vegetation stress and the accumulation of fuels in the summer months. \n",
    "\n",
    "In Greece, the largest wildfires occurred in Attica, Olympia, Messenia, and Evia (also known as Euboea). The fires in Evia, Greece's second largest island, were particularly devastating. They led to two deaths and [destroyed 125,000 hectares of land](https://user.eumetsat.int/resources/case-studies/smoke-and-burned-areas-from-greek-fires). \n",
    "\n",
    "Southern Italy and Sicily were particularly impacted by wildfires. In Calabria, fires restarted in early August in the Aspromonte Mountain around the San Luca Valley, [threatening ancient and primaeval beech forests](https://emergency.copernicus.eu/mapping/list-of-components/EMSR534) (Faggete vetuste) that are recognised as a UNESCO World Heritage site. \n"
   ]
  },
  {
   "cell_type": "markdown",
   "metadata": {},
   "source": [
    "Monitoring the fire life cycle consists of three stages: (1) pre-fire, (2) active fire and (3) post-fire. First, we can assess pre-fire risk based on meteorological and vegetation conditions. During the fire, we can detect and monitor the location of active fires as well as smoke being produced by the fires. Finally, after the fires have been extinguished, the burned area and burn severity can be assessed."
   ]
  },
  {
   "cell_type": "markdown",
   "metadata": {
    "tags": []
   },
   "source": [
    "#### <a id='med_part1_fig1'></a>Normalised Difference Vegetation Index (NDVI)\n",
    "Monitoring the greenness of vegetation is important as periods of dry and hot weather can lead to increased fire risk, as dry vegetation is easier to ignite and burn. A useful product is the [10-daily Normalised Difference Vegetation Index (NDVI)](https://lsa-saf.eumetsat.int/en/data/products/vegetation/#NDVI) which is calculated using the red and near-infrared (NIR) surface reflectances. A high NDVI corresponds to greener vegetation that is less likely to burn. For this NDVI data product, each month  is  divided  into three  \"dekads\".  The  first  two  always  comprise  ten  days, while the third has a variable length, as it runs from day 21 until the end of the month. `Figure 1` shows the NDVI anomaly for the last dekad of July 2021, calculated using a reference period between 2010 and 2020. Regions with low negative anomalies are colored in dark brown. These occur over areas that have lower NDVI, while positive anomalies colored in teal indicate regions that have higher NDVI than the reference period.\n",
    "\n",
    "This NDVI data product is part of the [LSA SAF](https://landsaf.ipma.pt/en/) data catalogue. LSA SAF develops and processes satellite products that characterise the continental surfaces, such as radiation products, vegetation, evapotranspiration and wildfires. At present, LSA SAF uses data from the [Advanced Very High Resolution Radiometer (AVHRR)](https://www.eumetsat.int/metop-instruments#:~:text=contract%20to%20EUMETSAT.-,Advanced%20Very%20High%20Resolution%20Radiometer,-The%20Advanced%20Very) aboard the Metop satellites to calculate NDVI at a 1km spatial resolution. In the future, METImage data will be used, resulting in a higher spatial resolution of 500m. "
   ]
  },
  {
   "cell_type": "markdown",
   "metadata": {},
   "source": [
    "<div align=\"center\"><img src='./img/med_part1_figure_1.png'  width='80%'></img></div>"
   ]
  },
  {
   "cell_type": "markdown",
   "metadata": {
    "tags": []
   },
   "source": [
    "<i>Figure 1. NDVI Anomaly for the last dekad of July 2021, as calculated with a reference period between 2010 and 2020.\n",
    "<br>Learn how this [plot of NDVI](./med_part1_workflows/figure1_LSA_SAF_NDVI.ipynb) was made.</i></i>"
   ]
  },
  {
   "cell_type": "markdown",
   "metadata": {},
   "source": [
    "#### <a id='med_part1_fig2'></a> Fire Risk Map: fire risk, fire probability and fire probability anomalies"
   ]
  },
  {
   "cell_type": "markdown",
   "metadata": {
    "tags": []
   },
   "source": [
    "Early information for fire risk is crucial for emergency response. One important source of information is the [Fire Risk Map v2 (FRMv2)](https://lsa-saf.eumetsat.int/en/data/products/fire-products/#FRR), which consists of daily forecasts of classes of meteorological fire danger over Mediterranean Europe. Five fire risk classes are provided, ranging from low to extreme risk. The forecast timesteps available start at 24 hours to 120 hours. `Figure 2` shows the fire risk map over Italy and Greece for 5th August 2021. The forecast data was retrieved with a 24 hour time step from 4th August 2021. Greece is mostly coloured in dark red, showing extreme fire risk. Italy has multiple areas coloured in orange which indicates high fire risk or bright red for very high fire risk.\n",
    "\n",
    "\n",
    "Currently, this dataset is based on LSA SAF data records of daily released energy by active fires derived from [Meteosat Second Generation's SEVIRI instrument](https://www.eumetsat.int/meteosat-second-gen-instruments#:~:text=to%20data%20users.-,Spinning%20Enhanced%20Visible%20and%20Infrared%20Imager,-The%20Spinning%20Enhanced). In the future, data from [Flexible Combined Imager (FCI)](https://user.eumetsat.int/resources/user-guides/mtg-fci-level-1c-data-guide) aboard the MTG satellites will be incorporated into fire risk mapping. The FCI provides 16 channels in the visible and infrared spectrum with a spatial sampling distance in the range of 1 to 2 km and four channels with a spatial sampling distance in the range of 0.5 to 1 km. The increased spatial resolution of FCI will allow the detection of less intense fires than with the current SEVIRI pixel size. Also the dynamic range of the middle infrared FCI channel will be enhanced, avoiding pixel saturation for very intense fires. The quality of the FRMv2 product will be improved through better calibration."
   ]
  },
  {
   "cell_type": "markdown",
   "metadata": {},
   "source": [
    "<div align=\"center\"><img src='./img/med_part1_figure_2.png'  width='80%'></img></div>"
   ]
  },
  {
   "cell_type": "markdown",
   "metadata": {},
   "source": [
    "<i>Figure 2. 24-hour forecast of fire risk for 5th August 2021 from LSA SAF.\n",
    "<br>Learn how this [plot of fire risk](./med_part1_workflows/figure234_LSA_SAF_FRMv2.ipynb) was made.</i>"
   ]
  },
  {
   "cell_type": "markdown",
   "metadata": {},
   "source": [
    "#### <a id='med_part1_fig3'></a> Probabilities of a Potential Wildfire exceeding 2000 GJ of Daily Energy released by Fires (P2000)"
   ]
  },
  {
   "cell_type": "markdown",
   "metadata": {},
   "source": [
    "Another data variable available within the FRMv2 dataset is P2000, which shows the probabilities of a potential wildfire exceeding 2000 GJ of daily energy released by fires (P2000). In other words, it provides information on the likelihood of a potential wildfire getting out of control. Figure 3 shows the 24 hour forecast of P2000 for 5th August 2021. Greece is mostly coloured in orange and red, indicating a high probability of a potential wildfire getting out of control. Italy is mostly coloured in blue and green, indicating lower probabilities of a wildfire getting out of control."
   ]
  },
  {
   "cell_type": "markdown",
   "metadata": {},
   "source": [
    "<div align=\"center\"><img src='./img/med_part1_figure_3.png'  width='80%'></img></div>"
   ]
  },
  {
   "cell_type": "markdown",
   "metadata": {},
   "source": [
    "<i>Figure 3. 24-hour forecast of the probability of fire emitted energy being above 2000 GJ for 5th August 2021 from LSA SAF.\n",
    "<br>Learn how this [plot of P2000](./med_part1_workflows/figure234_LSA_SAF_FRMv2.ipynb) was made.</i>"
   ]
  },
  {
   "cell_type": "markdown",
   "metadata": {
    "tags": []
   },
   "source": [
    "#### <a id='med_part1_fig4'></a> 24 hour forecast of the anomaly of probability of exceedance of 2000 GJ of daily energy released by fires (P2000a)\n",
    "\n",
    "`Figure 4` shows the 24 hour forecast of the anomaly of probability of exceedance of 2000 GJ of daily energy released by fires (P2000a) for 5th August 2021. This quantity is computed at each pixel as the deviation of the probability of exceedance for a given pixel and a given day of a given year from the average of all values of probability of exceedance for that pixel and day over the period 1979–2016. Greece is mostly coloured in dark and light red, indicating that there is a positive anomaly for the probability of a potential wildfire getting out of control. Southern Italy is also mostly coloured in light red. This means that it is more likely than usual for a fire to burn out of control in both countries."
   ]
  },
  {
   "cell_type": "markdown",
   "metadata": {},
   "source": [
    "<div align=\"center\"><img src='./img/med_part1_figure_4.png'  width='80%'></img></div>"
   ]
  },
  {
   "cell_type": "markdown",
   "metadata": {},
   "source": [
    "<i>Figure 4. 24-hour forecast of the anomalies of the probability of fire emitted energy being above 2000 GJ for 5th August 2021, from LSA SAF.\n",
    "<br>Learn how this [plot of P2000a](./med_part1_workflows/figure234_LSA_SAF_FRMv2.ipynb) was made.\n",
    "</i>"
   ]
  },
  {
   "cell_type": "markdown",
   "metadata": {
    "tags": []
   },
   "source": [
    "#### <a id='med_part1_fig5'></a>Fire Weather Index\n",
    "The [European Centre for Medium-Range Weather Forecasts (ECMWF)](https://www.ecmwf.int/) produces daily fire danger forecasts and reanalysis products for the [Copernicus Emergency Management Services (CEMS)](https://emergency.copernicus.eu/). The modelling system that generates the fire data products is called [Global ECMWF Fire Forecast (GEFF)](https://git.ecmwf.int//projects/CEMSF/repos/geff/browse) and it is based on the Canadian Fire Weather index as well as the US and Australian fire danger systems. As GEFF uses CAMS data for modelling, both GEFF and CAMS will benefit from the inclusion of the higher spatial, temporal and radiometric resolution of the future data from MTG and EPS-SG. \n",
    "\n",
    "`Figure 5` shows the [GEFF Fire Weather Index (FWI)](https://git.ecmwf.int/projects/CEMSF/repos/geff/browse) for 5th August 2021 as classified using European Fire Danger Classes. While the FWI values are continuous, `Figure 5` groups them into fire weather categories ranging from very low (green), low (yellow), moderate (orange), high (red), very high (brown) to extreme fire danger (black). Greece and Italy both have areas that have very high and extreme fire danger. Learn how this fire weather index plot was made."
   ]
  },
  {
   "cell_type": "markdown",
   "metadata": {},
   "source": [
    "<div align=\"center\"><img src='./img/med_part1_figure_5.png'  width='80%'></img></div>"
   ]
  },
  {
   "cell_type": "markdown",
   "metadata": {},
   "source": [
    "<i>Figure 5. The GEFF Fire Weather Index for 5th August 2021 as classified using European Fire Danger Classes.\n",
    "<br>Learn how this [fire weather index plot](./med_part1_workflows/figure5_CEMS_GEFF_FWI.ipynb) was made.\n",
    "</i>"
   ]
  },
  {
   "cell_type": "markdown",
   "metadata": {
    "tags": []
   },
   "source": [
    "#### <a id='med_part1_fig6'></a> Mean sea level pressure and wind speed at 850 hPa\n",
    "\n",
    "The [mean sea level pressure (MSLP)](https://apps.ecmwf.int/codes/grib/param-db/?id=151) and wind speed at 850 hPa from CAMS are useful for assessing fire risk, ignition conditions and direction of fire spread. According to [ECMWF](https://apps.ecmwf.int/codes/grib/param-db/?id=151), “Maps of mean sea level pressure are used to identify the locations of low and high pressure systems, often referred to as cyclones and anticyclones. Contours of mean sea level pressure also indicate the strength of the wind. Tightly packed contours show stronger winds.”\n",
    "\n",
    "15-day forecast data for MSLP and wind spread is available via [ECMWF Charts](https://charts.ecmwf.int/products/medium-mslp-wind850). To visualise these data variables for 5th August 2021, `Figure 6` uses [CAMS Global Atmospheric Forecast](https://ads.atmosphere.copernicus.eu/cdsapp#!/dataset/cams-global-atmospheric-composition-forecasts?tab=overview) data instead. The wind speeds over Italy and Greece are between 10-15 m/s which could support the development and spread of fires. The mean sea level pressure is around 1010 Pa. "
   ]
  },
  {
   "cell_type": "markdown",
   "metadata": {},
   "source": [
    "<div align=\"center\"><img src='./img/med_part1_figure_6.png'  width='80%'></img></div>"
   ]
  },
  {
   "cell_type": "markdown",
   "metadata": {},
   "source": [
    "<i>Figure 6. Mean sea level pressure (MSLP) and wind speed at 850 hPa from CAMS Global Atmospheric Forecasts from 5th August 2021. \n",
    "<br>Learn how these [plot showing MSLP and wind speed at 850 hPa](./med_part1_workflows/figure6_CAMS_mslp_wind850.ipynb) were made.\n",
    "</i>"
   ]
  },
  {
   "cell_type": "markdown",
   "metadata": {},
   "source": [
    "Using the 2021 fires in Greece and Italy as an example, we introduced data products that will be available on the new Metop-SG satellites and complementary data from Sentinel-2 which are useful for assessing the post-fire impact and burn severity. To learn more about other wildfire applications from MTG and Metop-SG, please explore:\n",
    "\n",
    "- [Monitoring active fires with next-generation satellites: Mediterranean Fires Case Study](./med_part2_application_case.ipynb)\n",
    "- [Assessing post-fire impacts with next-generation satellites: Mediterranean Fires Case Study](./med_part3_application_case.ipynb)\n",
    "- [Monitoring fires with next-generation satellites from MTG and Metop-SG: Californian Wildfires Case Study](./ca_part1_application_case.ipynb)\n",
    "- [Monitoring smoke transport with next-generation satellites from Metop-SG: Californian Wildfires Case Study](./ca_part2_application_case.ipynb)"
   ]
  },
  {
   "cell_type": "markdown",
   "metadata": {},
   "source": [
    "<hr>"
   ]
  },
  {
   "cell_type": "markdown",
   "metadata": {
    "tags": []
   },
   "source": [
    "### References\n",
    "* Trigo, I. F., C. C. DaCamara, P. Viterbo, J.-L. Roujean, F. Olesen, C. Barroso, F. Camacho-de Coca, D. Carrer, S. C. Freitas, J. García-Haro, B. Geiger, F. Gellens-Meulenberghs, N. Ghilain, J. Meliá, L. Pessanha, N. Siljamo, and A. Arboleda. (2011). The Satellite Application Facility on Land Surface Analysis. Int. J. Remote Sens., 32, 2725-2744, doi: 10.1080/01431161003743199\n",
    "* Copernicus Atmosphere Monitoring Service Information 2021"
   ]
  },
  {
   "cell_type": "markdown",
   "metadata": {},
   "source": [
    "<hr>"
   ]
  },
  {
   "cell_type": "markdown",
   "metadata": {},
   "source": [
    "\n",
    "<p style=\"text-align:right;\">This project is licensed under <a href=\"../LICENSE\">GNU General Public License v3.0 only</a> and is developed under a Copernicus contract."
   ]
  },
  {
   "cell_type": "markdown",
   "metadata": {
    "tags": []
   },
   "source": [
    "<p style=\"text-align:right;\"> <a href='https://classroom.eumetsat.int/'>EUMETSAT Training</a> | <a href='mailto:training@eumetsat.int'>Contact the training team</a></p>"
   ]
  }
 ],
 "metadata": {
  "kernelspec": {
   "display_name": "Python 3 (ipykernel)",
   "language": "python",
   "name": "python3"
  },
  "language_info": {
   "codemirror_mode": {
    "name": "ipython",
    "version": 3
   },
   "file_extension": ".py",
   "mimetype": "text/x-python",
   "name": "python",
   "nbconvert_exporter": "python",
   "pygments_lexer": "ipython3",
   "version": "3.10.10"
  }
 },
 "nbformat": 4,
 "nbformat_minor": 4
}
