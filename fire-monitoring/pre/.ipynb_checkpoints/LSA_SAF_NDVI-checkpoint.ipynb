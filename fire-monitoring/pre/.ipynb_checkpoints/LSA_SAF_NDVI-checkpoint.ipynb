{
 "cells": [
  {
   "cell_type": "markdown",
   "metadata": {
    "Collapsed": "false"
   },
   "source": [
    "<br>"
   ]
  },
  {
   "cell_type": "markdown",
   "metadata": {},
   "source": [
    "<img src='../img/EU-Copernicus-EUM_3Logos.png' alt='Logo EU Copernicus EUMETSAT' align='right' width='50%'></img>"
   ]
  },
  {
   "cell_type": "markdown",
   "metadata": {},
   "source": [
    "<hr>"
   ]
  },
  {
   "cell_type": "markdown",
   "metadata": {
    "Collapsed": "false"
   },
   "source": [
    "# LSA SAF Normalized Difference Vegetation Index (NDVI) - Anomaly"
   ]
  },
  {
   "cell_type": "markdown",
   "metadata": {
    "tags": []
   },
   "source": [
    "### About"
   ]
  },
  {
   "cell_type": "markdown",
   "metadata": {},
   "source": [
    "The [LSA SAF Normalized Difference Vegetation Index (NDVI)](https://lsa-saf.eumetsat.int/en/data/products/vegetation/#NDVI) are near-global, 10-daily composite images which are synthesized from the \"best available\" observations registered in the course of every \"dekad\" by the orbiting earth observation system MetOp-AVHRR. The composites represent a `Normalized Difference Vegetation Index` and are distributed together with a set of ancillary dataset layers (surface reflectances, sun and view angles, quality indicators) as part of EUMETSAT LSA SAF program."
   ]
  },
  {
   "cell_type": "markdown",
   "metadata": {},
   "source": [
    "From a temporal aspect, every month is divided in three \"dekads\". The first two always comprise ten days (1-10, 11-20), the third one has variable length as it runs from day 21 until the end of the month. The distinction between \"days\" is based on UT/GMT criteria."
   ]
  },
  {
   "cell_type": "markdown",
   "metadata": {},
   "source": [
    "From a spectral aspect, each composite comprises twelve separate image layers. The NDV layer represents the Normalized Difference Vegetation Index, while the other layers are considered as ancillary layers: synthesis reflectance values, viewing angles, status map. \n",
    "\n"
   ]
  },
  {
   "cell_type": "markdown",
   "metadata": {
    "tags": []
   },
   "source": [
    "### Basic Facts"
   ]
  },
  {
   "cell_type": "markdown",
   "metadata": {},
   "source": [
    "> **Spatial resolution**: `1km`<br>\n",
    "> **Spatial coverage**: `Ten pre-defined geographical regions` (see [Product User Manual](https://classroom.eumetsat.int/pluginfile.php/43029/mod_resource/content/1/SAF_LAND_VITO_PUM_ENDVIv2_1.0_Issue3.pdf) for more information) <br>\n",
    "> **Time steps**: `Dekad (approx. 10 days)` <br>\n",
    "> **Data availability**: `since 2007`\n"
   ]
  },
  {
   "cell_type": "markdown",
   "metadata": {
    "jp-MarkdownHeadingCollapsed": true,
    "tags": []
   },
   "source": [
    "### How to access the data\n",
    "\n",
    "The [NDVI data](https://lsa-saf.eumetsat.int/en/data/products/vegetation/#NDVI) can be accessed via [LSA SAF](https://datalsasaf.lsasvcs.ipma.pt/PRODUCTS/EPS/ENDVI10/).\n",
    "\n",
    "The composites are disseminated to the users in `zip` archives with data from one of the ten pre-defined geographical regions. Each zip archive contains a total of 26 files: twelve IMGs, twelve HDRs, one XML (INSPIRE compatible metadata) and one TIFF (a quicklook map of the NDVI layer).\n",
    "\n",
    "You need to [register for an account](https://datalsasaf.lsasvcs.ipma.pt/) before being able to download data."
   ]
  },
  {
   "cell_type": "markdown",
   "metadata": {
    "Collapsed": "false",
    "tags": []
   },
   "source": [
    "### Module outline\n",
    "* [1 - Load LSA SAF NDVI image files as xarray DataArray](#load_filelist)\n",
    "* [2 - Create a geographical subset for the mediterranean region](#geo_subset_ndvi)\n",
    "* [3 - Calculate the NDVI anomaly of the third dekad of July 2021](#ndvi_anomaly)\n",
    "* [4 - Visualize the NDVI anomaly for the third dekad in July 2021](#visualize_ndvi)"
   ]
  },
  {
   "cell_type": "markdown",
   "metadata": {},
   "source": [
    "<hr>"
   ]
  },
  {
   "cell_type": "markdown",
   "metadata": {
    "Collapsed": "false"
   },
   "source": [
    "##### Load required libraries"
   ]
  },
  {
   "cell_type": "code",
   "execution_count": null,
   "metadata": {
    "Collapsed": "false"
   },
   "outputs": [],
   "source": [
    "import os\n",
    "import glob\n",
    "import xarray as xr\n",
    "import datetime\n",
    "import numpy as np\n",
    "import pandas as pd\n",
    "\n",
    "# Python libraries for visualisation\n",
    "from matplotlib import pyplot as plt\n",
    "import cartopy.crs as ccrs\n",
    "from cartopy.mpl.gridliner import LONGITUDE_FORMATTER, LATITUDE_FORMATTER\n",
    "from matplotlib.colors import BoundaryNorm, ListedColormap\n",
    "import cartopy.feature as cfeature\n",
    "\n",
    "from IPython.display import display, clear_output"
   ]
  },
  {
   "cell_type": "markdown",
   "metadata": {},
   "source": [
    "##### Load helper functions"
   ]
  },
  {
   "cell_type": "code",
   "execution_count": null,
   "metadata": {},
   "outputs": [],
   "source": [
    "%run ../functions.ipynb"
   ]
  },
  {
   "cell_type": "markdown",
   "metadata": {
    "Collapsed": "false"
   },
   "source": [
    "<hr>"
   ]
  },
  {
   "cell_type": "markdown",
   "metadata": {
    "tags": []
   },
   "source": [
    "## <a id='load_filelist'></a>1. Load LSA SAF NDVI image files as xarray DataArray"
   ]
  },
  {
   "cell_type": "markdown",
   "metadata": {},
   "source": [
    "For this case study, we downloaded the zip archives via the LSA SAF, with the NDVI data for the Europe region of the third dekad in July for the years 2010 to 2021. On the platform, only the `img` files for each year are being made available and are stored in the folder `../data/lsasaf/ndvi/`. \n",
    "\n",
    "The first step is to combine all the files in a list of files and sort it based on name, to ensure the correct sequence of years."
   ]
  },
  {
   "cell_type": "code",
   "execution_count": null,
   "metadata": {},
   "outputs": [],
   "source": [
    "filelist = sorted(glob.glob('../../lsa-saf/data/NDVI/*.img'))\n",
    "!ls ../../lsa-saf/\n",
    "filelist"
   ]
  },
  {
   "cell_type": "markdown",
   "metadata": {},
   "source": [
    "<br>"
   ]
  },
  {
   "cell_type": "markdown",
   "metadata": {},
   "source": [
    "#### Define spatial and temporal coordinates"
   ]
  },
  {
   "cell_type": "markdown",
   "metadata": {},
   "source": [
    "The image layers are provided in “flat binary” format without header/trailer bytes. “Flat” means that each layer of a certain composite is stored in a separate image file. These files have the fixed extension `.img`. Because all layers have the byte data type (1 pixel = 1 byte), the total number of bytes in each image is equal to the number of pixels. The files are disseminated in an unprojected Geographica latitude / longitude projection in WGS84. The [Product User Manual](https://classroom.eumetsat.int/pluginfile.php/43029/mod_resource/content/1/SAF_LAND_VITO_PUM_ENDVIv2_1.0_Issue3.pdf) provides `spatial characterics`, with which we are able to build the geographic latitude and longitude information:\n",
    "\n",
    "* `Resolution`: 0.0089285714\n",
    "* `Latitude bounds`: [25, 75]\n",
    "* `Longitude bounds`: [-11, 62]\n",
    "* `ncols`, `nrows`: [8176, 5600]\n",
    "\n"
   ]
  },
  {
   "cell_type": "code",
   "execution_count": null,
   "metadata": {},
   "outputs": [],
   "source": [
    "res = 0.0089285714\n",
    "\n",
    "lat = np.arange(25+(res/2),75-(res/2),res)\n",
    "lon = np.arange(-11+(res/2),62-(res/2),res)\n",
    "\n",
    "print(len(lat), len(lon))"
   ]
  },
  {
   "cell_type": "markdown",
   "metadata": {},
   "source": [
    "Since we also want to combine the NDVI value of several years, we also define a `DateTimeIndex` object, which holds provides for each year from 2010 to 2021 a datetime object for month July."
   ]
  },
  {
   "cell_type": "code",
   "execution_count": null,
   "metadata": {},
   "outputs": [],
   "source": [
    "time_coords = pd.date_range('2010-07', '2021-07', freq='MS').strftime(\"%Y-%m\").astype('datetime64[ns]')[::12]\n",
    "#time_coords = pd.date_range('2010-09', '2025-09', freq='MS').strftime(\"%Y-%m\").astype('datetime64[ns]')[::12]\n",
    "time_coords"
   ]
  },
  {
   "cell_type": "markdown",
   "metadata": {},
   "source": [
    "<br>"
   ]
  },
  {
   "cell_type": "code",
   "execution_count": null,
   "metadata": {},
   "outputs": [],
   "source": [
    "data=np.fromfile(filelist[0],dtype='uint8')\n",
    "data\n",
    "\n"
   ]
  },
  {
   "cell_type": "code",
   "execution_count": null,
   "metadata": {},
   "outputs": [],
   "source": [
    "data.shape = (-1, 8176)\n",
    "data.shape"
   ]
  },
  {
   "cell_type": "markdown",
   "metadata": {},
   "source": [
    "#### Loop through the files and combine them in a xarray DataArray"
   ]
  },
  {
   "cell_type": "markdown",
   "metadata": {},
   "source": [
    "Now, you can loop through each file in the created list of files and execute the following operations:\n",
    "* 1. Open the file with `numpy.fromfile`\n",
    "* 2. Restructure the 1-dimensional array to a 2D array with 8176 columns and 5600 rows\n",
    "* 3. Convert the data type to `float64`\n",
    "* 4. Mask out the missing value and apply scale and offset\n",
    "* 5. Convert the masked data array to a xarray.DataArray\n",
    "* 6. Create a 3-dimensional xarray.DataArray with time and geographical coordinates as well as attributes\n",
    "* 7. Flip the latitude axis\n",
    "* 8. Concatenate multiple years into one xarray.DataArray"
   ]
  },
  {
   "cell_type": "code",
   "execution_count": null,
   "metadata": {},
   "outputs": [],
   "source": [
    "j = 0\n",
    "tmp_concat=None\n",
    "dtype = 'uint8'\n",
    "samples=8176\n",
    "\n",
    "for i in filelist:\n",
    "    print(i)\n",
    "\n",
    "    # 1. Open the image file\n",
    "    data=np.fromfile(i,dtype=dtype)\n",
    "    \n",
    "    # 2. Convert to 2D array\n",
    "    data.shape=(-1,samples)\n",
    "    data\n",
    "\n",
    "    # 3. Convert to float64 datatype\n",
    "    data_2 = np.float64(data)\n",
    "    \n",
    "    # 4. Mask out the missing value and apply scale and offset\n",
    "    missing_value = np.max(data)\n",
    "    data_masked = np.ma.masked_values(data_2, missing_value)\n",
    "    data_masked_4 = 0.004*data_masked-0.08\n",
    "\n",
    "    # 5. Convert the masked data array to a xarray.DataArray\n",
    "    xr_ds = xr.DataArray(data_masked_4)\n",
    "    \n",
    "    # 6. Create a 3-dimensional xarray.DataArray with time and geographical coordinates as well as attributes\n",
    "    tmp = xr.DataArray(\n",
    "                xr_ds.values,\n",
    "                dims=['latitude','longitude'],\n",
    "                coords={\n",
    "                    'time': time_coords[j],\n",
    "                    'latitude':(['latitude'],lat[::-1]),\n",
    "                    'longitude':(['longitude'],lon)\n",
    "                },\n",
    "                attrs={'long_name': 'Normalized Difference Vegetation Index (ENDVI10)', 'units': '-'},\n",
    "                name='NDVI'\n",
    "            )\n",
    "    \n",
    "    # 7. Flip the latitude axis\n",
    "    tmp = tmp.reindex(latitude=tmp.latitude[::-1])\n",
    "    \n",
    "    # 8. Concatenate multiple years into one xarray.DataArray\n",
    "    if tmp_concat is None:\n",
    "        tmp_concat = tmp\n",
    "        \n",
    "    else:\n",
    "        tmp_concat = xr.concat([tmp_concat, tmp], dim='time')\n",
    "    \n",
    "    j = j+1\n"
   ]
  },
  {
   "cell_type": "markdown",
   "metadata": {},
   "source": [
    "The resulting xarray object has three dimensions: `time`, `latitude` and `longitude` and contains for every year from 2010 to 2021 the NDVI values for the third dekad in July."
   ]
  },
  {
   "cell_type": "code",
   "execution_count": null,
   "metadata": {},
   "outputs": [],
   "source": [
    "tmp_concat"
   ]
  },
  {
   "cell_type": "markdown",
   "metadata": {},
   "source": [
    "## <a id='geo_subset_ndvi'></a> 2. Create a geographical subset for the Mediterranean region"
   ]
  },
  {
   "cell_type": "markdown",
   "metadata": {},
   "source": [
    "The second step is to create a geographical subset for the Mediterranean region, with a specific focus on southern Italy and Greece (latitude bounds: 35 - 45 degrees, longitude bounds: 10 - 30 degrees). You can use the pre-define function `generate_geographical_subset()` to subset the xarray DataArray based on the defined extent.\n",
    "\n",
    "The latitude points reduced from 5600 to 1120 and the longitude points reduce from 8176 to 2240, respectively."
   ]
  },
  {
   "cell_type": "code",
   "execution_count": null,
   "metadata": {},
   "outputs": [],
   "source": [
    "latmin=35\n",
    "latmax=45\n",
    "lonmin=10\n",
    "lonmax=30\n",
    "\n",
    "#latmin=35\n",
    "#latmax=45\n",
    "#lonmin=-10\n",
    "#lonmax=5\n",
    "\n",
    "ndvi_subset = generate_geographical_subset(xarray=tmp_concat,\n",
    "                                           latmin=latmin,\n",
    "                                           latmax=latmax,\n",
    "                                           lonmin=lonmin,\n",
    "                                           lonmax=lonmax\n",
    "                                          )\n",
    "\n",
    "ndvi_subset"
   ]
  },
  {
   "cell_type": "markdown",
   "metadata": {},
   "source": [
    "<br> "
   ]
  },
  {
   "cell_type": "markdown",
   "metadata": {},
   "source": [
    "Now, you can visualize the NDVI data for one specific year. For this, you can use the pre-defined function `visualize_pcolormesh()`, which combines matplotlib's `pcolormesh()` function and the Cartopy library to visualize the data. The function takes the following keyword arguments:\n",
    "* `data_array`: xarray DataArray to be visualized\n",
    "* `latitude`, `longitude`: latitude and longitude information from the xarray\n",
    "* `projection`: one of Cartopy's projection options, e.g. ccrs.PlateCarree()\n",
    "* `color_scale`: one of Matplotlib's colormap, e.g. `summer_r`\n",
    "* `unit`: unit of the data, can be used from the DataArray attributes\n",
    "* `long_name`: description of the data, can be used from the DataArray attributes\n",
    "* `vmin`, `vmax`: minimum and maximum data bounds, for NDVI it is [0,1]\n",
    "* `set_global`: boolean; if False, then geographic extent has to be defined\n",
    "* `lonmin`, `lonmax`, `latmin`, `latmax`: bounding box information to set the extent of a geographical subset"
   ]
  },
  {
   "cell_type": "code",
   "execution_count": null,
   "metadata": {},
   "outputs": [],
   "source": [
    "year=11\n",
    "\n",
    "visualize_pcolormesh(data_array=ndvi_subset[year,:,:], \n",
    "                     longitude=ndvi_subset.longitude, \n",
    "                     latitude=ndvi_subset.latitude, \n",
    "                     projection=ccrs.PlateCarree(), \n",
    "                     color_scale='summer_r', \n",
    "                     unit=ndvi_subset.units, \n",
    "                     long_name=ndvi_subset.long_name + \" - Dekad 3 - \" + str(ndvi_subset.time[year].data)[0:7], \n",
    "                     vmin=0, \n",
    "                     vmax=1, \n",
    "                     lonmin=ndvi_subset.longitude.min(),\n",
    "                     lonmax=ndvi_subset.longitude.max(),\n",
    "                     latmin=ndvi_subset.latitude.min(),\n",
    "                     latmax=ndvi_subset.latitude.max(),\n",
    "                     set_global=False)"
   ]
  },
  {
   "cell_type": "markdown",
   "metadata": {
    "tags": []
   },
   "source": [
    "## <a id='ndvi_anomaly'></a> 3. Calculate the NDVI anomaly of the third dekad of July 2021"
   ]
  },
  {
   "cell_type": "markdown",
   "metadata": {},
   "source": [
    "The next step is to calculate the NDVI anomaly of the third dekad of July 2021. For this, we first calculate the average NDVI for each pixel based on a normal period of eleven years - from 2010 to 2020.\n",
    "\n",
    "You can do this by applying the reducer function `mean` to the DataArray and define the dimension `time` by which you want to aggregate the values. The resulting array has two dimensions left, `latitude` and `longitude` and holds the average NDVI for each pixel, based on the period 2010 to 2020."
   ]
  },
  {
   "cell_type": "code",
   "execution_count": null,
   "metadata": {},
   "outputs": [],
   "source": [
    "#normal_period = ndvi_subset[0:14,:,:]\n",
    "normal_period = ndvi_subset[0:10,:,:]\n",
    "ndvi_mean = normal_period.mean(dim='time', keep_attrs=True)\n",
    "ndvi_mean"
   ]
  },
  {
   "cell_type": "markdown",
   "metadata": {},
   "source": [
    "You can calculate the anomaly for the third dekad in July each year, by subracting the average NDVI values from the DataArray. Please select the variable **iyear** in the next cell, taking into account that iyear =0 ->year 2010, iyear =1 ->year 2011, ...iyear =11 ->year 2021"
   ]
  },
  {
   "cell_type": "code",
   "execution_count": null,
   "metadata": {},
   "outputs": [],
   "source": [
    "iyear=11\n",
    "\n",
    "ndvi_anomaly = ndvi_subset[iyear,:,:] - ndvi_mean\n",
    "ndvi_anomaly"
   ]
  },
  {
   "cell_type": "markdown",
   "metadata": {},
   "source": [
    "## <a id='visualize_ndvi'></a> 4. Visualize the NDVI anomaly for the third dekad in July 2021"
   ]
  },
  {
   "cell_type": "markdown",
   "metadata": {},
   "source": [
    "The last step is to visualize the NDVI anomaly for the third dekad in July 2021. You can use again the function `visualize_pcolormesh()`. Let us make some changes to some kwargs:\n",
    "* `data_array`: now we want to visualize the ndvi_anomaly array\n",
    "* `color_scale`: let's use `BrBG` to highlight greener and less greener areas more prominently\n",
    "* `vmin`, `vmax`: let us adjust the minimum and maximum color values based on the minimum and maximum anomaly values"
   ]
  },
  {
   "cell_type": "code",
   "execution_count": null,
   "metadata": {},
   "outputs": [],
   "source": [
    "visualize_pcolormesh(data_array=ndvi_anomaly, \n",
    "                     longitude=ndvi_anomaly.longitude, \n",
    "                     latitude=ndvi_anomaly.latitude, \n",
    "                     projection=ccrs.PlateCarree(), \n",
    "                     color_scale='BrBG', \n",
    "                     unit=\"*2e-1\", \n",
    "                     long_name=ndvi_subset.long_name + \" Anomaly - Dekad 3 - \" + str(ndvi_anomaly.time.data)[0:7], \n",
    "                     vmin=-0.5*2e-1, \n",
    "                     vmax=0.5*2e-1, \n",
    "                     lonmin=ndvi_anomaly.longitude.min(),\n",
    "                     lonmax=ndvi_anomaly.longitude.max(),\n",
    "                     latmin=ndvi_anomaly.latitude.min(),\n",
    "                     latmax=ndvi_anomaly.latitude.max(),\n",
    "                     set_global=False)"
   ]
  },
  {
   "cell_type": "markdown",
   "metadata": {},
   "source": [
    "<br>"
   ]
  },
  {
   "cell_type": "markdown",
   "metadata": {},
   "source": [
    "**Return to the case study:**\n",
    "- [Monitoring pre-fire risk with next-generation satellites: Mediterranean Fires Case Study](../med_part1_application_case.ipynb#med_part1_fig1)"
   ]
  },
  {
   "cell_type": "markdown",
   "metadata": {
    "Collapsed": "false"
   },
   "source": [
    "<hr>"
   ]
  },
  {
   "cell_type": "markdown",
   "metadata": {
    "tags": []
   },
   "source": [
    "### References\n",
    "* Trigo, I. F., C. C. DaCamara, P. Viterbo, J.-L. Roujean, F. Olesen, C. Barroso, F. Camacho-de Coca, D. Carrer, S. C. Freitas, J. García-Haro, B. Geiger, F. Gellens-Meulenberghs, N. Ghilain, J. Meliá, L. Pessanha, N. Siljamo, and A. Arboleda. (2011). The Satellite Application Facility on Land Surface Analysis. Int. J. Remote Sens., 32, 2725-2744, doi: 10.1080/01431161003743199\n",
    "\n",
    "* Some code in this notebook was adapted from the following source:\n",
    "    * origin: https://stackoverflow.com/questions/53643062/lsa-saf-satellite-hdf5-plot-in-python-cartopy\n",
    "    * copyright: 2018, methane rain\n",
    "    * license: CC BY-SA 4.0\n",
    "    * retrieved: 2022-06-28 by Sabrina Szeto"
   ]
  },
  {
   "cell_type": "markdown",
   "metadata": {
    "Collapsed": "false"
   },
   "source": [
    "<hr>"
   ]
  },
  {
   "cell_type": "markdown",
   "metadata": {},
   "source": [
    "\n",
    "<p style=\"text-align:right;\">This project is licensed under <a href=\"../LICENSE\">GNU General Public License v3.0 only</a> and is developed under a Copernicus contract."
   ]
  },
  {
   "cell_type": "markdown",
   "metadata": {
    "tags": []
   },
   "source": [
    "<p style=\"text-align:right;\"> <a href='https://training.eumetsat.int'>EUMETSAT Training</a> | <a href='mailto:training@eumetsat.int'>Contact the training team</a></p>"
   ]
  }
 ],
 "metadata": {
  "kernelspec": {
   "display_name": "Python [conda env:fire]",
   "language": "python",
   "name": "conda-env-fire-py"
  },
  "language_info": {
   "codemirror_mode": {
    "name": "ipython",
    "version": 3
   },
   "file_extension": ".py",
   "mimetype": "text/x-python",
   "name": "python",
   "nbconvert_exporter": "python",
   "pygments_lexer": "ipython3",
   "version": "3.12.7"
  },
  "toc": {
   "base_numbering": 1,
   "nav_menu": {},
   "number_sections": false,
   "sideBar": true,
   "skip_h1_title": false,
   "title_cell": "Table of Contents",
   "title_sidebar": "Contents",
   "toc_cell": false,
   "toc_position": {},
   "toc_section_display": true,
   "toc_window_display": false
  },
  "toc-showmarkdowntxt": false
 },
 "nbformat": 4,
 "nbformat_minor": 4
}
