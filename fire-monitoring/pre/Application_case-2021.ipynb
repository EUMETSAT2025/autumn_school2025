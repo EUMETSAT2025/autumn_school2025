{
 "cells": [
  {
   "cell_type": "markdown",
   "metadata": {},
   "source": [
    "<img src='../img/EU-Copernicus-EUM_3Logos.png' alt='Logo EU Copernicus EUMETSAT' align='right' width='50%'></img>"
   ]
  },
  {
   "cell_type": "markdown",
   "metadata": {},
   "source": [
    "<hr>"
   ]
  },
  {
   "cell_type": "markdown",
   "metadata": {
    "tags": []
   },
   "source": [
    "# Forecasting pre-fire risk: Mediterranean Fires Case Study\n"
   ]
  },
  {
   "cell_type": "markdown",
   "metadata": {
    "tags": []
   },
   "source": [
    "\n",
    "## The Case Event\n",
    "A long period of warm and dry weather led to fires breaking out across the Mediterranean during the summer of 2021. In the Mediterranean region, the winters are rainy and mild while the summers are hot and dry, leading to vegetation stress and the accumulation of fuels in the summer months. \n",
    "\n",
    "In Greece, the largest wildfires occurred in Attica, Olympia, Messenia, and Evia (also known as Euboea). The fires in Evia, Greece's second largest island, were particularly devastating. They led to two deaths and [destroyed 125,000 hectares of land](https://user.eumetsat.int/resources/case-studies/smoke-and-burned-areas-from-greek-fires). \n",
    "\n",
    "Southern Italy and Sicily were particularly impacted by wildfires. In Calabria, fires restarted in early August in the Aspromonte Mountain around the San Luca Valley, [threatening ancient and primaeval beech forests](https://emergency.copernicus.eu/mapping/list-of-components/EMSR534) (Faggete vetuste) that are recognised as a UNESCO World Heritage site. \n"
   ]
  },
  {
   "cell_type": "markdown",
   "metadata": {},
   "source": [
    "Monitoring the fire life cycle consists of three stages: (1) pre-fire, (2) active fire and (3) post-fire. First, we can assess pre-fire risk based on meteorological and vegetation conditions. During the fire, we can detect and monitor the location of active fires as well as smoke being produced by the fires. Finally, after the fires have been extinguished, the burned area and burn severity can be assessed."
   ]
  },
  {
   "cell_type": "markdown",
   "metadata": {
    "tags": []
   },
   "source": [
    "#### <a id='med_part1_fig1'></a>Normalised Difference Vegetation Index (NDVI)\n",
    "Monitoring the greenness of vegetation is important as periods of dry and hot weather can lead to increased fire risk, as dry vegetation is easier to ignite and burn. A useful product is the [10-daily Normalised Difference Vegetation Index (NDVI)](https://lsa-saf.eumetsat.int/en/data/products/vegetation/#NDVI) which is calculated using the red and near-infrared (NIR) surface reflectances. A high NDVI corresponds to greener vegetation that is less likely to burn. For this NDVI data product, each month  is  divided  into three  \"dekads\".  The  first  two  always  comprise  ten  days, while the third has a variable length, as it runs from day 21 until the end of the month. `Figure 1` shows the NDVI anomaly for the last dekad of July 2021, calculated using a reference period between 2010 and 2020. Regions with low negative anomalies are colored in dark brown. These occur over areas that have lower NDVI, while positive anomalies colored in teal indicate regions that have higher NDVI than the reference period.\n",
    "\n",
    "This NDVI data product is part of the [LSA SAF](https://landsaf.ipma.pt/en/) data catalogue. LSA SAF develops and processes satellite products that characterise the continental surfaces, such as radiation products, vegetation, evapotranspiration and wildfires. At present, LSA SAF uses data from the [Advanced Very High Resolution Radiometer (AVHRR)](https://www.eumetsat.int/metop-instruments#:~:text=contract%20to%20EUMETSAT.-,Advanced%20Very%20High%20Resolution%20Radiometer,-The%20Advanced%20Very) aboard the Metop satellites to calculate NDVI at a 1km spatial resolution. In the future, METImage data will be used, resulting in a higher spatial resolution of 500m. "
   ]
  },
  {
   "cell_type": "markdown",
   "metadata": {},
   "source": [
    "<div align=\"center\"><img src='../img/med_part1_figure_1.png'  width='80%'></img></div>"
   ]
  },
  {
   "cell_type": "markdown",
   "metadata": {
    "tags": []
   },
   "source": [
    "<i>Figure 1. NDVI Anomaly for the last dekad of July 2021, as calculated with a reference period between 2010 and 2020.\n"
   ]
  },
  {
   "cell_type": "markdown",
   "metadata": {},
   "source": [
    "#### <a id='med_part1_fig2'></a> Fire Risk Map: fire risk, fire probability and fire probability anomalies"
   ]
  },
  {
   "cell_type": "markdown",
   "metadata": {
    "tags": []
   },
   "source": [
    "Early information for fire risk is crucial for emergency response. One important source of information is the [Fire Risk Map v2 (FRMv2)](https://lsa-saf.eumetsat.int/en/data/products/fire-products/#FRR), which consists of daily forecasts of classes of meteorological fire danger over Mediterranean Europe. Five fire risk classes are provided, ranging from low to extreme risk. The forecast timesteps available start at 24 hours to 120 hours. `Figure 2` shows the fire risk map over Italy and Greece for 5th August 2021. The forecast data was retrieved with a 24 hour time step from 4th August 2021. Greece is mostly coloured in dark red, showing extreme fire risk. Italy has multiple areas coloured in orange which indicates high fire risk or bright red for very high fire risk.\n",
    "\n",
    "\n",
    "Currently, this dataset is based on LSA SAF data records of daily released energy by active fires derived from [Meteosat Second Generation's SEVIRI instrument](https://www.eumetsat.int/meteosat-second-gen-instruments#:~:text=to%20data%20users.-,Spinning%20Enhanced%20Visible%20and%20Infrared%20Imager,-The%20Spinning%20Enhanced). In the future, data from [Flexible Combined Imager (FCI)](https://user.eumetsat.int/resources/user-guides/mtg-fci-level-1c-data-guide) aboard the MTG satellites will be incorporated into fire risk mapping. The FCI provides 16 channels in the visible and infrared spectrum with a spatial sampling distance in the range of 1 to 2 km and four channels with a spatial sampling distance in the range of 0.5 to 1 km. The increased spatial resolution of FCI will allow the detection of less intense fires than with the current SEVIRI pixel size. Also the dynamic range of the middle infrared FCI channel will be enhanced, avoiding pixel saturation for very intense fires. The quality of the FRMv2 product will be improved through better calibration."
   ]
  },
  {
   "cell_type": "markdown",
   "metadata": {},
   "source": [
    "<div align=\"center\"><img src='../img/med_part1_figure_2.png'  width='80%'></img></div>"
   ]
  },
  {
   "cell_type": "markdown",
   "metadata": {},
   "source": [
    "<i>Figure 2. 24-hour forecast of fire risk for 5th August 2021 from LSA SAF."
   ]
  },
  {
   "cell_type": "markdown",
   "metadata": {},
   "source": [
    "#### <a id='med_part1_fig3'></a> Probabilities of a Potential Wildfire exceeding 2000 GJ of Daily Energy released by Fires (P2000)"
   ]
  },
  {
   "cell_type": "markdown",
   "metadata": {},
   "source": [
    "Another data variable available within the FRMv2 dataset is P2000, which shows the probabilities of a potential wildfire exceeding 2000 GJ of daily energy released by fires (P2000). In other words, it provides information on the likelihood of a potential wildfire getting out of control. Figure 3 shows the 24 hour forecast of P2000 for 5th August 2021. Greece is mostly coloured in orange and red, indicating a high probability of a potential wildfire getting out of control. Italy is mostly coloured in blue and green, indicating lower probabilities of a wildfire getting out of control."
   ]
  },
  {
   "cell_type": "markdown",
   "metadata": {},
   "source": [
    "<div align=\"center\"><img src='../img/med_part1_figure_3.png'  width='80%'></img></div>"
   ]
  },
  {
   "cell_type": "markdown",
   "metadata": {},
   "source": [
    "<i>Figure 3. 24-hour forecast of the probability of fire emitted energy being above 2000 GJ for 5th August 2021 from LSA SAF.\n"
   ]
  },
  {
   "cell_type": "markdown",
   "metadata": {
    "tags": []
   },
   "source": [
    "#### <a id='med_part1_fig4'></a> 24 hour forecast of the anomaly of probability of exceedance of 2000 GJ of daily energy released by fires (P2000a)\n",
    "\n",
    "`Figure 4` shows the 24 hour forecast of the anomaly of probability of exceedance of 2000 GJ of daily energy released by fires (P2000a) for 5th August 2021. This quantity is computed at each pixel as the deviation of the probability of exceedance for a given pixel and a given day of a given year from the average of all values of probability of exceedance for that pixel and day over the period 1979–2016. Greece is mostly coloured in dark and light red, indicating that there is a positive anomaly for the probability of a potential wildfire getting out of control. Southern Italy is also mostly coloured in light red. This means that it is more likely than usual for a fire to burn out of control in both countries."
   ]
  },
  {
   "cell_type": "markdown",
   "metadata": {},
   "source": [
    "<div align=\"center\"><img src='../img/med_part1_figure_4.png'  width='80%'></img></div>"
   ]
  },
  {
   "cell_type": "markdown",
   "metadata": {},
   "source": [
    "<i>Figure 4. 24-hour forecast of the anomalies of the probability of fire emitted energy being above 2000 GJ for 5th August 2021, from LSA SAF.\n"
   ]
  },
  {
   "cell_type": "markdown",
   "metadata": {},
   "source": [
    "<hr>"
   ]
  },
  {
   "cell_type": "markdown",
   "metadata": {
    "tags": []
   },
   "source": [
    "### References\n",
    "* Trigo, I. F., C. C. DaCamara, P. Viterbo, J.-L. Roujean, F. Olesen, C. Barroso, F. Camacho-de Coca, D. Carrer, S. C. Freitas, J. García-Haro, B. Geiger, F. Gellens-Meulenberghs, N. Ghilain, J. Meliá, L. Pessanha, N. Siljamo, and A. Arboleda. (2011). The Satellite Application Facility on Land Surface Analysis. Int. J. Remote Sens., 32, 2725-2744, doi: 10.1080/01431161003743199\n",
    "* Copernicus Atmosphere Monitoring Service Information 2021"
   ]
  },
  {
   "cell_type": "markdown",
   "metadata": {},
   "source": [
    "<hr>"
   ]
  },
  {
   "cell_type": "markdown",
   "metadata": {},
   "source": [
    "\n",
    "<p style=\"text-align:right;\">This project is licensed under <a href=\"../LICENSE\">GNU General Public License v3.0 only</a> and is developed under a Copernicus contract."
   ]
  },
  {
   "cell_type": "markdown",
   "metadata": {
    "tags": []
   },
   "source": [
    "<p style=\"text-align:right;\"> <a href='https://classroom.eumetsat.int/'>EUMETSAT Training</a> | <a href='mailto:training@eumetsat.int'>Contact the training team</a></p>"
   ]
  }
 ],
 "metadata": {
  "kernelspec": {
   "display_name": "Python 3 (ipykernel)",
   "language": "python",
   "name": "python3"
  },
  "language_info": {
   "codemirror_mode": {
    "name": "ipython",
    "version": 3
   },
   "file_extension": ".py",
   "mimetype": "text/x-python",
   "name": "python",
   "nbconvert_exporter": "python",
   "pygments_lexer": "ipython3",
   "version": "3.10.10"
  }
 },
 "nbformat": 4,
 "nbformat_minor": 4
}
