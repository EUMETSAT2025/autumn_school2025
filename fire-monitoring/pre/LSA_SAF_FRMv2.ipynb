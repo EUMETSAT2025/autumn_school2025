{
 "cells": [
  {
   "cell_type": "markdown",
   "id": "cf17d96c",
   "metadata": {},
   "source": [
    "<hr>"
   ]
  },
  {
   "cell_type": "markdown",
   "id": "dc296f16",
   "metadata": {
    "Collapsed": "false"
   },
   "source": [
    "# LSA SAF Fire Risk Map v2"
   ]
  },
  {
   "cell_type": "markdown",
   "id": "c6131c87",
   "metadata": {
    "tags": []
   },
   "source": [
    "### About"
   ]
  },
  {
   "cell_type": "markdown",
   "id": "8427e764",
   "metadata": {
    "Collapsed": "false"
   },
   "source": [
    "The LSA SAF [Fire Risk Map v2 (FRMv2)](https://lsa-saf.eumetsat.int/en/data/products/fire-products/#FRR) product \"combines information from Numerical Weather Prediction (NWP) models - in this case the operational forecasts from ECMWF - and historical SEVIRI estimates of Fire Radiative Power to derive forecasts of the risk of fire. The rationale is to provide the user community with information on meteorological risk that will allow adopting the adequate measures to mitigate fire damage. The FRM algorithm computes the probability of a fires reaching very high intensities for the following 24h, 48h, ... 120h. These indicate prognostic levels of fire danger over Southern Europe and part of Northern Africa.\" [(Source)](https://lsa-saf.eumetsat.int/en/data/products/fire-products/#FRR)\n",
    "\n",
    "This notebook shows the structure of `LSA SAF Fire Risk Map v2` (FRMv2) data and what information of the data files can be used in order to load, browse and visualize the data. \n",
    "\n",
    "\n",
    "\n",
    "To run this JN use conda env: fire"
   ]
  },
  {
   "cell_type": "markdown",
   "id": "830d2b50",
   "metadata": {
    "tags": []
   },
   "source": [
    "### Basic Facts"
   ]
  },
  {
   "cell_type": "markdown",
   "id": "f2d45560",
   "metadata": {},
   "source": [
    "> **Spatial resolution**: `3km`<br>\n",
    "> **Spatial coverage**: `Mediterranean Europe` <br>\n",
    "> **Time steps**: `Daily forecasts (24-hr up to 120-hr ahead)` <br>\n",
    "> **Data availability**: `since 2017`\n"
   ]
  },
  {
   "cell_type": "markdown",
   "id": "a5a70e10",
   "metadata": {},
   "source": [
    "### How to access the data\n",
    "\n",
    "The [FRMv2 data](https://lsa-saf.eumetsat.int/en/data/products/fire-products/#FRR) can be accessed via [LSA SAF](https://datalsasaf.lsasvcs.ipma.pt/PRODUCTS/MSG/FRMv2/). The data are distributed in `HDF5` format, which is then compressed as a `TAR` file for download. \n",
    "\n",
    "You need to [register for an account](https://datalsasaf.lsasvcs.ipma.pt/) before being able to download data."
   ]
  },
  {
   "cell_type": "markdown",
   "id": "9002df38",
   "metadata": {
    "Collapsed": "false",
    "tags": []
   },
   "source": [
    "### Module outline\n",
    "* [1 - Load and browse LSA SAF Fire Risk Map v2 data](#load_frm)\n",
    "* [2 - Visualise the LSA SAF Fire Risk Map v2 data](#vis_frm)\n",
    "* [3 - Load and browse LSA SAF P2000 data](#load_p2000)\n",
    "* [4 - Visualise the LSA SAF P2000 data](#vis_p2000)\n",
    "* [5 - Load and browse LSA SAF P2000a data](#load_p2000a)\n",
    "* [6 - Visualise the LSA SAF P2000a data](#vis_p2000a)"
   ]
  },
  {
   "cell_type": "markdown",
   "id": "857b9eec",
   "metadata": {},
   "source": [
    "<hr>"
   ]
  },
  {
   "cell_type": "markdown",
   "id": "4b884395",
   "metadata": {
    "Collapsed": "false"
   },
   "source": [
    "##### Load required libraries"
   ]
  },
  {
   "cell_type": "code",
   "execution_count": null,
   "id": "604a66fc",
   "metadata": {
    "Collapsed": "false"
   },
   "outputs": [],
   "source": [
    "import os\n",
    "import glob\n",
    "import numpy as np\n",
    "import datetime\n",
    "from datetime import datetime\n",
    "from osgeo import gdal,osr\n",
    "import pyproj\n",
    "import tarfile\n",
    "import bz2\n",
    "\n",
    "# Python libraries for visualisation\n",
    "import matplotlib as mpl\n",
    "from matplotlib import pyplot as plt\n",
    "import matplotlib.colors as colors\n",
    "from matplotlib.colors import BoundaryNorm, ListedColormap, TwoSlopeNorm\n",
    "import cartopy.crs as ccrs\n",
    "from cartopy.mpl.gridliner import LONGITUDE_FORMATTER, LATITUDE_FORMATTER\n",
    "\n",
    "from IPython.display import display, clear_output\n",
    "\n",
    "import warnings\n",
    "warnings.filterwarnings('ignore')\n",
    "warnings.simplefilter(action = \"ignore\", category = RuntimeWarning)"
   ]
  },
  {
   "cell_type": "markdown",
   "id": "85cc2734",
   "metadata": {},
   "source": [
    "##### Load helper functions"
   ]
  },
  {
   "cell_type": "code",
   "execution_count": null,
   "id": "a27786e4",
   "metadata": {},
   "outputs": [],
   "source": [
    "%run ../functions.ipynb"
   ]
  },
  {
   "cell_type": "markdown",
   "id": "3d443597",
   "metadata": {
    "Collapsed": "false"
   },
   "source": [
    "<hr>"
   ]
  },
  {
   "cell_type": "markdown",
   "id": "cbf906b5",
   "metadata": {
    "Collapsed": "false",
    "tags": []
   },
   "source": [
    "## <a id=\"load_frm\"></a>1. Load and browse the LSA SAF Fire Risk Map v2 data"
   ]
  },
  {
   "cell_type": "markdown",
   "id": "417d701d",
   "metadata": {},
   "source": [
    "The fire risk map product consists of daily forecasts of classes of meteorological fire danger over Mediterranean Europe. Five fire risk classes are provided, ranging from low to extreme risk. The forecast timesteps available start at 24 hours to 120 hours. The dataset shown here is for the 24 hour forecast."
   ]
  },
  {
   "cell_type": "markdown",
   "id": "dc0c946c",
   "metadata": {
    "Collapsed": "false",
    "tags": []
   },
   "source": [
    "#### Inspect structure of LSA SAF Fire Risk Map v2 product data files (24 hour timestep)"
   ]
  },
  {
   "cell_type": "markdown",
   "id": "c7dee239",
   "metadata": {},
   "source": [
    "First, define the filepath for where the `hdf5` file(s) are located and store this as the variable `in_filepath`. You can also define the filepath for where the new `tif` file(s) will be placed, storing it as the variable `out_filepath`.\n",
    "\n",
    "You can also inspect the files in the folder containing the `hdf5` files. As we specified a specific file which contains the 24 hour forecast, there should only be a single file in the list."
   ]
  },
  {
   "cell_type": "code",
   "execution_count": null,
   "id": "8d4573b1",
   "metadata": {},
   "outputs": [],
   "source": [
    "in_data = '../../lsa-saf/data/frm/'\n",
    "filename= 'HDF5_LSASAF_MSG_FRM-F024_MSG-Disk_202108051200'\n",
    "#HDF5_LSASAF_MSG_FRM-F024_MSG-Disk_202508151200\n",
    "\n",
    "in_filepath =  in_data + filename\n",
    "\n",
    "out_filepath = 'output/'\n",
    "\n",
    "myfiles = glob.glob(in_filepath)\n",
    "myfiles"
   ]
  },
  {
   "cell_type": "markdown",
   "id": "a04da03e",
   "metadata": {},
   "source": [
    "You can use the [gdal](https://gdal.org/) Python library to access and manipulate datasets in `HDF5` format. \n",
    "\n",
    "[OPTIONAL] Next, you can use the for-loop defined below to process the `hdf5` files. We have already done this for you, so the code in the next code block is commented out. There are several steps: \n",
    "- **Print file name**: The file name is printed out.\n",
    "- **Modify file name**: The `.hdf` file ending is split off and a `.tif` ending is added. A second file is created with the `_rep.tif` ending; \"rep\" stands for reprojected.\n",
    "- **Translate data**:The satellite height and elliptical values are translated to xy values in the new `.tif` file using the `gdal_translate` function. At this step we pass in the internal path to the fire risk data which is `://Risk`.\n",
    "- **Warp data**: The values are mapped out and stored in the new `_rep.tif` file using `gdalwarp`."
   ]
  },
  {
   "cell_type": "code",
   "execution_count": null,
   "id": "2bcb876f",
   "metadata": {},
   "outputs": [],
   "source": [
    "\n",
    "for f in myfiles:\n",
    "    filename = f.split(\"\\\\\")[-1]\n",
    "    print(\"filename:\",filename,\"\\n\")\n",
    "    \n",
    "    # Modify file name\n",
    "    f_out = filename + \".tif\"  \n",
    "    print(\"f_out:\",f_out,\"\\n\")\n",
    "    \n",
    "    f_rep = filename + \"_rep.tif\" \n",
    "    print(\"f_rep:\",f_rep,\"\\n\")\n",
    "    \n",
    "    # Translate data\n",
    "    os.system('gdal_translate -of GTiff -a_srs \"+proj=geos +h=35785831 +a=6378169 +b=6356583.8 +no_defs\"\\\n",
    "    -a_ullr  -5568748.27576  5568748.27576 5568748.27576 -5568748.27576 HDF5:'+ filename +'://Risk '+ f_out)\n",
    "    \n",
    "    # Warp data\n",
    "    os.system('gdalwarp -ot Float32 -s_srs \"+proj=geos +h=35785831 +a=6378169 +b=6356583.8 +no_defs\"\\\n",
    "    -t_srs EPSG:4326 -r near -of GTiff ' + f_out + ' ' + f_rep)\n",
    "   \n",
    "print('done.')\n"
   ]
  },
  {
   "cell_type": "markdown",
   "id": "42ac489b",
   "metadata": {},
   "source": [
    "Next, you can enable exceptions in the gdal library to be notified in case of a failure. Then you define the file path to the reprojected `tif` file and open it using `gdal.Open()`."
   ]
  },
  {
   "cell_type": "code",
   "execution_count": null,
   "id": "32fadd7d",
   "metadata": {},
   "outputs": [],
   "source": [
    "gdal.UseExceptions()\n",
    "\n",
    "#rep_file = '../data/lsasaf/frmv2/2021/08/04/order_158116/HDF5_LSASAF_MSG_FRM-F024_MSG-Disk_202108051200_rep.tif' \n",
    "######rep_file = 'data/HDF5_LSASAF_MSG_FRM-F024_MSG-Disk_202508151200_rep.tif' \n",
    "rep_file = filename + '_rep.tif'\n",
    "ds = gdal.Open(rep_file)"
   ]
  },
  {
   "cell_type": "markdown",
   "id": "9f21b67a",
   "metadata": {},
   "source": [
    "You can take a look at some attributes from the reprojected `tif` file, such as the number of columns, rows, bands and the driver."
   ]
  },
  {
   "cell_type": "code",
   "execution_count": null,
   "id": "cc7ac346",
   "metadata": {},
   "outputs": [],
   "source": [
    "cols = ds.RasterXSize\n",
    "print('The number of columns is ',cols)\n",
    "rows = ds.RasterYSize\n",
    "print('The number of rows is ', rows)\n",
    "bands = ds.RasterCount\n",
    "print('The number of bands is ', bands)\n",
    "driver = ds.GetDriver().LongName\n",
    "print('The driver is ', driver)"
   ]
  },
  {
   "cell_type": "markdown",
   "id": "0b72870a",
   "metadata": {},
   "source": [
    "Next, you can access the metadata from the dataset using the gdal function `.GetMetadata()`. Then, print out the metadata to see what is available."
   ]
  },
  {
   "cell_type": "code",
   "execution_count": null,
   "id": "171da425",
   "metadata": {
    "tags": []
   },
   "outputs": [],
   "source": [
    "meta = ds.GetMetadata()\n",
    "for i in meta: \n",
    "    print(i)"
   ]
  },
  {
   "cell_type": "markdown",
   "id": "f78d083e",
   "metadata": {},
   "source": [
    "You can extract the value of a metadata property by using `[]` square brackets and passing in the name of the property. Let's extract the `'PRODUCT'` metadata value."
   ]
  },
  {
   "cell_type": "code",
   "execution_count": null,
   "id": "fb6226fb",
   "metadata": {},
   "outputs": [],
   "source": [
    "product = meta['PRODUCT']\n",
    "product"
   ]
  },
  {
   "cell_type": "markdown",
   "id": "2e1bbf7d",
   "metadata": {},
   "source": [
    "You can use these metadata properties in your final plot. For example, you can extract the date from `'IMAGE_ACQUISITION_TIME'`, turn it into a `datetime` object and then reformat it for use in your plot."
   ]
  },
  {
   "cell_type": "code",
   "execution_count": null,
   "id": "cffe788e",
   "metadata": {},
   "outputs": [],
   "source": [
    "date = meta['IMAGE_ACQUISITION_TIME']\n",
    "date"
   ]
  },
  {
   "cell_type": "code",
   "execution_count": null,
   "id": "c510d139",
   "metadata": {},
   "outputs": [],
   "source": [
    "timestamp = datetime.strptime(date, '%Y%m%d%H%M%S')\n",
    "timestamp"
   ]
  },
  {
   "cell_type": "code",
   "execution_count": null,
   "id": "671d7092",
   "metadata": {
    "tags": []
   },
   "outputs": [],
   "source": [
    "title_time = timestamp.strftime('%d %B %Y')\n",
    "title_time"
   ]
  },
  {
   "cell_type": "markdown",
   "id": "04d2e45a",
   "metadata": {
    "tags": []
   },
   "source": [
    "## <a id=\"vis_frm\"></a>2. Visualise the LSA SAF Fire Risk Map v2 data"
   ]
  },
  {
   "cell_type": "markdown",
   "id": "cdffcb24",
   "metadata": {},
   "source": [
    "To plot the data, you first need to read in the data as as numpy array, using the function `.ReadAsArray()`. Then you can mask out the data where the values are equal or less than the missing value of `-8000`. "
   ]
  },
  {
   "cell_type": "code",
   "execution_count": null,
   "id": "d6b48df4",
   "metadata": {},
   "outputs": [],
   "source": [
    "data = ds.ReadAsArray()\n",
    "data = np.ma.masked_where(data <= -8000, data)"
   ]
  },
  {
   "cell_type": "markdown",
   "id": "2763a6be",
   "metadata": {},
   "source": [
    "You can make use of the `ListedColorMap` function from the matplotlib library to define the colors for each fire risk class."
   ]
  },
  {
   "cell_type": "code",
   "execution_count": null,
   "id": "94ea2c0b",
   "metadata": {},
   "outputs": [],
   "source": [
    "cmap = ListedColormap([[24/255., 148/255., 15/255.],\n",
    "                      [255./255., 255./255., 0],\n",
    "                      [1., 140./255., 0], [1, 0, 0],\n",
    "                      [178./255., 34./255., 34./255.]])"
   ]
  },
  {
   "cell_type": "markdown",
   "id": "c0080426",
   "metadata": {},
   "source": [
    "You can define the levels for the respective fire risk classes in a list stored in the variable `bounds`. The fire risk data has a categorical range from 1 to 5, from low to extreme risk. You can also use the `.BoundaryNorm()` function from `matplotlib.colors` to define the norm that you will use for plotting later. "
   ]
  },
  {
   "cell_type": "code",
   "execution_count": null,
   "id": "173f282c",
   "metadata": {},
   "outputs": [],
   "source": [
    "bounds = [0,1.5,2.5,3.5,4.5,5.5]\n",
    "norm = mpl.colors.BoundaryNorm(bounds, cmap.N)  "
   ]
  },
  {
   "cell_type": "markdown",
   "id": "12b669ca",
   "metadata": {},
   "source": [
    "Finally, you can visualise the fire risk data by plotting it."
   ]
  },
  {
   "cell_type": "markdown",
   "id": "2c9bf709",
   "metadata": {},
   "source": [
    "The plotting code can be divided in five main parts:\n",
    "* **Define the coordinate reference system for the plot**\n",
    "* **Initiate a matplotlib figure**: Initiate a matplotlib plot and define the size of the plot\n",
    "* **Specify coastlines, borders and a grid**: specify additional features to be added to the plot\n",
    "* **Plotting function**: specify the extent and plot the data with the plotting function `imshow()`\n",
    "* **Set plot title**: specify title of the plot"
   ]
  },
  {
   "cell_type": "code",
   "execution_count": null,
   "id": "741f199e",
   "metadata": {},
   "outputs": [],
   "source": [
    "# Define the coordinate reference system\n",
    "crs = ccrs.PlateCarree()\n",
    "\n",
    "# Initiate a matplotlib figure\n",
    "fig=plt.figure(figsize=(20, 12))\n",
    "ax = plt.axes(projection=crs)\n",
    "\n",
    "# Specify coastlines and borders\n",
    "ax.coastlines(zorder=3)\n",
    "ax.add_feature(cfeature.BORDERS, edgecolor='black', linewidth=1, zorder=3)\n",
    "\n",
    "# Specify a grid\n",
    "gl = ax.gridlines(crs=crs)\n",
    "gl = ax.gridlines(draw_labels=True, linestyle='--')\n",
    "gl.top_labels=False\n",
    "gl.right_labels=False\n",
    "gl.xformatter=LONGITUDE_FORMATTER\n",
    "gl.yformatter=LATITUDE_FORMATTER\n",
    "gl.xlabel_style={'size':14}\n",
    "gl.ylabel_style={'size':14}\n",
    "\n",
    "# Set extent of the plot to the Mediterranean \n",
    "ax.set_extent([10, 30, 35, 45])\n",
    "# Set extent of the plot to the Iberian Peninsula \n",
    "#ax.set_extent([-10, 5, 35, 45])\n",
    "\n",
    "# Set extent of the plot to Full Product Extent \n",
    "#ax.set_extent([-10, 45, 35, 47])\n",
    "\n",
    "\n",
    "# Define the image extent\n",
    "img_extent = (-81.26765645410755,81.26765645410755,-74.11423113858775,74.11423113858775)\n",
    "\n",
    "# Plot the data\n",
    "cax = ax.imshow(data, cmap=cmap, origin='upper', extent=img_extent, transform=crs, norm=norm)\n",
    "\n",
    "# Define the colorbar, tick locations and tick labels \n",
    "cbar = fig.colorbar(cax, ax=ax, orientation='horizontal', fraction=0.04, pad=0.1, ticks=[0.75,2,3,4,5])\n",
    "cbar.ax.set_xticklabels(['Low','Moderate','High','Very High','Extreme'])\n",
    "cbar.ax.tick_params(labelsize=14)\n",
    "\n",
    "# Set the title of the plot\n",
    "ax.set_title('LSA SAF Fire Risk Map v2 - Risk (24H) on ' + title_time, fontsize=20, pad=20.0)\n",
    "\n",
    "# Show the plot\n",
    "plt.show()"
   ]
  },
  {
   "cell_type": "markdown",
   "id": "e1ec0619",
   "metadata": {},
   "source": [
    "**Return to the case study:**\n",
    "- [Assessing pre-fire risk with next-generation satellites: Mediterranean Fires Case Study](../med_part1_application_case.ipynb#med_part1_fig2)"
   ]
  },
  {
   "cell_type": "markdown",
   "id": "2ff45a41",
   "metadata": {
    "tags": []
   },
   "source": [
    "## Probabilities of a Potential Wildfire exceeding 2000 GJ of Daily Energy released by Fires (P2000)"
   ]
  },
  {
   "cell_type": "markdown",
   "id": "fcffd77d",
   "metadata": {},
   "source": [
    "The P2000 dataset shows the probabilities of a potential wildfire exceeding 2000 GJ of daily energy released by fires. In other words, it provides information on the likelihood of a potential wildfire getting out of control."
   ]
  },
  {
   "cell_type": "markdown",
   "id": "0c78fcb0",
   "metadata": {
    "Collapsed": "false",
    "tags": []
   },
   "source": [
    "## <a id=\"load_p2000\"></a>3. Load and browse the LSA SAF P2000 data"
   ]
  },
  {
   "cell_type": "markdown",
   "id": "0b3caa5c",
   "metadata": {},
   "source": [
    "You can reuse the variables `in_filepath` and `out_filepath` that you defined earlier."
   ]
  },
  {
   "cell_type": "markdown",
   "id": "57618162",
   "metadata": {},
   "source": [
    "You can use the [gdal](https://gdal.org/) Python library to access and manipulate datasets in `HDF5` format. \n",
    "\n",
    "[OPTIONAL] Next, you can use the for-loop defined below to process the `hdf5` files. We have already done this for you, so the code in the next code block is commented out. There are several steps: \n",
    "- **Print file name**: The file name is printed out.\n",
    "- **Modify file name**: The `.hdf` file ending is split off and a `.tif` ending is added. A second file is created with the `_rep.tif` ending; \"rep\" stands for reprojected.\n",
    "- **Translate data**:The satellite height and elliptical values are translated to xy values in the new `.tif` file using the `gdal_translate` function. At this step we pass in the internal path to the P2000 data which is `P2000`.\n",
    "- **Warp data**: The values are mapped out and stored in the new `_rep.tif` file using `gdalwarp`."
   ]
  },
  {
   "cell_type": "code",
   "execution_count": null,
   "id": "ad87bfcb",
   "metadata": {},
   "outputs": [],
   "source": [
    "\n",
    "for f in myfiles:\n",
    "    \n",
    "    # Print file name\n",
    "    filename = f.split(\"\\\\\")[-1]\n",
    "    print(\"filename:\",filename,\"\\n\")\n",
    "    \n",
    "    # Modify file name\n",
    "    f_out = filename +\"_p2000\" + \".tif\"  \n",
    "    print(\"f_out:\",f_out,\"\\n\")\n",
    "    \n",
    "    f_rep = filename +\"_p2000\" + \"_rep.tif\" \n",
    "    print(\"f_rep:\",f_rep,\"\\n\")\n",
    "    \n",
    "    # Translate data\n",
    "    os.system('gdal_translate -of GTiff -a_srs \"+proj=geos +h=35785831 +a=6378169 +b=6356583.8 +no_defs\"\\\n",
    "    -a_ullr  -5568748.27576  5568748.27576 5568748.27576 -5568748.27576 HDF5:'+ filename +'://P2000 '+ f_out)\n",
    "    \n",
    "    # Warp data\n",
    "    os.system('gdalwarp -ot Float32 -s_srs \"+proj=geos +h=35785831 +a=6378169 +b=6356583.8 +no_defs\"\\\n",
    "    -t_srs EPSG:4326 -r near -of GTiff ' + f_out + ' ' + f_rep)\n",
    "   \n",
    "print('done.')\n"
   ]
  },
  {
   "cell_type": "markdown",
   "id": "c1936273",
   "metadata": {},
   "source": [
    "Next, define the file path to the reprojected `tif` file and open it using `gdal.Open()`."
   ]
  },
  {
   "cell_type": "code",
   "execution_count": null,
   "id": "9da72d35",
   "metadata": {},
   "outputs": [],
   "source": [
    "######p2000_file = 'data/HDF5_LSASAF_MSG_FRM-F024_MSG-Disk_202508151200_p2000_rep.tif'\n",
    "p2000_file =filename +\"_p2000\" + \"_rep.tif\"\n",
    "p2000_ds = gdal.Open(p2000_file)"
   ]
  },
  {
   "cell_type": "markdown",
   "id": "db3df8ec",
   "metadata": {
    "tags": []
   },
   "source": [
    "## <a id=\"vis_p2000\"></a>4. Visualise the LSA SAF P2000 data"
   ]
  },
  {
   "cell_type": "markdown",
   "id": "5f36b939",
   "metadata": {},
   "source": [
    "To plot the data, you first need to read in the data as as numpy array, using the function `.ReadAsArray()`. Then you can mask out the data where the values are equal or less than the missing value of `-8000`. "
   ]
  },
  {
   "cell_type": "code",
   "execution_count": null,
   "id": "6d37707a",
   "metadata": {},
   "outputs": [],
   "source": [
    "p2000_data = p2000_ds.ReadAsArray()\n",
    "p2000_data = np.ma.masked_where(p2000_data <= -8000, p2000_data)"
   ]
  },
  {
   "cell_type": "markdown",
   "id": "519f5048",
   "metadata": {},
   "source": [
    "Finally, you can visualise the fire risk data by plotting it."
   ]
  },
  {
   "cell_type": "markdown",
   "id": "c5888f46",
   "metadata": {},
   "source": [
    "The plotting code can be divided in five main parts:\n",
    "* **Define the coordinate reference system for the plot**\n",
    "* **Initiate a matplotlib figure**: Initiate a matplotlib plot and define the size of the plot\n",
    "* **Specify coastlines, borders and a grid**: specify additional features to be added to the plot\n",
    "* **Plotting function**: specify the extent and plot the data with the plotting function `imshow()`\n",
    "* **Set plot title**: specify title of the plot"
   ]
  },
  {
   "cell_type": "code",
   "execution_count": null,
   "id": "81eace98",
   "metadata": {},
   "outputs": [],
   "source": [
    "# Define the coordinate reference system\n",
    "crs = ccrs.PlateCarree()\n",
    "\n",
    "# Initiate a matplotlib figure\n",
    "fig = plt.figure(figsize=(20, 12))\n",
    "ax = plt.axes(projection=crs)\n",
    "\n",
    "# Specify coastlines and borders\n",
    "ax.coastlines(zorder=3)\n",
    "ax.add_feature(cfeature.BORDERS, edgecolor='black', linewidth=1, zorder=3)\n",
    "\n",
    "# Specify a grid\n",
    "gl = ax.gridlines(crs=crs)\n",
    "gl = ax.gridlines(draw_labels=True, linestyle='--')\n",
    "gl.top_labels=False\n",
    "gl.right_labels=False\n",
    "gl.xformatter=LONGITUDE_FORMATTER\n",
    "gl.yformatter=LATITUDE_FORMATTER\n",
    "gl.xlabel_style={'size':14}\n",
    "gl.ylabel_style={'size':14}\n",
    "\n",
    "# Set extent of the plot to the Mediterranean \n",
    "ax.set_extent([10, 30, 35, 45])\n",
    "# Set extent of the plot to the Iberian Peninsula \n",
    "ax.set_extent([-10, 5, 35, 45])\n",
    "\n",
    "# Set extent of the plot to Full Product Extent \n",
    "ax.set_extent([-10, 45, 35, 47])\n",
    "# Define the image extent (the extent of the data)\n",
    "img_extent = (-81.26765645410755,81.26765645410755,-74.11423113858775,74.11423113858775)\n",
    "\n",
    "# Plot the data\n",
    "cax = ax.imshow(p2000_data, cmap=\"rainbow\", origin='upper', extent=img_extent, transform=crs)\n",
    "\n",
    "# Define the colorbar\n",
    "cbar = fig.colorbar(cax, ax=ax, orientation='horizontal', fraction=0.04, pad=0.1)\n",
    "cbar.ax.tick_params(labelsize=14)\n",
    "\n",
    "# Set the title of the plot\n",
    "ax.set_title('LSA SAF Fire Risk Map v2 - P2000 (24H) on ' + title_time, fontsize=20, pad=20.0)\n",
    "\n",
    "# Show the plot\n",
    "plt.show()"
   ]
  },
  {
   "cell_type": "markdown",
   "id": "9f4fa540",
   "metadata": {},
   "source": [
    "**Return to the case study:**\n",
    "- [Assessing pre-fire risk with next-generation satellites: Mediterranean Fires Case Study](../med_part1_application_case.ipynb#med_part1_fig3)"
   ]
  },
  {
   "cell_type": "markdown",
   "id": "b595d648",
   "metadata": {
    "tags": []
   },
   "source": [
    "## 24 hour forecast of the anomaly of probability of exceedance of 2000 GJ of daily energy released by fires (P2000a)"
   ]
  },
  {
   "cell_type": "markdown",
   "id": "4bdcece4",
   "metadata": {},
   "source": [
    "This anomaly is computed at each pixel as the deviation of the probability of exceedance for a given pixel and a given day of a given year from the average of all values of probability of exceedance for that pixel and day over the period 1979–2016."
   ]
  },
  {
   "cell_type": "markdown",
   "id": "8dca6769",
   "metadata": {
    "tags": []
   },
   "source": [
    "## <a id=\"load_p2000a\"></a>5. Load and browse the LSA SAF P2000a data"
   ]
  },
  {
   "cell_type": "markdown",
   "id": "0b26152b",
   "metadata": {},
   "source": [
    "You can reuse the variables `in_filepath` and `out_filepath` that you defined earlier."
   ]
  },
  {
   "cell_type": "markdown",
   "id": "2e8a202e",
   "metadata": {},
   "source": [
    "You can use the [gdal](https://gdal.org/) Python library to access and manipulate datasets in `HDF5` format.\n",
    "\n",
    "[OPTIONAL] Next, you can use the for-loop defined below to process the `hdf5` files. We have already done this for you, so the code in the next code block is commented out. There are several steps: \n",
    "- **Print file name**: The file name is printed out.\n",
    "- **Modify file name**: The `.hdf` file ending is split off and a `.tif` ending is added. A second file is created with the `_rep.tif` ending; \"rep\" stands for reprojected.\n",
    "- **Translate data**:The satellite height and elliptical values are translated to xy values in the new `.tif` file using the `gdal_translate` function. At this step we pass in the internal path to the P2000a data which is `P2000a`.\n",
    "- **Warp data**: The values are mapped out and stored in the new `_rep.tif` file using `gdalwarp`."
   ]
  },
  {
   "cell_type": "code",
   "execution_count": null,
   "id": "605dc34d",
   "metadata": {},
   "outputs": [],
   "source": [
    "\n",
    "for f in myfiles:\n",
    "    \n",
    "    # Print file name\n",
    "    filename = f.split(\"\\\\\")[-1]\n",
    "    print(\"filename:\",filename,\"\\n\")\n",
    "    \n",
    "    # Modify file name\n",
    "    f_out = filename +\"_p2000a\" + \".tif\"\n",
    "    print(\"f_out:\",f_out,\"\\n\")\n",
    "    \n",
    "    f_rep = filename +\"_p2000a\" + \"_rep.tif\" \n",
    "    print(\"f_rep:\",f_rep,\"\\n\")\n",
    "    \n",
    "    # Translate data\n",
    "    os.system('gdal_translate -of GTiff -a_srs \"+proj=geos +h=35785831 +a=6378169 +b=6356583.8 +no_defs\"\\\n",
    "    -a_ullr  -5568748.27576  5568748.27576 5568748.27576 -5568748.27576 HDF5:'+ filename +'://P2000a '+ f_out)\n",
    "    \n",
    "    # Warp data\n",
    "    os.system('gdalwarp -ot Float32 -s_srs \"+proj=geos +h=35785831 +a=6378169 +b=6356583.8 +no_defs\"\\\n",
    "    -t_srs EPSG:4326 -r near -of GTiff ' + f_out + ' ' + f_rep)\n",
    "   \n",
    "print('done.')\n"
   ]
  },
  {
   "cell_type": "markdown",
   "id": "ee45a8b6",
   "metadata": {},
   "source": [
    "Next, define the file path to the reprojected `tif` file and open it using `gdal.Open()`."
   ]
  },
  {
   "cell_type": "code",
   "execution_count": null,
   "id": "41914c6b",
   "metadata": {},
   "outputs": [],
   "source": [
    "#######p2000a_file = 'data/HDF5_LSASAF_MSG_FRM-F024_MSG-Disk_202508151200_p2000a_rep.tif'\n",
    "p2000a_file = filename +\"_p2000a_rep\" + \".tif\"\n",
    "p2000a_ds = gdal.Open(p2000a_file)"
   ]
  },
  {
   "cell_type": "markdown",
   "id": "5da904ad",
   "metadata": {},
   "source": [
    "## <a id=\"vis_p2000a\"></a>6. Visualise the LSA SAF P2000a data"
   ]
  },
  {
   "cell_type": "markdown",
   "id": "46c77d78",
   "metadata": {},
   "source": [
    "To plot the data, you first need to read in the data as as numpy array, using the function `.ReadAsArray()`. Then you can mask out the data where the values are equal or less than the missing value of `-8000`. "
   ]
  },
  {
   "cell_type": "code",
   "execution_count": null,
   "id": "096b3b0e",
   "metadata": {},
   "outputs": [],
   "source": [
    "p2000a_data = p2000a_ds.ReadAsArray()\n",
    "p2000a_data = np.ma.masked_where(p2000a_data <= -8000, p2000a_data)"
   ]
  },
  {
   "cell_type": "markdown",
   "id": "a3401e9b",
   "metadata": {},
   "source": [
    "Finally, you can visualise the fire risk data by plotting it."
   ]
  },
  {
   "cell_type": "markdown",
   "id": "74df854f",
   "metadata": {},
   "source": [
    "The plotting code can be divided in five main parts:\n",
    "* **Define the coordinate reference system for the plot**\n",
    "* **Initiate a matplotlib figure**: Initiate a matplotlib plot and define the size of the plot\n",
    "* **Specify coastlines, borders and a grid**: specify additional features to be added to the plot\n",
    "* **Plotting function**: specify the extent and plot the data with the plotting function `imshow()`\n",
    "* **Set plot title**: specify title of the plot"
   ]
  },
  {
   "cell_type": "code",
   "execution_count": null,
   "id": "f471a351",
   "metadata": {},
   "outputs": [],
   "source": [
    "# Define the coordinate reference system\n",
    "crs = ccrs.PlateCarree()\n",
    "\n",
    "# Initiate a matplotlib figure\n",
    "fig = plt.figure(figsize=(20, 12))\n",
    "ax = plt.axes(projection=crs)\n",
    "\n",
    "# Specify coastlines and borders\n",
    "ax.coastlines(zorder=3)\n",
    "ax.add_feature(cfeature.BORDERS, edgecolor='black', linewidth=1, zorder=3)\n",
    "\n",
    "# Specify a grid\n",
    "gl = ax.gridlines(crs=crs)\n",
    "gl = ax.gridlines(draw_labels=True, linestyle='--')\n",
    "gl.top_labels=False\n",
    "gl.right_labels=False\n",
    "gl.xformatter=LONGITUDE_FORMATTER\n",
    "gl.yformatter=LATITUDE_FORMATTER\n",
    "gl.xlabel_style={'size':14}\n",
    "gl.ylabel_style={'size':14}\n",
    "\n",
    "# Set extent of the plot to the Mediterranean \n",
    "ax.set_extent([10, 30, 35, 45]) # Mediterranean\n",
    "# Set extent of the plot to Full Product Extent \n",
    "ax.set_extent([-10, 45, 35, 47])\n",
    "\n",
    "# Define the image extent (the extent of the data)\n",
    "img_extent = (-81.26765645410755,81.26765645410755,-74.11423113858775,74.11423113858775)\n",
    "\n",
    "# Center white part of color ramp on 0\n",
    "norm = TwoSlopeNorm(vmin=p2000a_data.min(), vcenter=0, vmax=p2000a_data.max())\n",
    "\n",
    "\n",
    "# Plot the data\n",
    "cax = ax.imshow(p2000a_data, cmap=\"RdBu_r\", norm=norm, origin='upper', extent=img_extent, transform=crs)\n",
    "\n",
    "# Define the colorbar\n",
    "cbar = fig.colorbar(cax, ax=ax, orientation='horizontal', fraction=0.04, pad=0.1)\n",
    "cbar.ax.tick_params(labelsize=14)\n",
    "\n",
    "# Set the title of the plot\n",
    "ax.set_title('LSA SAF Fire Risk Map v2 - P2000a (24H) on ' + title_time, fontsize=20, pad=20.0)\n",
    "\n",
    "# Show the plot\n",
    "plt.show()"
   ]
  },
  {
   "cell_type": "markdown",
   "id": "ceeebe80",
   "metadata": {},
   "source": [
    "**Return to the case study:**\n",
    "- [Assessing pre-fire risk with next-generation satellites: Mediterranean Fires Case Study](../med_part1_application_case.ipynb#med_part1_fig4)"
   ]
  },
  {
   "cell_type": "markdown",
   "id": "7362fc6a",
   "metadata": {
    "Collapsed": "false"
   },
   "source": [
    "<hr>"
   ]
  },
  {
   "cell_type": "markdown",
   "id": "3eaf1d43",
   "metadata": {
    "tags": []
   },
   "source": [
    "### References\n",
    "* Trigo, I. F., C. C. DaCamara, P. Viterbo, J.-L. Roujean, F. Olesen, C. Barroso, F. Camacho-de Coca, D. Carrer, S. C. Freitas, J. García-Haro, B. Geiger, F. Gellens-Meulenberghs, N. Ghilain, J. Meliá, L. Pessanha, N. Siljamo, and A. Arboleda. (2011). The Satellite Application Facility on Land Surface Analysis. Int. J. Remote Sens., 32, 2725-2744, doi: 10.1080/01431161003743199\n",
    "\n",
    "* Some code in this notebook was adapted from the following source:\n",
    "    * origin: https://stackoverflow.com/questions/53643062/lsa-saf-satellite-hdf5-plot-in-python-cartopy\n",
    "    * copyright: 2018, methane rain\n",
    "    * license: CC BY-SA 4.0\n",
    "    * retrieved: 2022-06-28 by Sabrina Szeto"
   ]
  },
  {
   "cell_type": "markdown",
   "id": "25e97c40",
   "metadata": {},
   "source": [
    "<hr>"
   ]
  },
  {
   "cell_type": "markdown",
   "id": "a4024260",
   "metadata": {},
   "source": [
    "\n",
    "<p style=\"text-align:right;\">This project is licensed under <a href=\"../LICENSE\">GNU General Public License v3.0 only</a> and is developed under a Copernicus contract."
   ]
  },
  {
   "cell_type": "markdown",
   "id": "24c50e49",
   "metadata": {
    "tags": []
   },
   "source": [
    "<p style=\"text-align:right;\"> <a href='https://training.eumetsat.int'>EUMETSAT Training</a> | <a href='mailto:training@eumetsat.int'>Contact the training team</a></p>"
   ]
  }
 ],
 "metadata": {
  "author": "Sabrina Szeto",
  "description": "This notebook introduces you to Fire Risk Map data from LSA SAF.",
  "image": "../img/meta_med_1_234.png",
  "kernelspec": {
   "display_name": "Python [conda env:fire]",
   "language": "python",
   "name": "conda-env-fire-py"
  },
  "language_info": {
   "codemirror_mode": {
    "name": "ipython",
    "version": 3
   },
   "file_extension": ".py",
   "mimetype": "text/x-python",
   "name": "python",
   "nbconvert_exporter": "python",
   "pygments_lexer": "ipython3",
   "version": "3.12.7"
  },
  "services": {
   "eumetsat": {
    "git": {
     "link": "https://gitlab.eumetsat.int/eumetlab/atmosphere/fire-monitoring/-/blob/main/med_part1_workflows/figure234_LSA_SAF_FRMv2.ipynb",
     "service_contact": "training@eumetsat.int",
     "service_provider": "EUMETSAT"
    },
    "jupyter": {
     "link": "https://fire.ltpy.adamplatform.eu/hub/user-redirect/lab/tree/med_part1_workflows/figure234_LSA_SAF_FRMv2.ipynb",
     "service_contact": "ltpy@meeo.it",
     "service_provider": "MEEO s.r.l."
    },
    "jupyterbook": {
     "link": "https://fire.trainhub.eumetsat.int/docs/figure234_LSA_SAF_FRMv2.html",
     "service_contact": "training@eumetsat.int",
     "service_provider": "EUMETSAT"
    }
   }
  },
  "tags": {
   "domain": "Atmosphere",
   "platform": "Meteosat Second Generation (MSG)",
   "sensor": "SEVIRI",
   "service": "LSA SAF",
   "subtheme": "Fires",
   "tags": "Fire Risk Map"
  },
  "title": "Explore Fire Risk Map data from LSA SAF."
 },
 "nbformat": 4,
 "nbformat_minor": 5
}
