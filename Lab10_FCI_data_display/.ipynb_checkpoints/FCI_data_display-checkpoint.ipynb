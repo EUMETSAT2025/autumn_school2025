{
 "cells": [
  {
   "cell_type": "markdown",
   "metadata": {},
   "source": [
    "<img src='./logos/EUMETSAT_Logo_WhiteonBlue.png' alt='logo EUMETSAT' align='center' width='30%'></img>"
   ]
  },
  {
   "cell_type": "markdown",
   "metadata": {},
   "source": [
    "# Display FCI data\n",
    "\n",
    "> This Jupyter Notebook (JN) shows how to read and display FCI data with the use of Satpy<br><br>\n",
    "> It allows to:\n",
    "> - explore the contents of FCI data files\n",
    "> - display default imagery for the Satpy reader 'fci_l1c_nc' \n",
    "> - display any custom created composites.\n",
    ">\n",
    "> \n",
    "> \n",
    "> \n",
    "> ## Basic facts about FCI <b>\n",
    ">  FCI (Flexible Combined Imager) is the multi-spectral (visible and IR) imaging passive radiometer on board EUMETSAT MTG-I satellite\n",
    ">> **Spatial resolution:** 1 or 2 km at nadir (depending on the spectral channel)<br>\n",
    "**Spatial coverage:** Latitude: -81 to 81 degrees, Longitude: -79 to 79 degrees <br>\n",
    "**Revisit time:** every 10 minutes <br>\n",
    ">     \n",
    ">    ## Data source\n",
    ">\n",
    ">> **To download the data using python, please refer to the notebook in the following link:** <br>\n",
    ">>\n",
    ">> https://gitlab.eumetsat.int/eumetlab/data-services/eumdac_data_store/-/blob/master/5_MTG_data_access.ipynb?ref_type=heads/<br><br>\n",
    ">> The user needs to download the data and make it available in a folder on his local machine. The path to the data needs to be \n",
    ">> indicated in *path_to_data variable*, in section 2 : <br>\n",
    ">>\n",
    ">> E.g.\n",
    ">> path_to_data= `/home/user/mikef/fci/`\n",
    ">    \n",
    "> ## Module Outline \n",
    ">> - 1. Load required libraries\n",
    ">> - 2. Load data\n",
    ">> - 3. Browse the pre-defined composites \n",
    ">> - 4. Select a single channel or an RGB composite to be displayed \n",
    ">> - 5. Set up the area for display\n",
    ">> - 6. Resample to the set AOI and Display Data\n",
    ">> - 7. Save the Image to a png file"
   ]
  },
  {
   "cell_type": "markdown",
   "metadata": {},
   "source": [
    "<hr>"
   ]
  },
  {
   "cell_type": "markdown",
   "metadata": {},
   "source": [
    "## 1. Load required libraries"
   ]
  },
  {
   "cell_type": "code",
   "execution_count": null,
   "metadata": {},
   "outputs": [],
   "source": [
    "# turning off warnings and limiting the number of resources %run ../init_notebook.py\n",
    "%run ./init_notebook.py\n",
    "\n",
    "from satpy.scene import Scene\n",
    "from satpy import find_files_and_readers\n",
    "from pyproj import Proj\n",
    "from pyresample.geometry import AreaDefinition\n",
    "from pyresample import get_area_def\n",
    "import os\n",
    "import matplotlib.pyplot as plt\n",
    "import cartopy.crs as ccrs\n",
    "import cartopy.feature as cfeature\n",
    "import datetime\n",
    "\n",
    "# enable access to custom composites/enhancements \n",
    "os.environ['SATPY_CONFIG_PATH']='../'"
   ]
  },
  {
   "cell_type": "markdown",
   "metadata": {},
   "source": [
    "## 2. Load data \n",
    "    \n",
    "> In the next step we will point to the data location and load desired data using the Scene module from Satpy. Please use the location that you already downloaded your data into, by editing the below path. <br> \n",
    "\n"
   ]
  },
  {
   "cell_type": "code",
   "execution_count": null,
   "metadata": {},
   "outputs": [],
   "source": [
    "path_to_data='../../data/'"
   ]
  },
  {
   "cell_type": "markdown",
   "metadata": {},
   "source": [
    "The Python package [satpy](https://satpy.readthedocs.io/en/stable/) supports reading and loading data from many input files. For `MTG FCI data in netcdf format` you can use the reader `fci_l1c_nc`. \n"
   ]
  },
  {
   "cell_type": "code",
   "execution_count": null,
   "metadata": {},
   "outputs": [],
   "source": [
    "files = find_files_and_readers(base_dir=path_to_data, reader='fci_l1c_nc')"
   ]
  },
  {
   "cell_type": "markdown",
   "metadata": {},
   "source": [
    "You can now use the `Scene` constructor from the [satpy](https://satpy.readthedocs.io/en/stable/index.html) library to load the data files. Once loaded, a `Scene` object represents a single geographic region of data."
   ]
  },
  {
   "cell_type": "code",
   "execution_count": null,
   "metadata": {},
   "outputs": [],
   "source": [
    "scn = Scene(filenames=files)"
   ]
  },
  {
   "cell_type": "markdown",
   "metadata": {},
   "source": [
    "## 3. Browse the pre-defined composites <b> \n",
    "> All the available pre-defined composites and single-channel image visualizations are presented next. <br>\n",
    ">    \n",
    "> Note that this takes into consideration both the default imagery for the Satpy reader 'fci_l1c_nc' and any custom created composites. To know how to create a custom composite please refer to [3.1 Add a composite](#add_composite)\n",
    "    \n",
    "    "
   ]
  },
  {
   "cell_type": "code",
   "execution_count": null,
   "metadata": {
    "scrolled": true
   },
   "outputs": [],
   "source": [
    "scn.available_composite_names()"
   ]
  },
  {
   "cell_type": "markdown",
   "metadata": {},
   "source": [
    "### <a id='add_composite'></a>3.1 Add a composite\n",
    "\n",
    "> To fine tune composite or single channel images, the following files need to be edited:\n",
    "> * ./enhancements/fci.yaml\n",
    "> * ./composites/fci.yaml\n",
    "<br>\n",
    "> \n",
    "There we can define a colormap from available ones that can be found in: https://github.com/pytroll/trollimage/blob/main/trollimage/colormap.py . Some of the popular ones are: 'grays', 'blues', and so forth. \n"
   ]
  },
  {
   "cell_type": "markdown",
   "metadata": {},
   "source": [
    "## 4. Select a single channel or an RGB composite to be displayed"
   ]
  },
  {
   "cell_type": "markdown",
   "metadata": {},
   "source": [
    "<div class=\"alert alert-block alert-info\">\n",
    "<b> What can you change?</b> <br> <br>    \n",
    "Here you will be able to select the channel/RGB composite you want to display.<br> \n",
    "Enter the <b>ch</b> in the cell bellow:"
   ]
  },
  {
   "cell_type": "code",
   "execution_count": null,
   "metadata": {},
   "outputs": [],
   "source": [
    "ch='IR_105'\n",
    "\n",
    "scn.load([ch], upper_right_corner='NE')"
   ]
  },
  {
   "cell_type": "code",
   "execution_count": null,
   "metadata": {},
   "outputs": [],
   "source": [
    "scn[ch].attrs['area']"
   ]
  },
  {
   "cell_type": "markdown",
   "metadata": {},
   "source": [
    "You can print the metadata of the loaded image:"
   ]
  },
  {
   "cell_type": "code",
   "execution_count": null,
   "metadata": {},
   "outputs": [],
   "source": [
    "print(scn)"
   ]
  },
  {
   "cell_type": "code",
   "execution_count": null,
   "metadata": {},
   "outputs": [],
   "source": [
    "scn.show(ch,{'coast_dir': '../static-files/gshhg-shp-2.3.7', 'color': (255, 255, 255), 'resolution': 'l', 'width': 4.5})"
   ]
  },
  {
   "cell_type": "markdown",
   "metadata": {},
   "source": [
    "## 5. Set up the area for display. <b>\n",
    "\n",
    "    \n",
    " <div class=\"alert alert-block alert-info\">\n",
    "<b> What can you change?</b> <br> <br>    \n",
    "Here you will be able to set up the <b>subset area</b> for display. For this you need to edit the variables in the cell below.<br> \n",
    "\n",
    "\n",
    ">- **`'area_name='`** is the name you want to give to your Area Of Interest (AOI)<br><br>\n",
    ">    \n",
    ">- **`'proj='`** is the projection to be used to display the data. There are many projections that can be used to display the data, but most popular ones are: <br> <br>\n",
    ">    \n",
    ">    - *`'laea'`*, or Lambert Azimuthal Equal-Area projection ; <br>\n",
    ">    - *`'geos'`*, or Full Disk native-view projection;<br>\n",
    ">    - *`'merc'`*, or Mercator projection.<br><br> \n",
    "> - The variables `'min_latitude'`, `'max_latitude'`, `'min_longitude'`, and `'max_longitude'` need to be set to define your AOI to be displayed: <br>\n",
    ">- **`'min_latitude='`**\n",
    ">- **`'max_latitude='`**\n",
    ">- **`'min_longitude='`**\n",
    ">- **`'max_longitude='`**\n",
    ">    \n",
    ">- **`'resolution='`** is the desired horizontal resolution, in Km.\n",
    ">    \n",
    ">Example of usage: <br>\n",
    ">    \n",
    ">- **`area_name=`**'Iberian'  \n",
    ">- **`proj=`**'laea'           \n",
    ">- **`min_latitude=`**-30.\n",
    ">- **`max_latitude=`**30.\n",
    ">- **`min_longitude=`**-10.\n",
    ">- **`max_longitude=`**30.\n",
    ">- **`resolution=`**1.0 # km\n"
   ]
  },
  {
   "cell_type": "code",
   "execution_count": null,
   "metadata": {},
   "outputs": [],
   "source": [
    "area_name='Test'  \n",
    "#proj='laea'           \n",
    "proj='merc'\n",
    "#min_latitude=40.\n",
    "#max_latitude=50.\n",
    "#min_longitude=0.0\n",
    "#max_longitude=20.0\n",
    "#resolution=3.0 # km\n",
    "\n",
    "min_latitude=35.\n",
    "max_latitude=55.\n",
    "min_longitude=-20.0\n",
    "max_longitude=40.0\n",
    "resolution=1.0 # km"
   ]
  },
  {
   "cell_type": "code",
   "execution_count": null,
   "metadata": {},
   "outputs": [],
   "source": [
    "min_lat=float(min_latitude)\n",
    "max_lat=float(max_latitude)\n",
    "min_lon=float(min_longitude)\n",
    "max_lon=float(max_longitude)\n",
    "res=float(resolution) "
   ]
  },
  {
   "cell_type": "code",
   "execution_count": null,
   "metadata": {},
   "outputs": [],
   "source": [
    "%run coord2area_def.py {area_name} {proj} {min_lat} {max_lat} {min_lon} {max_lon} {resolution}"
   ]
  },
  {
   "cell_type": "markdown",
   "metadata": {},
   "source": [
    "## 6. Resample to the set AOI and Display Data\n",
    "In the next cell we will: <br>\n",
    "* generate the necessary parameters by using the function *coord2area_def.py* <br>\n",
    "* resample to desired area <br>\n",
    "* display the desired image."
   ]
  },
  {
   "cell_type": "code",
   "execution_count": null,
   "metadata": {
    "scrolled": true
   },
   "outputs": [],
   "source": [
    "projection= '+proj=%s +lat_0=%s +lon_0=%s +ellps=%s'%(proj, lat_0, lon_0, 'WGS84')\n",
    "AOI = get_area_def(name,'', proj, projection,xsize, ysize, area_extent)\n",
    "#AOI='eurol'\n",
    "scn_resample=scn.resample(AOI)"
   ]
  },
  {
   "cell_type": "code",
   "execution_count": null,
   "metadata": {},
   "outputs": [],
   "source": [
    "scn1=scn_resample\n",
    "\n",
    "imagePath=str('tiffs/'+area_name+ch+'.tif')\n",
    "scn_resample.save_dataset(ch,imagePath,fill_value=0,\n",
    "                  overlay={'coast_dir':'../static-files/gshhg-shp-2.3.7','color':'','resolution':'l'})\n",
    "\n",
    "img1 = plt.imread(imagePath)\n",
    "\n",
    "crs1=ccrs.PlateCarree()\n",
    "\n",
    "plt.figure(figsize=(12,6))\n",
    "crs1 = scn_resample[ch].attrs[\"area\"].to_cartopy_crs()\n",
    "ax1 = plt.axes(projection=crs1)\n",
    "ax1.gridlines(linestyle='--', draw_labels=True) \n",
    "ax1.coastlines()\n",
    "states_provinces = cfeature.NaturalEarthFeature(\n",
    "    category=\"cultural\",\n",
    "    name=\"admin_0_countries\",\n",
    "    scale=\"50m\",\n",
    "    facecolor=\"none\")\n",
    "ax1.add_feature(states_provinces, edgecolor=\"white\")\n",
    "image_time=datetime.datetime.strftime(scn_resample[ch].attrs['start_time'],\"%Y-%m-%dT%H:%M:%SZ\")\n",
    "#ax1.set_title('%s \\n %s' %(ch,image_time))\n",
    "#ax1.set_title('%s' %(ch))\n",
    "\n",
    "ax1.imshow(img1, transform=crs1, extent=crs1.bounds, origin=\"upper\",cmap='Greys')\n",
    "#plt.text(-300000, -700000, image_time, backgroundcolor='white',fontsize='large')#,fontweight='bold') #bbox=dict(fill=True ),\n",
    "plt.savefig('plots/aoi.jpg',bbox_inches='tight')\n",
    "#plt.close()"
   ]
  },
  {
   "cell_type": "markdown",
   "metadata": {},
   "source": [
    "## 7. Save the Image to a png file\n",
    "By running the cell below the image will be saved as a file. **It will be saved to directory './plots/'.**"
   ]
  },
  {
   "cell_type": "code",
   "execution_count": null,
   "metadata": {},
   "outputs": [],
   "source": [
    "scn_resample.save_dataset(ch, filename='plots/fci_%sRGB_%s.png' % (ch,datetime.datetime.strftime(scn_resample[ch].attrs['start_time'],\"%Y%m%dT%H%M\")),\n",
    "                   overlay={'coast_dir':'../static-files/gshhg-shp-2.3.7','color':'black','resolution':'l', 'width': 4.5})"
   ]
  },
  {
   "cell_type": "code",
   "execution_count": null,
   "metadata": {},
   "outputs": [],
   "source": [
    "scn.save_dataset(ch, filename='plots/fci_%sRGB_%s.png' % (ch,datetime.datetime.strftime(scn_resample[ch].attrs['start_time'],\"%Y%m%dT%H%M\")),\n",
    "                   overlay={'coast_dir':'../static-files/gshhg-shp-2.3.7','color':'black','resolution':'l', 'width': 4.5})"
   ]
  },
  {
   "cell_type": "markdown",
   "metadata": {},
   "source": [
    "\n",
    "<span style=\"float:right;\"><a href=\"https://gitlab.eumetsat.int/eumetlab/weather/weather-labs/weather-labs-1 -\">View on GitLab</a> | <a href=\"https://training.eumetsat.int/\">EUMETSAT Training</a></p>\n"
   ]
  }
 ],
 "metadata": {
  "author": "Carla Barroso (EUMETSAT), Djordje Gencic (Exostaff), Natasa Strelec Mahovic (EUMETSAT), Ivan Smiljanic (Exostaff), Vesa Nietosvaara (EUMETSAT) ",
  "content_type": "Software & code",
  "data_access": "Data Store",
  "deployment": {
   "eumetsat": {
    "binder": {
     "link": "",
     "service_contact": "ops@eumetsat.int",
     "service_provider": "EUMETSAT"
    },
    "git": {
     "link": "https://gitlab.eumetsat.int/eumetlab/weather/weather-labs/weather-labs-1/-/blob/master/Lab10_FCI_data_display/FCI_data_display.ipynb",
     "service_contact": "ops@eumetsat.int",
     "service_provider": "EUMETSAT"
    }
   },
   "wekeo": {
    "colab": {
     "link": "",
     "service_contact": "ops@eumetsat.int",
     "service_provider": "EUMETSAT"
    },
    "jupyter": {
     "link": "",
     "service_contact": "ops@eumetsat.int",
     "service_provider": "EUMETSAT"
    }
   }
  },
  "description": "Within this notebook we will be practicing the handling and visualisation of FCI Imager Level 1c data.",
  "image": "../img/fci_cloud_phaseRGB_20170920T1200.png",
  "kernelspec": {
   "display_name": "MTG",
   "language": "python",
   "name": "mtg"
  },
  "language_info": {
   "codemirror_mode": {
    "name": "ipython",
    "version": 3
   },
   "file_extension": ".py",
   "mimetype": "text/x-python",
   "name": "python",
   "nbconvert_exporter": "python",
   "pygments_lexer": "ipython3",
   "version": "3.9.23"
  },
  "license": "",
  "metadata_schema_version": "2.0.0",
  "originator": "EUMETSAT",
  "tags": {
   "data_provider": "EUMETSAT",
   "orbit": "",
   "satellite": "MTG",
   "sensor": "FCI (MTG)",
   "service": "0 degree",
   "subtheme": [
    "Atmospheric phenomena"
   ],
   "theme": "Weather",
   "variable": [
    "radiance",
    "reflectance"
   ]
  },
  "title": "FCI Data Display",
  "version": "1.0.0",
  "version_date": "01.09.2025"
 },
 "nbformat": 4,
 "nbformat_minor": 4
}
