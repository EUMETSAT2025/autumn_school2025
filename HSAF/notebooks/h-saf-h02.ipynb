{
 "cells": [
  {
   "cell_type": "markdown",
   "id": "7c45ca75-b157-4f6e-ae23-23a3c9f0494b",
   "metadata": {
    "tags": []
   },
   "source": [
    "<div style=\"display: flex; justify-content: space-between; align-items: center;\">\n",
    "    <img src=\"../Assets/EUMETSAT_logo.png\" alt=\"EUMETSAT\" width=\"200\" height=\"100\">\n",
    "    <div style=\"flex-grow: 1;margin-right: 70px;\"></div>\n",
    "    <img src=\"../Assets/emy_logo.png\" alt=\"HNMS\" width=\"150\" height=\"50\">\n",
    "    <div style=\"flex-grow: 1; margin-right: 70px;\"></div>\n",
    "    <img src=\"../Assets/logo-hsaf.png\" alt=\"HSAF\" width=\"300\" height=\"100\">\n",
    "</div>\n",
    "       Training activity of EUMETSAT and Hellenic National Meteorological Service (HNMS) for HSAF products"
   ]
  },
  {
   "cell_type": "markdown",
   "id": "555a7e32-f826-4270-b596-12887f2e5cd7",
   "metadata": {},
   "source": [
    "---\n",
    "#### International Autumn School on Satellite Data Analysis, Athens 03 - 07 November 2025\n",
    "---"
   ]
  },
  {
   "cell_type": "markdown",
   "id": "262d6ac1-2db1-44e2-818a-090679b1df50",
   "metadata": {
    "tags": []
   },
   "source": [
    "# Visualize H-SAF H02B product notebook"
   ]
  },
  {
   "cell_type": "markdown",
   "id": "7afd9209-61ca-496b-968b-7db4d012b591",
   "metadata": {},
   "source": [
    "### Authors: \n",
    "* Ioannis Matsangouras\n",
    "* Alexandros Paraskevas (alexandros.paraskevas@hnms.gr)"
   ]
  },
  {
   "cell_type": "markdown",
   "id": "94655f11-6c19-485a-8ef1-7bc55a4636a5",
   "metadata": {
    "tags": []
   },
   "source": [
    "## **Precipitation HSAF Product: P-IN-MHS (H02B)**"
   ]
  },
  {
   "cell_type": "markdown",
   "id": "746cca9f-8c8c-4ae2-8747-e8372e9fbbef",
   "metadata": {},
   "source": [
    "**P**= Product is for Precipitaion\n",
    "\n",
    "**IN**= Type of precipitation , in this case Instantaneous Precipitation Rate\n",
    "\n",
    "**MHS**= Refers to the radiometer, in this case MHS (Microwave Humidity Sounder)"
   ]
  },
  {
   "cell_type": "markdown",
   "id": "37393c7e-81f0-4a7b-a992-2c0c853ef754",
   "metadata": {},
   "source": [
    "#### Precipitation rate at ground by MW cross-track scanners AMSU/MHS"
   ]
  },
  {
   "cell_type": "markdown",
   "id": "3f60f8ae-8f62-4264-a244-792fabe38003",
   "metadata": {},
   "source": [
    "Instantaneous precipitation maps from PMW acquisitions by cross-track scanners on operational LEO satellites, processed soon after each satellite pass. Retrieval algorithm based on a neural network trained by means of a pre-computed cloud radiation database built from meteorological situations simulated by a cloud resolving model followed by a radiative transfer model</p>\n",
    "**Example of H-02B HSAF product:**\n",
    "<div>\n",
    "    <img src=\"../Assets/h02b_1.png\" alt=\"H02\" width=\"40%\">\n",
    "    <img src=\"../Assets/h02b_2.png\" alt=\"H02_b\" width=\"40%\">\n",
    "</div>"
   ]
  },
  {
   "cell_type": "markdown",
   "id": "93aabf63-9644-43c0-aabb-7f89dfae8090",
   "metadata": {},
   "source": [
    "### Precipitation rate at ground by MW cross-track scanners AMSU/MHS\n",
    "Maps of instantaneous precipitation (mm/hr) generated from MW cross-track scanning radiometers in sun synchronous orbit. Currently processing data from AMSU-A/MHS on board European MetOp and U.S. NOAA satellites\n",
    "\n",
    "**Coverage:**  Strips of ~ 2250 km swath crossing the MSG 0 Degree Full Disk area [60°S-75°N lat, 60° W-60° E long]\n",
    "\n",
    "**Cycle:** Up to 8 passes/day (if two Met-Op and two NOAA satellites are available) at approximately 09:30, 01:30, 03:00 ECT (descending mode) and 21:30, 13:30, 15:00 ECT (ascending mode)\n",
    "\n",
    "**Spatial Resolution:** Corresponds to the nominal resolution of MHS, varying with the viewing scan angle from 16 x 16 km2 / circular at nadir to 26 x 52 km2 / elliptical at scan edge.\n",
    "\n",
    "**Accuracy:** \n",
    "|  Precipitation range | Threshold | Target | Optimal |\n",
    "|----------------------|-----------|--------|---------|\n",
    "| >> 10 mm/h           | 90        | 80     | 25      |\n",
    "|   1-10 mm/h          | 120       | 105    | 50      |\n",
    "|  < 1 mm/h            | 240       | 145    | 90      |\n",
    "\n",
    "Accuracy requirements for product P-IN-MHS (RMSE (%), Root Mean Square Error.)\n",
    "\n",
    "**Timeliness:** 30 min from observing time\n",
    "\n",
    "**Dissemination:** By dedicated lines to centres connected by GTS - By EUMETCast to most other users, especially scientific\n",
    "\n",
    "**Formats:** BUFR with values on grid points corresponding to the MHS orbital projection. Also JPEG or similar for quick-look\n",
    "\n",
    "- **Precipitation Range**: This column specifies different categories of precipitation based on their rates. There are three categories:\n",
    "   - \">> 10 mm/h\" represents precipitation rates greater than 10 millimeters per hour.\n",
    "   - \"1-10 mm/h\" represents precipitation rates between 1 and 10 millimeters per hour.\n",
    "   - \"< 1 mm/h\" represents precipitation rates less than 1 millimeter per hour.\n",
    "\n",
    "- **Threshold RMSE (%)**: This column specifies the threshold level of accuracy, represented as the Threshold Root Mean Square Error (RMSE) percentage, for the product \"P-IN-MHS\" under each precipitation range. For instance, for precipitation rates greater than 10 mm/h, the threshold RMSE is 90%.\n",
    "\n",
    "- **Target RMSE (%)**: This column specifies the desired level of accuracy, represented as the Target Root Mean Square Error (RMSE) percentage, for the product \"P-IN-MHS\" under each precipitation range. For instance, for precipitation rates greater than 10 mm/h, the target RMSE should be 80%.\n",
    "\n",
    "- **Optimal RMSE (%)**: This column represents the ideal or optimal level of accuracy, represented as the Optimal RMSE percentage, for the product \"P-IN-MHS\" under each precipitation range. In the table, for precipitation rates greater than 10 mm/h, the optimal RMSE should be 25%. Achieving an RMSE equal to or lower than this value would be considered highly desirable.\n",
    "\n",
    "**Examples:**\n",
    "\n",
    "- For precipitation rates greater than 10 mm/h, if the product \"P-IN-MHS\" achieves an RMSE of 70%, it would meet the Target RMSE requirement but not the Optimal RMSE, which is 25%.\n",
    "\n",
    "- In the 1-10 mm/h precipitation range, the product should aim for an RMSE of 105% to meet the Target requirement, but achieving an RMSE of 50% would be ideal.\n",
    "\n",
    "- When dealing with precipitation rates of less than 1 mm/h, the product should strive for an RMSE of 90% to meet the Optimal requirement."
   ]
  },
  {
   "cell_type": "markdown",
   "id": "a4508b11-eb7f-421a-a95c-ff8a0cc60bfc",
   "metadata": {},
   "source": [
    "More iformation is available to : \n",
    "* <a href=\"https://hsaf.meteoam.it/Products/Detail?prod=H02B\" target=\"_blank\">HSAF Product H-02B </a>\n",
    "* <a href=\"https://hsaf.meteoam.it/CaseStudy/GetDocumentUserDocument?fileName=saf_hsaf_pum-02b_1_1.pdf&amp;tipo=PUM\" target=\"_blank\">Product User Manual (PUM) </a>\n",
    "* <a href=\"https://hsaf.meteoam.it/CaseStudy/GetDocumentUserDocument?fileName=saf_hsaf_pvr-02b_1_2.pdf&amp;tipo=PVR\" target=\"_blank\">Product Validation Report (PVR) </a>\n",
    "* <a href=\"https://hsaf.meteoam.it/CaseStudy/GetDocumentUserDocument?fileName=saf_hsaf_atbd-02b_1_2.pdf&amp;tipo=ATBD\" target=\"_blank\">Algorithm Theoretical Baseline Document (ATBD) </a>"
   ]
  },
  {
   "cell_type": "markdown",
   "id": "a9170e86-06b2-4dd8-b034-7571cba94eeb",
   "metadata": {},
   "source": [
    "## Data Availability"
   ]
  },
  {
   "cell_type": "markdown",
   "id": "cb3fc09c-36d3-42be-af5a-9b5ca940b9a5",
   "metadata": {},
   "source": [
    "H-01 data are available from ***EUMETCast*** and ***HSAF*** portal site:\n",
    "* **EUMETCast Satellite:** \n",
    "Data is received under the Channel: *E1B-SAF-5*.\n",
    "\n",
    "Their filename is: *S-HSAF-h02B_20190427_200120_NOAA19_52659_fdk.nc.gz*\n",
    "\n",
    "* **EUMETCast Terrestrial:** \n",
    "Data is received under the Channel: *T01-SAF*.\n",
    "\n",
    "Their filename is: *S-HSAF-h02B_20190427_200120_NOAA19_52659_fdk.nc.gz*\n",
    "\n",
    "\n",
    "* **HSAF -site:**\n",
    "Data is stored in raw and jpeg format\n",
    "\n",
    "Their filename is: *h02B_20190419_233723_METOPA_64859_fdk.nc.gz*\n",
    "<div>\n",
    "    <img src=\"../Assets/HSAF_database.png\" alt=\"Image\" width=\"90%\">\n",
    "\n",
    "    \n",
    "**Important:** Please note that there is a difference in filenames between EUMECast and the HSAF portal. It is important to keep this distinction in mind when writing code or working with data from these sources."
   ]
  },
  {
   "cell_type": "markdown",
   "id": "2adc804a-b830-4e32-94b1-a5ff568b2357",
   "metadata": {},
   "source": [
    "Further information pertaining to the H-02B product, as well as comprehensive reception details, can be accessed through the following source <a href=\"https://navigator.eumetsat.int/product/EO:EUM:DAT:0036?query=h02b&&s=advanced\" target=\"_blank\">EUMETSAT Product Navigator </a>.\n",
    "<div>\n",
    "    <img src=\"../Assets/H02B_product_navigator.png\" alt=\"Image\" width=\"90%\">"
   ]
  },
  {
   "cell_type": "markdown",
   "id": "8dd4542f-07eb-4994-a151-c52e305d113e",
   "metadata": {},
   "source": [
    "## This module has the following outline\n",
    "* [1 - Load required libraries](#1---Load-required-libraries)\n",
    "* [2 - Load data](#2---Load-Data)\n",
    "* [3 - Define Constants/Variables](#3---Define-Constants/Variables)\n",
    "* [4 - Generate a plot of H-02B data](#4---Generate-a-plot-of-H-02-data)\n",
    "* [5 - Get the Rain Rate for the requested lat and lon](#5---Get-the-Rain-Rate-for-the-requested-lat-and-lon)"
   ]
  },
  {
   "cell_type": "markdown",
   "id": "d8e8677f-a7f0-4fc6-b66f-447fb2eecd12",
   "metadata": {},
   "source": [
    "<h2 id=\"load_libraries\">1 - Load required libraries</h2>"
   ]
  },
  {
   "cell_type": "markdown",
   "id": "3acd4986-151f-4b0c-a718-39415ef0bc2f",
   "metadata": {},
   "source": [
    "The following libraries are necessary"
   ]
  },
  {
   "cell_type": "code",
   "execution_count": null,
   "id": "47d331fa-5ff8-4b10-8459-1c65a6ce49d5",
   "metadata": {},
   "outputs": [],
   "source": [
    "#!pip3 install cartopy\n",
    "import gzip\n",
    "import shutil\n",
    "import os\n",
    "\n",
    "import numpy as np\n",
    "import xarray as xr\n",
    "\n",
    "import matplotlib\n",
    "import matplotlib.pyplot as plt\n",
    "from matplotlib.pyplot import get_cmap\n",
    "from matplotlib.colors import ListedColormap\n",
    "from cartopy import crs as ccrs\n",
    "import cartopy.feature as cfeature\n",
    "\n",
    "import datetime"
   ]
  },
  {
   "cell_type": "markdown",
   "id": "8523d1c4-6a18-459d-a09a-da920a514e09",
   "metadata": {},
   "source": [
    "1. **gzip**:\n",
    "   - The `gzip` module is a Python module for working with GZIP (GNU Zip) compressed files. It provides functions for compression and decompression of files using the GZIP format.\n",
    "\n",
    "2. **shutil**:\n",
    "   - The `shutil` module is a Python module that provides a higher-level interface for file operations and manipulation. It includes functions for copying, moving, and deleting files and directories.\n",
    "\n",
    "3. **os**:\n",
    "   - The `os` module is a part of the Python standard library and provides functions for interacting with the operating system. It allows you to perform various file and directory operations, manipulate file paths, and more.\n",
    "\n",
    "4. **numpy**:\n",
    "   - `numpy` is a fundamental library for scientific computing in Python. It provides support for multidimensional arrays, mathematical functions, and tools for working with arrays, making it a crucial library for data manipulation and numerical computations.\n",
    "\n",
    "5. **xarray**:\n",
    "   - `xarray` is a Python library designed for working with labeled multi-dimensional arrays. It is particularly useful for handling and analyzing multidimensional data, such as climate data or time series data.\n",
    "\n",
    "6. **matplotlib**:\n",
    "    - `matplotlib` is a popular Python library for creating static, animated, and interactive visualizations. It provides a wide range of functions and tools for creating various types of plots and charts.\n",
    "\n",
    "7. **cartopy.crs**:\n",
    "    - `cartopy` is a library for cartographic projections and geospatial data visualization. The `crs` module within Cartopy provides support for defining and working with different coordinate reference systems.\n",
    "\n",
    "8. **cartopy.feature**:\n",
    "    - `cartopy.feature` provides a collection of pre-defined geospatial features, such as coastlines, rivers, and political boundaries, that can be used in Cartopy maps to enhance the visualization of geospatial data.\n",
    " \n",
    "9. **datetime**:\n",
    "    - `datetime` supplies classes to work with date and time. These classes provide a number of functions to deal with dates, times, and time intervals."
   ]
  },
  {
   "cell_type": "markdown",
   "id": "7cc67543-6647-448b-94ad-d85c0e4e2c43",
   "metadata": {},
   "source": [
    "## <a id='load_data'></a>2 - Load Data"
   ]
  },
  {
   "cell_type": "code",
   "execution_count": null,
   "id": "ca31e01b-4ec0-4e00-ac9b-f9a8a3a26813",
   "metadata": {},
   "outputs": [],
   "source": [
    "# Define the Zipped and Unzipped H02 filename\n",
    "zippedFileName = 'h02B_20230905_072822_METOPC_25051_fdk.nc.gz'\n",
    "\n",
    "unZippedFileName = zippedFileName.rsplit('.', 1)[0]\n",
    "\n",
    "# Extract Satellite Name from the Filename\n",
    "satelliteName = unZippedFileName.split('_')[3]\n",
    "\n",
    "# Unzip the H02 file and retrieve the data to an xarray dataset\n",
    "# Open the compressed file for reading ('rb' mode)\n",
    "with gzip.open('../data/h02'+'/'+zippedFileName, 'rb') as f_in:\n",
    "    # Create an uncompressed file for writing ('wb' mode)\n",
    "    with open('../temp/h02'+'/'+unZippedFileName, 'wb') as f_out:\n",
    "        # Copy the contents of the compressed file to the uncompressed file\n",
    "        shutil.copyfileobj(f_in, f_out)\n",
    "# Open and read the data from the uncompressed file using xarray\n",
    "h02DataSet = xr.open_dataset('../temp/h02'+'/'+unZippedFileName)"
   ]
  },
  {
   "cell_type": "markdown",
   "id": "22590dac-7ed6-49b1-a346-48bdbd311b25",
   "metadata": {},
   "source": [
    "#### Explore the data of H-01 product"
   ]
  },
  {
   "cell_type": "code",
   "execution_count": null,
   "id": "146b1312-3460-4a1b-9ced-8caeb805db90",
   "metadata": {},
   "outputs": [],
   "source": [
    "h02DataSet"
   ]
  },
  {
   "cell_type": "code",
   "execution_count": null,
   "id": "3b7cae7d-6a7c-46d6-818a-eb75048e865f",
   "metadata": {},
   "outputs": [],
   "source": [
    "# Check dimensions and their sizes\n",
    "print(\"Dimensions:\", h02DataSet.dims)"
   ]
  },
  {
   "cell_type": "code",
   "execution_count": null,
   "id": "d2b86e1d-917d-48be-a31c-b3466d6f8d2f",
   "metadata": {},
   "outputs": [],
   "source": [
    "# List variables in the dataset\n",
    "print(\"Variables:\", h02DataSet.variables)"
   ]
  },
  {
   "cell_type": "code",
   "execution_count": null,
   "id": "b02642b6-f88f-40b9-aefa-a5111492b985",
   "metadata": {},
   "outputs": [],
   "source": [
    "# Explore data values of 'rr' (Rainfall Rate)\n",
    "rr_data = h02DataSet['rr'].values\n",
    "print(\"Shape of 'rr' data:\", rr_data.shape)\n",
    "print(\"Mean rr:\", np.mean(rr_data))\n",
    "print(\"Minimum rr:\", np.min(rr_data))\n",
    "print(\"Maximum rr:\", np.max(rr_data))"
   ]
  },
  {
   "cell_type": "markdown",
   "id": "cf770d3e-05c9-4ba8-b903-c3a35ac12ffa",
   "metadata": {},
   "source": [
    "## <a id='define_const-vars'></a>3 - Define Constants/Variables"
   ]
  },
  {
   "cell_type": "code",
   "execution_count": null,
   "id": "b957afab-9a9f-4187-ae0e-db73ad9ed8e5",
   "metadata": {},
   "outputs": [],
   "source": [
    "#Extract the 'day', 'year', and 'time' variables\n",
    "year = h02DataSet.variables['year'][0].item()\n",
    "dayValue = h02DataSet.variables['day'][0].item()\n",
    "millisecondsValue = h02DataSet.variables['time'][0].item()"
   ]
  },
  {
   "cell_type": "code",
   "execution_count": null,
   "id": "75067c0c-a4d0-4277-b2ac-60b4f1240fef",
   "metadata": {},
   "outputs": [],
   "source": [
    "print(year)\n",
    "print(dayValue)\n",
    "print(millisecondsValue)"
   ]
  },
  {
   "cell_type": "code",
   "execution_count": null,
   "id": "31ebf0e7-2a95-4b8d-9632-d362bd95845a",
   "metadata": {},
   "outputs": [],
   "source": [
    "# Convert Julian day to Gregorian date (month and day) and create the date str\n",
    "jan1 = datetime.datetime(year, 1, 1)\n",
    "gregorianDate = jan1 + datetime.timedelta(days=dayValue - 1)\n",
    "month = gregorianDate.strftime(\"%m\")\n",
    "day = gregorianDate.strftime(\"%d\")\n",
    "date = f\"{year:04d}-{month}-{day}\"\n",
    "\n",
    "# Convert milliseconds to hours and minutes and create the time str\n",
    "hours = millisecondsValue // (60 * 60 * 1000)\n",
    "minutes = (millisecondsValue % (60 * 60 * 1000)) // (60 * 1000)\n",
    "time = f\"{hours:02d}:{minutes:02d} UTC\""
   ]
  },
  {
   "cell_type": "code",
   "execution_count": null,
   "id": "0567a440-3116-4587-83f9-6c24693182d0",
   "metadata": {},
   "outputs": [],
   "source": [
    "print(date, time)"
   ]
  },
  {
   "cell_type": "code",
   "execution_count": null,
   "id": "05b2d69f-a4dc-44ce-a6f9-7fefa906caa0",
   "metadata": {},
   "outputs": [],
   "source": [
    "# Min threshold for rain rate [mm/hr] to filter out noise\n",
    "RR_MIN = 0.25 #page 28 of Doc.No: SAF/HSAF/PVR-01/1.1\n",
    "\n",
    "# Define the area extent for the plot\n",
    "EXTENT = [-10, 30, 30, 50]\n",
    "\n",
    "# Define the min and max level for the plot\n",
    "VMIN = 0\n",
    "VMAX = 30\n",
    "\n",
    "# Define Fill Value (a commonly used value to indicate missing or undefined data)\n",
    "fillValue = -9.99\n",
    "\n",
    "# Define the resolution for the cartopy features (10m resolution for coastline and other map features)\n",
    "RESOLUTION = '10m'\n",
    "\n",
    "# Define the colormap (jet colormap with custom modifications)\n",
    "jet = matplotlib.colormaps['jet']   # Get the 'jet' colormap\n",
    "\n",
    "# Create a linear gradient of colors from 'jet'\n",
    "newColors = jet(np.linspace(0, 1, 256))\n",
    "\n",
    "# Define a semi-transparent white color\n",
    "white = np.array([256/256, 256/256, 256/256, 0.5])\n",
    "\n",
    "# Replace the first threshold colors with the semi-transparent white\n",
    "newColors[:1, :] = white\n",
    "\n",
    "# Create a new colormap with the modified colors\n",
    "CMAP = ListedColormap(newColors)"
   ]
  },
  {
   "cell_type": "code",
   "execution_count": null,
   "id": "3c5c08af-ff00-4207-ac7a-e4f132662c9b",
   "metadata": {},
   "outputs": [],
   "source": [
    "# Filter out values<RR_MIN (produces nan values)\n",
    "h02DataSet = h02DataSet.where(h02DataSet.rr > RR_MIN)\n",
    "\n",
    "# Extract the 'rr' variable (rain rate) from the h02DataSet\n",
    "rr = h02DataSet['rr']\n",
    "rr = rr.fillna(0) #transform nan values to zero\n",
    "\n",
    "# Extract the 'lon' variable (longitude) from the h02DataSet\n",
    "lon = h02DataSet['lon']\n",
    "\n",
    "# Extract the 'lat' variable (latitude) from the h02DataSet\n",
    "lat = h02DataSet['lat']"
   ]
  },
  {
   "cell_type": "markdown",
   "id": "b1427ed1-26e5-441f-b408-aea2629ae90e",
   "metadata": {},
   "source": [
    "## <a id='gen_save_fig'></a>4 - Generate a plot of H-02 data"
   ]
  },
  {
   "cell_type": "markdown",
   "id": "58c84702-1d7b-4768-8b7b-3e7d6528070f",
   "metadata": {},
   "source": [
    "* Figure initialization\n",
    "* Set the extent area and projection\n",
    "* Add features\n",
    "* Define the bounds of the data\n",
    "* Plot the pcolormesh and colorbar\n",
    "* Save the figure in /out folder"
   ]
  },
  {
   "cell_type": "markdown",
   "id": "a2b464ef-6b53-4be0-b1c3-3f69ebcff95d",
   "metadata": {},
   "source": [
    "### Full Coverage"
   ]
  },
  {
   "cell_type": "code",
   "execution_count": null,
   "id": "b5aa8300-b0ba-4792-902b-e2edf70a2cea",
   "metadata": {},
   "outputs": [],
   "source": [
    "# Initialize the figure\n",
    "plt.figure(figsize=(12,12)) # Create a figure with a specified size\n",
    "PROJ = ccrs.Geostationary() # Define the projection (Geostationary projection)\n",
    "ax = plt.axes(projection=PROJ) # Set the axes\n",
    "ax.coastlines(resolution='110m') # Add coastline\n",
    "ax.set_global() # Set global view\n",
    "ax.set_facecolor('0.95') # Set the facecolor to make swath distinguishable\n",
    "# Create a pcolormesh plot with specified properties\n",
    "mapRR = ax.pcolormesh(lon, lat, rr,\n",
    "                       transform = ccrs.PlateCarree(), vmin=VMIN, vmax=VMAX, cmap=CMAP, zorder=30)\n",
    "# Define color scale bounds\n",
    "bounds = np.arange(0,VMAX+1,1)\n",
    "cbar = plt.colorbar(mapRR, ax=ax, shrink=0.8, pad=.01,  ticks = bounds, extend = 'max')"
   ]
  },
  {
   "cell_type": "markdown",
   "id": "2e0d7ee8-41c2-4b3c-90a3-3f5a2920255a",
   "metadata": {},
   "source": [
    "### Area of Interest"
   ]
  },
  {
   "cell_type": "code",
   "execution_count": null,
   "id": "874a35e4-2e1a-4b32-b147-a5519d1a3432",
   "metadata": {},
   "outputs": [],
   "source": [
    "# Initialize the figure\n",
    "fig = plt.figure(figsize=(12,6))  # Create a figure with a specified size\n",
    "\n",
    "# Define the projection (Plate Carrée projection)\n",
    "PROJ = ccrs.PlateCarree()\n",
    "\n",
    "ax = fig.add_subplot(1,1,1,projection=PROJ)  # Add a subplot with a specified projection\n",
    "\n",
    "# Set the extent area and projection of the plot\n",
    "ax.set_extent(EXTENT, PROJ)\n",
    "\n",
    "# Add ocean, land, coastlines, title, and gridlines features\n",
    "\n",
    "# Create a NaturalEarthFeature for the ocean with specified properties\n",
    "feature = cfeature.NaturalEarthFeature(category='physical', name='ocean', scale=RESOLUTION,\n",
    "                                edgecolor='none',\n",
    "                                facecolor=cfeature.COLORS['water'],zorder=0)\n",
    "ax.add_feature(feature)  # Add the ocean feature to the plot\n",
    "\n",
    "# Create a NaturalEarthFeature for the land with specified properties\n",
    "feature = cfeature.NaturalEarthFeature(category='physical', name='land', scale=RESOLUTION,\n",
    "                                edgecolor='none',\n",
    "                                facecolor=cfeature.COLORS['land'],zorder=1)\n",
    "ax.add_feature(feature)  # Add the land feature to the plot\n",
    "\n",
    "ax.coastlines(resolution=RESOLUTION,zorder=100)  # Add coastlines to the plot\n",
    "\n",
    "# Add a title to the plot\n",
    "ax.set_title(f\"Copyright EUMETSAT-HSAF H02-{satelliteName}: Rainfall Rate (mm/hr)\\n \\\n",
    "Date: {date} - {time}\", size = 15)  # Set the plot title\n",
    "\n",
    "# Create gridlines with specified properties\n",
    "gl = ax.gridlines(draw_labels=True, xlocs=np.arange(EXTENT[0],EXTENT[1],5),\n",
    "                    ylocs=np.arange(EXTENT[2],EXTENT[3],5), zorder=10)\n",
    "gl.top_labels = False\n",
    "gl.right_labels = False\n",
    "\n",
    "# Plot the pcolormesh\n",
    "\n",
    "# Define color scale bounds\n",
    "bounds = np.arange(0,VMAX+1,5)\n",
    "\n",
    "# Create a pcolormesh plot with specified properties\n",
    "mapRR = ax.pcolormesh(lon, lat, rr,\n",
    "                      transform=PROJ, vmin=VMIN, vmax=VMAX, cmap=CMAP, zorder=30)\n",
    "\n",
    "# Add the colorbar\n",
    "label = 'Rain Fall Rate [mm.hr$^{-1}$]'\n",
    "cbar = plt.colorbar(mapRR, ax=ax, shrink=.8, pad=.01, label = label, ticks = bounds, extend = 'max')\n",
    "\n",
    "fig.tight_layout()  # Adjust the layout of the figure for better appearance\n",
    "\n",
    "# Save and Show the fig\n",
    "figPath = os.path.join('../out/h02/',unZippedFileName.rsplit('.')[0]+'.png')\n",
    "plt.savefig(figPath, format=\"png\", bbox_inches='tight', dpi=150)"
   ]
  },
  {
   "cell_type": "markdown",
   "id": "697f9eea-053c-4abc-85a9-79f770233155",
   "metadata": {},
   "source": [
    "## <a id='get_rr'></a>5 - Get the Rain Rate for the requested lat and lon"
   ]
  },
  {
   "cell_type": "markdown",
   "id": "e55af0ae-b8a6-417f-be0c-88820c295be3",
   "metadata": {},
   "source": [
    "* Insert the lon and lat\n",
    "* Find the distance of the requested coords from each [lat,lon] of dataset\n",
    "* Find the indices of min distance\n",
    "* Check if distance is lower than the tolerance max distance to avoid accuracy faults\n",
    "* Print the value and save it, along with metadata, to H02.txt in /out folder"
   ]
  },
  {
   "cell_type": "code",
   "execution_count": null,
   "id": "807595c5-e0b0-4be6-a40d-1e9ce1cb7096",
   "metadata": {},
   "outputs": [],
   "source": [
    "# Define the longitude and latitude to get the respective Rain Fall Rate\n",
    "targetLon = 22.72\n",
    "targetLat = 39.14\n",
    "maxDistance = 0.12 #about 15km (restrict the distance to a neighbor point)\n",
    "\n",
    "# Find the absolute distance of the target coordinates from the H02 Dataset coordinates\n",
    "latDiff = np.abs(lat - targetLat)\n",
    "lonDiff = np.abs(lon - targetLon)\n",
    "\n",
    "# Keep the indexes of the min distance\n",
    "latIndex, lonIndex = np.unravel_index((latDiff + lonDiff).argmin(), latDiff.shape)\n",
    "\n",
    "# Check if the returned distance is in the tolerance max distance \n",
    "latDistance = abs(lat[latIndex][lonIndex].item() - targetLat)\n",
    "lonDistance = abs(lon[latIndex][lonIndex].item() - targetLon)\n",
    "closeEnough = latDistance < maxDistance and lonDistance < maxDistance\n",
    "\n",
    "# Print the nearest rainfall rate value to the requested coordinates\n",
    "nearestRainFallRateValue = rr[latIndex,lonIndex].item() if closeEnough else fillValue\n",
    "print(\"Nearest Neighbor Rain Fall Rate value (mm/h) is: {}\" .format(nearestRainFallRateValue))\n",
    "\n",
    "# Save the rainfall rate value to the requested coordinates\n",
    "with open(os.path.join('../out/h02','H02.txt'), 'a') as f:\n",
    "    f.write(f\"{date} {time} {satelliteName} lon: {lon[latIndex,lonIndex].item()} \\\n",
    "lat: {lat[latIndex,lonIndex].item()} rr: {nearestRainFallRateValue}\\n\")"
   ]
  }
 ],
 "metadata": {
  "kernelspec": {
   "display_name": "Python 3 (ipykernel)",
   "language": "python",
   "name": "python3"
  },
  "language_info": {
   "codemirror_mode": {
    "name": "ipython",
    "version": 3
   },
   "file_extension": ".py",
   "mimetype": "text/x-python",
   "name": "python",
   "nbconvert_exporter": "python",
   "pygments_lexer": "ipython3",
   "version": "3.11.11"
  }
 },
 "nbformat": 4,
 "nbformat_minor": 5
}
