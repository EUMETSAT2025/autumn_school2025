{
 "cells": [
  {
   "cell_type": "markdown",
   "metadata": {},
   "source": [
    "<div style=\"display: flex; justify-content: space-between; align-items: center;\">\n",
    "    <img src=\"../Assets/EUMETSAT_logo.png\" alt=\"EUMETSAT\" width=\"200\" height=\"100\">\n",
    "    <div style=\"flex-grow: 1;margin-right: 70px;\"></div>\n",
    "    <img src=\"../Assets/emy_logo.png\" alt=\"HNMS\" width=\"150\" height=\"50\">\n",
    "    <div style=\"flex-grow: 1; margin-right: 70px;\"></div>\n",
    "    <img src=\"../Assets/logo-hsaf.png\" alt=\"HSAF\" width=\"300\" height=\"100\">\n",
    "</div>\n",
    "       Training activity of EUMETSAT and Hellenic National Meteorological Service (HNMS) for HSAF products"
   ]
  },
  {
   "cell_type": "markdown",
   "metadata": {},
   "source": [
    "---\n",
    "#### International Autumn School on Satellite Data Analysis, Athens 03 - 07 November 2025\n",
    "---"
   ]
  },
  {
   "cell_type": "markdown",
   "metadata": {},
   "source": [
    "# Visualize H-SAF H60B product notebook"
   ]
  },
  {
   "cell_type": "markdown",
   "metadata": {},
   "source": [
    "### Authors: \n",
    "* Ioannis Matsangouras \n",
    "* Alexandros Paraskevas (alexandros.paraskevas@hnms.gr)"
   ]
  },
  {
   "cell_type": "markdown",
   "metadata": {},
   "source": [
    "### Acknowledgements: \n",
    "* <a href=\"https://gitlab.com/bpicard_fluctus/h60_howto\" target=\"_blank\">Bruno Picard </a>\n",
    "* <a href=\"https://holmdk.github.io/2020/01/19/geostationary_satellite_img.html\" target=\"_blank\">Andreas Holm Nielsen </a>\n",
    "* <a href=\"https://github.com/pytroll/pyresample/blob/main/docs/areas.cfg\" target=\"_blank\">Define AREA_EXTENT of full disk (met09globeFull)</a>"
   ]
  },
  {
   "cell_type": "markdown",
   "metadata": {
    "tags": []
   },
   "source": [
    "## **Precipitation HSAF Product: P-IN-SEVIRI-PMW (H60B)**"
   ]
  },
  {
   "cell_type": "markdown",
   "metadata": {},
   "source": [
    "**P**= Product is for Precipittaion\n",
    "\n",
    "**IN**= Type of precipitation , in this case Instantaneous Precipitation Rate\n",
    "\n",
    "**SEVIRI**= Refers to the radiometer, in this case SEVIRI (Spinning Enhanced Visible and InfraRed Imager)\n",
    "\n",
    "**PMW**= Passive Microwave Measurements"
   ]
  },
  {
   "cell_type": "markdown",
   "metadata": {},
   "source": [
    "#### (Blended SEVIRI / LEO MW precipitation)"
   ]
  },
  {
   "cell_type": "markdown",
   "metadata": {},
   "source": [
    "Instantaneous precipitation maps generated combining geostationary (GEO) IR images from operational geostationary satellites 'calibrated' by precipitation measurements from MW images on Low Earth Orbit (LEO) satellites, processed soon after each acquisition of a new image from GEO. The blending algorithm ('Rapid Update’) generates precipitation estimates combining the equivalent blackbody temperatures (TBB) at 10.8 μm with rain rates from all available Passive MW measurements. A separate treatment is performed for convective precipitation: the morphologic information and the enhancement of precipitation estimate is done by the use of NEFODINA software.</p>\n",
    "**Example of H-60B HSAF product:**\n",
    "<div>\n",
    "    <img src=\"../Assets/h60b.png\" alt=\"Image\" width=\"60%\">"
   ]
  },
  {
   "cell_type": "markdown",
   "metadata": {},
   "source": [
    "### Blended SEVIRI / LEO MW precipitation\n",
    "\n",
    "**Coverage:**  Full SEVIRI disk LAT 60°S - 67.5°N, LON 80°W - 80°E\n",
    "\n",
    "**Spatial Resolution:** MSG-SEVIRI grid\n",
    "\n",
    "**Timeliness:** 15 min\n",
    "\n",
    "**Accuracy:**  \n",
    "| Precipitation range | Threshold | Target | Optimal |  \n",
    "|--------------------|-----------|--------|---------|  \n",
    "| > 1 mm/24h<span style=\"padding-left: 50px;\"></span>| 200<span style=\"padding-left: 40px;\"></span>| 150<span style=\"padding-left: 25px;\"></span>| 100<span style=\"padding-left: 30px;\"></span>|\n",
    "\n",
    "Accuracy requirements for product P-IN-SEVIRI-PMW (FSE (%), Fractional Standard Error.)  \n",
    "\n",
    "- **Precipitation Range**: This column specifies category of precipitation based on its rate. There is one category:\n",
    "   - \"> 1 mm/24h\" represents precipitation rates greater than 1 millimeter per hour.  \n",
    "\n",
    "- **Threshold FSE (%)**: This column specifies the threshold level of accuracy, represented as the Fractional Standard Error (FSE) percentage, for the product \"P-IN-SEVIRI-PMW\" under the precipitation range. For instance, for precipitation rates greater than 1 mm/24h, the threshold FSE is 200%.\n",
    "\n",
    "- **Target FSE (%)**: This column specifies the desired level of accuracy, represented as the Fractional Standard Error (FSE) percentage, for the product \"P-IN-SEVIRI-PMW\" under the precipitation range. For instance, for precipitation rates greater than 1 mm/24h, the target FSE should be 150%.\n",
    "\n",
    "- **Optimal FSE (%)**: This column represents the ideal or optimal level of accuracy, represented as the Optimal FSE percentage, for the product \"P-IN-SEVIRI-PMW\" under the precipitation range. In the table, for precipitation rates greater than 1 mm/24h, the optimal FSE should be 100%. Achieving an FSE equal to or lower than this value would be considered highly desirable.\n",
    "\n",
    "**Example:**\n",
    "\n",
    "- For precipitation rates greater than 1 mm/24h, if the product \"P-IN-SEVIRI-PMW\" achieves an FSE of 150%, it would meet the Target FSE requirement but not the Optimal FSE, which is 100%.\n",
    "\n",
    "- **Dissemination**  \n",
    "\n",
    "**Format** <span style=\"padding-left: 410px;\"></span> **Means**<span style=\"padding-left: 55px;\"></span> \t**Type**  \n",
    "Values in grid points of the Meteosat Third Generation projection (NetCDF) FTP, EUMETCast \tNRT"
   ]
  },
  {
   "cell_type": "markdown",
   "metadata": {},
   "source": [
    "More iformation is available to : \n",
    "* <a href=\"https://hsaf.meteoam.it/Products/Detail?prod=H60B\" target=\"_blank\">HSAF Product H-60B </a>\n",
    "* <a href=\"https://hsaf.meteoam.it/CaseStudy/GetDocumentUserDocument?fileName=SAF_HSAF_PUM_H60-63_V1_3.pdf&amp;tipo=PUM\" target=\"_blank\">Product User Manual (PUM) </a>\n",
    "* <a href=\"https://hsaf.meteoam.it/CaseStudy/GetDocumentUserDocument?fileName=saf_hsaf_pvr-60-63.pdf&amp;tipo=PVR\" target=\"_blank\">Product Validation Report (PVR) </a>\n",
    "* <a href=\"https://hsaf.meteoam.it/CaseStudy/GetDocumentUserDocument?fileName=SAF_HSAF_ATBD_H60-63_V2_2.pdf&amp;tipo=ATBD\" target=\"_blank\">Algorithm Theoretical Baseline Document (ATBD) </a>"
   ]
  },
  {
   "cell_type": "markdown",
   "metadata": {},
   "source": [
    "H-60B data are available from ***EUMETCast*** and ***HSAF*** portal site:\n",
    "* **EUMETCast Satellite:** \n",
    "Data is received under the Channel: *E1B-SAF-5*.\n",
    "\n",
    "Their filename is: *S-HSAF-h60_20220508_2345_fdk.nc.gz*\n",
    "\n",
    "* **EUMETCast Terrestrial:** \n",
    "Data is received under the Channel: *T01-SAF*.\n",
    "\n",
    "Their filename is: *S-HSAF-h60_20220508_2345_fdk.nc.gz*\n",
    "\n",
    "\n",
    "* **HSAF -site:**\n",
    "Data is stored in raw and jpeg format\n",
    "\n",
    "Their filename is: *h60_20211026_1445_fdk.nc.gz*\n",
    "<div>\n",
    "    <img src=\"../Assets/HSAF_database.png\" alt=\"Image\" width=\"90%\">\n",
    "    \n",
    "**Important:** Please note that there is a difference in filenames between EUMECast and the HSAF portal. It is important to keep this distinction in mind when writing code or working with data from these sources."
   ]
  },
  {
   "cell_type": "markdown",
   "metadata": {},
   "source": [
    "Further information pertaining to the H-60B product, as well as comprehensive reception details, can be accessed through the following source <a href=\"https://navigator.eumetsat.int/product/EO:EUM:DAT:0620?query=Precipitation%20rate&filter=satellite__MSG&filter=instrument__SEVIRI&s=advanced\" target=\"_blank\">EUMETSAT Product Navigator </a>.\n",
    "<div>\n",
    "    <img src=\"../Assets/H60B_product_navigator.png\" alt=\"Image\" width=\"90%\">"
   ]
  },
  {
   "cell_type": "markdown",
   "metadata": {},
   "source": [
    "## This module has the following outline\n",
    "* [1 - Load required libraries](#1---Load-required-libraries)\n",
    "* [2 - Load data](#2---Load-Data)\n",
    "* [3 - Define Constants/Variables](#3---Define-Constants/Variables)\n",
    "* [4 - Prepare the area extent](#4---Prepare-the-area-extent)\n",
    "* [5 - Generate a plot of H60B data](#5---Generate-a-plot-of-H60B-data)\n",
    "* [6 - Get the Rain Rate for the requested lat and lon](#6---Get-the-Rain-Rate-for-the-requested-lat-and-lon)"
   ]
  },
  {
   "cell_type": "markdown",
   "metadata": {},
   "source": [
    "<h2 id=\"load_libraries\">1 - Load required libraries</h2>"
   ]
  },
  {
   "cell_type": "code",
   "execution_count": null,
   "metadata": {},
   "outputs": [],
   "source": [
    "#!pip3 install pyresample\n",
    "#!pip3 install cartopy\n",
    "import gzip\n",
    "import shutil\n",
    "import os \n",
    "\n",
    "import geopandas as gpd\n",
    "import numpy as np\n",
    "\n",
    "import xarray as xr\n",
    "from pyresample.geometry import AreaDefinition\n",
    "from pyproj import CRS\n",
    "\n",
    "import matplotlib\n",
    "import matplotlib.pyplot as plt\n",
    "from matplotlib.pyplot import get_cmap\n",
    "from cartopy import crs as ccrs\n",
    "import cartopy.feature as cfeature"
   ]
  },
  {
   "cell_type": "markdown",
   "metadata": {},
   "source": [
    "1. **gzip**:\n",
    "   - The `gzip` module is a Python module for working with GZIP (GNU Zip) compressed files. It provides functions for compression and decompression of files using the GZIP format.\n",
    "\n",
    "2. **shutil**:\n",
    "   - The `shutil` module is a Python module that provides a higher-level interface for file operations and manipulation. It includes functions for copying, moving, and deleting files and directories.\n",
    "\n",
    "3. **os**:\n",
    "   - The `os` module is a part of the Python standard library and provides functions for interacting with the operating system. It allows you to perform various file and directory operations, manipulate file paths, and more.\n",
    "\n",
    "4. **geopandas**:\n",
    "   - `geopandas` is a Python library for working with geospatial data. It extends the capabilities of Pandas to support geospatial data structures and operations, making it easier to work with shapefiles, GeoJSON, and other geospatial formats.\n",
    "\n",
    "5. **numpy**:\n",
    "   - `numpy` is a fundamental library for scientific computing in Python. It provides support for multidimensional arrays, mathematical functions, and tools for working with arrays, making it a crucial library for data manipulation and numerical computations.\n",
    "\n",
    "6. **xarray**:\n",
    "   - `xarray` is a Python library designed for working with labeled multi-dimensional arrays. It is particularly useful for handling and analyzing multidimensional data, such as climate data or time series data.\n",
    "\n",
    "7. **pyresample.geometry**:\n",
    "   - `pyresample` is a library for geospatial resampling. The `geometry` module within `pyresample` provides functions for defining areas of interest and performing resampling operations on geospatial data.\n",
    "\n",
    "8. **pyproj**:\n",
    "   - `pyproj` is a Python interface to the PROJ library, which is used for cartographic projections and coordinate transformations. It is commonly used in geospatial applications to convert between different coordinate reference systems (CRS).\n",
    "\n",
    "9. **matplotlib**:\n",
    "    - `matplotlib` is a popular Python library for creating static, animated, and interactive visualizations. It provides a wide range of functions and tools for creating various types of plots and charts.\n",
    "\n",
    "10. **cartopy.crs**:\n",
    "    - `cartopy` is a library for cartographic projections and geospatial data visualization. The `crs` module within Cartopy provides support for defining and working with different coordinate reference systems.\n",
    "\n",
    "11. **cartopy.feature**:\n",
    "    - `cartopy.feature` provides a collection of pre-defined geospatial features, such as coastlines, rivers, and political boundaries, that can be used in Cartopy maps to enhance the visualization of geospatial data."
   ]
  },
  {
   "cell_type": "markdown",
   "metadata": {},
   "source": [
    "## <a id='load_data'></a>2 - Load Data"
   ]
  },
  {
   "cell_type": "code",
   "execution_count": null,
   "metadata": {},
   "outputs": [],
   "source": [
    "# Define the zipped and unzipped H60 filename\n",
    "zippedFileName = 'h60_20230905_0800_fdk.nc.gz'\n",
    "unZippedFileName = zippedFileName.rsplit('.',1)[0]\n",
    "\n",
    "# Extract date and time from the Filename\n",
    "date = unZippedFileName.split('_')[1]\n",
    "time = unZippedFileName.split('_')[2]\n",
    "\n",
    "# Unzip the H60 file and retrieve the data to an xarray dataset\n",
    "# Open the compressed file for reading ('rb' mode)\n",
    "with gzip.open('../data/h60'+'/'+zippedFileName, 'rb') as f_in:\n",
    "    # Create an uncompressed file for writing ('wb' mode)\n",
    "    with open('../temp/h60'+'/'+unZippedFileName, 'wb') as f_out:\n",
    "        # Copy the contents of the compressed file to the uncompressed file\n",
    "        shutil.copyfileobj(f_in, f_out)\n",
    "# Open and read the data from the uncompressed file using xarray\n",
    "h60DataSet = xr.open_dataset('../temp/h60'+'/'+unZippedFileName)\n",
    "\n",
    "# Get the Gdal projection PROJ4 string\n",
    "gdalProj4 = CRS.from_proj4(h60DataSet.attrs['gdal_projection'])"
   ]
  },
  {
   "cell_type": "markdown",
   "metadata": {},
   "source": [
    "#### Explore the data of H-60 product"
   ]
  },
  {
   "cell_type": "code",
   "execution_count": null,
   "metadata": {},
   "outputs": [],
   "source": [
    "h60DataSet"
   ]
  },
  {
   "cell_type": "code",
   "execution_count": null,
   "metadata": {},
   "outputs": [],
   "source": [
    "# Check dimensions and their sizes\n",
    "print(\"Dimensions:\", h60DataSet.dims)"
   ]
  },
  {
   "cell_type": "code",
   "execution_count": null,
   "metadata": {},
   "outputs": [],
   "source": [
    "# List variables in the dataset\n",
    "print(\"Variables:\", h60DataSet.variables)"
   ]
  },
  {
   "cell_type": "code",
   "execution_count": null,
   "metadata": {},
   "outputs": [],
   "source": [
    "# Explore data values of 'rr'\n",
    "rr_data = h60DataSet['rr'].values\n",
    "print(\"Shape of 'rr' data:\", rr_data.shape)"
   ]
  },
  {
   "cell_type": "markdown",
   "metadata": {},
   "source": [
    "##### Explore the data of proj4 string\n",
    "- proj : projection\n",
    "- a : equitorial radius\n",
    "- b : polar radius\n",
    "- lon_0 : central longitude of natural origin\n",
    "- h : height of the satellite\n",
    "- sweep : sweeping axis of the instrument ('y' : N/S axis)\n",
    "- type : Coordinates Reference System"
   ]
  },
  {
   "cell_type": "code",
   "execution_count": null,
   "metadata": {},
   "outputs": [],
   "source": [
    "# Explore data values of 'gdalProj4'\n",
    "print(gdalProj4)"
   ]
  },
  {
   "cell_type": "markdown",
   "metadata": {},
   "source": [
    "## <a id='define_const-vars'></a>3 - Define Constants/Variables"
   ]
  },
  {
   "cell_type": "code",
   "execution_count": null,
   "metadata": {},
   "outputs": [],
   "source": [
    "# Min threshold for rain rate [mm/hr] to filter out noise\n",
    "RR_MIN = 1\n",
    "\n",
    "# Define the area extent for the plot\n",
    "EXTENT = [-10,30,30,50]\n",
    "\n",
    "# Define the min and max level for the plot\n",
    "VMIN = 0\n",
    "VMAX = 50\n",
    "\n",
    "# Define the resolution for the cartopy features\n",
    "RESOLUTION = '10m'\n",
    "\n",
    "# Define the cmap\n",
    "CMAP = matplotlib.colormaps['jet']   # Get the 'jet' colormap\n",
    "\n",
    "# Define the area extent of H60 (loweLeftCornerX,loweLeftCornerY,upperRightCornerX,upperRightCornerY) (SEVIRI)\n",
    "AREA_EXTENT = (-5570248.4773392612, -5567248.074173444, 5567248.074173444, 5570248.4773392612)"
   ]
  },
  {
   "cell_type": "markdown",
   "metadata": {},
   "source": [
    "## <a id='prepare_area'></a>4 - Prepare the area extent"
   ]
  },
  {
   "cell_type": "markdown",
   "metadata": {},
   "source": [
    "* Define the area using the Proj4 string\n",
    "* Create the coordinates and write the to the dataset\n",
    "* Filter the values according to the minimum rr\n",
    "* Slice the dataset to fit the area extent"
   ]
  },
  {
   "cell_type": "code",
   "execution_count": null,
   "metadata": {},
   "outputs": [],
   "source": [
    "h60DataSet = xr.open_dataset('../temp/h60'+'/'+unZippedFileName)\n",
    "\n",
    "# Define the area of the projection IMPORTANT: Upper right corner: NE\n",
    "area_def = AreaDefinition('entireArea', 'proj', 'entireArea',\n",
    "                          gdalProj4,\n",
    "                          h60DataSet.x.size,\n",
    "                          h60DataSet.y.size,\n",
    "                          (AREA_EXTENT[2],   AREA_EXTENT[3],   AREA_EXTENT[0], AREA_EXTENT[1]))\n",
    "                        # (upperRightCornerX,upperRightCornerY,loweLeftCornerX,loweLeftCornerY)\n",
    "\n",
    "# Create a cartopy CRS object \n",
    "AREA_CRS = area_def.to_cartopy_crs()\n",
    "\n",
    "# Create the projected coordinates\n",
    "x, y  = area_def.get_proj_coords()\n",
    "\n",
    "# Get the lat and lon from the projected coordinates\n",
    "lon, lat = area_def.get_lonlat_from_projection_coordinates(x,y)\n",
    "\n",
    "# Transform any infinite numbers of lat and lon to NaN\n",
    "lon[np.isinf(lon)] = np.nan\n",
    "lat[np.isinf(lat)] = np.nan\n",
    "\n",
    "# Write lon and lat data to Data Structure to 'latitude' and 'longitude' variables\n",
    "h60DataSet['latitude']  = (('x','y'),lat)\n",
    "h60DataSet['longitude'] = (('x','y'),lon)\n",
    "\n",
    "# Filter out values<RR_MIN\n",
    "h60DataSet = h60DataSet.where(h60DataSet.rr > RR_MIN)\n",
    "\n",
    "# Save the full disk values\n",
    "rrFullDisk = h60DataSet['rr']\n",
    "longitudeFullDisk = h60DataSet['longitude']\n",
    "latitudeFullDisk = h60DataSet['latitude']\n",
    "\n",
    "# Slice the H60 Dataset to work on the requested area extent (faster than Full Disk)\n",
    "\n",
    "# Define the longitude extent\n",
    "extent_lon = [EXTENT[0],EXTENT[0],EXTENT[1],EXTENT[1]]\n",
    "\n",
    "# Define the latitude extent\n",
    "extent_lat = [EXTENT[2],EXTENT[3],EXTENT[2],EXTENT[3]]\n",
    "\n",
    "# Convert lat/lon extent to indices\n",
    "colIdx,rowIdx = area_def.get_array_indices_from_lonlat(extent_lon,extent_lat)\n",
    "\n",
    "# Slice the H60 Dataset\n",
    "h60DataSet = h60DataSet.isel(x=slice(rowIdx.min(),rowIdx.max()),y=slice(colIdx.min(),colIdx.max()))\n",
    "\n",
    "# Save the values for the area of interest\n",
    "rr = h60DataSet['rr']\n",
    "longitude = h60DataSet['longitude']\n",
    "latitude = h60DataSet['latitude']"
   ]
  },
  {
   "cell_type": "markdown",
   "metadata": {},
   "source": [
    "#### Explore the data of H-60 product (after saving new variables and slicing)"
   ]
  },
  {
   "cell_type": "code",
   "execution_count": null,
   "metadata": {},
   "outputs": [],
   "source": [
    "rr_data = h60DataSet['rr'].values\n",
    "print(\"Shape of 'rr' data:\", rr_data.shape)"
   ]
  },
  {
   "cell_type": "markdown",
   "metadata": {},
   "source": [
    "## <a id='gen_save_fig'></a>5 - Generate a plot of H60B data"
   ]
  },
  {
   "cell_type": "markdown",
   "metadata": {},
   "source": [
    "* Figure initialization\n",
    "* Set the extent area and projection\n",
    "* Add features\n",
    "* Define the bounds of the data\n",
    "* Plot the pcolormesh and colorbar\n",
    "* Save the figure in /out folder"
   ]
  },
  {
   "cell_type": "markdown",
   "metadata": {},
   "source": [
    "### Full Coverage"
   ]
  },
  {
   "cell_type": "code",
   "execution_count": null,
   "metadata": {},
   "outputs": [],
   "source": [
    "# Initialize the figure\n",
    "plt.figure(figsize=(12,12)) # Create a figure with a specified size\n",
    "PROJ = ccrs.Geostationary() # Define the projection (Geostationary projection)\n",
    "ax = plt.axes(projection=PROJ) # Set the axes\n",
    "ax.coastlines(resolution='110m',zorder=30) # Add coastline\n",
    "ax.set_global() # Set global view\n",
    "# Define color scale bounds\n",
    "bounds = np.arange(0,VMAX+1,5)\n",
    "# Create a contourf plot with specified properties\n",
    "mapRR = ax.contourf(longitudeFullDisk, latitudeFullDisk, rrFullDisk, \n",
    "                    transform=ccrs.PlateCarree(), vmin=VMIN, vmax=VMAX, cmap=CMAP, \n",
    "                    zorder=20, levels = bounds, extend = 'max')\n",
    "\n",
    "# Create gridlines with specified properties\n",
    "gl = ax.gridlines(draw_labels=True, xlocs=np.arange(-180,180,20),\n",
    "                    ylocs=np.arange(-90,90,20), zorder=30)\n",
    "gl.top_labels = False\n",
    "gl.right_labels = False\n",
    "\n",
    "cbar = plt.colorbar(mapRR, ax=ax, shrink=0.8, pad=.01,  ticks = bounds, extend = 'max')"
   ]
  },
  {
   "cell_type": "markdown",
   "metadata": {},
   "source": [
    "### Area of Interest"
   ]
  },
  {
   "cell_type": "code",
   "execution_count": null,
   "metadata": {},
   "outputs": [],
   "source": [
    "# Initialize the figure\n",
    "fig = plt.figure(figsize=(12,6)) \n",
    "\n",
    "# Define the projection (Plate Carrée projection)\n",
    "PROJ = ccrs.PlateCarree()\n",
    "\n",
    "ax = fig.add_subplot(1,1,1,projection=PROJ) # Add a subplot with a specified projection\n",
    "\n",
    "# Set the extent area and projection of the plot\n",
    "ax.set_extent(EXTENT, PROJ)\n",
    "\n",
    "# Add ocean, land, coastlines, title and gridlines features\n",
    "\n",
    "# Create a NaturalEarthFeature for the ocean with specified properties\n",
    "feature = cfeature.NaturalEarthFeature(category='physical', name='ocean', scale=RESOLUTION,\n",
    "                                edgecolor='none',   \n",
    "                                facecolor=cfeature.COLORS['water'],zorder=0)\n",
    "\n",
    "ax.add_feature(feature) # Add the ocean feature to the plot\n",
    "\n",
    "# Create a NaturalEarthFeature for the land with specified properties\n",
    "feature = cfeature.NaturalEarthFeature(category='physical', name='land', scale=RESOLUTION,\n",
    "                                edgecolor='none',   \n",
    "                                facecolor=cfeature.COLORS['land'],zorder=1)\n",
    "\n",
    "ax.add_feature(feature)# Add the land feature to the plot\n",
    "\n",
    "ax.coastlines(resolution=RESOLUTION,zorder=100) # Add coastlines to the plot\n",
    "\n",
    "# Add a title to the plot\n",
    "ax.set_title(f\"Copyright EUMETSAT-HSAF H60: Rainfall Rate (mm/hr)\\nDate: {date} - {time} UTC\", size = 15)\n",
    "\n",
    "# Create gridlines with specified properties\n",
    "gl = ax.gridlines(draw_labels=True, xlocs=np.arange(EXTENT[0],EXTENT[1],5),\n",
    "                    ylocs=np.arange(EXTENT[2],EXTENT[3],5), zorder=100)\n",
    "gl.top_labels = False\n",
    "gl.right_labels = False\n",
    "\n",
    "#Plot the contourf\n",
    "\n",
    "# Define color scale bounds\n",
    "bounds = np.arange(0,VMAX+1,5)\n",
    "\n",
    "# Create a contourf plot with specified properties\n",
    "mapRR = ax.contourf(longitude, latitude, rr, \n",
    "                    transform=PROJ, vmin=VMIN, vmax=VMAX, cmap=CMAP, \n",
    "                    zorder=10, levels = bounds, extend = 'max')\n",
    "\n",
    "# Add the colorbar\n",
    "label = 'Rain Fall Rate [mm.hr$^{-1}$]'\n",
    "cbar = plt.colorbar(mapRR, ax=ax, shrink=.8, pad=.01, label=label, ticks = bounds)\n",
    "\n",
    "fig.tight_layout() # Adjust the layout of the figure for better appearance\n",
    "\n",
    "# Save and Show the fig\n",
    "figPath = os.path.join('../out/h60',unZippedFileName.rsplit('.')[0]+'.png')\n",
    "plt.savefig(figPath, format=\"png\", bbox_inches='tight', dpi=150)"
   ]
  },
  {
   "cell_type": "markdown",
   "metadata": {},
   "source": [
    "## <a id='get_rr'></a>6 - Get the Rain Rate for the requested lat and lon"
   ]
  },
  {
   "cell_type": "markdown",
   "metadata": {},
   "source": [
    "* Insert the lon and lat\n",
    "* Find the distance of the requested coords from each [lat,lon] of dataset\n",
    "* Find the indices of min distance\n",
    "* Check if distance is lower than the tolerance max distance to avoid accuracy faults\n",
    "* Print the value and save it, along with metadata, to H60.txt in /out folder"
   ]
  },
  {
   "cell_type": "code",
   "execution_count": null,
   "metadata": {},
   "outputs": [],
   "source": [
    "# Define the longitude and latitude to get the respective Rain Fall Rate\n",
    "targetLon = 22.76\n",
    "targetLat = 39.32\n",
    "maxDistance = 0.12 # Tolerance threshold about 15km\n",
    "\n",
    "# Find the absolute distance of the target coordinates from the H60 Dataset coordinates\n",
    "latDiff = np.abs(latitude - targetLat)\n",
    "lonDiff = np.abs(longitude - targetLon)\n",
    "\n",
    "# Keep the indexes of the min distance\n",
    "latIndex, lonIndex = np.unravel_index((latDiff + lonDiff).argmin(), latDiff.shape)\n",
    "\n",
    "# Check if the returned distance is below the tolerance max distance \n",
    "latDistance = abs(latitude[latIndex][lonIndex].item() - targetLat)\n",
    "lonDistance = abs(longitude[latIndex][lonIndex].item() - targetLon)\n",
    "closeEnough = latDistance < maxDistance and lonDistance < maxDistance\n",
    "\n",
    "# Print the nearest rainfall rate value to the requested coordinates\n",
    "nearestRainFallRateValue = rr[latIndex,lonIndex].item() if closeEnough else 0\n",
    "print(\"Nearest Neighbor Rain Fall Rate Value is: {}\" .format(nearestRainFallRateValue))\n",
    "\n",
    "# Save the rainfall rate value to the requested coordinates\n",
    "with open(os.path.join('../out/h60','H60.txt'), 'a') as f:\n",
    "    f.write(f\"{date} {time} lon: {longitude[latIndex,lonIndex].item()} lat: {latitude[latIndex,lonIndex].item()} rr: {nearestRainFallRateValue}\\n\")\n"
   ]
  },
  {
   "cell_type": "code",
   "execution_count": null,
   "metadata": {},
   "outputs": [],
   "source": []
  }
 ],
 "metadata": {
  "kaggle": {
   "accelerator": "none",
   "dataSources": [],
   "dockerImageVersionId": 30761,
   "isGpuEnabled": false,
   "isInternetEnabled": true,
   "language": "python",
   "sourceType": "notebook"
  },
  "kernelspec": {
   "display_name": "Python 3 (ipykernel)",
   "language": "python",
   "name": "python3"
  },
  "language_info": {
   "codemirror_mode": {
    "name": "ipython",
    "version": 3
   },
   "file_extension": ".py",
   "mimetype": "text/x-python",
   "name": "python",
   "nbconvert_exporter": "python",
   "pygments_lexer": "ipython3",
   "version": "3.11.11"
  }
 },
 "nbformat": 4,
 "nbformat_minor": 4
}
