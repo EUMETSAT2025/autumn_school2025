{
 "cells": [
  {
   "cell_type": "markdown",
   "metadata": {
    "Collapsed": "false"
   },
   "source": [
    "<img src='./img/DataStore_EUMETSAT.png'/>"
   ]
  },
  {
   "cell_type": "markdown",
   "metadata": {},
   "source": [
    "Copyright (c) 2024 EUMETSAT <br>\n",
    "License: MIT"
   ]
  },
  {
   "cell_type": "markdown",
   "metadata": {
    "Collapsed": "false"
   },
   "source": [
    "<hr>"
   ]
  },
  {
   "cell_type": "markdown",
   "metadata": {},
   "source": [
    "# Accessing MTG LI Level 2 products"
   ]
  },
  {
   "cell_type": "markdown",
   "metadata": {},
   "source": [
    "### Data used\n",
    "\n",
    "| Product Description  | Data Store collection ID| Data Store |\n",
    "|:--------------------:|:-----------------------:|:-----------------:|\n",
    "| LI Accumulated Flashes - MTG - 0 degree | EO:EUM:DAT:0686 | [link](https://data.eumetsat.int/product/EO:EUM:DAT:0686) |\n",
    "| LI Accumulated Flash Area - MTG - 0 degree | EO:EUM:DAT:0687 | [link](https://data.eumetsat.int/product/EO:EUM:DAT:0687) |\n",
    "| LI Accumulated Flash Radiance - MTG - 0 degree | EO:EUM:DAT:0688 | [link](https://data.eumetsat.int/product/EO:EUM:DAT:0688) |\n",
    "| LI Lightning Events - MTG - 0 degree | EO:EUM:DAT:0690 | [link](https://data.eumetsat.int/data/map/EO:EUM:DAT:0690)\n",
    "| LI Lightning Flashes - MTG - 0 degree | EO:EUM:DAT:0691 | [link](https://data.eumetsat.int/product/EO:EUM:DAT:0691) |\n",
    "| Lightning groups, full disc coverage - MTG | EO:EUM:DAT:0782 | [link](https://data.eumetsat.int/product/EO:EUM:DAT:0782) |\n",
    "\n",
    "### Learning outcomes\n",
    "\n",
    "At the end of this notebook you will know;\n",
    "* How to refine your **searches** for MTG LI products in the EUMETSAT Data Store using the `eumdac` API client\n",
    "* How to **download** products from your refined search results\n",
    "* How to **convert** products into CSV format\n",
    "* How to product's **convert epoch time** into datetime\n",
    "* How MTG LI data is **structured and organised**"
   ]
  },
  {
   "cell_type": "markdown",
   "metadata": {},
   "source": [
    "## Selecting a collection"
   ]
  },
  {
   "cell_type": "markdown",
   "metadata": {},
   "source": [
    "As usual, we begin by importing our required modules."
   ]
  },
  {
   "cell_type": "code",
   "execution_count": null,
   "metadata": {},
   "outputs": [],
   "source": [
    "import eumdac\n",
    "import datetime\n",
    "import shutil\n",
    "import fnmatch\n",
    "import requests\n",
    "import time\n",
    "import os\n",
    "import glob\n",
    "import zipfile\n",
    "import pandas as pd\n",
    "import netCDF4"
   ]
  },
  {
   "cell_type": "markdown",
   "metadata": {},
   "source": [
    "Now, we have to authorize with our personal credentials to generate the token."
   ]
  },
  {
   "cell_type": "code",
   "execution_count": null,
   "metadata": {},
   "outputs": [],
   "source": [
    "# Insert your personal key and secret into the single quotes\n",
    "consumer_key = 'YOUR_CONSUMER_KEY'\n",
    "consumer_secret = 'YOUR_CONSUMER_SECRET'\n",
    "\n",
    "credentials = (consumer_key, consumer_secret)\n",
    "\n",
    "token = eumdac.AccessToken(credentials)\n",
    "\n",
    "try:\n",
    "    print(f\"This token '{token}' expires {token.expiration}\")\n",
    "except requests.exceptions.HTTPError as error:\n",
    "    print(f\"Unexpected error: {error}\")"
   ]
  },
  {
   "cell_type": "markdown",
   "metadata": {},
   "source": [
    "<div class=\"alert alert-block alert-success\">\n",
    "<b>NOTE:</b><br />\n",
    "You can find your personal API credentials here: <a href=\"https://api.eumetsat.int/api-key/\">https://api.eumetsat.int/api-key/</a>\n",
    "</div>\n",
    "\n",
    "The previous tutorial in this repository showing also how to list and find desired collections with EUMDAC. As we are focussing now on MTG LI collections, we are selecting the LI Lightning Flashes collection directly:"
   ]
  },
  {
   "cell_type": "code",
   "execution_count": null,
   "metadata": {},
   "outputs": [],
   "source": [
    "datastore = eumdac.DataStore(token)\n",
    "selected_collection = datastore.get_collection('EO:EUM:DAT:0691')"
   ]
  },
  {
   "cell_type": "markdown",
   "metadata": {},
   "source": [
    "*All publicly available MTG Lightning Imager collections, can also be in the [Data Store](https://data.eumetsat.int/extended?query=&filter=satellite__MTG&filter=instrument_type__Lightning%20Imager&filter=instrument__LI&filter=distribution__Download&filter=themes__Level%202%20Data).*"
   ]
  },
  {
   "cell_type": "markdown",
   "metadata": {},
   "source": [
    "## Filtering and downloading products based on time interval\n",
    "\n",
    "Previously we also covered how to filter collections for products of interest using both time and space. As MTG LI products are GEO products, there is no need for us to set a bounding box. However, we are going to perform a similar operation using time filtering so that we can set up a download. \n",
    "\n",
    "So, lets run our query to get the IDs for our products that are sensed within a full day (24 hour)."
   ]
  },
  {
   "cell_type": "code",
   "execution_count": null,
   "metadata": {
    "scrolled": true
   },
   "outputs": [],
   "source": [
    "# Set date\n",
    "date = datetime.date(2024, 10, 29)\n",
    "#date = datetime.date(2025, 5, 15)\n",
    "# Retrieve datasets that match our filter\n",
    "products = selected_collection.search(\n",
    "    dtstart=datetime.datetime.combine(date, datetime.time(0, 0)),\n",
    "    dtend=datetime.datetime.combine(date, datetime.time(23, 59)),\n",
    "    title=f\"*_OPE_{date.strftime('%Y%m%d')}*_*\")\n",
    "\n",
    "print(f\"{products.total_results} products found:\")\n",
    "\n",
    "for product in products:\n",
    "    try:\n",
    "        print(product)\n",
    "    except eumdac.collection.CollectionError as error:\n",
    "        print(f\"Error related to the collection: '{error.msg}'\")\n",
    "    except requests.exceptions.ConnectionError as error:\n",
    "        print(f\"Error related to the connection: '{error.msg}'\")\n",
    "    except requests.exceptions.RequestException as error:\n",
    "        print(f\"Unexpected error: {error}\")"
   ]
  },
  {
   "cell_type": "code",
   "execution_count": null,
   "metadata": {},
   "outputs": [],
   "source": [
    "selected_collection.search_options"
   ]
  },
  {
   "cell_type": "markdown",
   "metadata": {},
   "source": [
    "Now we have a list of all products acquired within a full day. In the following sections we will look at ways of downloading these.\n",
    "\n",
    "The MTG Lighting Imager is continiously sensing. To make the data faster available to users, the products are published in chunks. The Data Store is publishing products with a chunk size of 10 minutes. Means, every 10 minutes a new MTG LI product get's published in EUMETSATs Data Store.\n",
    "\n",
    "In the file name a 4-digit number (right-justified, zero-filled) indicating the current group repeat cycle in the day for this particular dataset. For LI, which does not have a natural repeat cycle, this is expected to correspond to the number of accumulation interval for the archived data (every 10 minutes in Data Store).\n",
    "\n",
    "The counter starts at 0001 for the first group accumulation interval at or after midnight and resets for the next group accumulation interval at or after the following midnight.\n",
    "\n",
    "This value can be used to associate all chunks of a repeat cycle dataset and aggregate them into a full day product."
   ]
  },
  {
   "cell_type": "markdown",
   "metadata": {},
   "source": [
    "<div class=\"alert alert-block alert-success\">\n",
    "<b>NOTE:</b><br />\n",
    "The MTG products following the <i>WMO file naming convention</i>. You can find more information about this in our User Portal guide: <a href=\"https://user.eumetsat.int/resources/user-guides/mtg-li-level-2-data-guide#ID-Naming-convention\">https://user.eumetsat.int/resources/user-guides/mtg-li-level-2-data-guide#ID-Naming-convention</a>\n",
    "</div>"
   ]
  },
  {
   "cell_type": "markdown",
   "metadata": {},
   "source": [
    "## Download products"
   ]
  },
  {
   "cell_type": "markdown",
   "metadata": {},
   "source": [
    "We have found our relevant products. Now we would like to download all of them without having to select every single product. For this we can simply loop over the products and save the products as files in our directory."
   ]
  },
  {
   "cell_type": "code",
   "execution_count": null,
   "metadata": {},
   "outputs": [],
   "source": [
    "# Define download directory\n",
    "download_dir = 'downloads/'"
   ]
  },
  {
   "cell_type": "code",
   "execution_count": null,
   "metadata": {
    "scrolled": true
   },
   "outputs": [],
   "source": [
    "for product in products:    \n",
    "    try:\n",
    "        with product.open() as fsrc, \\\n",
    "                open(download_dir + fsrc.name, mode='wb') as fdst:\n",
    "            shutil.copyfileobj(fsrc, fdst)\n",
    "            print(f'Download of product {product} finished.')\n",
    "    except eumdac.product.ProductError as error:\n",
    "        print(f\"Error related to the product '{product}' while trying to download it: '{error.msg}'\")\n",
    "    except requests.exceptions.ConnectionError as error:\n",
    "        print(f\"Error related to the connection: '{error.msg}'\")\n",
    "    except requests.exceptions.RequestException as error:\n",
    "        print(f\"Unexpected error: {error}\")\n",
    "    \n",
    "print('All downloads are finished.')"
   ]
  },
  {
   "cell_type": "markdown",
   "metadata": {},
   "source": [
    "Perfect, now we downloaded all products of a full day, based on our search parameters."
   ]
  },
  {
   "cell_type": "markdown",
   "metadata": {},
   "source": [
    "<div class=\"alert alert-block alert-success\">\n",
    "<b>NOTE:</b><br />\n",
    "Products can be downloaded by providing either their product ID, or a combination of their collection ID and several search parameters. We can download entire products, or specific file components (e.g. metadata only). This section was focussing on downloading the products from our search. To find more examples, see notebook <a href=\"./1_3_Downloading_products.ipynb\">1.3 Downloading products</a>.\n",
    "</div>"
   ]
  },
  {
   "cell_type": "markdown",
   "metadata": {},
   "source": [
    "## Structure of products\n",
    "\n",
    "A product consists of multiple files and are delivered as a [SIP](https://user.eumetsat.int/resources/user-guides/formats#ID-Submission-Information-Package-SIP). We can get the content of a product with the following command:"
   ]
  },
  {
   "cell_type": "code",
   "execution_count": null,
   "metadata": {},
   "outputs": [],
   "source": [
    "with zipfile.ZipFile(glob.glob(\"downloads/*.zip\")[0], 'r') as zip_file:\n",
    "    file_list = zip_file.namelist()\n",
    "    for file in file_list:\n",
    "        print(file)"
   ]
  },
  {
   "cell_type": "markdown",
   "metadata": {},
   "source": [
    "As can be seen above, a product is made of the following files:\n",
    "- **Body chunks (NetCDF)**: One or multiple body chunks (depending on product type) contain the measured data values in NetCDF structure.\n",
    "- **Trailer chunk (NetCDF)**: One trailer chunk that contains at least the list of preceding body chunks that have been produced for the dataset. \n",
    "- **Quicklooks (PNG)**: Images related to data that enable fast viewing for the purpose of selection by archive users.\n",
    "- **manifest.xml**: The manifest contains further information about the SIP especially the relationships among the different items constituting the package.\n",
    "- **EOPMetadata.xml**: The EOPMetadata file contains metadata about the product based on the OGC Earth Observation Metadata Profile of Observations and Measurements (OGC document 10-157r4).\n",
    "\n",
    "You can find more information about the [SIP files](https://user.eumetsat.int/resources/user-guides/formats#ID-Submission-Information-Package-SIP) and [MTG LI product/data structure](https://user.eumetsat.int/resources/user-guides/mtg-li-level-2-data-guide#ID-Level-2-data-characteristics) in the corresponding user guides."
   ]
  },
  {
   "cell_type": "markdown",
   "metadata": {},
   "source": [
    "That's it, now can we further process our data products."
   ]
  },
  {
   "cell_type": "markdown",
   "metadata": {},
   "source": [
    "## Extract the product SIP files\n",
    "\n",
    "To further work with ther data, we have to uncompress the actual product content. This can simply be done with the following code:"
   ]
  },
  {
   "cell_type": "code",
   "execution_count": null,
   "metadata": {
    "scrolled": true
   },
   "outputs": [],
   "source": [
    "Data_folder='downloads/'\n",
    "#for file in glob.glob(\"downloads/*.zip\"):\n",
    "for file in glob.glob(Data_folder+\"*.zip\"):\n",
    "    print(file)\n",
    "    if os.path.exists(file):\n",
    "        with zipfile.ZipFile(file, 'r') as zip_ref:\n",
    "            # Extract the content of the .zip\n",
    "            #zip_ref.extractall(path=f'{file[:-4]}/')\n",
    "            zip_ref.extractall(Data_folder)\n",
    "        # Remove the .zip file in favour of the extracted product\n",
    "        os.remove(file)\n",
    "        print(f\"{file} has been unzipped and deleted.\")\n",
    "    else:\n",
    "        print(f\"{file} does not exist.\")"
   ]
  },
  {
   "cell_type": "markdown",
   "metadata": {},
   "source": [
    "## Converting values into a CSV file (optional)\n",
    "\n",
    "As the MTG LI products are well structured in NetCDF files, we can convert them easily to text or a comma-seperated values (CSV) files. Depending on our use case, this can make it easier for other systems to work with the data."
   ]
  },
  {
   "cell_type": "markdown",
   "metadata": {},
   "source": [
    "First, we need to define which file we want to convert. To do so, we need to define the filename of the body chunk of our desired product and load the NetCDF file:"
   ]
  },
  {
   "cell_type": "code",
   "execution_count": null,
   "metadata": {},
   "outputs": [],
   "source": [
    "file_to_convert = glob.glob(\"downloads/*BODY*.nc\")[0]\n",
    "li_ds = netCDF4.Dataset(file_to_convert, 'r')"
   ]
  },
  {
   "cell_type": "markdown",
   "metadata": {},
   "source": [
    "Each product has a bunch of variables. To list all existing variables we can print them:"
   ]
  },
  {
   "cell_type": "code",
   "execution_count": null,
   "metadata": {},
   "outputs": [],
   "source": [
    "for var in li_ds.variables:\n",
    "    print(var)"
   ]
  },
  {
   "cell_type": "markdown",
   "metadata": {},
   "source": [
    "Now, we can choose the variables we want to have in our CSV:"
   ]
  },
  {
   "cell_type": "code",
   "execution_count": null,
   "metadata": {},
   "outputs": [],
   "source": [
    "latitude = li_ds['latitude'][:]\n",
    "longitude = li_ds['longitude'][:]\n",
    "flash_id = li_ds['flash_id'][:]\n",
    "flash_time = li_ds['flash_time'][:]\n",
    "flash_duration = li_ds['flash_duration'][:]\n",
    "flash_footprint = li_ds['flash_footprint'][:]\n",
    "radiance = li_ds['radiance'][:]\n",
    "number_of_events = li_ds['number_of_events'][:]\n",
    "number_of_groups = li_ds['number_of_groups'][:]\n",
    "flash_filter_confidence = li_ds['flash_filter_confidence'][:]"
   ]
  },
  {
   "cell_type": "markdown",
   "metadata": {},
   "source": [
    "The `flash_time` is measured as [epoch time](https://en.wikipedia.org/wiki/Epoch_%28computing%29) in products from Meteosat Third Generation satellites. To make it easier to work with them, we will recalculate the regular date time from it. We can do that, using the following function:"
   ]
  },
  {
   "cell_type": "code",
   "execution_count": null,
   "metadata": {},
   "outputs": [],
   "source": [
    "def epoch_to_datetime(flash_time):\n",
    "    flash_time_list = []\n",
    "    \n",
    "    for i in flash_time:\n",
    "        i = int(i.flatten())\n",
    "        mtg_reference_datetime=datetime.datetime(2000, 1, 1, 0, 0)\n",
    "        mtg_datetime=mtg_reference_datetime + datetime.timedelta(seconds=i)\n",
    "        flash_time_list.append(mtg_datetime)\n",
    "\n",
    "    return flash_time_list"
   ]
  },
  {
   "cell_type": "markdown",
   "metadata": {},
   "source": [
    "To bring them into a structure that fit's a CSV file, we are creating a dataframe where each observation is a row and every variable/value is in a seperate column."
   ]
  },
  {
   "cell_type": "code",
   "execution_count": null,
   "metadata": {},
   "outputs": [],
   "source": [
    "# Building dataframe\n",
    "lfl = pd.DataFrame({\n",
    "    'latitude': latitude.flatten(),\n",
    "    'longitude': longitude.flatten(),\n",
    "    'flash_id': flash_id.flatten(),\n",
    "    'flash_time': epoch_to_datetime(flash_time),\n",
    "    'flash_duration(ms)': flash_duration.flatten(),\n",
    "    'flash_footprint(km2)': flash_footprint.flatten(),\n",
    "    'radiance(scaled)': radiance.flatten(),\n",
    "    'number_of_events': number_of_events.flatten(),\n",
    "    'number_of_groups': number_of_groups.flatten(),\n",
    "    'flash_filter_confidence(not_scaled)': flash_filter_confidence.flatten(),\n",
    "})"
   ]
  },
  {
   "cell_type": "markdown",
   "metadata": {},
   "source": [
    "Our dataframe is now generated:"
   ]
  },
  {
   "cell_type": "code",
   "execution_count": null,
   "metadata": {},
   "outputs": [],
   "source": [
    "lfl"
   ]
  },
  {
   "cell_type": "markdown",
   "metadata": {},
   "source": [
    "Finally, we can save them into a CSV file which is named as our product:"
   ]
  },
  {
   "cell_type": "code",
   "execution_count": null,
   "metadata": {},
   "outputs": [],
   "source": [
    "lfl.to_csv(file_to_convert[:-3] + '.csv')"
   ]
  },
  {
   "cell_type": "markdown",
   "metadata": {
    "Collapsed": "false"
   },
   "source": [
    "<hr>"
   ]
  },
  {
   "cell_type": "markdown",
   "metadata": {
    "Collapsed": "false"
   },
   "source": [
    "<p style=\"text-align:left;\">This project is licensed under the <a href=\"./LICENSE.TXT\">MIT License</a> <span style=\"float:right;\"><a href=\"https://gitlab.eumetsat.int/eumetlab/data-services/eumdac_data_store\">View on GitLab</a> | <a href=\"https://classroom.eumetsat.int/\">EUMETSAT Training</a> | <a href=mailto:ops@eumetsat.int>Contact</a></span></p>"
   ]
  }
 ],
 "metadata": {
  "kernelspec": {
   "display_name": "eumdac_data_store",
   "language": "python",
   "name": "eumdac_data_store"
  },
  "language_info": {
   "codemirror_mode": {
    "name": "ipython",
    "version": 3
   },
   "file_extension": ".py",
   "mimetype": "text/x-python",
   "name": "python",
   "nbconvert_exporter": "python",
   "pygments_lexer": "ipython3",
   "version": "3.10.18"
  },
  "vscode": {
   "interpreter": {
    "hash": "f61363903226f946a13497630069b9119a23165c9161346d2c3a6f0af415279b"
   }
  }
 },
 "nbformat": 4,
 "nbformat_minor": 4
}
