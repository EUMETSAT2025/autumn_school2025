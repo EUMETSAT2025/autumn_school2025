{
 "cells": [
  {
   "cell_type": "markdown",
   "metadata": {
    "Collapsed": "false"
   },
   "source": [
    "<img src='./img/DataStore_EUMETSAT.png'/>"
   ]
  },
  {
   "cell_type": "markdown",
   "metadata": {},
   "source": [
    "Copyright (c) 2024 EUMETSAT <br>\n",
    "License: MIT"
   ]
  },
  {
   "cell_type": "markdown",
   "metadata": {
    "Collapsed": "false"
   },
   "source": [
    "<hr>"
   ]
  },
  {
   "cell_type": "markdown",
   "metadata": {},
   "source": [
    "# Accessing MTG LI Level 2 products"
   ]
  },
  {
   "cell_type": "markdown",
   "metadata": {},
   "source": [
    "### Data used\n",
    "\n",
    "| Product Description  | Data Store collection ID| Data Store |\n",
    "|:--------------------:|:-----------------------:|:-----------------:|\n",
    "| LI Accumulated Flashes - MTG - 0 degree | EO:EUM:DAT:0686 | [link](https://data.eumetsat.int/product/EO:EUM:DAT:0686) |\n",
    "| LI Accumulated Flash Area - MTG - 0 degree | EO:EUM:DAT:0687 | [link](https://data.eumetsat.int/product/EO:EUM:DAT:0687) |\n",
    "| LI Accumulated Flash Radiance - MTG - 0 degree | EO:EUM:DAT:0688 | [link](https://data.eumetsat.int/product/EO:EUM:DAT:0688) |\n",
    "| LI Lightning Events - MTG - 0 degree | EO:EUM:DAT:0690 | [link](https://data.eumetsat.int/data/map/EO:EUM:DAT:0690)\n",
    "| LI Lightning Flashes - MTG - 0 degree | EO:EUM:DAT:0691 | [link](https://data.eumetsat.int/product/EO:EUM:DAT:0691) |\n",
    "| Lightning groups, full disc coverage - MTG | EO:EUM:DAT:0782 | [link](https://data.eumetsat.int/product/EO:EUM:DAT:0782) |\n",
    "\n",
    "### Learning outcomes\n",
    "\n",
    "At the end of this notebook you will know;\n",
    "* How to refine your **searches** for MTG LI products in the EUMETSAT Data Store using the `eumdac` API client\n",
    "* How to **download** products from your refined search results\n",
    "* How to **convert** products into CSV format\n",
    "* How to product's **convert epoch time** into datetime\n",
    "* How MTG LI data is **structured and organised**"
   ]
  },
  {
   "cell_type": "markdown",
   "metadata": {},
   "source": [
    "## Selecting a collection"
   ]
  },
  {
   "cell_type": "markdown",
   "metadata": {},
   "source": [
    "As usual, we begin by importing our required modules."
   ]
  },
  {
   "cell_type": "code",
   "execution_count": 1,
   "metadata": {},
   "outputs": [],
   "source": [
    "import eumdac\n",
    "import datetime\n",
    "import shutil\n",
    "import fnmatch\n",
    "import requests\n",
    "import time\n",
    "import os\n",
    "import glob\n",
    "import zipfile\n",
    "import pandas as pd\n",
    "import netCDF4"
   ]
  },
  {
   "cell_type": "markdown",
   "metadata": {},
   "source": [
    "Now, we have to authorize with our personal credentials to generate the token."
   ]
  },
  {
   "cell_type": "code",
   "execution_count": 2,
   "metadata": {},
   "outputs": [
    {
     "name": "stdout",
     "output_type": "stream",
     "text": [
      "This token 'cfbed384-aa58-33a6-ae4c-406340b88935' expires 2025-10-23 14:13:50.432065\n"
     ]
    }
   ],
   "source": [
    "# Insert your personal key and secret into the single quotes\n",
    "consumer_key = 'YOUR_CONSUMER_KEY'\n",
    "consumer_secret = 'YOUR_CONSUMER_SECRET'\n",
    "consumer_key = 'zbLPAxTQtOS5IZ9k0PrBLDlXGJwa'\n",
    "consumer_secret = '6fSKOlY2fWG80gwBmHdT9mphDB4a'\n",
    "credentials = (consumer_key, consumer_secret)\n",
    "\n",
    "token = eumdac.AccessToken(credentials)\n",
    "\n",
    "try:\n",
    "    print(f\"This token '{token}' expires {token.expiration}\")\n",
    "except requests.exceptions.HTTPError as error:\n",
    "    print(f\"Unexpected error: {error}\")"
   ]
  },
  {
   "cell_type": "markdown",
   "metadata": {},
   "source": [
    "<div class=\"alert alert-block alert-success\">\n",
    "<b>NOTE:</b><br />\n",
    "You can find your personal API credentials here: <a href=\"https://api.eumetsat.int/api-key/\">https://api.eumetsat.int/api-key/</a>\n",
    "</div>\n",
    "\n",
    "The previous tutorial in this repository showing also how to list and find desired collections with EUMDAC. As we are focussing now on MTG LI collections, we are selecting the LI Lightning Flashes collection directly:"
   ]
  },
  {
   "cell_type": "code",
   "execution_count": 3,
   "metadata": {},
   "outputs": [],
   "source": [
    "datastore = eumdac.DataStore(token)\n",
    "selected_collection = datastore.get_collection('EO:EUM:DAT:0691')"
   ]
  },
  {
   "cell_type": "markdown",
   "metadata": {},
   "source": [
    "*All publicly available MTG Lightning Imager collections, can also be in the [Data Store](https://data.eumetsat.int/extended?query=&filter=satellite__MTG&filter=instrument_type__Lightning%20Imager&filter=instrument__LI&filter=distribution__Download&filter=themes__Level%202%20Data).*"
   ]
  },
  {
   "cell_type": "markdown",
   "metadata": {},
   "source": [
    "## Filtering and downloading products based on time interval\n",
    "\n",
    "Previously we also covered how to filter collections for products of interest using both time and space. As MTG LI products are GEO products, there is no need for us to set a bounding box. However, we are going to perform a similar operation using time filtering so that we can set up a download. \n",
    "\n",
    "So, lets run our query to get the IDs for our products that are sensed within a full day (24 hour)."
   ]
  },
  {
   "cell_type": "code",
   "execution_count": 4,
   "metadata": {
    "scrolled": true
   },
   "outputs": [
    {
     "name": "stdout",
     "output_type": "stream",
     "text": [
      "141 products found:\n",
      "W_XX-EUMETSAT-Darmstadt,IMG+SAT,MTI1+LI-2-LFL--FD--x-x--ARC-x_C_EUMT_20241030000017_L2PF_OPE_20241029235003_20241030000003_N__C_0144_0000\n",
      "W_XX-EUMETSAT-Darmstadt,IMG+SAT,MTI1+LI-2-LFL--FD--x-x--ARC-x_C_EUMT_20241029235019_L2PF_OPE_20241029234003_20241029235003_N__C_0143_0000\n",
      "W_XX-EUMETSAT-Darmstadt,IMG+SAT,MTI1+LI-2-LFL--FD--x-x--ARC-x_C_EUMT_20241029234019_L2PF_OPE_20241029233003_20241029234003_N__C_0142_0000\n",
      "W_XX-EUMETSAT-Darmstadt,IMG+SAT,MTI1+LI-2-LFL--FD--x-x--ARC-x_C_EUMT_20241029233017_L2PF_OPE_20241029232003_20241029233003_N__C_0141_0000\n",
      "W_XX-EUMETSAT-Darmstadt,IMG+SAT,MTI1+LI-2-LFL--FD--x-x--ARC-x_C_EUMT_20241029232017_L2PF_OPE_20241029231003_20241029232003_N__C_0140_0000\n",
      "W_XX-EUMETSAT-Darmstadt,IMG+SAT,MTI1+LI-2-LFL--FD--x-x--ARC-x_C_EUMT_20241029231015_L2PF_OPE_20241029230003_20241029231003_N__C_0139_0000\n",
      "W_XX-EUMETSAT-Darmstadt,IMG+SAT,MTI1+LI-2-LFL--FD--x-x--ARC-x_C_EUMT_20241029230016_L2PF_OPE_20241029225003_20241029230003_N__C_0138_0000\n",
      "W_XX-EUMETSAT-Darmstadt,IMG+SAT,MTI1+LI-2-LFL--FD--x-x--ARC-x_C_EUMT_20241029225016_L2PF_OPE_20241029224003_20241029225003_N__C_0137_0000\n",
      "W_XX-EUMETSAT-Darmstadt,IMG+SAT,MTI1+LI-2-LFL--FD--x-x--ARC-x_C_EUMT_20241029224016_L2PF_OPE_20241029223003_20241029224003_N__C_0136_0000\n",
      "W_XX-EUMETSAT-Darmstadt,IMG+SAT,MTI1+LI-2-LFL--FD--x-x--ARC-x_C_EUMT_20241029223015_L2PF_OPE_20241029222003_20241029223003_N__C_0135_0000\n",
      "W_XX-EUMETSAT-Darmstadt,IMG+SAT,MTI1+LI-2-LFL--FD--x-x--ARC-x_C_EUMT_20241029222015_L2PF_OPE_20241029221003_20241029222003_N__C_0134_0000\n",
      "W_XX-EUMETSAT-Darmstadt,IMG+SAT,MTI1+LI-2-LFL--FD--x-x--ARC-x_C_EUMT_20241029221016_L2PF_OPE_20241029220003_20241029221003_N__C_0133_0000\n",
      "W_XX-EUMETSAT-Darmstadt,IMG+SAT,MTI1+LI-2-LFL--FD--x-x--ARC-x_C_EUMT_20241029220016_L2PF_OPE_20241029215003_20241029220003_N__C_0132_0000\n",
      "W_XX-EUMETSAT-Darmstadt,IMG+SAT,MTI1+LI-2-LFL--FD--x-x--ARC-x_C_EUMT_20241029215016_L2PF_OPE_20241029214003_20241029215003_N__C_0131_0000\n",
      "W_XX-EUMETSAT-Darmstadt,IMG+SAT,MTI1+LI-2-LFL--FD--x-x--ARC-x_C_EUMT_20241029214015_L2PF_OPE_20241029213003_20241029214003_N__C_0130_0000\n",
      "W_XX-EUMETSAT-Darmstadt,IMG+SAT,MTI1+LI-2-LFL--FD--x-x--ARC-x_C_EUMT_20241029213017_L2PF_OPE_20241029212003_20241029213003_N__C_0129_0000\n",
      "W_XX-EUMETSAT-Darmstadt,IMG+SAT,MTI1+LI-2-LFL--FD--x-x--ARC-x_C_EUMT_20241029212016_L2PF_OPE_20241029211003_20241029212003_N__C_0128_0000\n",
      "W_XX-EUMETSAT-Darmstadt,IMG+SAT,MTI1+LI-2-LFL--FD--x-x--ARC-x_C_EUMT_20241029211017_L2PF_OPE_20241029210003_20241029211003_N__C_0127_0000\n",
      "W_XX-EUMETSAT-Darmstadt,IMG+SAT,MTI1+LI-2-LFL--FD--x-x--ARC-x_C_EUMT_20241029210017_L2PF_OPE_20241029205003_20241029210003_N__C_0126_0000\n",
      "W_XX-EUMETSAT-Darmstadt,IMG+SAT,MTI1+LI-2-LFL--FD--x-x--ARC-x_C_EUMT_20241029205018_L2PF_OPE_20241029204003_20241029205003_N__C_0125_0000\n",
      "W_XX-EUMETSAT-Darmstadt,IMG+SAT,MTI1+LI-2-LFL--FD--x-x--ARC-x_C_EUMT_20241029204017_L2PF_OPE_20241029203003_20241029204003_N__C_0124_0000\n",
      "W_XX-EUMETSAT-Darmstadt,IMG+SAT,MTI1+LI-2-LFL--FD--x-x--ARC-x_C_EUMT_20241029203017_L2PF_OPE_20241029202003_20241029203003_N__C_0123_0000\n",
      "W_XX-EUMETSAT-Darmstadt,IMG+SAT,MTI1+LI-2-LFL--FD--x-x--ARC-x_C_EUMT_20241029202017_L2PF_OPE_20241029201003_20241029202003_N__C_0122_0000\n",
      "W_XX-EUMETSAT-Darmstadt,IMG+SAT,MTI1+LI-2-LFL--FD--x-x--ARC-x_C_EUMT_20241029201018_L2PF_OPE_20241029200003_20241029201003_N__C_0121_0000\n",
      "W_XX-EUMETSAT-Darmstadt,IMG+SAT,MTI1+LI-2-LFL--FD--x-x--ARC-x_C_EUMT_20241029200017_L2PF_OPE_20241029195003_20241029200003_N__C_0120_0000\n",
      "W_XX-EUMETSAT-Darmstadt,IMG+SAT,MTI1+LI-2-LFL--FD--x-x--ARC-x_C_EUMT_20241029195017_L2PF_OPE_20241029194003_20241029195003_N__C_0119_0000\n",
      "W_XX-EUMETSAT-Darmstadt,IMG+SAT,MTI1+LI-2-LFL--FD--x-x--ARC-x_C_EUMT_20241029194018_L2PF_OPE_20241029193003_20241029194003_N__C_0118_0000\n",
      "W_XX-EUMETSAT-Darmstadt,IMG+SAT,MTI1+LI-2-LFL--FD--x-x--ARC-x_C_EUMT_20241029193018_L2PF_OPE_20241029192003_20241029193003_N__C_0117_0000\n",
      "W_XX-EUMETSAT-Darmstadt,IMG+SAT,MTI1+LI-2-LFL--FD--x-x--ARC-x_C_EUMT_20241029192018_L2PF_OPE_20241029191003_20241029192003_N__C_0116_0000\n",
      "W_XX-EUMETSAT-Darmstadt,IMG+SAT,MTI1+LI-2-LFL--FD--x-x--ARC-x_C_EUMT_20241029191019_L2PF_OPE_20241029190003_20241029191003_N__C_0115_0000\n",
      "W_XX-EUMETSAT-Darmstadt,IMG+SAT,MTI1+LI-2-LFL--FD--x-x--ARC-x_C_EUMT_20241029190019_L2PF_OPE_20241029185003_20241029190003_N__C_0114_0000\n",
      "W_XX-EUMETSAT-Darmstadt,IMG+SAT,MTI1+LI-2-LFL--FD--x-x--ARC-x_C_EUMT_20241029185018_L2PF_OPE_20241029184003_20241029185003_N__C_0113_0000\n",
      "W_XX-EUMETSAT-Darmstadt,IMG+SAT,MTI1+LI-2-LFL--FD--x-x--ARC-x_C_EUMT_20241029184020_L2PF_OPE_20241029183003_20241029184003_N__C_0112_0000\n",
      "W_XX-EUMETSAT-Darmstadt,IMG+SAT,MTI1+LI-2-LFL--FD--x-x--ARC-x_C_EUMT_20241029183019_L2PF_OPE_20241029182003_20241029183003_N__C_0111_0000\n",
      "W_XX-EUMETSAT-Darmstadt,IMG+SAT,MTI1+LI-2-LFL--FD--x-x--ARC-x_C_EUMT_20241029182020_L2PF_OPE_20241029181003_20241029182003_N__C_0110_0000\n",
      "W_XX-EUMETSAT-Darmstadt,IMG+SAT,MTI1+LI-2-LFL--FD--x-x--ARC-x_C_EUMT_20241029181019_L2PF_OPE_20241029180003_20241029181003_N__C_0109_0000\n",
      "W_XX-EUMETSAT-Darmstadt,IMG+SAT,MTI1+LI-2-LFL--FD--x-x--ARC-x_C_EUMT_20241029180020_L2PF_OPE_20241029175003_20241029180003_N__C_0108_0000\n",
      "W_XX-EUMETSAT-Darmstadt,IMG+SAT,MTI1+LI-2-LFL--FD--x-x--ARC-x_C_EUMT_20241029175020_L2PF_OPE_20241029174003_20241029175003_N__C_0107_0000\n",
      "W_XX-EUMETSAT-Darmstadt,IMG+SAT,MTI1+LI-2-LFL--FD--x-x--ARC-x_C_EUMT_20241029174021_L2PF_OPE_20241029173003_20241029174003_N__C_0106_0000\n",
      "W_XX-EUMETSAT-Darmstadt,IMG+SAT,MTI1+LI-2-LFL--FD--x-x--ARC-x_C_EUMT_20241029173020_L2PF_OPE_20241029172003_20241029173003_N__C_0105_0000\n",
      "W_XX-EUMETSAT-Darmstadt,IMG+SAT,MTI1+LI-2-LFL--FD--x-x--ARC-x_C_EUMT_20241029172020_L2PF_OPE_20241029171003_20241029172003_N__C_0104_0000\n",
      "W_XX-EUMETSAT-Darmstadt,IMG+SAT,MTI1+LI-2-LFL--FD--x-x--ARC-x_C_EUMT_20241029171021_L2PF_OPE_20241029170003_20241029171003_N__C_0103_0000\n",
      "W_XX-EUMETSAT-Darmstadt,IMG+SAT,MTI1+LI-2-LFL--FD--x-x--ARC-x_C_EUMT_20241029170021_L2PF_OPE_20241029165003_20241029170003_N__C_0102_0000\n",
      "W_XX-EUMETSAT-Darmstadt,IMG+SAT,MTI1+LI-2-LFL--FD--x-x--ARC-x_C_EUMT_20241029165022_L2PF_OPE_20241029164113_20241029165003_N__C_0101_0000\n",
      "W_XX-EUMETSAT-Darmstadt,IMG+SAT,MTI1+LI-2-LFL--FD--x-x--ARC-x_C_EUMT_20241029163021_L2PF_OPE_20241029162003_20241029163003_N__C_0099_0000\n",
      "W_XX-EUMETSAT-Darmstadt,IMG+SAT,MTI1+LI-2-LFL--FD--x-x--ARC-x_C_EUMT_20241029162021_L2PF_OPE_20241029161003_20241029162003_N__C_0098_0000\n",
      "W_XX-EUMETSAT-Darmstadt,IMG+SAT,MTI1+LI-2-LFL--FD--x-x--ARC-x_C_EUMT_20241029161021_L2PF_OPE_20241029160003_20241029161003_N__C_0097_0000\n",
      "W_XX-EUMETSAT-Darmstadt,IMG+SAT,MTI1+LI-2-LFL--FD--x-x--ARC-x_C_EUMT_20241029160020_L2PF_OPE_20241029155003_20241029160003_N__C_0096_0000\n",
      "W_XX-EUMETSAT-Darmstadt,IMG+SAT,MTI1+LI-2-LFL--FD--x-x--ARC-x_C_EUMT_20241029155021_L2PF_OPE_20241029154003_20241029155003_N__C_0095_0000\n",
      "W_XX-EUMETSAT-Darmstadt,IMG+SAT,MTI1+LI-2-LFL--FD--x-x--ARC-x_C_EUMT_20241029154020_L2PF_OPE_20241029153003_20241029154003_N__C_0094_0000\n",
      "W_XX-EUMETSAT-Darmstadt,IMG+SAT,MTI1+LI-2-LFL--FD--x-x--ARC-x_C_EUMT_20241029153021_L2PF_OPE_20241029152003_20241029153003_N__C_0093_0000\n",
      "W_XX-EUMETSAT-Darmstadt,IMG+SAT,MTI1+LI-2-LFL--FD--x-x--ARC-x_C_EUMT_20241029152019_L2PF_OPE_20241029151003_20241029152003_N__C_0092_0000\n",
      "W_XX-EUMETSAT-Darmstadt,IMG+SAT,MTI1+LI-2-LFL--FD--x-x--ARC-x_C_EUMT_20241029151020_L2PF_OPE_20241029150003_20241029151003_N__C_0091_0000\n",
      "W_XX-EUMETSAT-Darmstadt,IMG+SAT,MTI1+LI-2-LFL--FD--x-x--ARC-x_C_EUMT_20241029150020_L2PF_OPE_20241029145003_20241029150003_N__C_0090_0000\n",
      "W_XX-EUMETSAT-Darmstadt,IMG+SAT,MTI1+LI-2-LFL--FD--x-x--ARC-x_C_EUMT_20241029145020_L2PF_OPE_20241029144003_20241029145003_N__C_0089_0000\n",
      "W_XX-EUMETSAT-Darmstadt,IMG+SAT,MTI1+LI-2-LFL--FD--x-x--ARC-x_C_EUMT_20241029144020_L2PF_OPE_20241029143003_20241029144003_N__C_0088_0000\n",
      "W_XX-EUMETSAT-Darmstadt,IMG+SAT,MTI1+LI-2-LFL--FD--x-x--ARC-x_C_EUMT_20241029143021_L2PF_OPE_20241029142543_20241029143003_N__C_0087_0000\n",
      "W_XX-EUMETSAT-Darmstadt,IMG+SAT,MTI1+LI-2-LFL--FD--x-x--ARC-x_C_EUMT_20241029140026_L2PF_OPE_20241029135003_20241029140003_N__T_0084_0000\n",
      "W_XX-EUMETSAT-Darmstadt,IMG+SAT,MTI1+LI-2-LFL--FD--x-x--ARC-x_C_EUMT_20241029135024_L2PF_OPE_20241029134003_20241029135003_N__T_0083_0000\n",
      "W_XX-EUMETSAT-Darmstadt,IMG+SAT,MTI1+LI-2-LFL--FD--x-x--ARC-x_C_EUMT_20241029134023_L2PF_OPE_20241029133003_20241029134003_N__T_0082_0000\n",
      "W_XX-EUMETSAT-Darmstadt,IMG+SAT,MTI1+LI-2-LFL--FD--x-x--ARC-x_C_EUMT_20241029133022_L2PF_OPE_20241029132003_20241029133003_N__T_0081_0000\n",
      "W_XX-EUMETSAT-Darmstadt,IMG+SAT,MTI1+LI-2-LFL--FD--x-x--ARC-x_C_EUMT_20241029132023_L2PF_OPE_20241029131003_20241029132003_N__T_0080_0000\n",
      "W_XX-EUMETSAT-Darmstadt,IMG+SAT,MTI1+LI-2-LFL--FD--x-x--ARC-x_C_EUMT_20241029131026_L2PF_OPE_20241029130003_20241029131003_N__T_0079_0000\n",
      "W_XX-EUMETSAT-Darmstadt,IMG+SAT,MTI1+LI-2-LFL--FD--x-x--ARC-x_C_EUMT_20241029130022_L2PF_OPE_20241029125003_20241029130003_N__T_0078_0000\n",
      "W_XX-EUMETSAT-Darmstadt,IMG+SAT,MTI1+LI-2-LFL--FD--x-x--ARC-x_C_EUMT_20241029125024_L2PF_OPE_20241029124003_20241029125003_N__T_0077_0000\n",
      "W_XX-EUMETSAT-Darmstadt,IMG+SAT,MTI1+LI-2-LFL--FD--x-x--ARC-x_C_EUMT_20241029124021_L2PF_OPE_20241029123003_20241029124003_N__T_0076_0000\n",
      "W_XX-EUMETSAT-Darmstadt,IMG+SAT,MTI1+LI-2-LFL--FD--x-x--ARC-x_C_EUMT_20241029123023_L2PF_OPE_20241029122003_20241029123003_N__T_0075_0000\n",
      "W_XX-EUMETSAT-Darmstadt,IMG+SAT,MTI1+LI-2-LFL--FD--x-x--ARC-x_C_EUMT_20241029122021_L2PF_OPE_20241029121003_20241029122003_N__T_0074_0000\n",
      "W_XX-EUMETSAT-Darmstadt,IMG+SAT,MTI1+LI-2-LFL--FD--x-x--ARC-x_C_EUMT_20241029121021_L2PF_OPE_20241029120003_20241029121003_N__T_0073_0000\n",
      "W_XX-EUMETSAT-Darmstadt,IMG+SAT,MTI1+LI-2-LFL--FD--x-x--ARC-x_C_EUMT_20241029120023_L2PF_OPE_20241029115003_20241029120003_N__T_0072_0000\n",
      "W_XX-EUMETSAT-Darmstadt,IMG+SAT,MTI1+LI-2-LFL--FD--x-x--ARC-x_C_EUMT_20241029115021_L2PF_OPE_20241029114003_20241029115003_N__T_0071_0000\n",
      "W_XX-EUMETSAT-Darmstadt,IMG+SAT,MTI1+LI-2-LFL--FD--x-x--ARC-x_C_EUMT_20241029114021_L2PF_OPE_20241029113003_20241029114003_N__T_0070_0000\n",
      "W_XX-EUMETSAT-Darmstadt,IMG+SAT,MTI1+LI-2-LFL--FD--x-x--ARC-x_C_EUMT_20241029113022_L2PF_OPE_20241029112003_20241029113003_N__T_0069_0000\n",
      "W_XX-EUMETSAT-Darmstadt,IMG+SAT,MTI1+LI-2-LFL--FD--x-x--ARC-x_C_EUMT_20241029112021_L2PF_OPE_20241029111003_20241029112003_N__T_0068_0000\n",
      "W_XX-EUMETSAT-Darmstadt,IMG+SAT,MTI1+LI-2-LFL--FD--x-x--ARC-x_C_EUMT_20241029111021_L2PF_OPE_20241029110003_20241029111003_N__T_0067_0000\n",
      "W_XX-EUMETSAT-Darmstadt,IMG+SAT,MTI1+LI-2-LFL--FD--x-x--ARC-x_C_EUMT_20241029110020_L2PF_OPE_20241029105003_20241029110003_N__T_0066_0000\n",
      "W_XX-EUMETSAT-Darmstadt,IMG+SAT,MTI1+LI-2-LFL--FD--x-x--ARC-x_C_EUMT_20241029105020_L2PF_OPE_20241029104003_20241029105003_N__T_0065_0000\n",
      "W_XX-EUMETSAT-Darmstadt,IMG+SAT,MTI1+LI-2-LFL--FD--x-x--ARC-x_C_EUMT_20241029104021_L2PF_OPE_20241029103003_20241029104003_N__T_0064_0000\n",
      "W_XX-EUMETSAT-Darmstadt,IMG+SAT,MTI1+LI-2-LFL--FD--x-x--ARC-x_C_EUMT_20241029103020_L2PF_OPE_20241029102003_20241029103003_N__T_0063_0000\n",
      "W_XX-EUMETSAT-Darmstadt,IMG+SAT,MTI1+LI-2-LFL--FD--x-x--ARC-x_C_EUMT_20241029102021_L2PF_OPE_20241029101003_20241029102003_N__T_0062_0000\n",
      "W_XX-EUMETSAT-Darmstadt,IMG+SAT,MTI1+LI-2-LFL--FD--x-x--ARC-x_C_EUMT_20241029101020_L2PF_OPE_20241029100003_20241029101003_N__T_0061_0000\n",
      "W_XX-EUMETSAT-Darmstadt,IMG+SAT,MTI1+LI-2-LFL--FD--x-x--ARC-x_C_EUMT_20241029100020_L2PF_OPE_20241029095003_20241029100003_N__T_0060_0000\n",
      "W_XX-EUMETSAT-Darmstadt,IMG+SAT,MTI1+LI-2-LFL--FD--x-x--ARC-x_C_EUMT_20241029095020_L2PF_OPE_20241029094003_20241029095003_N__T_0059_0000\n",
      "W_XX-EUMETSAT-Darmstadt,IMG+SAT,MTI1+LI-2-LFL--FD--x-x--ARC-x_C_EUMT_20241029094019_L2PF_OPE_20241029093003_20241029094003_N__T_0058_0000\n",
      "W_XX-EUMETSAT-Darmstadt,IMG+SAT,MTI1+LI-2-LFL--FD--x-x--ARC-x_C_EUMT_20241029093020_L2PF_OPE_20241029092003_20241029093003_N__T_0057_0000\n",
      "W_XX-EUMETSAT-Darmstadt,IMG+SAT,MTI1+LI-2-LFL--FD--x-x--ARC-x_C_EUMT_20241029092021_L2PF_OPE_20241029091003_20241029092003_N__T_0056_0000\n",
      "W_XX-EUMETSAT-Darmstadt,IMG+SAT,MTI1+LI-2-LFL--FD--x-x--ARC-x_C_EUMT_20241029091021_L2PF_OPE_20241029090003_20241029091003_N__T_0055_0000\n",
      "W_XX-EUMETSAT-Darmstadt,IMG+SAT,MTI1+LI-2-LFL--FD--x-x--ARC-x_C_EUMT_20241029090020_L2PF_OPE_20241029085003_20241029090003_N__T_0054_0000\n",
      "W_XX-EUMETSAT-Darmstadt,IMG+SAT,MTI1+LI-2-LFL--FD--x-x--ARC-x_C_EUMT_20241029085020_L2PF_OPE_20241029084003_20241029085003_N__T_0053_0000\n",
      "W_XX-EUMETSAT-Darmstadt,IMG+SAT,MTI1+LI-2-LFL--FD--x-x--ARC-x_C_EUMT_20241029084020_L2PF_OPE_20241029083003_20241029084003_N__T_0052_0000\n",
      "W_XX-EUMETSAT-Darmstadt,IMG+SAT,MTI1+LI-2-LFL--FD--x-x--ARC-x_C_EUMT_20241029083021_L2PF_OPE_20241029082003_20241029083003_N__T_0051_0000\n",
      "W_XX-EUMETSAT-Darmstadt,IMG+SAT,MTI1+LI-2-LFL--FD--x-x--ARC-x_C_EUMT_20241029082019_L2PF_OPE_20241029081003_20241029082003_N__T_0050_0000\n",
      "W_XX-EUMETSAT-Darmstadt,IMG+SAT,MTI1+LI-2-LFL--FD--x-x--ARC-x_C_EUMT_20241029081021_L2PF_OPE_20241029080003_20241029081003_N__T_0049_0000\n",
      "W_XX-EUMETSAT-Darmstadt,IMG+SAT,MTI1+LI-2-LFL--FD--x-x--ARC-x_C_EUMT_20241029080020_L2PF_OPE_20241029075003_20241029080003_N__T_0048_0000\n",
      "W_XX-EUMETSAT-Darmstadt,IMG+SAT,MTI1+LI-2-LFL--FD--x-x--ARC-x_C_EUMT_20241029075018_L2PF_OPE_20241029074003_20241029075003_N__T_0047_0000\n",
      "W_XX-EUMETSAT-Darmstadt,IMG+SAT,MTI1+LI-2-LFL--FD--x-x--ARC-x_C_EUMT_20241029074019_L2PF_OPE_20241029073003_20241029074003_N__T_0046_0000\n",
      "W_XX-EUMETSAT-Darmstadt,IMG+SAT,MTI1+LI-2-LFL--FD--x-x--ARC-x_C_EUMT_20241029073019_L2PF_OPE_20241029072003_20241029073003_N__T_0045_0000\n",
      "W_XX-EUMETSAT-Darmstadt,IMG+SAT,MTI1+LI-2-LFL--FD--x-x--ARC-x_C_EUMT_20241029072021_L2PF_OPE_20241029071003_20241029072003_N__T_0044_0000\n",
      "W_XX-EUMETSAT-Darmstadt,IMG+SAT,MTI1+LI-2-LFL--FD--x-x--ARC-x_C_EUMT_20241029071018_L2PF_OPE_20241029070003_20241029071003_N__T_0043_0000\n",
      "W_XX-EUMETSAT-Darmstadt,IMG+SAT,MTI1+LI-2-LFL--FD--x-x--ARC-x_C_EUMT_20241029070018_L2PF_OPE_20241029065003_20241029070003_N__T_0042_0000\n",
      "W_XX-EUMETSAT-Darmstadt,IMG+SAT,MTI1+LI-2-LFL--FD--x-x--ARC-x_C_EUMT_20241029065018_L2PF_OPE_20241029064003_20241029065003_N__T_0041_0000\n",
      "W_XX-EUMETSAT-Darmstadt,IMG+SAT,MTI1+LI-2-LFL--FD--x-x--ARC-x_C_EUMT_20241029064019_L2PF_OPE_20241029063003_20241029064003_N__T_0040_0000\n",
      "W_XX-EUMETSAT-Darmstadt,IMG+SAT,MTI1+LI-2-LFL--FD--x-x--ARC-x_C_EUMT_20241029063017_L2PF_OPE_20241029062003_20241029063003_N__T_0039_0000\n",
      "W_XX-EUMETSAT-Darmstadt,IMG+SAT,MTI1+LI-2-LFL--FD--x-x--ARC-x_C_EUMT_20241029062017_L2PF_OPE_20241029061003_20241029062003_N__T_0038_0000\n",
      "W_XX-EUMETSAT-Darmstadt,IMG+SAT,MTI1+LI-2-LFL--FD--x-x--ARC-x_C_EUMT_20241029061018_L2PF_OPE_20241029060003_20241029061003_N__T_0037_0000\n",
      "W_XX-EUMETSAT-Darmstadt,IMG+SAT,MTI1+LI-2-LFL--FD--x-x--ARC-x_C_EUMT_20241029060017_L2PF_OPE_20241029055003_20241029060003_N__T_0036_0000\n",
      "W_XX-EUMETSAT-Darmstadt,IMG+SAT,MTI1+LI-2-LFL--FD--x-x--ARC-x_C_EUMT_20241029055017_L2PF_OPE_20241029054003_20241029055003_N__T_0035_0000\n",
      "W_XX-EUMETSAT-Darmstadt,IMG+SAT,MTI1+LI-2-LFL--FD--x-x--ARC-x_C_EUMT_20241029054017_L2PF_OPE_20241029053003_20241029054003_N__T_0034_0000\n",
      "W_XX-EUMETSAT-Darmstadt,IMG+SAT,MTI1+LI-2-LFL--FD--x-x--ARC-x_C_EUMT_20241029053019_L2PF_OPE_20241029052003_20241029053003_N__T_0033_0000\n",
      "W_XX-EUMETSAT-Darmstadt,IMG+SAT,MTI1+LI-2-LFL--FD--x-x--ARC-x_C_EUMT_20241029052016_L2PF_OPE_20241029051003_20241029052003_N__T_0032_0000\n",
      "W_XX-EUMETSAT-Darmstadt,IMG+SAT,MTI1+LI-2-LFL--FD--x-x--ARC-x_C_EUMT_20241029051016_L2PF_OPE_20241029050003_20241029051003_N__T_0031_0000\n",
      "W_XX-EUMETSAT-Darmstadt,IMG+SAT,MTI1+LI-2-LFL--FD--x-x--ARC-x_C_EUMT_20241029050018_L2PF_OPE_20241029045003_20241029050003_N__T_0030_0000\n",
      "W_XX-EUMETSAT-Darmstadt,IMG+SAT,MTI1+LI-2-LFL--FD--x-x--ARC-x_C_EUMT_20241029045017_L2PF_OPE_20241029044003_20241029045003_N__T_0029_0000\n",
      "W_XX-EUMETSAT-Darmstadt,IMG+SAT,MTI1+LI-2-LFL--FD--x-x--ARC-x_C_EUMT_20241029044016_L2PF_OPE_20241029043003_20241029044003_N__T_0028_0000\n",
      "W_XX-EUMETSAT-Darmstadt,IMG+SAT,MTI1+LI-2-LFL--FD--x-x--ARC-x_C_EUMT_20241029043016_L2PF_OPE_20241029042003_20241029043003_N__T_0027_0000\n",
      "W_XX-EUMETSAT-Darmstadt,IMG+SAT,MTI1+LI-2-LFL--FD--x-x--ARC-x_C_EUMT_20241029042016_L2PF_OPE_20241029041003_20241029042003_N__T_0026_0000\n",
      "W_XX-EUMETSAT-Darmstadt,IMG+SAT,MTI1+LI-2-LFL--FD--x-x--ARC-x_C_EUMT_20241029041017_L2PF_OPE_20241029040003_20241029041003_N__T_0025_0000\n",
      "W_XX-EUMETSAT-Darmstadt,IMG+SAT,MTI1+LI-2-LFL--FD--x-x--ARC-x_C_EUMT_20241029040015_L2PF_OPE_20241029035003_20241029040003_N__T_0024_0000\n",
      "W_XX-EUMETSAT-Darmstadt,IMG+SAT,MTI1+LI-2-LFL--FD--x-x--ARC-x_C_EUMT_20241029035016_L2PF_OPE_20241029034003_20241029035003_N__T_0023_0000\n",
      "W_XX-EUMETSAT-Darmstadt,IMG+SAT,MTI1+LI-2-LFL--FD--x-x--ARC-x_C_EUMT_20241029034015_L2PF_OPE_20241029033003_20241029034003_N__T_0022_0000\n",
      "W_XX-EUMETSAT-Darmstadt,IMG+SAT,MTI1+LI-2-LFL--FD--x-x--ARC-x_C_EUMT_20241029033016_L2PF_OPE_20241029032003_20241029033003_N__T_0021_0000\n",
      "W_XX-EUMETSAT-Darmstadt,IMG+SAT,MTI1+LI-2-LFL--FD--x-x--ARC-x_C_EUMT_20241029032015_L2PF_OPE_20241029031003_20241029032003_N__T_0020_0000\n",
      "W_XX-EUMETSAT-Darmstadt,IMG+SAT,MTI1+LI-2-LFL--FD--x-x--ARC-x_C_EUMT_20241029031015_L2PF_OPE_20241029030003_20241029031003_N__T_0019_0000\n",
      "W_XX-EUMETSAT-Darmstadt,IMG+SAT,MTI1+LI-2-LFL--FD--x-x--ARC-x_C_EUMT_20241029030015_L2PF_OPE_20241029025003_20241029030003_N__T_0018_0000\n",
      "W_XX-EUMETSAT-Darmstadt,IMG+SAT,MTI1+LI-2-LFL--FD--x-x--ARC-x_C_EUMT_20241029025015_L2PF_OPE_20241029024003_20241029025003_N__T_0017_0000\n",
      "W_XX-EUMETSAT-Darmstadt,IMG+SAT,MTI1+LI-2-LFL--FD--x-x--ARC-x_C_EUMT_20241029024015_L2PF_OPE_20241029023003_20241029024003_N__T_0016_0000\n",
      "W_XX-EUMETSAT-Darmstadt,IMG+SAT,MTI1+LI-2-LFL--FD--x-x--ARC-x_C_EUMT_20241029023015_L2PF_OPE_20241029022003_20241029023003_N__T_0015_0000\n",
      "W_XX-EUMETSAT-Darmstadt,IMG+SAT,MTI1+LI-2-LFL--FD--x-x--ARC-x_C_EUMT_20241029022015_L2PF_OPE_20241029021003_20241029022003_N__T_0014_0000\n",
      "W_XX-EUMETSAT-Darmstadt,IMG+SAT,MTI1+LI-2-LFL--FD--x-x--ARC-x_C_EUMT_20241029021015_L2PF_OPE_20241029020003_20241029021003_N__T_0013_0000\n",
      "W_XX-EUMETSAT-Darmstadt,IMG+SAT,MTI1+LI-2-LFL--FD--x-x--ARC-x_C_EUMT_20241029020015_L2PF_OPE_20241029015003_20241029020003_N__T_0012_0000\n",
      "W_XX-EUMETSAT-Darmstadt,IMG+SAT,MTI1+LI-2-LFL--FD--x-x--ARC-x_C_EUMT_20241029015015_L2PF_OPE_20241029014003_20241029015003_N__T_0011_0000\n",
      "W_XX-EUMETSAT-Darmstadt,IMG+SAT,MTI1+LI-2-LFL--FD--x-x--ARC-x_C_EUMT_20241029014015_L2PF_OPE_20241029013003_20241029014003_N__T_0010_0000\n",
      "W_XX-EUMETSAT-Darmstadt,IMG+SAT,MTI1+LI-2-LFL--FD--x-x--ARC-x_C_EUMT_20241029013017_L2PF_OPE_20241029012003_20241029013003_N__T_0009_0000\n",
      "W_XX-EUMETSAT-Darmstadt,IMG+SAT,MTI1+LI-2-LFL--FD--x-x--ARC-x_C_EUMT_20241029012015_L2PF_OPE_20241029011003_20241029012003_N__T_0008_0000\n",
      "W_XX-EUMETSAT-Darmstadt,IMG+SAT,MTI1+LI-2-LFL--FD--x-x--ARC-x_C_EUMT_20241029011016_L2PF_OPE_20241029010003_20241029011003_N__T_0007_0000\n",
      "W_XX-EUMETSAT-Darmstadt,IMG+SAT,MTI1+LI-2-LFL--FD--x-x--ARC-x_C_EUMT_20241029010015_L2PF_OPE_20241029005003_20241029010003_N__T_0006_0000\n",
      "W_XX-EUMETSAT-Darmstadt,IMG+SAT,MTI1+LI-2-LFL--FD--x-x--ARC-x_C_EUMT_20241029005015_L2PF_OPE_20241029004003_20241029005003_N__T_0005_0000\n",
      "W_XX-EUMETSAT-Darmstadt,IMG+SAT,MTI1+LI-2-LFL--FD--x-x--ARC-x_C_EUMT_20241029004015_L2PF_OPE_20241029003003_20241029004003_N__T_0004_0000\n",
      "W_XX-EUMETSAT-Darmstadt,IMG+SAT,MTI1+LI-2-LFL--FD--x-x--ARC-x_C_EUMT_20241029003015_L2PF_OPE_20241029002003_20241029003003_N__T_0003_0000\n",
      "W_XX-EUMETSAT-Darmstadt,IMG+SAT,MTI1+LI-2-LFL--FD--x-x--ARC-x_C_EUMT_20241029002016_L2PF_OPE_20241029001003_20241029002003_N__T_0002_0000\n",
      "W_XX-EUMETSAT-Darmstadt,IMG+SAT,MTI1+LI-2-LFL--FD--x-x--ARC-x_C_EUMT_20241029001016_L2PF_OPE_20241029000003_20241029001003_N__T_0001_0000\n"
     ]
    }
   ],
   "source": [
    "# Set date\n",
    "date = datetime.date(2024, 10, 29)\n",
    "#date = datetime.date(2025, 5, 15)\n",
    "# Retrieve datasets that match our filter\n",
    "products = selected_collection.search(\n",
    "    dtstart=datetime.datetime.combine(date, datetime.time(0, 0)),\n",
    "    dtend=datetime.datetime.combine(date, datetime.time(23, 59)),\n",
    "    title=f\"*_OPE_{date.strftime('%Y%m%d')}*_*\")\n",
    "\n",
    "print(f\"{products.total_results} products found:\")\n",
    "\n",
    "for product in products:\n",
    "    try:\n",
    "        print(product)\n",
    "    except eumdac.collection.CollectionError as error:\n",
    "        print(f\"Error related to the collection: '{error.msg}'\")\n",
    "    except requests.exceptions.ConnectionError as error:\n",
    "        print(f\"Error related to the connection: '{error.msg}'\")\n",
    "    except requests.exceptions.RequestException as error:\n",
    "        print(f\"Unexpected error: {error}\")"
   ]
  },
  {
   "cell_type": "code",
   "execution_count": 5,
   "metadata": {},
   "outputs": [
    {
     "data": {
      "text/plain": [
       "{'bbox': {'title': 'Inventory which has a spatial extent overlapping this bounding box',\n",
       "  'options': []},\n",
       " 'geo': {'title': 'Inventory which has a spatial extent overlapping this Well Known Text geometry',\n",
       "  'options': []},\n",
       " 'title': {'title': 'Can be used to define a wildcard search on the product title (product identifier), use set notation as OR and space as AND operator between multiple search terms',\n",
       "  'options': [None]},\n",
       " 'sat': {'title': 'Mission / Satellite', 'options': ['MTI1']},\n",
       " 'type': {'title': 'Product Type', 'options': ['MTILI2LFL']},\n",
       " 'dtstart': {'title': 'Temporal Start', 'options': []},\n",
       " 'dtend': {'title': 'Temporal End', 'options': []},\n",
       " 'publication': {'title': 'publication date', 'options': []},\n",
       " 'coverage': {'title': 'Coverage', 'options': ['FD']},\n",
       " 'repeatCycleIdentifier': {'title': 'Repeat Cycle', 'options': []},\n",
       " 'centerOfLongitude': {'title': 'Sub Sat Longitude', 'options': ['0.0']},\n",
       " 'sort': {'title': 'SRU sort keys, see OpenSearch Extension for EO for details',\n",
       "  'options': ['publicationDate', 'start,time']},\n",
       " 'set': {'title': 'element set to return for each hit, default is full',\n",
       "  'options': ['full', 'brief']}}"
      ]
     },
     "execution_count": 5,
     "metadata": {},
     "output_type": "execute_result"
    }
   ],
   "source": [
    "selected_collection.search_options"
   ]
  },
  {
   "cell_type": "markdown",
   "metadata": {},
   "source": [
    "Now we have a list of all products acquired within a full day. In the following sections we will look at ways of downloading these.\n",
    "\n",
    "The MTG Lighting Imager is continiously sensing. To make the data faster available to users, the products are published in chunks. The Data Store is publishing products with a chunk size of 10 minutes. Means, every 10 minutes a new MTG LI product get's published in EUMETSATs Data Store.\n",
    "\n",
    "In the file name a 4-digit number (right-justified, zero-filled) indicating the current group repeat cycle in the day for this particular dataset. For LI, which does not have a natural repeat cycle, this is expected to correspond to the number of accumulation interval for the archived data (every 10 minutes in Data Store).\n",
    "\n",
    "The counter starts at 0001 for the first group accumulation interval at or after midnight and resets for the next group accumulation interval at or after the following midnight.\n",
    "\n",
    "This value can be used to associate all chunks of a repeat cycle dataset and aggregate them into a full day product."
   ]
  },
  {
   "cell_type": "markdown",
   "metadata": {},
   "source": [
    "<div class=\"alert alert-block alert-success\">\n",
    "<b>NOTE:</b><br />\n",
    "The MTG products following the <i>WMO file naming convention</i>. You can find more information about this in our User Portal guide: <a href=\"https://user.eumetsat.int/resources/user-guides/mtg-li-level-2-data-guide#ID-Naming-convention\">https://user.eumetsat.int/resources/user-guides/mtg-li-level-2-data-guide#ID-Naming-convention</a>\n",
    "</div>"
   ]
  },
  {
   "cell_type": "markdown",
   "metadata": {},
   "source": [
    "## Download products"
   ]
  },
  {
   "cell_type": "markdown",
   "metadata": {},
   "source": [
    "We have found our relevant products. Now we would like to download all of them without having to select every single product. For this we can simply loop over the products and save the products as files in our directory."
   ]
  },
  {
   "cell_type": "code",
   "execution_count": 6,
   "metadata": {},
   "outputs": [],
   "source": [
    "# Define download directory\n",
    "download_dir = 'downloads/'"
   ]
  },
  {
   "cell_type": "code",
   "execution_count": 9,
   "metadata": {
    "scrolled": true
   },
   "outputs": [
    {
     "name": "stdout",
     "output_type": "stream",
     "text": [
      "Download of product W_XX-EUMETSAT-Darmstadt,IMG+SAT,MTI1+LI-2-LFL--FD--x-x--ARC-x_C_EUMT_20241030000017_L2PF_OPE_20241029235003_20241030000003_N__C_0144_0000 finished.\n",
      "Download of product W_XX-EUMETSAT-Darmstadt,IMG+SAT,MTI1+LI-2-LFL--FD--x-x--ARC-x_C_EUMT_20241029235019_L2PF_OPE_20241029234003_20241029235003_N__C_0143_0000 finished.\n",
      "Download of product W_XX-EUMETSAT-Darmstadt,IMG+SAT,MTI1+LI-2-LFL--FD--x-x--ARC-x_C_EUMT_20241029234019_L2PF_OPE_20241029233003_20241029234003_N__C_0142_0000 finished.\n",
      "Download of product W_XX-EUMETSAT-Darmstadt,IMG+SAT,MTI1+LI-2-LFL--FD--x-x--ARC-x_C_EUMT_20241029233017_L2PF_OPE_20241029232003_20241029233003_N__C_0141_0000 finished.\n",
      "Download of product W_XX-EUMETSAT-Darmstadt,IMG+SAT,MTI1+LI-2-LFL--FD--x-x--ARC-x_C_EUMT_20241029232017_L2PF_OPE_20241029231003_20241029232003_N__C_0140_0000 finished.\n",
      "Download of product W_XX-EUMETSAT-Darmstadt,IMG+SAT,MTI1+LI-2-LFL--FD--x-x--ARC-x_C_EUMT_20241029231015_L2PF_OPE_20241029230003_20241029231003_N__C_0139_0000 finished.\n",
      "Download of product W_XX-EUMETSAT-Darmstadt,IMG+SAT,MTI1+LI-2-LFL--FD--x-x--ARC-x_C_EUMT_20241029230016_L2PF_OPE_20241029225003_20241029230003_N__C_0138_0000 finished.\n",
      "Download of product W_XX-EUMETSAT-Darmstadt,IMG+SAT,MTI1+LI-2-LFL--FD--x-x--ARC-x_C_EUMT_20241029225016_L2PF_OPE_20241029224003_20241029225003_N__C_0137_0000 finished.\n",
      "Download of product W_XX-EUMETSAT-Darmstadt,IMG+SAT,MTI1+LI-2-LFL--FD--x-x--ARC-x_C_EUMT_20241029224016_L2PF_OPE_20241029223003_20241029224003_N__C_0136_0000 finished.\n",
      "Download of product W_XX-EUMETSAT-Darmstadt,IMG+SAT,MTI1+LI-2-LFL--FD--x-x--ARC-x_C_EUMT_20241029223015_L2PF_OPE_20241029222003_20241029223003_N__C_0135_0000 finished.\n",
      "Download of product W_XX-EUMETSAT-Darmstadt,IMG+SAT,MTI1+LI-2-LFL--FD--x-x--ARC-x_C_EUMT_20241029222015_L2PF_OPE_20241029221003_20241029222003_N__C_0134_0000 finished.\n",
      "Download of product W_XX-EUMETSAT-Darmstadt,IMG+SAT,MTI1+LI-2-LFL--FD--x-x--ARC-x_C_EUMT_20241029221016_L2PF_OPE_20241029220003_20241029221003_N__C_0133_0000 finished.\n",
      "Download of product W_XX-EUMETSAT-Darmstadt,IMG+SAT,MTI1+LI-2-LFL--FD--x-x--ARC-x_C_EUMT_20241029220016_L2PF_OPE_20241029215003_20241029220003_N__C_0132_0000 finished.\n",
      "Download of product W_XX-EUMETSAT-Darmstadt,IMG+SAT,MTI1+LI-2-LFL--FD--x-x--ARC-x_C_EUMT_20241029215016_L2PF_OPE_20241029214003_20241029215003_N__C_0131_0000 finished.\n",
      "Download of product W_XX-EUMETSAT-Darmstadt,IMG+SAT,MTI1+LI-2-LFL--FD--x-x--ARC-x_C_EUMT_20241029214015_L2PF_OPE_20241029213003_20241029214003_N__C_0130_0000 finished.\n",
      "Download of product W_XX-EUMETSAT-Darmstadt,IMG+SAT,MTI1+LI-2-LFL--FD--x-x--ARC-x_C_EUMT_20241029213017_L2PF_OPE_20241029212003_20241029213003_N__C_0129_0000 finished.\n",
      "Download of product W_XX-EUMETSAT-Darmstadt,IMG+SAT,MTI1+LI-2-LFL--FD--x-x--ARC-x_C_EUMT_20241029212016_L2PF_OPE_20241029211003_20241029212003_N__C_0128_0000 finished.\n",
      "Download of product W_XX-EUMETSAT-Darmstadt,IMG+SAT,MTI1+LI-2-LFL--FD--x-x--ARC-x_C_EUMT_20241029211017_L2PF_OPE_20241029210003_20241029211003_N__C_0127_0000 finished.\n",
      "Download of product W_XX-EUMETSAT-Darmstadt,IMG+SAT,MTI1+LI-2-LFL--FD--x-x--ARC-x_C_EUMT_20241029210017_L2PF_OPE_20241029205003_20241029210003_N__C_0126_0000 finished.\n",
      "Download of product W_XX-EUMETSAT-Darmstadt,IMG+SAT,MTI1+LI-2-LFL--FD--x-x--ARC-x_C_EUMT_20241029205018_L2PF_OPE_20241029204003_20241029205003_N__C_0125_0000 finished.\n",
      "Download of product W_XX-EUMETSAT-Darmstadt,IMG+SAT,MTI1+LI-2-LFL--FD--x-x--ARC-x_C_EUMT_20241029204017_L2PF_OPE_20241029203003_20241029204003_N__C_0124_0000 finished.\n",
      "Download of product W_XX-EUMETSAT-Darmstadt,IMG+SAT,MTI1+LI-2-LFL--FD--x-x--ARC-x_C_EUMT_20241029203017_L2PF_OPE_20241029202003_20241029203003_N__C_0123_0000 finished.\n",
      "Download of product W_XX-EUMETSAT-Darmstadt,IMG+SAT,MTI1+LI-2-LFL--FD--x-x--ARC-x_C_EUMT_20241029202017_L2PF_OPE_20241029201003_20241029202003_N__C_0122_0000 finished.\n",
      "Download of product W_XX-EUMETSAT-Darmstadt,IMG+SAT,MTI1+LI-2-LFL--FD--x-x--ARC-x_C_EUMT_20241029201018_L2PF_OPE_20241029200003_20241029201003_N__C_0121_0000 finished.\n",
      "Download of product W_XX-EUMETSAT-Darmstadt,IMG+SAT,MTI1+LI-2-LFL--FD--x-x--ARC-x_C_EUMT_20241029200017_L2PF_OPE_20241029195003_20241029200003_N__C_0120_0000 finished.\n",
      "Download of product W_XX-EUMETSAT-Darmstadt,IMG+SAT,MTI1+LI-2-LFL--FD--x-x--ARC-x_C_EUMT_20241029195017_L2PF_OPE_20241029194003_20241029195003_N__C_0119_0000 finished.\n",
      "Download of product W_XX-EUMETSAT-Darmstadt,IMG+SAT,MTI1+LI-2-LFL--FD--x-x--ARC-x_C_EUMT_20241029194018_L2PF_OPE_20241029193003_20241029194003_N__C_0118_0000 finished.\n",
      "Download of product W_XX-EUMETSAT-Darmstadt,IMG+SAT,MTI1+LI-2-LFL--FD--x-x--ARC-x_C_EUMT_20241029193018_L2PF_OPE_20241029192003_20241029193003_N__C_0117_0000 finished.\n",
      "Download of product W_XX-EUMETSAT-Darmstadt,IMG+SAT,MTI1+LI-2-LFL--FD--x-x--ARC-x_C_EUMT_20241029192018_L2PF_OPE_20241029191003_20241029192003_N__C_0116_0000 finished.\n",
      "Download of product W_XX-EUMETSAT-Darmstadt,IMG+SAT,MTI1+LI-2-LFL--FD--x-x--ARC-x_C_EUMT_20241029191019_L2PF_OPE_20241029190003_20241029191003_N__C_0115_0000 finished.\n",
      "Download of product W_XX-EUMETSAT-Darmstadt,IMG+SAT,MTI1+LI-2-LFL--FD--x-x--ARC-x_C_EUMT_20241029190019_L2PF_OPE_20241029185003_20241029190003_N__C_0114_0000 finished.\n",
      "Download of product W_XX-EUMETSAT-Darmstadt,IMG+SAT,MTI1+LI-2-LFL--FD--x-x--ARC-x_C_EUMT_20241029185018_L2PF_OPE_20241029184003_20241029185003_N__C_0113_0000 finished.\n",
      "Download of product W_XX-EUMETSAT-Darmstadt,IMG+SAT,MTI1+LI-2-LFL--FD--x-x--ARC-x_C_EUMT_20241029184020_L2PF_OPE_20241029183003_20241029184003_N__C_0112_0000 finished.\n",
      "Download of product W_XX-EUMETSAT-Darmstadt,IMG+SAT,MTI1+LI-2-LFL--FD--x-x--ARC-x_C_EUMT_20241029183019_L2PF_OPE_20241029182003_20241029183003_N__C_0111_0000 finished.\n",
      "Download of product W_XX-EUMETSAT-Darmstadt,IMG+SAT,MTI1+LI-2-LFL--FD--x-x--ARC-x_C_EUMT_20241029182020_L2PF_OPE_20241029181003_20241029182003_N__C_0110_0000 finished.\n",
      "Download of product W_XX-EUMETSAT-Darmstadt,IMG+SAT,MTI1+LI-2-LFL--FD--x-x--ARC-x_C_EUMT_20241029181019_L2PF_OPE_20241029180003_20241029181003_N__C_0109_0000 finished.\n",
      "Download of product W_XX-EUMETSAT-Darmstadt,IMG+SAT,MTI1+LI-2-LFL--FD--x-x--ARC-x_C_EUMT_20241029180020_L2PF_OPE_20241029175003_20241029180003_N__C_0108_0000 finished.\n",
      "Download of product W_XX-EUMETSAT-Darmstadt,IMG+SAT,MTI1+LI-2-LFL--FD--x-x--ARC-x_C_EUMT_20241029175020_L2PF_OPE_20241029174003_20241029175003_N__C_0107_0000 finished.\n",
      "Download of product W_XX-EUMETSAT-Darmstadt,IMG+SAT,MTI1+LI-2-LFL--FD--x-x--ARC-x_C_EUMT_20241029174021_L2PF_OPE_20241029173003_20241029174003_N__C_0106_0000 finished.\n",
      "Download of product W_XX-EUMETSAT-Darmstadt,IMG+SAT,MTI1+LI-2-LFL--FD--x-x--ARC-x_C_EUMT_20241029173020_L2PF_OPE_20241029172003_20241029173003_N__C_0105_0000 finished.\n",
      "Download of product W_XX-EUMETSAT-Darmstadt,IMG+SAT,MTI1+LI-2-LFL--FD--x-x--ARC-x_C_EUMT_20241029172020_L2PF_OPE_20241029171003_20241029172003_N__C_0104_0000 finished.\n",
      "Download of product W_XX-EUMETSAT-Darmstadt,IMG+SAT,MTI1+LI-2-LFL--FD--x-x--ARC-x_C_EUMT_20241029171021_L2PF_OPE_20241029170003_20241029171003_N__C_0103_0000 finished.\n",
      "Download of product W_XX-EUMETSAT-Darmstadt,IMG+SAT,MTI1+LI-2-LFL--FD--x-x--ARC-x_C_EUMT_20241029170021_L2PF_OPE_20241029165003_20241029170003_N__C_0102_0000 finished.\n",
      "Download of product W_XX-EUMETSAT-Darmstadt,IMG+SAT,MTI1+LI-2-LFL--FD--x-x--ARC-x_C_EUMT_20241029165022_L2PF_OPE_20241029164113_20241029165003_N__C_0101_0000 finished.\n",
      "Download of product W_XX-EUMETSAT-Darmstadt,IMG+SAT,MTI1+LI-2-LFL--FD--x-x--ARC-x_C_EUMT_20241029163021_L2PF_OPE_20241029162003_20241029163003_N__C_0099_0000 finished.\n",
      "Download of product W_XX-EUMETSAT-Darmstadt,IMG+SAT,MTI1+LI-2-LFL--FD--x-x--ARC-x_C_EUMT_20241029162021_L2PF_OPE_20241029161003_20241029162003_N__C_0098_0000 finished.\n",
      "Download of product W_XX-EUMETSAT-Darmstadt,IMG+SAT,MTI1+LI-2-LFL--FD--x-x--ARC-x_C_EUMT_20241029161021_L2PF_OPE_20241029160003_20241029161003_N__C_0097_0000 finished.\n",
      "Download of product W_XX-EUMETSAT-Darmstadt,IMG+SAT,MTI1+LI-2-LFL--FD--x-x--ARC-x_C_EUMT_20241029160020_L2PF_OPE_20241029155003_20241029160003_N__C_0096_0000 finished.\n",
      "Download of product W_XX-EUMETSAT-Darmstadt,IMG+SAT,MTI1+LI-2-LFL--FD--x-x--ARC-x_C_EUMT_20241029155021_L2PF_OPE_20241029154003_20241029155003_N__C_0095_0000 finished.\n",
      "Download of product W_XX-EUMETSAT-Darmstadt,IMG+SAT,MTI1+LI-2-LFL--FD--x-x--ARC-x_C_EUMT_20241029154020_L2PF_OPE_20241029153003_20241029154003_N__C_0094_0000 finished.\n",
      "Download of product W_XX-EUMETSAT-Darmstadt,IMG+SAT,MTI1+LI-2-LFL--FD--x-x--ARC-x_C_EUMT_20241029153021_L2PF_OPE_20241029152003_20241029153003_N__C_0093_0000 finished.\n",
      "Download of product W_XX-EUMETSAT-Darmstadt,IMG+SAT,MTI1+LI-2-LFL--FD--x-x--ARC-x_C_EUMT_20241029152019_L2PF_OPE_20241029151003_20241029152003_N__C_0092_0000 finished.\n",
      "Download of product W_XX-EUMETSAT-Darmstadt,IMG+SAT,MTI1+LI-2-LFL--FD--x-x--ARC-x_C_EUMT_20241029151020_L2PF_OPE_20241029150003_20241029151003_N__C_0091_0000 finished.\n",
      "Download of product W_XX-EUMETSAT-Darmstadt,IMG+SAT,MTI1+LI-2-LFL--FD--x-x--ARC-x_C_EUMT_20241029150020_L2PF_OPE_20241029145003_20241029150003_N__C_0090_0000 finished.\n",
      "Download of product W_XX-EUMETSAT-Darmstadt,IMG+SAT,MTI1+LI-2-LFL--FD--x-x--ARC-x_C_EUMT_20241029145020_L2PF_OPE_20241029144003_20241029145003_N__C_0089_0000 finished.\n",
      "Download of product W_XX-EUMETSAT-Darmstadt,IMG+SAT,MTI1+LI-2-LFL--FD--x-x--ARC-x_C_EUMT_20241029144020_L2PF_OPE_20241029143003_20241029144003_N__C_0088_0000 finished.\n",
      "Download of product W_XX-EUMETSAT-Darmstadt,IMG+SAT,MTI1+LI-2-LFL--FD--x-x--ARC-x_C_EUMT_20241029143021_L2PF_OPE_20241029142543_20241029143003_N__C_0087_0000 finished.\n",
      "Download of product W_XX-EUMETSAT-Darmstadt,IMG+SAT,MTI1+LI-2-LFL--FD--x-x--ARC-x_C_EUMT_20241029140026_L2PF_OPE_20241029135003_20241029140003_N__T_0084_0000 finished.\n",
      "Download of product W_XX-EUMETSAT-Darmstadt,IMG+SAT,MTI1+LI-2-LFL--FD--x-x--ARC-x_C_EUMT_20241029135024_L2PF_OPE_20241029134003_20241029135003_N__T_0083_0000 finished.\n",
      "Download of product W_XX-EUMETSAT-Darmstadt,IMG+SAT,MTI1+LI-2-LFL--FD--x-x--ARC-x_C_EUMT_20241029134023_L2PF_OPE_20241029133003_20241029134003_N__T_0082_0000 finished.\n",
      "Download of product W_XX-EUMETSAT-Darmstadt,IMG+SAT,MTI1+LI-2-LFL--FD--x-x--ARC-x_C_EUMT_20241029133022_L2PF_OPE_20241029132003_20241029133003_N__T_0081_0000 finished.\n",
      "Download of product W_XX-EUMETSAT-Darmstadt,IMG+SAT,MTI1+LI-2-LFL--FD--x-x--ARC-x_C_EUMT_20241029132023_L2PF_OPE_20241029131003_20241029132003_N__T_0080_0000 finished.\n",
      "Download of product W_XX-EUMETSAT-Darmstadt,IMG+SAT,MTI1+LI-2-LFL--FD--x-x--ARC-x_C_EUMT_20241029131026_L2PF_OPE_20241029130003_20241029131003_N__T_0079_0000 finished.\n",
      "Download of product W_XX-EUMETSAT-Darmstadt,IMG+SAT,MTI1+LI-2-LFL--FD--x-x--ARC-x_C_EUMT_20241029130022_L2PF_OPE_20241029125003_20241029130003_N__T_0078_0000 finished.\n",
      "Download of product W_XX-EUMETSAT-Darmstadt,IMG+SAT,MTI1+LI-2-LFL--FD--x-x--ARC-x_C_EUMT_20241029125024_L2PF_OPE_20241029124003_20241029125003_N__T_0077_0000 finished.\n",
      "Download of product W_XX-EUMETSAT-Darmstadt,IMG+SAT,MTI1+LI-2-LFL--FD--x-x--ARC-x_C_EUMT_20241029124021_L2PF_OPE_20241029123003_20241029124003_N__T_0076_0000 finished.\n",
      "Download of product W_XX-EUMETSAT-Darmstadt,IMG+SAT,MTI1+LI-2-LFL--FD--x-x--ARC-x_C_EUMT_20241029123023_L2PF_OPE_20241029122003_20241029123003_N__T_0075_0000 finished.\n",
      "Download of product W_XX-EUMETSAT-Darmstadt,IMG+SAT,MTI1+LI-2-LFL--FD--x-x--ARC-x_C_EUMT_20241029122021_L2PF_OPE_20241029121003_20241029122003_N__T_0074_0000 finished.\n",
      "Download of product W_XX-EUMETSAT-Darmstadt,IMG+SAT,MTI1+LI-2-LFL--FD--x-x--ARC-x_C_EUMT_20241029121021_L2PF_OPE_20241029120003_20241029121003_N__T_0073_0000 finished.\n",
      "Download of product W_XX-EUMETSAT-Darmstadt,IMG+SAT,MTI1+LI-2-LFL--FD--x-x--ARC-x_C_EUMT_20241029120023_L2PF_OPE_20241029115003_20241029120003_N__T_0072_0000 finished.\n",
      "Download of product W_XX-EUMETSAT-Darmstadt,IMG+SAT,MTI1+LI-2-LFL--FD--x-x--ARC-x_C_EUMT_20241029115021_L2PF_OPE_20241029114003_20241029115003_N__T_0071_0000 finished.\n",
      "Download of product W_XX-EUMETSAT-Darmstadt,IMG+SAT,MTI1+LI-2-LFL--FD--x-x--ARC-x_C_EUMT_20241029114021_L2PF_OPE_20241029113003_20241029114003_N__T_0070_0000 finished.\n",
      "Download of product W_XX-EUMETSAT-Darmstadt,IMG+SAT,MTI1+LI-2-LFL--FD--x-x--ARC-x_C_EUMT_20241029113022_L2PF_OPE_20241029112003_20241029113003_N__T_0069_0000 finished.\n",
      "Download of product W_XX-EUMETSAT-Darmstadt,IMG+SAT,MTI1+LI-2-LFL--FD--x-x--ARC-x_C_EUMT_20241029112021_L2PF_OPE_20241029111003_20241029112003_N__T_0068_0000 finished.\n",
      "Download of product W_XX-EUMETSAT-Darmstadt,IMG+SAT,MTI1+LI-2-LFL--FD--x-x--ARC-x_C_EUMT_20241029111021_L2PF_OPE_20241029110003_20241029111003_N__T_0067_0000 finished.\n",
      "Download of product W_XX-EUMETSAT-Darmstadt,IMG+SAT,MTI1+LI-2-LFL--FD--x-x--ARC-x_C_EUMT_20241029110020_L2PF_OPE_20241029105003_20241029110003_N__T_0066_0000 finished.\n",
      "Download of product W_XX-EUMETSAT-Darmstadt,IMG+SAT,MTI1+LI-2-LFL--FD--x-x--ARC-x_C_EUMT_20241029105020_L2PF_OPE_20241029104003_20241029105003_N__T_0065_0000 finished.\n",
      "Download of product W_XX-EUMETSAT-Darmstadt,IMG+SAT,MTI1+LI-2-LFL--FD--x-x--ARC-x_C_EUMT_20241029104021_L2PF_OPE_20241029103003_20241029104003_N__T_0064_0000 finished.\n",
      "Download of product W_XX-EUMETSAT-Darmstadt,IMG+SAT,MTI1+LI-2-LFL--FD--x-x--ARC-x_C_EUMT_20241029103020_L2PF_OPE_20241029102003_20241029103003_N__T_0063_0000 finished.\n",
      "Download of product W_XX-EUMETSAT-Darmstadt,IMG+SAT,MTI1+LI-2-LFL--FD--x-x--ARC-x_C_EUMT_20241029102021_L2PF_OPE_20241029101003_20241029102003_N__T_0062_0000 finished.\n",
      "Download of product W_XX-EUMETSAT-Darmstadt,IMG+SAT,MTI1+LI-2-LFL--FD--x-x--ARC-x_C_EUMT_20241029101020_L2PF_OPE_20241029100003_20241029101003_N__T_0061_0000 finished.\n",
      "Download of product W_XX-EUMETSAT-Darmstadt,IMG+SAT,MTI1+LI-2-LFL--FD--x-x--ARC-x_C_EUMT_20241029100020_L2PF_OPE_20241029095003_20241029100003_N__T_0060_0000 finished.\n",
      "Download of product W_XX-EUMETSAT-Darmstadt,IMG+SAT,MTI1+LI-2-LFL--FD--x-x--ARC-x_C_EUMT_20241029095020_L2PF_OPE_20241029094003_20241029095003_N__T_0059_0000 finished.\n",
      "Download of product W_XX-EUMETSAT-Darmstadt,IMG+SAT,MTI1+LI-2-LFL--FD--x-x--ARC-x_C_EUMT_20241029094019_L2PF_OPE_20241029093003_20241029094003_N__T_0058_0000 finished.\n",
      "Download of product W_XX-EUMETSAT-Darmstadt,IMG+SAT,MTI1+LI-2-LFL--FD--x-x--ARC-x_C_EUMT_20241029093020_L2PF_OPE_20241029092003_20241029093003_N__T_0057_0000 finished.\n",
      "Download of product W_XX-EUMETSAT-Darmstadt,IMG+SAT,MTI1+LI-2-LFL--FD--x-x--ARC-x_C_EUMT_20241029092021_L2PF_OPE_20241029091003_20241029092003_N__T_0056_0000 finished.\n",
      "Download of product W_XX-EUMETSAT-Darmstadt,IMG+SAT,MTI1+LI-2-LFL--FD--x-x--ARC-x_C_EUMT_20241029091021_L2PF_OPE_20241029090003_20241029091003_N__T_0055_0000 finished.\n",
      "Download of product W_XX-EUMETSAT-Darmstadt,IMG+SAT,MTI1+LI-2-LFL--FD--x-x--ARC-x_C_EUMT_20241029090020_L2PF_OPE_20241029085003_20241029090003_N__T_0054_0000 finished.\n",
      "Download of product W_XX-EUMETSAT-Darmstadt,IMG+SAT,MTI1+LI-2-LFL--FD--x-x--ARC-x_C_EUMT_20241029085020_L2PF_OPE_20241029084003_20241029085003_N__T_0053_0000 finished.\n",
      "Download of product W_XX-EUMETSAT-Darmstadt,IMG+SAT,MTI1+LI-2-LFL--FD--x-x--ARC-x_C_EUMT_20241029084020_L2PF_OPE_20241029083003_20241029084003_N__T_0052_0000 finished.\n",
      "Download of product W_XX-EUMETSAT-Darmstadt,IMG+SAT,MTI1+LI-2-LFL--FD--x-x--ARC-x_C_EUMT_20241029083021_L2PF_OPE_20241029082003_20241029083003_N__T_0051_0000 finished.\n",
      "Download of product W_XX-EUMETSAT-Darmstadt,IMG+SAT,MTI1+LI-2-LFL--FD--x-x--ARC-x_C_EUMT_20241029082019_L2PF_OPE_20241029081003_20241029082003_N__T_0050_0000 finished.\n",
      "Download of product W_XX-EUMETSAT-Darmstadt,IMG+SAT,MTI1+LI-2-LFL--FD--x-x--ARC-x_C_EUMT_20241029081021_L2PF_OPE_20241029080003_20241029081003_N__T_0049_0000 finished.\n",
      "Download of product W_XX-EUMETSAT-Darmstadt,IMG+SAT,MTI1+LI-2-LFL--FD--x-x--ARC-x_C_EUMT_20241029080020_L2PF_OPE_20241029075003_20241029080003_N__T_0048_0000 finished.\n",
      "Download of product W_XX-EUMETSAT-Darmstadt,IMG+SAT,MTI1+LI-2-LFL--FD--x-x--ARC-x_C_EUMT_20241029075018_L2PF_OPE_20241029074003_20241029075003_N__T_0047_0000 finished.\n",
      "Download of product W_XX-EUMETSAT-Darmstadt,IMG+SAT,MTI1+LI-2-LFL--FD--x-x--ARC-x_C_EUMT_20241029074019_L2PF_OPE_20241029073003_20241029074003_N__T_0046_0000 finished.\n",
      "Download of product W_XX-EUMETSAT-Darmstadt,IMG+SAT,MTI1+LI-2-LFL--FD--x-x--ARC-x_C_EUMT_20241029073019_L2PF_OPE_20241029072003_20241029073003_N__T_0045_0000 finished.\n",
      "Download of product W_XX-EUMETSAT-Darmstadt,IMG+SAT,MTI1+LI-2-LFL--FD--x-x--ARC-x_C_EUMT_20241029072021_L2PF_OPE_20241029071003_20241029072003_N__T_0044_0000 finished.\n",
      "Download of product W_XX-EUMETSAT-Darmstadt,IMG+SAT,MTI1+LI-2-LFL--FD--x-x--ARC-x_C_EUMT_20241029071018_L2PF_OPE_20241029070003_20241029071003_N__T_0043_0000 finished.\n",
      "Download of product W_XX-EUMETSAT-Darmstadt,IMG+SAT,MTI1+LI-2-LFL--FD--x-x--ARC-x_C_EUMT_20241029070018_L2PF_OPE_20241029065003_20241029070003_N__T_0042_0000 finished.\n",
      "Download of product W_XX-EUMETSAT-Darmstadt,IMG+SAT,MTI1+LI-2-LFL--FD--x-x--ARC-x_C_EUMT_20241029065018_L2PF_OPE_20241029064003_20241029065003_N__T_0041_0000 finished.\n",
      "Download of product W_XX-EUMETSAT-Darmstadt,IMG+SAT,MTI1+LI-2-LFL--FD--x-x--ARC-x_C_EUMT_20241029064019_L2PF_OPE_20241029063003_20241029064003_N__T_0040_0000 finished.\n",
      "Download of product W_XX-EUMETSAT-Darmstadt,IMG+SAT,MTI1+LI-2-LFL--FD--x-x--ARC-x_C_EUMT_20241029063017_L2PF_OPE_20241029062003_20241029063003_N__T_0039_0000 finished.\n",
      "Download of product W_XX-EUMETSAT-Darmstadt,IMG+SAT,MTI1+LI-2-LFL--FD--x-x--ARC-x_C_EUMT_20241029062017_L2PF_OPE_20241029061003_20241029062003_N__T_0038_0000 finished.\n",
      "Download of product W_XX-EUMETSAT-Darmstadt,IMG+SAT,MTI1+LI-2-LFL--FD--x-x--ARC-x_C_EUMT_20241029061018_L2PF_OPE_20241029060003_20241029061003_N__T_0037_0000 finished.\n",
      "Download of product W_XX-EUMETSAT-Darmstadt,IMG+SAT,MTI1+LI-2-LFL--FD--x-x--ARC-x_C_EUMT_20241029060017_L2PF_OPE_20241029055003_20241029060003_N__T_0036_0000 finished.\n",
      "Download of product W_XX-EUMETSAT-Darmstadt,IMG+SAT,MTI1+LI-2-LFL--FD--x-x--ARC-x_C_EUMT_20241029055017_L2PF_OPE_20241029054003_20241029055003_N__T_0035_0000 finished.\n",
      "Download of product W_XX-EUMETSAT-Darmstadt,IMG+SAT,MTI1+LI-2-LFL--FD--x-x--ARC-x_C_EUMT_20241029054017_L2PF_OPE_20241029053003_20241029054003_N__T_0034_0000 finished.\n",
      "Download of product W_XX-EUMETSAT-Darmstadt,IMG+SAT,MTI1+LI-2-LFL--FD--x-x--ARC-x_C_EUMT_20241029053019_L2PF_OPE_20241029052003_20241029053003_N__T_0033_0000 finished.\n",
      "Download of product W_XX-EUMETSAT-Darmstadt,IMG+SAT,MTI1+LI-2-LFL--FD--x-x--ARC-x_C_EUMT_20241029052016_L2PF_OPE_20241029051003_20241029052003_N__T_0032_0000 finished.\n",
      "Download of product W_XX-EUMETSAT-Darmstadt,IMG+SAT,MTI1+LI-2-LFL--FD--x-x--ARC-x_C_EUMT_20241029051016_L2PF_OPE_20241029050003_20241029051003_N__T_0031_0000 finished.\n",
      "Download of product W_XX-EUMETSAT-Darmstadt,IMG+SAT,MTI1+LI-2-LFL--FD--x-x--ARC-x_C_EUMT_20241029050018_L2PF_OPE_20241029045003_20241029050003_N__T_0030_0000 finished.\n",
      "Download of product W_XX-EUMETSAT-Darmstadt,IMG+SAT,MTI1+LI-2-LFL--FD--x-x--ARC-x_C_EUMT_20241029045017_L2PF_OPE_20241029044003_20241029045003_N__T_0029_0000 finished.\n",
      "Download of product W_XX-EUMETSAT-Darmstadt,IMG+SAT,MTI1+LI-2-LFL--FD--x-x--ARC-x_C_EUMT_20241029044016_L2PF_OPE_20241029043003_20241029044003_N__T_0028_0000 finished.\n",
      "Download of product W_XX-EUMETSAT-Darmstadt,IMG+SAT,MTI1+LI-2-LFL--FD--x-x--ARC-x_C_EUMT_20241029043016_L2PF_OPE_20241029042003_20241029043003_N__T_0027_0000 finished.\n",
      "Download of product W_XX-EUMETSAT-Darmstadt,IMG+SAT,MTI1+LI-2-LFL--FD--x-x--ARC-x_C_EUMT_20241029042016_L2PF_OPE_20241029041003_20241029042003_N__T_0026_0000 finished.\n",
      "Download of product W_XX-EUMETSAT-Darmstadt,IMG+SAT,MTI1+LI-2-LFL--FD--x-x--ARC-x_C_EUMT_20241029041017_L2PF_OPE_20241029040003_20241029041003_N__T_0025_0000 finished.\n",
      "Download of product W_XX-EUMETSAT-Darmstadt,IMG+SAT,MTI1+LI-2-LFL--FD--x-x--ARC-x_C_EUMT_20241029040015_L2PF_OPE_20241029035003_20241029040003_N__T_0024_0000 finished.\n",
      "Download of product W_XX-EUMETSAT-Darmstadt,IMG+SAT,MTI1+LI-2-LFL--FD--x-x--ARC-x_C_EUMT_20241029035016_L2PF_OPE_20241029034003_20241029035003_N__T_0023_0000 finished.\n",
      "Download of product W_XX-EUMETSAT-Darmstadt,IMG+SAT,MTI1+LI-2-LFL--FD--x-x--ARC-x_C_EUMT_20241029034015_L2PF_OPE_20241029033003_20241029034003_N__T_0022_0000 finished.\n",
      "Download of product W_XX-EUMETSAT-Darmstadt,IMG+SAT,MTI1+LI-2-LFL--FD--x-x--ARC-x_C_EUMT_20241029033016_L2PF_OPE_20241029032003_20241029033003_N__T_0021_0000 finished.\n",
      "Download of product W_XX-EUMETSAT-Darmstadt,IMG+SAT,MTI1+LI-2-LFL--FD--x-x--ARC-x_C_EUMT_20241029032015_L2PF_OPE_20241029031003_20241029032003_N__T_0020_0000 finished.\n",
      "Download of product W_XX-EUMETSAT-Darmstadt,IMG+SAT,MTI1+LI-2-LFL--FD--x-x--ARC-x_C_EUMT_20241029031015_L2PF_OPE_20241029030003_20241029031003_N__T_0019_0000 finished.\n",
      "Download of product W_XX-EUMETSAT-Darmstadt,IMG+SAT,MTI1+LI-2-LFL--FD--x-x--ARC-x_C_EUMT_20241029030015_L2PF_OPE_20241029025003_20241029030003_N__T_0018_0000 finished.\n",
      "Download of product W_XX-EUMETSAT-Darmstadt,IMG+SAT,MTI1+LI-2-LFL--FD--x-x--ARC-x_C_EUMT_20241029025015_L2PF_OPE_20241029024003_20241029025003_N__T_0017_0000 finished.\n",
      "Download of product W_XX-EUMETSAT-Darmstadt,IMG+SAT,MTI1+LI-2-LFL--FD--x-x--ARC-x_C_EUMT_20241029024015_L2PF_OPE_20241029023003_20241029024003_N__T_0016_0000 finished.\n",
      "Download of product W_XX-EUMETSAT-Darmstadt,IMG+SAT,MTI1+LI-2-LFL--FD--x-x--ARC-x_C_EUMT_20241029023015_L2PF_OPE_20241029022003_20241029023003_N__T_0015_0000 finished.\n",
      "Download of product W_XX-EUMETSAT-Darmstadt,IMG+SAT,MTI1+LI-2-LFL--FD--x-x--ARC-x_C_EUMT_20241029022015_L2PF_OPE_20241029021003_20241029022003_N__T_0014_0000 finished.\n",
      "Download of product W_XX-EUMETSAT-Darmstadt,IMG+SAT,MTI1+LI-2-LFL--FD--x-x--ARC-x_C_EUMT_20241029021015_L2PF_OPE_20241029020003_20241029021003_N__T_0013_0000 finished.\n",
      "Download of product W_XX-EUMETSAT-Darmstadt,IMG+SAT,MTI1+LI-2-LFL--FD--x-x--ARC-x_C_EUMT_20241029020015_L2PF_OPE_20241029015003_20241029020003_N__T_0012_0000 finished.\n",
      "Download of product W_XX-EUMETSAT-Darmstadt,IMG+SAT,MTI1+LI-2-LFL--FD--x-x--ARC-x_C_EUMT_20241029015015_L2PF_OPE_20241029014003_20241029015003_N__T_0011_0000 finished.\n",
      "Download of product W_XX-EUMETSAT-Darmstadt,IMG+SAT,MTI1+LI-2-LFL--FD--x-x--ARC-x_C_EUMT_20241029014015_L2PF_OPE_20241029013003_20241029014003_N__T_0010_0000 finished.\n",
      "Download of product W_XX-EUMETSAT-Darmstadt,IMG+SAT,MTI1+LI-2-LFL--FD--x-x--ARC-x_C_EUMT_20241029013017_L2PF_OPE_20241029012003_20241029013003_N__T_0009_0000 finished.\n",
      "Download of product W_XX-EUMETSAT-Darmstadt,IMG+SAT,MTI1+LI-2-LFL--FD--x-x--ARC-x_C_EUMT_20241029012015_L2PF_OPE_20241029011003_20241029012003_N__T_0008_0000 finished.\n",
      "Download of product W_XX-EUMETSAT-Darmstadt,IMG+SAT,MTI1+LI-2-LFL--FD--x-x--ARC-x_C_EUMT_20241029011016_L2PF_OPE_20241029010003_20241029011003_N__T_0007_0000 finished.\n",
      "Download of product W_XX-EUMETSAT-Darmstadt,IMG+SAT,MTI1+LI-2-LFL--FD--x-x--ARC-x_C_EUMT_20241029010015_L2PF_OPE_20241029005003_20241029010003_N__T_0006_0000 finished.\n",
      "Download of product W_XX-EUMETSAT-Darmstadt,IMG+SAT,MTI1+LI-2-LFL--FD--x-x--ARC-x_C_EUMT_20241029005015_L2PF_OPE_20241029004003_20241029005003_N__T_0005_0000 finished.\n",
      "Download of product W_XX-EUMETSAT-Darmstadt,IMG+SAT,MTI1+LI-2-LFL--FD--x-x--ARC-x_C_EUMT_20241029004015_L2PF_OPE_20241029003003_20241029004003_N__T_0004_0000 finished.\n",
      "Download of product W_XX-EUMETSAT-Darmstadt,IMG+SAT,MTI1+LI-2-LFL--FD--x-x--ARC-x_C_EUMT_20241029003015_L2PF_OPE_20241029002003_20241029003003_N__T_0003_0000 finished.\n",
      "Download of product W_XX-EUMETSAT-Darmstadt,IMG+SAT,MTI1+LI-2-LFL--FD--x-x--ARC-x_C_EUMT_20241029002016_L2PF_OPE_20241029001003_20241029002003_N__T_0002_0000 finished.\n",
      "Download of product W_XX-EUMETSAT-Darmstadt,IMG+SAT,MTI1+LI-2-LFL--FD--x-x--ARC-x_C_EUMT_20241029001016_L2PF_OPE_20241029000003_20241029001003_N__T_0001_0000 finished.\n",
      "All downloads are finished.\n"
     ]
    }
   ],
   "source": [
    "for product in products:    \n",
    "    try:\n",
    "        with product.open() as fsrc, \\\n",
    "                open(download_dir + fsrc.name, mode='wb') as fdst:\n",
    "            shutil.copyfileobj(fsrc, fdst)\n",
    "            print(f'Download of product {product} finished.')\n",
    "    except eumdac.product.ProductError as error:\n",
    "        print(f\"Error related to the product '{product}' while trying to download it: '{error.msg}'\")\n",
    "    except requests.exceptions.ConnectionError as error:\n",
    "        print(f\"Error related to the connection: '{error.msg}'\")\n",
    "    except requests.exceptions.RequestException as error:\n",
    "        print(f\"Unexpected error: {error}\")\n",
    "    \n",
    "print('All downloads are finished.')"
   ]
  },
  {
   "cell_type": "markdown",
   "metadata": {},
   "source": [
    "Perfect, now we downloaded all products of a full day, based on our search parameters."
   ]
  },
  {
   "cell_type": "markdown",
   "metadata": {},
   "source": [
    "<div class=\"alert alert-block alert-success\">\n",
    "<b>NOTE:</b><br />\n",
    "Products can be downloaded by providing either their product ID, or a combination of their collection ID and several search parameters. We can download entire products, or specific file components (e.g. metadata only). This section was focussing on downloading the products from our search. To find more examples, see notebook <a href=\"./1_3_Downloading_products.ipynb\">1.3 Downloading products</a>.\n",
    "</div>"
   ]
  },
  {
   "cell_type": "markdown",
   "metadata": {},
   "source": [
    "## Structure of products\n",
    "\n",
    "A product consists of multiple files and are delivered as a [SIP](https://user.eumetsat.int/resources/user-guides/formats#ID-Submission-Information-Package-SIP). We can get the content of a product with the following command:"
   ]
  },
  {
   "cell_type": "code",
   "execution_count": 10,
   "metadata": {},
   "outputs": [
    {
     "name": "stdout",
     "output_type": "stream",
     "text": [
      "W_XX-EUMETSAT-Darmstadt,IMG+SAT,MTI1+LI-2-LFL--FD--CHK-BODY--ARC-NC4E_C_EUMT_20241029200016_L2PF_OPE_20241029195003_20241029200003_N__C_0120_0001.nc\n",
      "quicklooks/W_XX-EUMETSAT-Darmstadt,IMG+SAT,MTI1+LI-2-LFL--FD--QCK-IMAGE--ARC-PNG_C_EUMT_20241029200016_L2PF_OPE_20241029195003_20241029200003_N__C_0120_0001.png\n",
      "W_XX-EUMETSAT-Darmstadt,IMG+SAT,MTI1+LI-2-LFL--FD--CHK-TRAIL--ARC-NC4E_C_EUMT_20241029200017_L2PF_OPE_20241029195003_20241029200003_N__C_0120_0002.nc\n",
      "W_XX-EUMETSAT-Darmstadt,IMG+SAT,MTI1+LI-2-LFL--FD--QCK-IMAGE--ARC-PNG_C_EUMT_20241029200016_L2PF_OPE_20241029195003_20241029200003_N__C_0120_0001.jpg\n",
      "manifest.xml\n",
      "EOPMetadata.xml\n"
     ]
    }
   ],
   "source": [
    "with zipfile.ZipFile(glob.glob(\"downloads/*.zip\")[0], 'r') as zip_file:\n",
    "    file_list = zip_file.namelist()\n",
    "    for file in file_list:\n",
    "        print(file)"
   ]
  },
  {
   "cell_type": "markdown",
   "metadata": {},
   "source": [
    "As can be seen above, a product is made of the following files:\n",
    "- **Body chunks (NetCDF)**: One or multiple body chunks (depending on product type) contain the measured data values in NetCDF structure.\n",
    "- **Trailer chunk (NetCDF)**: One trailer chunk that contains at least the list of preceding body chunks that have been produced for the dataset. \n",
    "- **Quicklooks (PNG)**: Images related to data that enable fast viewing for the purpose of selection by archive users.\n",
    "- **manifest.xml**: The manifest contains further information about the SIP especially the relationships among the different items constituting the package.\n",
    "- **EOPMetadata.xml**: The EOPMetadata file contains metadata about the product based on the OGC Earth Observation Metadata Profile of Observations and Measurements (OGC document 10-157r4).\n",
    "\n",
    "You can find more information about the [SIP files](https://user.eumetsat.int/resources/user-guides/formats#ID-Submission-Information-Package-SIP) and [MTG LI product/data structure](https://user.eumetsat.int/resources/user-guides/mtg-li-level-2-data-guide#ID-Level-2-data-characteristics) in the corresponding user guides."
   ]
  },
  {
   "cell_type": "markdown",
   "metadata": {},
   "source": [
    "That's it, now can we further process our data products."
   ]
  },
  {
   "cell_type": "markdown",
   "metadata": {},
   "source": [
    "## Extract the product SIP files\n",
    "\n",
    "To further work with ther data, we have to uncompress the actual product content. This can simply be done with the following code:"
   ]
  },
  {
   "cell_type": "code",
   "execution_count": 11,
   "metadata": {
    "scrolled": true
   },
   "outputs": [
    {
     "name": "stdout",
     "output_type": "stream",
     "text": [
      "downloads/W_XX-EUMETSAT-Darmstadt,IMG+SAT,MTI1+LI-2-LFL--FD--x-x--ARC-x_C_EUMT_20241029200017_L2PF_OPE_20241029195003_20241029200003_N__C_0120_0000.zip\n",
      "downloads/W_XX-EUMETSAT-Darmstadt,IMG+SAT,MTI1+LI-2-LFL--FD--x-x--ARC-x_C_EUMT_20241029200017_L2PF_OPE_20241029195003_20241029200003_N__C_0120_0000.zip has been unzipped and deleted.\n",
      "downloads/W_XX-EUMETSAT-Darmstadt,IMG+SAT,MTI1+LI-2-LFL--FD--x-x--ARC-x_C_EUMT_20241029093020_L2PF_OPE_20241029092003_20241029093003_N__T_0057_0000.zip\n",
      "downloads/W_XX-EUMETSAT-Darmstadt,IMG+SAT,MTI1+LI-2-LFL--FD--x-x--ARC-x_C_EUMT_20241029093020_L2PF_OPE_20241029092003_20241029093003_N__T_0057_0000.zip has been unzipped and deleted.\n",
      "downloads/W_XX-EUMETSAT-Darmstadt,IMG+SAT,MTI1+LI-2-LFL--FD--x-x--ARC-x_C_EUMT_20241029151020_L2PF_OPE_20241029150003_20241029151003_N__C_0091_0000.zip\n",
      "downloads/W_XX-EUMETSAT-Darmstadt,IMG+SAT,MTI1+LI-2-LFL--FD--x-x--ARC-x_C_EUMT_20241029151020_L2PF_OPE_20241029150003_20241029151003_N__C_0091_0000.zip has been unzipped and deleted.\n",
      "downloads/W_XX-EUMETSAT-Darmstadt,IMG+SAT,MTI1+LI-2-LFL--FD--x-x--ARC-x_C_EUMT_20241029041017_L2PF_OPE_20241029040003_20241029041003_N__T_0025_0000.zip\n",
      "downloads/W_XX-EUMETSAT-Darmstadt,IMG+SAT,MTI1+LI-2-LFL--FD--x-x--ARC-x_C_EUMT_20241029041017_L2PF_OPE_20241029040003_20241029041003_N__T_0025_0000.zip has been unzipped and deleted.\n",
      "downloads/W_XX-EUMETSAT-Darmstadt,IMG+SAT,MTI1+LI-2-LFL--FD--x-x--ARC-x_C_EUMT_20241029234019_L2PF_OPE_20241029233003_20241029234003_N__C_0142_0000.zip\n",
      "downloads/W_XX-EUMETSAT-Darmstadt,IMG+SAT,MTI1+LI-2-LFL--FD--x-x--ARC-x_C_EUMT_20241029234019_L2PF_OPE_20241029233003_20241029234003_N__C_0142_0000.zip has been unzipped and deleted.\n",
      "downloads/W_XX-EUMETSAT-Darmstadt,IMG+SAT,MTI1+LI-2-LFL--FD--x-x--ARC-x_C_EUMT_20241029233017_L2PF_OPE_20241029232003_20241029233003_N__C_0141_0000.zip\n",
      "downloads/W_XX-EUMETSAT-Darmstadt,IMG+SAT,MTI1+LI-2-LFL--FD--x-x--ARC-x_C_EUMT_20241029233017_L2PF_OPE_20241029232003_20241029233003_N__C_0141_0000.zip has been unzipped and deleted.\n",
      "downloads/W_XX-EUMETSAT-Darmstadt,IMG+SAT,MTI1+LI-2-LFL--FD--x-x--ARC-x_C_EUMT_20241029204017_L2PF_OPE_20241029203003_20241029204003_N__C_0124_0000.zip\n",
      "downloads/W_XX-EUMETSAT-Darmstadt,IMG+SAT,MTI1+LI-2-LFL--FD--x-x--ARC-x_C_EUMT_20241029204017_L2PF_OPE_20241029203003_20241029204003_N__C_0124_0000.zip has been unzipped and deleted.\n",
      "downloads/W_XX-EUMETSAT-Darmstadt,IMG+SAT,MTI1+LI-2-LFL--FD--x-x--ARC-x_C_EUMT_20241029044016_L2PF_OPE_20241029043003_20241029044003_N__T_0028_0000.zip\n",
      "downloads/W_XX-EUMETSAT-Darmstadt,IMG+SAT,MTI1+LI-2-LFL--FD--x-x--ARC-x_C_EUMT_20241029044016_L2PF_OPE_20241029043003_20241029044003_N__T_0028_0000.zip has been unzipped and deleted.\n",
      "downloads/W_XX-EUMETSAT-Darmstadt,IMG+SAT,MTI1+LI-2-LFL--FD--x-x--ARC-x_C_EUMT_20241029083021_L2PF_OPE_20241029082003_20241029083003_N__T_0051_0000.zip\n",
      "downloads/W_XX-EUMETSAT-Darmstadt,IMG+SAT,MTI1+LI-2-LFL--FD--x-x--ARC-x_C_EUMT_20241029083021_L2PF_OPE_20241029082003_20241029083003_N__T_0051_0000.zip has been unzipped and deleted.\n",
      "downloads/W_XX-EUMETSAT-Darmstadt,IMG+SAT,MTI1+LI-2-LFL--FD--x-x--ARC-x_C_EUMT_20241029024015_L2PF_OPE_20241029023003_20241029024003_N__T_0016_0000.zip\n",
      "downloads/W_XX-EUMETSAT-Darmstadt,IMG+SAT,MTI1+LI-2-LFL--FD--x-x--ARC-x_C_EUMT_20241029024015_L2PF_OPE_20241029023003_20241029024003_N__T_0016_0000.zip has been unzipped and deleted.\n",
      "downloads/W_XX-EUMETSAT-Darmstadt,IMG+SAT,MTI1+LI-2-LFL--FD--x-x--ARC-x_C_EUMT_20241029012015_L2PF_OPE_20241029011003_20241029012003_N__T_0008_0000.zip\n",
      "downloads/W_XX-EUMETSAT-Darmstadt,IMG+SAT,MTI1+LI-2-LFL--FD--x-x--ARC-x_C_EUMT_20241029012015_L2PF_OPE_20241029011003_20241029012003_N__T_0008_0000.zip has been unzipped and deleted.\n",
      "downloads/W_XX-EUMETSAT-Darmstadt,IMG+SAT,MTI1+LI-2-LFL--FD--x-x--ARC-x_C_EUMT_20241029102021_L2PF_OPE_20241029101003_20241029102003_N__T_0062_0000.zip\n",
      "downloads/W_XX-EUMETSAT-Darmstadt,IMG+SAT,MTI1+LI-2-LFL--FD--x-x--ARC-x_C_EUMT_20241029102021_L2PF_OPE_20241029101003_20241029102003_N__T_0062_0000.zip has been unzipped and deleted.\n",
      "downloads/W_XX-EUMETSAT-Darmstadt,IMG+SAT,MTI1+LI-2-LFL--FD--x-x--ARC-x_C_EUMT_20241029025015_L2PF_OPE_20241029024003_20241029025003_N__T_0017_0000.zip\n",
      "downloads/W_XX-EUMETSAT-Darmstadt,IMG+SAT,MTI1+LI-2-LFL--FD--x-x--ARC-x_C_EUMT_20241029025015_L2PF_OPE_20241029024003_20241029025003_N__T_0017_0000.zip has been unzipped and deleted.\n",
      "downloads/W_XX-EUMETSAT-Darmstadt,IMG+SAT,MTI1+LI-2-LFL--FD--x-x--ARC-x_C_EUMT_20241029130022_L2PF_OPE_20241029125003_20241029130003_N__T_0078_0000.zip\n",
      "downloads/W_XX-EUMETSAT-Darmstadt,IMG+SAT,MTI1+LI-2-LFL--FD--x-x--ARC-x_C_EUMT_20241029130022_L2PF_OPE_20241029125003_20241029130003_N__T_0078_0000.zip has been unzipped and deleted.\n",
      "downloads/W_XX-EUMETSAT-Darmstadt,IMG+SAT,MTI1+LI-2-LFL--FD--x-x--ARC-x_C_EUMT_20241029115021_L2PF_OPE_20241029114003_20241029115003_N__T_0071_0000.zip\n",
      "downloads/W_XX-EUMETSAT-Darmstadt,IMG+SAT,MTI1+LI-2-LFL--FD--x-x--ARC-x_C_EUMT_20241029115021_L2PF_OPE_20241029114003_20241029115003_N__T_0071_0000.zip has been unzipped and deleted.\n",
      "downloads/W_XX-EUMETSAT-Darmstadt,IMG+SAT,MTI1+LI-2-LFL--FD--x-x--ARC-x_C_EUMT_20241029215016_L2PF_OPE_20241029214003_20241029215003_N__C_0131_0000.zip\n",
      "downloads/W_XX-EUMETSAT-Darmstadt,IMG+SAT,MTI1+LI-2-LFL--FD--x-x--ARC-x_C_EUMT_20241029215016_L2PF_OPE_20241029214003_20241029215003_N__C_0131_0000.zip has been unzipped and deleted.\n",
      "downloads/W_XX-EUMETSAT-Darmstadt,IMG+SAT,MTI1+LI-2-LFL--FD--x-x--ARC-x_C_EUMT_20241029214015_L2PF_OPE_20241029213003_20241029214003_N__C_0130_0000.zip\n",
      "downloads/W_XX-EUMETSAT-Darmstadt,IMG+SAT,MTI1+LI-2-LFL--FD--x-x--ARC-x_C_EUMT_20241029214015_L2PF_OPE_20241029213003_20241029214003_N__C_0130_0000.zip has been unzipped and deleted.\n",
      "downloads/W_XX-EUMETSAT-Darmstadt,IMG+SAT,MTI1+LI-2-LFL--FD--x-x--ARC-x_C_EUMT_20241029004015_L2PF_OPE_20241029003003_20241029004003_N__T_0004_0000.zip\n",
      "downloads/W_XX-EUMETSAT-Darmstadt,IMG+SAT,MTI1+LI-2-LFL--FD--x-x--ARC-x_C_EUMT_20241029004015_L2PF_OPE_20241029003003_20241029004003_N__T_0004_0000.zip has been unzipped and deleted.\n",
      "downloads/W_XX-EUMETSAT-Darmstadt,IMG+SAT,MTI1+LI-2-LFL--FD--x-x--ARC-x_C_EUMT_20241029070018_L2PF_OPE_20241029065003_20241029070003_N__T_0042_0000.zip\n",
      "downloads/W_XX-EUMETSAT-Darmstadt,IMG+SAT,MTI1+LI-2-LFL--FD--x-x--ARC-x_C_EUMT_20241029070018_L2PF_OPE_20241029065003_20241029070003_N__T_0042_0000.zip has been unzipped and deleted.\n",
      "downloads/W_XX-EUMETSAT-Darmstadt,IMG+SAT,MTI1+LI-2-LFL--FD--x-x--ARC-x_C_EUMT_20241029161021_L2PF_OPE_20241029160003_20241029161003_N__C_0097_0000.zip\n",
      "downloads/W_XX-EUMETSAT-Darmstadt,IMG+SAT,MTI1+LI-2-LFL--FD--x-x--ARC-x_C_EUMT_20241029161021_L2PF_OPE_20241029160003_20241029161003_N__C_0097_0000.zip has been unzipped and deleted.\n",
      "downloads/W_XX-EUMETSAT-Darmstadt,IMG+SAT,MTI1+LI-2-LFL--FD--x-x--ARC-x_C_EUMT_20241029155021_L2PF_OPE_20241029154003_20241029155003_N__C_0095_0000.zip\n",
      "downloads/W_XX-EUMETSAT-Darmstadt,IMG+SAT,MTI1+LI-2-LFL--FD--x-x--ARC-x_C_EUMT_20241029155021_L2PF_OPE_20241029154003_20241029155003_N__C_0095_0000.zip has been unzipped and deleted.\n",
      "downloads/W_XX-EUMETSAT-Darmstadt,IMG+SAT,MTI1+LI-2-LFL--FD--x-x--ARC-x_C_EUMT_20241029042016_L2PF_OPE_20241029041003_20241029042003_N__T_0026_0000.zip\n",
      "downloads/W_XX-EUMETSAT-Darmstadt,IMG+SAT,MTI1+LI-2-LFL--FD--x-x--ARC-x_C_EUMT_20241029042016_L2PF_OPE_20241029041003_20241029042003_N__T_0026_0000.zip has been unzipped and deleted.\n",
      "downloads/W_XX-EUMETSAT-Darmstadt,IMG+SAT,MTI1+LI-2-LFL--FD--x-x--ARC-x_C_EUMT_20241029222015_L2PF_OPE_20241029221003_20241029222003_N__C_0134_0000.zip\n",
      "downloads/W_XX-EUMETSAT-Darmstadt,IMG+SAT,MTI1+LI-2-LFL--FD--x-x--ARC-x_C_EUMT_20241029222015_L2PF_OPE_20241029221003_20241029222003_N__C_0134_0000.zip has been unzipped and deleted.\n",
      "downloads/W_XX-EUMETSAT-Darmstadt,IMG+SAT,MTI1+LI-2-LFL--FD--x-x--ARC-x_C_EUMT_20241029192018_L2PF_OPE_20241029191003_20241029192003_N__C_0116_0000.zip\n",
      "downloads/W_XX-EUMETSAT-Darmstadt,IMG+SAT,MTI1+LI-2-LFL--FD--x-x--ARC-x_C_EUMT_20241029192018_L2PF_OPE_20241029191003_20241029192003_N__C_0116_0000.zip has been unzipped and deleted.\n",
      "downloads/W_XX-EUMETSAT-Darmstadt,IMG+SAT,MTI1+LI-2-LFL--FD--x-x--ARC-x_C_EUMT_20241029030015_L2PF_OPE_20241029025003_20241029030003_N__T_0018_0000.zip\n",
      "downloads/W_XX-EUMETSAT-Darmstadt,IMG+SAT,MTI1+LI-2-LFL--FD--x-x--ARC-x_C_EUMT_20241029030015_L2PF_OPE_20241029025003_20241029030003_N__T_0018_0000.zip has been unzipped and deleted.\n",
      "downloads/W_XX-EUMETSAT-Darmstadt,IMG+SAT,MTI1+LI-2-LFL--FD--x-x--ARC-x_C_EUMT_20241029094019_L2PF_OPE_20241029093003_20241029094003_N__T_0058_0000.zip\n",
      "downloads/W_XX-EUMETSAT-Darmstadt,IMG+SAT,MTI1+LI-2-LFL--FD--x-x--ARC-x_C_EUMT_20241029094019_L2PF_OPE_20241029093003_20241029094003_N__T_0058_0000.zip has been unzipped and deleted.\n",
      "downloads/W_XX-EUMETSAT-Darmstadt,IMG+SAT,MTI1+LI-2-LFL--FD--x-x--ARC-x_C_EUMT_20241029181019_L2PF_OPE_20241029180003_20241029181003_N__C_0109_0000.zip\n",
      "downloads/W_XX-EUMETSAT-Darmstadt,IMG+SAT,MTI1+LI-2-LFL--FD--x-x--ARC-x_C_EUMT_20241029181019_L2PF_OPE_20241029180003_20241029181003_N__C_0109_0000.zip has been unzipped and deleted.\n",
      "downloads/W_XX-EUMETSAT-Darmstadt,IMG+SAT,MTI1+LI-2-LFL--FD--x-x--ARC-x_C_EUMT_20241029114021_L2PF_OPE_20241029113003_20241029114003_N__T_0070_0000.zip\n",
      "downloads/W_XX-EUMETSAT-Darmstadt,IMG+SAT,MTI1+LI-2-LFL--FD--x-x--ARC-x_C_EUMT_20241029114021_L2PF_OPE_20241029113003_20241029114003_N__T_0070_0000.zip has been unzipped and deleted.\n",
      "downloads/W_XX-EUMETSAT-Darmstadt,IMG+SAT,MTI1+LI-2-LFL--FD--x-x--ARC-x_C_EUMT_20241029113022_L2PF_OPE_20241029112003_20241029113003_N__T_0069_0000.zip\n",
      "downloads/W_XX-EUMETSAT-Darmstadt,IMG+SAT,MTI1+LI-2-LFL--FD--x-x--ARC-x_C_EUMT_20241029113022_L2PF_OPE_20241029112003_20241029113003_N__T_0069_0000.zip has been unzipped and deleted.\n",
      "downloads/W_XX-EUMETSAT-Darmstadt,IMG+SAT,MTI1+LI-2-LFL--FD--x-x--ARC-x_C_EUMT_20241029080020_L2PF_OPE_20241029075003_20241029080003_N__T_0048_0000.zip\n",
      "downloads/W_XX-EUMETSAT-Darmstadt,IMG+SAT,MTI1+LI-2-LFL--FD--x-x--ARC-x_C_EUMT_20241029080020_L2PF_OPE_20241029075003_20241029080003_N__T_0048_0000.zip has been unzipped and deleted.\n",
      "downloads/W_XX-EUMETSAT-Darmstadt,IMG+SAT,MTI1+LI-2-LFL--FD--x-x--ARC-x_C_EUMT_20241029003015_L2PF_OPE_20241029002003_20241029003003_N__T_0003_0000.zip\n",
      "downloads/W_XX-EUMETSAT-Darmstadt,IMG+SAT,MTI1+LI-2-LFL--FD--x-x--ARC-x_C_EUMT_20241029003015_L2PF_OPE_20241029002003_20241029003003_N__T_0003_0000.zip has been unzipped and deleted.\n",
      "downloads/W_XX-EUMETSAT-Darmstadt,IMG+SAT,MTI1+LI-2-LFL--FD--x-x--ARC-x_C_EUMT_20241029035016_L2PF_OPE_20241029034003_20241029035003_N__T_0023_0000.zip\n",
      "downloads/W_XX-EUMETSAT-Darmstadt,IMG+SAT,MTI1+LI-2-LFL--FD--x-x--ARC-x_C_EUMT_20241029035016_L2PF_OPE_20241029034003_20241029035003_N__T_0023_0000.zip has been unzipped and deleted.\n",
      "downloads/W_XX-EUMETSAT-Darmstadt,IMG+SAT,MTI1+LI-2-LFL--FD--x-x--ARC-x_C_EUMT_20241029040015_L2PF_OPE_20241029035003_20241029040003_N__T_0024_0000.zip\n",
      "downloads/W_XX-EUMETSAT-Darmstadt,IMG+SAT,MTI1+LI-2-LFL--FD--x-x--ARC-x_C_EUMT_20241029040015_L2PF_OPE_20241029035003_20241029040003_N__T_0024_0000.zip has been unzipped and deleted.\n",
      "downloads/W_XX-EUMETSAT-Darmstadt,IMG+SAT,MTI1+LI-2-LFL--FD--x-x--ARC-x_C_EUMT_20241029055017_L2PF_OPE_20241029054003_20241029055003_N__T_0035_0000.zip\n",
      "downloads/W_XX-EUMETSAT-Darmstadt,IMG+SAT,MTI1+LI-2-LFL--FD--x-x--ARC-x_C_EUMT_20241029055017_L2PF_OPE_20241029054003_20241029055003_N__T_0035_0000.zip has been unzipped and deleted.\n",
      "downloads/W_XX-EUMETSAT-Darmstadt,IMG+SAT,MTI1+LI-2-LFL--FD--x-x--ARC-x_C_EUMT_20241029101020_L2PF_OPE_20241029100003_20241029101003_N__T_0061_0000.zip\n",
      "downloads/W_XX-EUMETSAT-Darmstadt,IMG+SAT,MTI1+LI-2-LFL--FD--x-x--ARC-x_C_EUMT_20241029101020_L2PF_OPE_20241029100003_20241029101003_N__T_0061_0000.zip has been unzipped and deleted.\n",
      "downloads/W_XX-EUMETSAT-Darmstadt,IMG+SAT,MTI1+LI-2-LFL--FD--x-x--ARC-x_C_EUMT_20241029123023_L2PF_OPE_20241029122003_20241029123003_N__T_0075_0000.zip\n",
      "downloads/W_XX-EUMETSAT-Darmstadt,IMG+SAT,MTI1+LI-2-LFL--FD--x-x--ARC-x_C_EUMT_20241029123023_L2PF_OPE_20241029122003_20241029123003_N__T_0075_0000.zip has been unzipped and deleted.\n",
      "downloads/W_XX-EUMETSAT-Darmstadt,IMG+SAT,MTI1+LI-2-LFL--FD--x-x--ARC-x_C_EUMT_20241029032015_L2PF_OPE_20241029031003_20241029032003_N__T_0020_0000.zip\n",
      "downloads/W_XX-EUMETSAT-Darmstadt,IMG+SAT,MTI1+LI-2-LFL--FD--x-x--ARC-x_C_EUMT_20241029032015_L2PF_OPE_20241029031003_20241029032003_N__T_0020_0000.zip has been unzipped and deleted.\n",
      "downloads/W_XX-EUMETSAT-Darmstadt,IMG+SAT,MTI1+LI-2-LFL--FD--x-x--ARC-x_C_EUMT_20241029163021_L2PF_OPE_20241029162003_20241029163003_N__C_0099_0000.zip\n",
      "downloads/W_XX-EUMETSAT-Darmstadt,IMG+SAT,MTI1+LI-2-LFL--FD--x-x--ARC-x_C_EUMT_20241029163021_L2PF_OPE_20241029162003_20241029163003_N__C_0099_0000.zip has been unzipped and deleted.\n",
      "downloads/W_XX-EUMETSAT-Darmstadt,IMG+SAT,MTI1+LI-2-LFL--FD--x-x--ARC-x_C_EUMT_20241029213017_L2PF_OPE_20241029212003_20241029213003_N__C_0129_0000.zip\n",
      "downloads/W_XX-EUMETSAT-Darmstadt,IMG+SAT,MTI1+LI-2-LFL--FD--x-x--ARC-x_C_EUMT_20241029213017_L2PF_OPE_20241029212003_20241029213003_N__C_0129_0000.zip has been unzipped and deleted.\n",
      "downloads/W_XX-EUMETSAT-Darmstadt,IMG+SAT,MTI1+LI-2-LFL--FD--x-x--ARC-x_C_EUMT_20241029205018_L2PF_OPE_20241029204003_20241029205003_N__C_0125_0000.zip\n",
      "downloads/W_XX-EUMETSAT-Darmstadt,IMG+SAT,MTI1+LI-2-LFL--FD--x-x--ARC-x_C_EUMT_20241029205018_L2PF_OPE_20241029204003_20241029205003_N__C_0125_0000.zip has been unzipped and deleted.\n",
      "downloads/W_XX-EUMETSAT-Darmstadt,IMG+SAT,MTI1+LI-2-LFL--FD--x-x--ARC-x_C_EUMT_20241029013017_L2PF_OPE_20241029012003_20241029013003_N__T_0009_0000.zip\n",
      "downloads/W_XX-EUMETSAT-Darmstadt,IMG+SAT,MTI1+LI-2-LFL--FD--x-x--ARC-x_C_EUMT_20241029013017_L2PF_OPE_20241029012003_20241029013003_N__T_0009_0000.zip has been unzipped and deleted.\n",
      "downloads/W_XX-EUMETSAT-Darmstadt,IMG+SAT,MTI1+LI-2-LFL--FD--x-x--ARC-x_C_EUMT_20241029092021_L2PF_OPE_20241029091003_20241029092003_N__T_0056_0000.zip\n",
      "downloads/W_XX-EUMETSAT-Darmstadt,IMG+SAT,MTI1+LI-2-LFL--FD--x-x--ARC-x_C_EUMT_20241029092021_L2PF_OPE_20241029091003_20241029092003_N__T_0056_0000.zip has been unzipped and deleted.\n",
      "downloads/W_XX-EUMETSAT-Darmstadt,IMG+SAT,MTI1+LI-2-LFL--FD--x-x--ARC-x_C_EUMT_20241029184020_L2PF_OPE_20241029183003_20241029184003_N__C_0112_0000.zip\n",
      "downloads/W_XX-EUMETSAT-Darmstadt,IMG+SAT,MTI1+LI-2-LFL--FD--x-x--ARC-x_C_EUMT_20241029184020_L2PF_OPE_20241029183003_20241029184003_N__C_0112_0000.zip has been unzipped and deleted.\n",
      "downloads/W_XX-EUMETSAT-Darmstadt,IMG+SAT,MTI1+LI-2-LFL--FD--x-x--ARC-x_C_EUMT_20241029201018_L2PF_OPE_20241029200003_20241029201003_N__C_0121_0000.zip\n",
      "downloads/W_XX-EUMETSAT-Darmstadt,IMG+SAT,MTI1+LI-2-LFL--FD--x-x--ARC-x_C_EUMT_20241029201018_L2PF_OPE_20241029200003_20241029201003_N__C_0121_0000.zip has been unzipped and deleted.\n",
      "downloads/W_XX-EUMETSAT-Darmstadt,IMG+SAT,MTI1+LI-2-LFL--FD--x-x--ARC-x_C_EUMT_20241029052016_L2PF_OPE_20241029051003_20241029052003_N__T_0032_0000.zip\n",
      "downloads/W_XX-EUMETSAT-Darmstadt,IMG+SAT,MTI1+LI-2-LFL--FD--x-x--ARC-x_C_EUMT_20241029052016_L2PF_OPE_20241029051003_20241029052003_N__T_0032_0000.zip has been unzipped and deleted.\n",
      "downloads/W_XX-EUMETSAT-Darmstadt,IMG+SAT,MTI1+LI-2-LFL--FD--x-x--ARC-x_C_EUMT_20241029230016_L2PF_OPE_20241029225003_20241029230003_N__C_0138_0000.zip\n",
      "downloads/W_XX-EUMETSAT-Darmstadt,IMG+SAT,MTI1+LI-2-LFL--FD--x-x--ARC-x_C_EUMT_20241029230016_L2PF_OPE_20241029225003_20241029230003_N__C_0138_0000.zip has been unzipped and deleted.\n",
      "downloads/W_XX-EUMETSAT-Darmstadt,IMG+SAT,MTI1+LI-2-LFL--FD--x-x--ARC-x_C_EUMT_20241029065018_L2PF_OPE_20241029064003_20241029065003_N__T_0041_0000.zip\n",
      "downloads/W_XX-EUMETSAT-Darmstadt,IMG+SAT,MTI1+LI-2-LFL--FD--x-x--ARC-x_C_EUMT_20241029065018_L2PF_OPE_20241029064003_20241029065003_N__T_0041_0000.zip has been unzipped and deleted.\n",
      "downloads/W_XX-EUMETSAT-Darmstadt,IMG+SAT,MTI1+LI-2-LFL--FD--x-x--ARC-x_C_EUMT_20241029112021_L2PF_OPE_20241029111003_20241029112003_N__T_0068_0000.zip\n",
      "downloads/W_XX-EUMETSAT-Darmstadt,IMG+SAT,MTI1+LI-2-LFL--FD--x-x--ARC-x_C_EUMT_20241029112021_L2PF_OPE_20241029111003_20241029112003_N__T_0068_0000.zip has been unzipped and deleted.\n",
      "downloads/W_XX-EUMETSAT-Darmstadt,IMG+SAT,MTI1+LI-2-LFL--FD--x-x--ARC-x_C_EUMT_20241029074019_L2PF_OPE_20241029073003_20241029074003_N__T_0046_0000.zip\n",
      "downloads/W_XX-EUMETSAT-Darmstadt,IMG+SAT,MTI1+LI-2-LFL--FD--x-x--ARC-x_C_EUMT_20241029074019_L2PF_OPE_20241029073003_20241029074003_N__T_0046_0000.zip has been unzipped and deleted.\n",
      "downloads/W_XX-EUMETSAT-Darmstadt,IMG+SAT,MTI1+LI-2-LFL--FD--x-x--ARC-x_C_EUMT_20241029120023_L2PF_OPE_20241029115003_20241029120003_N__T_0072_0000.zip\n",
      "downloads/W_XX-EUMETSAT-Darmstadt,IMG+SAT,MTI1+LI-2-LFL--FD--x-x--ARC-x_C_EUMT_20241029120023_L2PF_OPE_20241029115003_20241029120003_N__T_0072_0000.zip has been unzipped and deleted.\n",
      "downloads/W_XX-EUMETSAT-Darmstadt,IMG+SAT,MTI1+LI-2-LFL--FD--x-x--ARC-x_C_EUMT_20241029002016_L2PF_OPE_20241029001003_20241029002003_N__T_0002_0000.zip\n",
      "downloads/W_XX-EUMETSAT-Darmstadt,IMG+SAT,MTI1+LI-2-LFL--FD--x-x--ARC-x_C_EUMT_20241029002016_L2PF_OPE_20241029001003_20241029002003_N__T_0002_0000.zip has been unzipped and deleted.\n",
      "downloads/W_XX-EUMETSAT-Darmstadt,IMG+SAT,MTI1+LI-2-LFL--FD--x-x--ARC-x_C_EUMT_20241030000017_L2PF_OPE_20241029235003_20241030000003_N__C_0144_0000.zip\n",
      "downloads/W_XX-EUMETSAT-Darmstadt,IMG+SAT,MTI1+LI-2-LFL--FD--x-x--ARC-x_C_EUMT_20241030000017_L2PF_OPE_20241029235003_20241030000003_N__C_0144_0000.zip has been unzipped and deleted.\n",
      "downloads/W_XX-EUMETSAT-Darmstadt,IMG+SAT,MTI1+LI-2-LFL--FD--x-x--ARC-x_C_EUMT_20241029062017_L2PF_OPE_20241029061003_20241029062003_N__T_0038_0000.zip\n",
      "downloads/W_XX-EUMETSAT-Darmstadt,IMG+SAT,MTI1+LI-2-LFL--FD--x-x--ARC-x_C_EUMT_20241029062017_L2PF_OPE_20241029061003_20241029062003_N__T_0038_0000.zip has been unzipped and deleted.\n",
      "downloads/W_XX-EUMETSAT-Darmstadt,IMG+SAT,MTI1+LI-2-LFL--FD--x-x--ARC-x_C_EUMT_20241029010015_L2PF_OPE_20241029005003_20241029010003_N__T_0006_0000.zip\n",
      "downloads/W_XX-EUMETSAT-Darmstadt,IMG+SAT,MTI1+LI-2-LFL--FD--x-x--ARC-x_C_EUMT_20241029010015_L2PF_OPE_20241029005003_20241029010003_N__T_0006_0000.zip has been unzipped and deleted.\n",
      "downloads/W_XX-EUMETSAT-Darmstadt,IMG+SAT,MTI1+LI-2-LFL--FD--x-x--ARC-x_C_EUMT_20241029001016_L2PF_OPE_20241029000003_20241029001003_N__T_0001_0000.zip\n",
      "downloads/W_XX-EUMETSAT-Darmstadt,IMG+SAT,MTI1+LI-2-LFL--FD--x-x--ARC-x_C_EUMT_20241029001016_L2PF_OPE_20241029000003_20241029001003_N__T_0001_0000.zip has been unzipped and deleted.\n",
      "downloads/W_XX-EUMETSAT-Darmstadt,IMG+SAT,MTI1+LI-2-LFL--FD--x-x--ARC-x_C_EUMT_20241029150020_L2PF_OPE_20241029145003_20241029150003_N__C_0090_0000.zip\n",
      "downloads/W_XX-EUMETSAT-Darmstadt,IMG+SAT,MTI1+LI-2-LFL--FD--x-x--ARC-x_C_EUMT_20241029150020_L2PF_OPE_20241029145003_20241029150003_N__C_0090_0000.zip has been unzipped and deleted.\n",
      "downloads/W_XX-EUMETSAT-Darmstadt,IMG+SAT,MTI1+LI-2-LFL--FD--x-x--ARC-x_C_EUMT_20241029232017_L2PF_OPE_20241029231003_20241029232003_N__C_0140_0000.zip\n",
      "downloads/W_XX-EUMETSAT-Darmstadt,IMG+SAT,MTI1+LI-2-LFL--FD--x-x--ARC-x_C_EUMT_20241029232017_L2PF_OPE_20241029231003_20241029232003_N__C_0140_0000.zip has been unzipped and deleted.\n",
      "downloads/W_XX-EUMETSAT-Darmstadt,IMG+SAT,MTI1+LI-2-LFL--FD--x-x--ARC-x_C_EUMT_20241029211017_L2PF_OPE_20241029210003_20241029211003_N__C_0127_0000.zip\n",
      "downloads/W_XX-EUMETSAT-Darmstadt,IMG+SAT,MTI1+LI-2-LFL--FD--x-x--ARC-x_C_EUMT_20241029211017_L2PF_OPE_20241029210003_20241029211003_N__C_0127_0000.zip has been unzipped and deleted.\n",
      "downloads/W_XX-EUMETSAT-Darmstadt,IMG+SAT,MTI1+LI-2-LFL--FD--x-x--ARC-x_C_EUMT_20241029143021_L2PF_OPE_20241029142543_20241029143003_N__C_0087_0000.zip\n",
      "downloads/W_XX-EUMETSAT-Darmstadt,IMG+SAT,MTI1+LI-2-LFL--FD--x-x--ARC-x_C_EUMT_20241029143021_L2PF_OPE_20241029142543_20241029143003_N__C_0087_0000.zip has been unzipped and deleted.\n",
      "downloads/W_XX-EUMETSAT-Darmstadt,IMG+SAT,MTI1+LI-2-LFL--FD--x-x--ARC-x_C_EUMT_20241029071018_L2PF_OPE_20241029070003_20241029071003_N__T_0043_0000.zip\n",
      "downloads/W_XX-EUMETSAT-Darmstadt,IMG+SAT,MTI1+LI-2-LFL--FD--x-x--ARC-x_C_EUMT_20241029071018_L2PF_OPE_20241029070003_20241029071003_N__T_0043_0000.zip has been unzipped and deleted.\n",
      "downloads/W_XX-EUMETSAT-Darmstadt,IMG+SAT,MTI1+LI-2-LFL--FD--x-x--ARC-x_C_EUMT_20241029073019_L2PF_OPE_20241029072003_20241029073003_N__T_0045_0000.zip\n",
      "downloads/W_XX-EUMETSAT-Darmstadt,IMG+SAT,MTI1+LI-2-LFL--FD--x-x--ARC-x_C_EUMT_20241029073019_L2PF_OPE_20241029072003_20241029073003_N__T_0045_0000.zip has been unzipped and deleted.\n",
      "downloads/W_XX-EUMETSAT-Darmstadt,IMG+SAT,MTI1+LI-2-LFL--FD--x-x--ARC-x_C_EUMT_20241029111021_L2PF_OPE_20241029110003_20241029111003_N__T_0067_0000.zip\n",
      "downloads/W_XX-EUMETSAT-Darmstadt,IMG+SAT,MTI1+LI-2-LFL--FD--x-x--ARC-x_C_EUMT_20241029111021_L2PF_OPE_20241029110003_20241029111003_N__T_0067_0000.zip has been unzipped and deleted.\n",
      "downloads/W_XX-EUMETSAT-Darmstadt,IMG+SAT,MTI1+LI-2-LFL--FD--x-x--ARC-x_C_EUMT_20241029154020_L2PF_OPE_20241029153003_20241029154003_N__C_0094_0000.zip\n",
      "downloads/W_XX-EUMETSAT-Darmstadt,IMG+SAT,MTI1+LI-2-LFL--FD--x-x--ARC-x_C_EUMT_20241029154020_L2PF_OPE_20241029153003_20241029154003_N__C_0094_0000.zip has been unzipped and deleted.\n",
      "downloads/W_XX-EUMETSAT-Darmstadt,IMG+SAT,MTI1+LI-2-LFL--FD--x-x--ARC-x_C_EUMT_20241029131026_L2PF_OPE_20241029130003_20241029131003_N__T_0079_0000.zip\n",
      "downloads/W_XX-EUMETSAT-Darmstadt,IMG+SAT,MTI1+LI-2-LFL--FD--x-x--ARC-x_C_EUMT_20241029131026_L2PF_OPE_20241029130003_20241029131003_N__T_0079_0000.zip has been unzipped and deleted.\n",
      "downloads/W_XX-EUMETSAT-Darmstadt,IMG+SAT,MTI1+LI-2-LFL--FD--x-x--ARC-x_C_EUMT_20241029223015_L2PF_OPE_20241029222003_20241029223003_N__C_0135_0000.zip\n",
      "downloads/W_XX-EUMETSAT-Darmstadt,IMG+SAT,MTI1+LI-2-LFL--FD--x-x--ARC-x_C_EUMT_20241029223015_L2PF_OPE_20241029222003_20241029223003_N__C_0135_0000.zip has been unzipped and deleted.\n",
      "downloads/W_XX-EUMETSAT-Darmstadt,IMG+SAT,MTI1+LI-2-LFL--FD--x-x--ARC-x_C_EUMT_20241029063017_L2PF_OPE_20241029062003_20241029063003_N__T_0039_0000.zip\n",
      "downloads/W_XX-EUMETSAT-Darmstadt,IMG+SAT,MTI1+LI-2-LFL--FD--x-x--ARC-x_C_EUMT_20241029063017_L2PF_OPE_20241029062003_20241029063003_N__T_0039_0000.zip has been unzipped and deleted.\n",
      "downloads/W_XX-EUMETSAT-Darmstadt,IMG+SAT,MTI1+LI-2-LFL--FD--x-x--ARC-x_C_EUMT_20241029182020_L2PF_OPE_20241029181003_20241029182003_N__C_0110_0000.zip\n",
      "downloads/W_XX-EUMETSAT-Darmstadt,IMG+SAT,MTI1+LI-2-LFL--FD--x-x--ARC-x_C_EUMT_20241029182020_L2PF_OPE_20241029181003_20241029182003_N__C_0110_0000.zip has been unzipped and deleted.\n",
      "downloads/W_XX-EUMETSAT-Darmstadt,IMG+SAT,MTI1+LI-2-LFL--FD--x-x--ARC-x_C_EUMT_20241029132023_L2PF_OPE_20241029131003_20241029132003_N__T_0080_0000.zip\n",
      "downloads/W_XX-EUMETSAT-Darmstadt,IMG+SAT,MTI1+LI-2-LFL--FD--x-x--ARC-x_C_EUMT_20241029132023_L2PF_OPE_20241029131003_20241029132003_N__T_0080_0000.zip has been unzipped and deleted.\n",
      "downloads/W_XX-EUMETSAT-Darmstadt,IMG+SAT,MTI1+LI-2-LFL--FD--x-x--ARC-x_C_EUMT_20241029103020_L2PF_OPE_20241029102003_20241029103003_N__T_0063_0000.zip\n",
      "downloads/W_XX-EUMETSAT-Darmstadt,IMG+SAT,MTI1+LI-2-LFL--FD--x-x--ARC-x_C_EUMT_20241029103020_L2PF_OPE_20241029102003_20241029103003_N__T_0063_0000.zip has been unzipped and deleted.\n",
      "downloads/W_XX-EUMETSAT-Darmstadt,IMG+SAT,MTI1+LI-2-LFL--FD--x-x--ARC-x_C_EUMT_20241029110020_L2PF_OPE_20241029105003_20241029110003_N__T_0066_0000.zip\n",
      "downloads/W_XX-EUMETSAT-Darmstadt,IMG+SAT,MTI1+LI-2-LFL--FD--x-x--ARC-x_C_EUMT_20241029110020_L2PF_OPE_20241029105003_20241029110003_N__T_0066_0000.zip has been unzipped and deleted.\n",
      "downloads/W_XX-EUMETSAT-Darmstadt,IMG+SAT,MTI1+LI-2-LFL--FD--x-x--ARC-x_C_EUMT_20241029053019_L2PF_OPE_20241029052003_20241029053003_N__T_0033_0000.zip\n",
      "downloads/W_XX-EUMETSAT-Darmstadt,IMG+SAT,MTI1+LI-2-LFL--FD--x-x--ARC-x_C_EUMT_20241029053019_L2PF_OPE_20241029052003_20241029053003_N__T_0033_0000.zip has been unzipped and deleted.\n",
      "downloads/W_XX-EUMETSAT-Darmstadt,IMG+SAT,MTI1+LI-2-LFL--FD--x-x--ARC-x_C_EUMT_20241029015015_L2PF_OPE_20241029014003_20241029015003_N__T_0011_0000.zip\n",
      "downloads/W_XX-EUMETSAT-Darmstadt,IMG+SAT,MTI1+LI-2-LFL--FD--x-x--ARC-x_C_EUMT_20241029015015_L2PF_OPE_20241029014003_20241029015003_N__T_0011_0000.zip has been unzipped and deleted.\n",
      "downloads/W_XX-EUMETSAT-Darmstadt,IMG+SAT,MTI1+LI-2-LFL--FD--x-x--ARC-x_C_EUMT_20241029021015_L2PF_OPE_20241029020003_20241029021003_N__T_0013_0000.zip\n",
      "downloads/W_XX-EUMETSAT-Darmstadt,IMG+SAT,MTI1+LI-2-LFL--FD--x-x--ARC-x_C_EUMT_20241029021015_L2PF_OPE_20241029020003_20241029021003_N__T_0013_0000.zip has been unzipped and deleted.\n",
      "downloads/W_XX-EUMETSAT-Darmstadt,IMG+SAT,MTI1+LI-2-LFL--FD--x-x--ARC-x_C_EUMT_20241029081021_L2PF_OPE_20241029080003_20241029081003_N__T_0049_0000.zip\n",
      "downloads/W_XX-EUMETSAT-Darmstadt,IMG+SAT,MTI1+LI-2-LFL--FD--x-x--ARC-x_C_EUMT_20241029081021_L2PF_OPE_20241029080003_20241029081003_N__T_0049_0000.zip has been unzipped and deleted.\n",
      "downloads/W_XX-EUMETSAT-Darmstadt,IMG+SAT,MTI1+LI-2-LFL--FD--x-x--ARC-x_C_EUMT_20241029225016_L2PF_OPE_20241029224003_20241029225003_N__C_0137_0000.zip\n",
      "downloads/W_XX-EUMETSAT-Darmstadt,IMG+SAT,MTI1+LI-2-LFL--FD--x-x--ARC-x_C_EUMT_20241029225016_L2PF_OPE_20241029224003_20241029225003_N__C_0137_0000.zip has been unzipped and deleted.\n",
      "downloads/W_XX-EUMETSAT-Darmstadt,IMG+SAT,MTI1+LI-2-LFL--FD--x-x--ARC-x_C_EUMT_20241029031015_L2PF_OPE_20241029030003_20241029031003_N__T_0019_0000.zip\n",
      "downloads/W_XX-EUMETSAT-Darmstadt,IMG+SAT,MTI1+LI-2-LFL--FD--x-x--ARC-x_C_EUMT_20241029031015_L2PF_OPE_20241029030003_20241029031003_N__T_0019_0000.zip has been unzipped and deleted.\n",
      "downloads/W_XX-EUMETSAT-Darmstadt,IMG+SAT,MTI1+LI-2-LFL--FD--x-x--ARC-x_C_EUMT_20241029212016_L2PF_OPE_20241029211003_20241029212003_N__C_0128_0000.zip\n",
      "downloads/W_XX-EUMETSAT-Darmstadt,IMG+SAT,MTI1+LI-2-LFL--FD--x-x--ARC-x_C_EUMT_20241029212016_L2PF_OPE_20241029211003_20241029212003_N__C_0128_0000.zip has been unzipped and deleted.\n",
      "downloads/W_XX-EUMETSAT-Darmstadt,IMG+SAT,MTI1+LI-2-LFL--FD--x-x--ARC-x_C_EUMT_20241029033016_L2PF_OPE_20241029032003_20241029033003_N__T_0021_0000.zip\n",
      "downloads/W_XX-EUMETSAT-Darmstadt,IMG+SAT,MTI1+LI-2-LFL--FD--x-x--ARC-x_C_EUMT_20241029033016_L2PF_OPE_20241029032003_20241029033003_N__T_0021_0000.zip has been unzipped and deleted.\n",
      "downloads/W_XX-EUMETSAT-Darmstadt,IMG+SAT,MTI1+LI-2-LFL--FD--x-x--ARC-x_C_EUMT_20241029045017_L2PF_OPE_20241029044003_20241029045003_N__T_0029_0000.zip\n",
      "downloads/W_XX-EUMETSAT-Darmstadt,IMG+SAT,MTI1+LI-2-LFL--FD--x-x--ARC-x_C_EUMT_20241029045017_L2PF_OPE_20241029044003_20241029045003_N__T_0029_0000.zip has been unzipped and deleted.\n",
      "downloads/W_XX-EUMETSAT-Darmstadt,IMG+SAT,MTI1+LI-2-LFL--FD--x-x--ARC-x_C_EUMT_20241029172020_L2PF_OPE_20241029171003_20241029172003_N__C_0104_0000.zip\n",
      "downloads/W_XX-EUMETSAT-Darmstadt,IMG+SAT,MTI1+LI-2-LFL--FD--x-x--ARC-x_C_EUMT_20241029172020_L2PF_OPE_20241029171003_20241029172003_N__C_0104_0000.zip has been unzipped and deleted.\n",
      "downloads/W_XX-EUMETSAT-Darmstadt,IMG+SAT,MTI1+LI-2-LFL--FD--x-x--ARC-x_C_EUMT_20241029014015_L2PF_OPE_20241029013003_20241029014003_N__T_0010_0000.zip\n",
      "downloads/W_XX-EUMETSAT-Darmstadt,IMG+SAT,MTI1+LI-2-LFL--FD--x-x--ARC-x_C_EUMT_20241029014015_L2PF_OPE_20241029013003_20241029014003_N__T_0010_0000.zip has been unzipped and deleted.\n",
      "downloads/W_XX-EUMETSAT-Darmstadt,IMG+SAT,MTI1+LI-2-LFL--FD--x-x--ARC-x_C_EUMT_20241029175020_L2PF_OPE_20241029174003_20241029175003_N__C_0107_0000.zip\n",
      "downloads/W_XX-EUMETSAT-Darmstadt,IMG+SAT,MTI1+LI-2-LFL--FD--x-x--ARC-x_C_EUMT_20241029175020_L2PF_OPE_20241029174003_20241029175003_N__C_0107_0000.zip has been unzipped and deleted.\n",
      "downloads/W_XX-EUMETSAT-Darmstadt,IMG+SAT,MTI1+LI-2-LFL--FD--x-x--ARC-x_C_EUMT_20241029235019_L2PF_OPE_20241029234003_20241029235003_N__C_0143_0000.zip\n",
      "downloads/W_XX-EUMETSAT-Darmstadt,IMG+SAT,MTI1+LI-2-LFL--FD--x-x--ARC-x_C_EUMT_20241029235019_L2PF_OPE_20241029234003_20241029235003_N__C_0143_0000.zip has been unzipped and deleted.\n",
      "downloads/W_XX-EUMETSAT-Darmstadt,IMG+SAT,MTI1+LI-2-LFL--FD--x-x--ARC-x_C_EUMT_20241029165022_L2PF_OPE_20241029164113_20241029165003_N__C_0101_0000.zip\n",
      "downloads/W_XX-EUMETSAT-Darmstadt,IMG+SAT,MTI1+LI-2-LFL--FD--x-x--ARC-x_C_EUMT_20241029165022_L2PF_OPE_20241029164113_20241029165003_N__C_0101_0000.zip has been unzipped and deleted.\n",
      "downloads/W_XX-EUMETSAT-Darmstadt,IMG+SAT,MTI1+LI-2-LFL--FD--x-x--ARC-x_C_EUMT_20241029020015_L2PF_OPE_20241029015003_20241029020003_N__T_0012_0000.zip\n",
      "downloads/W_XX-EUMETSAT-Darmstadt,IMG+SAT,MTI1+LI-2-LFL--FD--x-x--ARC-x_C_EUMT_20241029020015_L2PF_OPE_20241029015003_20241029020003_N__T_0012_0000.zip has been unzipped and deleted.\n",
      "downloads/W_XX-EUMETSAT-Darmstadt,IMG+SAT,MTI1+LI-2-LFL--FD--x-x--ARC-x_C_EUMT_20241029162021_L2PF_OPE_20241029161003_20241029162003_N__C_0098_0000.zip\n",
      "downloads/W_XX-EUMETSAT-Darmstadt,IMG+SAT,MTI1+LI-2-LFL--FD--x-x--ARC-x_C_EUMT_20241029162021_L2PF_OPE_20241029161003_20241029162003_N__C_0098_0000.zip has been unzipped and deleted.\n",
      "downloads/W_XX-EUMETSAT-Darmstadt,IMG+SAT,MTI1+LI-2-LFL--FD--x-x--ARC-x_C_EUMT_20241029170021_L2PF_OPE_20241029165003_20241029170003_N__C_0102_0000.zip\n",
      "downloads/W_XX-EUMETSAT-Darmstadt,IMG+SAT,MTI1+LI-2-LFL--FD--x-x--ARC-x_C_EUMT_20241029170021_L2PF_OPE_20241029165003_20241029170003_N__C_0102_0000.zip has been unzipped and deleted.\n",
      "downloads/W_XX-EUMETSAT-Darmstadt,IMG+SAT,MTI1+LI-2-LFL--FD--x-x--ARC-x_C_EUMT_20241029124021_L2PF_OPE_20241029123003_20241029124003_N__T_0076_0000.zip\n",
      "downloads/W_XX-EUMETSAT-Darmstadt,IMG+SAT,MTI1+LI-2-LFL--FD--x-x--ARC-x_C_EUMT_20241029124021_L2PF_OPE_20241029123003_20241029124003_N__T_0076_0000.zip has been unzipped and deleted.\n",
      "downloads/W_XX-EUMETSAT-Darmstadt,IMG+SAT,MTI1+LI-2-LFL--FD--x-x--ARC-x_C_EUMT_20241029091021_L2PF_OPE_20241029090003_20241029091003_N__T_0055_0000.zip\n",
      "downloads/W_XX-EUMETSAT-Darmstadt,IMG+SAT,MTI1+LI-2-LFL--FD--x-x--ARC-x_C_EUMT_20241029091021_L2PF_OPE_20241029090003_20241029091003_N__T_0055_0000.zip has been unzipped and deleted.\n",
      "downloads/W_XX-EUMETSAT-Darmstadt,IMG+SAT,MTI1+LI-2-LFL--FD--x-x--ARC-x_C_EUMT_20241029160020_L2PF_OPE_20241029155003_20241029160003_N__C_0096_0000.zip\n",
      "downloads/W_XX-EUMETSAT-Darmstadt,IMG+SAT,MTI1+LI-2-LFL--FD--x-x--ARC-x_C_EUMT_20241029160020_L2PF_OPE_20241029155003_20241029160003_N__C_0096_0000.zip has been unzipped and deleted.\n",
      "downloads/W_XX-EUMETSAT-Darmstadt,IMG+SAT,MTI1+LI-2-LFL--FD--x-x--ARC-x_C_EUMT_20241029135024_L2PF_OPE_20241029134003_20241029135003_N__T_0083_0000.zip\n",
      "downloads/W_XX-EUMETSAT-Darmstadt,IMG+SAT,MTI1+LI-2-LFL--FD--x-x--ARC-x_C_EUMT_20241029135024_L2PF_OPE_20241029134003_20241029135003_N__T_0083_0000.zip has been unzipped and deleted.\n",
      "downloads/W_XX-EUMETSAT-Darmstadt,IMG+SAT,MTI1+LI-2-LFL--FD--x-x--ARC-x_C_EUMT_20241029185018_L2PF_OPE_20241029184003_20241029185003_N__C_0113_0000.zip\n",
      "downloads/W_XX-EUMETSAT-Darmstadt,IMG+SAT,MTI1+LI-2-LFL--FD--x-x--ARC-x_C_EUMT_20241029185018_L2PF_OPE_20241029184003_20241029185003_N__C_0113_0000.zip has been unzipped and deleted.\n",
      "downloads/W_XX-EUMETSAT-Darmstadt,IMG+SAT,MTI1+LI-2-LFL--FD--x-x--ARC-x_C_EUMT_20241029061018_L2PF_OPE_20241029060003_20241029061003_N__T_0037_0000.zip\n",
      "downloads/W_XX-EUMETSAT-Darmstadt,IMG+SAT,MTI1+LI-2-LFL--FD--x-x--ARC-x_C_EUMT_20241029061018_L2PF_OPE_20241029060003_20241029061003_N__T_0037_0000.zip has been unzipped and deleted.\n",
      "downloads/W_XX-EUMETSAT-Darmstadt,IMG+SAT,MTI1+LI-2-LFL--FD--x-x--ARC-x_C_EUMT_20241029090020_L2PF_OPE_20241029085003_20241029090003_N__T_0054_0000.zip\n",
      "downloads/W_XX-EUMETSAT-Darmstadt,IMG+SAT,MTI1+LI-2-LFL--FD--x-x--ARC-x_C_EUMT_20241029090020_L2PF_OPE_20241029085003_20241029090003_N__T_0054_0000.zip has been unzipped and deleted.\n",
      "downloads/W_XX-EUMETSAT-Darmstadt,IMG+SAT,MTI1+LI-2-LFL--FD--x-x--ARC-x_C_EUMT_20241029193018_L2PF_OPE_20241029192003_20241029193003_N__C_0117_0000.zip\n",
      "downloads/W_XX-EUMETSAT-Darmstadt,IMG+SAT,MTI1+LI-2-LFL--FD--x-x--ARC-x_C_EUMT_20241029193018_L2PF_OPE_20241029192003_20241029193003_N__C_0117_0000.zip has been unzipped and deleted.\n",
      "downloads/W_XX-EUMETSAT-Darmstadt,IMG+SAT,MTI1+LI-2-LFL--FD--x-x--ARC-x_C_EUMT_20241029050018_L2PF_OPE_20241029045003_20241029050003_N__T_0030_0000.zip\n",
      "downloads/W_XX-EUMETSAT-Darmstadt,IMG+SAT,MTI1+LI-2-LFL--FD--x-x--ARC-x_C_EUMT_20241029050018_L2PF_OPE_20241029045003_20241029050003_N__T_0030_0000.zip has been unzipped and deleted.\n",
      "downloads/W_XX-EUMETSAT-Darmstadt,IMG+SAT,MTI1+LI-2-LFL--FD--x-x--ARC-x_C_EUMT_20241029174021_L2PF_OPE_20241029173003_20241029174003_N__C_0106_0000.zip\n",
      "downloads/W_XX-EUMETSAT-Darmstadt,IMG+SAT,MTI1+LI-2-LFL--FD--x-x--ARC-x_C_EUMT_20241029174021_L2PF_OPE_20241029173003_20241029174003_N__C_0106_0000.zip has been unzipped and deleted.\n",
      "downloads/W_XX-EUMETSAT-Darmstadt,IMG+SAT,MTI1+LI-2-LFL--FD--x-x--ARC-x_C_EUMT_20241029022015_L2PF_OPE_20241029021003_20241029022003_N__T_0014_0000.zip\n",
      "downloads/W_XX-EUMETSAT-Darmstadt,IMG+SAT,MTI1+LI-2-LFL--FD--x-x--ARC-x_C_EUMT_20241029022015_L2PF_OPE_20241029021003_20241029022003_N__T_0014_0000.zip has been unzipped and deleted.\n",
      "downloads/W_XX-EUMETSAT-Darmstadt,IMG+SAT,MTI1+LI-2-LFL--FD--x-x--ARC-x_C_EUMT_20241029221016_L2PF_OPE_20241029220003_20241029221003_N__C_0133_0000.zip\n",
      "downloads/W_XX-EUMETSAT-Darmstadt,IMG+SAT,MTI1+LI-2-LFL--FD--x-x--ARC-x_C_EUMT_20241029221016_L2PF_OPE_20241029220003_20241029221003_N__C_0133_0000.zip has been unzipped and deleted.\n",
      "downloads/W_XX-EUMETSAT-Darmstadt,IMG+SAT,MTI1+LI-2-LFL--FD--x-x--ARC-x_C_EUMT_20241029060017_L2PF_OPE_20241029055003_20241029060003_N__T_0036_0000.zip\n",
      "downloads/W_XX-EUMETSAT-Darmstadt,IMG+SAT,MTI1+LI-2-LFL--FD--x-x--ARC-x_C_EUMT_20241029060017_L2PF_OPE_20241029055003_20241029060003_N__T_0036_0000.zip has been unzipped and deleted.\n",
      "downloads/W_XX-EUMETSAT-Darmstadt,IMG+SAT,MTI1+LI-2-LFL--FD--x-x--ARC-x_C_EUMT_20241029153021_L2PF_OPE_20241029152003_20241029153003_N__C_0093_0000.zip\n",
      "downloads/W_XX-EUMETSAT-Darmstadt,IMG+SAT,MTI1+LI-2-LFL--FD--x-x--ARC-x_C_EUMT_20241029153021_L2PF_OPE_20241029152003_20241029153003_N__C_0093_0000.zip has been unzipped and deleted.\n",
      "downloads/W_XX-EUMETSAT-Darmstadt,IMG+SAT,MTI1+LI-2-LFL--FD--x-x--ARC-x_C_EUMT_20241029171021_L2PF_OPE_20241029170003_20241029171003_N__C_0103_0000.zip\n",
      "downloads/W_XX-EUMETSAT-Darmstadt,IMG+SAT,MTI1+LI-2-LFL--FD--x-x--ARC-x_C_EUMT_20241029171021_L2PF_OPE_20241029170003_20241029171003_N__C_0103_0000.zip has been unzipped and deleted.\n",
      "downloads/W_XX-EUMETSAT-Darmstadt,IMG+SAT,MTI1+LI-2-LFL--FD--x-x--ARC-x_C_EUMT_20241029005015_L2PF_OPE_20241029004003_20241029005003_N__T_0005_0000.zip\n",
      "downloads/W_XX-EUMETSAT-Darmstadt,IMG+SAT,MTI1+LI-2-LFL--FD--x-x--ARC-x_C_EUMT_20241029005015_L2PF_OPE_20241029004003_20241029005003_N__T_0005_0000.zip has been unzipped and deleted.\n",
      "downloads/W_XX-EUMETSAT-Darmstadt,IMG+SAT,MTI1+LI-2-LFL--FD--x-x--ARC-x_C_EUMT_20241029043016_L2PF_OPE_20241029042003_20241029043003_N__T_0027_0000.zip\n",
      "downloads/W_XX-EUMETSAT-Darmstadt,IMG+SAT,MTI1+LI-2-LFL--FD--x-x--ARC-x_C_EUMT_20241029043016_L2PF_OPE_20241029042003_20241029043003_N__T_0027_0000.zip has been unzipped and deleted.\n",
      "downloads/W_XX-EUMETSAT-Darmstadt,IMG+SAT,MTI1+LI-2-LFL--FD--x-x--ARC-x_C_EUMT_20241029122021_L2PF_OPE_20241029121003_20241029122003_N__T_0074_0000.zip\n",
      "downloads/W_XX-EUMETSAT-Darmstadt,IMG+SAT,MTI1+LI-2-LFL--FD--x-x--ARC-x_C_EUMT_20241029122021_L2PF_OPE_20241029121003_20241029122003_N__T_0074_0000.zip has been unzipped and deleted.\n",
      "downloads/W_XX-EUMETSAT-Darmstadt,IMG+SAT,MTI1+LI-2-LFL--FD--x-x--ARC-x_C_EUMT_20241029145020_L2PF_OPE_20241029144003_20241029145003_N__C_0089_0000.zip\n",
      "downloads/W_XX-EUMETSAT-Darmstadt,IMG+SAT,MTI1+LI-2-LFL--FD--x-x--ARC-x_C_EUMT_20241029145020_L2PF_OPE_20241029144003_20241029145003_N__C_0089_0000.zip has been unzipped and deleted.\n",
      "downloads/W_XX-EUMETSAT-Darmstadt,IMG+SAT,MTI1+LI-2-LFL--FD--x-x--ARC-x_C_EUMT_20241029075018_L2PF_OPE_20241029074003_20241029075003_N__T_0047_0000.zip\n",
      "downloads/W_XX-EUMETSAT-Darmstadt,IMG+SAT,MTI1+LI-2-LFL--FD--x-x--ARC-x_C_EUMT_20241029075018_L2PF_OPE_20241029074003_20241029075003_N__T_0047_0000.zip has been unzipped and deleted.\n",
      "downloads/W_XX-EUMETSAT-Darmstadt,IMG+SAT,MTI1+LI-2-LFL--FD--x-x--ARC-x_C_EUMT_20241029195017_L2PF_OPE_20241029194003_20241029195003_N__C_0119_0000.zip\n",
      "downloads/W_XX-EUMETSAT-Darmstadt,IMG+SAT,MTI1+LI-2-LFL--FD--x-x--ARC-x_C_EUMT_20241029195017_L2PF_OPE_20241029194003_20241029195003_N__C_0119_0000.zip has been unzipped and deleted.\n",
      "downloads/W_XX-EUMETSAT-Darmstadt,IMG+SAT,MTI1+LI-2-LFL--FD--x-x--ARC-x_C_EUMT_20241029190019_L2PF_OPE_20241029185003_20241029190003_N__C_0114_0000.zip\n",
      "downloads/W_XX-EUMETSAT-Darmstadt,IMG+SAT,MTI1+LI-2-LFL--FD--x-x--ARC-x_C_EUMT_20241029190019_L2PF_OPE_20241029185003_20241029190003_N__C_0114_0000.zip has been unzipped and deleted.\n",
      "downloads/W_XX-EUMETSAT-Darmstadt,IMG+SAT,MTI1+LI-2-LFL--FD--x-x--ARC-x_C_EUMT_20241029054017_L2PF_OPE_20241029053003_20241029054003_N__T_0034_0000.zip\n",
      "downloads/W_XX-EUMETSAT-Darmstadt,IMG+SAT,MTI1+LI-2-LFL--FD--x-x--ARC-x_C_EUMT_20241029054017_L2PF_OPE_20241029053003_20241029054003_N__T_0034_0000.zip has been unzipped and deleted.\n",
      "downloads/W_XX-EUMETSAT-Darmstadt,IMG+SAT,MTI1+LI-2-LFL--FD--x-x--ARC-x_C_EUMT_20241029191019_L2PF_OPE_20241029190003_20241029191003_N__C_0115_0000.zip\n",
      "downloads/W_XX-EUMETSAT-Darmstadt,IMG+SAT,MTI1+LI-2-LFL--FD--x-x--ARC-x_C_EUMT_20241029191019_L2PF_OPE_20241029190003_20241029191003_N__C_0115_0000.zip has been unzipped and deleted.\n",
      "downloads/W_XX-EUMETSAT-Darmstadt,IMG+SAT,MTI1+LI-2-LFL--FD--x-x--ARC-x_C_EUMT_20241029084020_L2PF_OPE_20241029083003_20241029084003_N__T_0052_0000.zip\n",
      "downloads/W_XX-EUMETSAT-Darmstadt,IMG+SAT,MTI1+LI-2-LFL--FD--x-x--ARC-x_C_EUMT_20241029084020_L2PF_OPE_20241029083003_20241029084003_N__T_0052_0000.zip has been unzipped and deleted.\n",
      "downloads/W_XX-EUMETSAT-Darmstadt,IMG+SAT,MTI1+LI-2-LFL--FD--x-x--ARC-x_C_EUMT_20241029085020_L2PF_OPE_20241029084003_20241029085003_N__T_0053_0000.zip\n",
      "downloads/W_XX-EUMETSAT-Darmstadt,IMG+SAT,MTI1+LI-2-LFL--FD--x-x--ARC-x_C_EUMT_20241029085020_L2PF_OPE_20241029084003_20241029085003_N__T_0053_0000.zip has been unzipped and deleted.\n",
      "downloads/W_XX-EUMETSAT-Darmstadt,IMG+SAT,MTI1+LI-2-LFL--FD--x-x--ARC-x_C_EUMT_20241029220016_L2PF_OPE_20241029215003_20241029220003_N__C_0132_0000.zip\n",
      "downloads/W_XX-EUMETSAT-Darmstadt,IMG+SAT,MTI1+LI-2-LFL--FD--x-x--ARC-x_C_EUMT_20241029220016_L2PF_OPE_20241029215003_20241029220003_N__C_0132_0000.zip has been unzipped and deleted.\n",
      "downloads/W_XX-EUMETSAT-Darmstadt,IMG+SAT,MTI1+LI-2-LFL--FD--x-x--ARC-x_C_EUMT_20241029095020_L2PF_OPE_20241029094003_20241029095003_N__T_0059_0000.zip\n",
      "downloads/W_XX-EUMETSAT-Darmstadt,IMG+SAT,MTI1+LI-2-LFL--FD--x-x--ARC-x_C_EUMT_20241029095020_L2PF_OPE_20241029094003_20241029095003_N__T_0059_0000.zip has been unzipped and deleted.\n",
      "downloads/W_XX-EUMETSAT-Darmstadt,IMG+SAT,MTI1+LI-2-LFL--FD--x-x--ARC-x_C_EUMT_20241029140026_L2PF_OPE_20241029135003_20241029140003_N__T_0084_0000.zip\n",
      "downloads/W_XX-EUMETSAT-Darmstadt,IMG+SAT,MTI1+LI-2-LFL--FD--x-x--ARC-x_C_EUMT_20241029140026_L2PF_OPE_20241029135003_20241029140003_N__T_0084_0000.zip has been unzipped and deleted.\n",
      "downloads/W_XX-EUMETSAT-Darmstadt,IMG+SAT,MTI1+LI-2-LFL--FD--x-x--ARC-x_C_EUMT_20241029203017_L2PF_OPE_20241029202003_20241029203003_N__C_0123_0000.zip\n",
      "downloads/W_XX-EUMETSAT-Darmstadt,IMG+SAT,MTI1+LI-2-LFL--FD--x-x--ARC-x_C_EUMT_20241029203017_L2PF_OPE_20241029202003_20241029203003_N__C_0123_0000.zip has been unzipped and deleted.\n",
      "downloads/W_XX-EUMETSAT-Darmstadt,IMG+SAT,MTI1+LI-2-LFL--FD--x-x--ARC-x_C_EUMT_20241029072021_L2PF_OPE_20241029071003_20241029072003_N__T_0044_0000.zip\n",
      "downloads/W_XX-EUMETSAT-Darmstadt,IMG+SAT,MTI1+LI-2-LFL--FD--x-x--ARC-x_C_EUMT_20241029072021_L2PF_OPE_20241029071003_20241029072003_N__T_0044_0000.zip has been unzipped and deleted.\n",
      "downloads/W_XX-EUMETSAT-Darmstadt,IMG+SAT,MTI1+LI-2-LFL--FD--x-x--ARC-x_C_EUMT_20241029121021_L2PF_OPE_20241029120003_20241029121003_N__T_0073_0000.zip\n",
      "downloads/W_XX-EUMETSAT-Darmstadt,IMG+SAT,MTI1+LI-2-LFL--FD--x-x--ARC-x_C_EUMT_20241029121021_L2PF_OPE_20241029120003_20241029121003_N__T_0073_0000.zip has been unzipped and deleted.\n",
      "downloads/W_XX-EUMETSAT-Darmstadt,IMG+SAT,MTI1+LI-2-LFL--FD--x-x--ARC-x_C_EUMT_20241029224016_L2PF_OPE_20241029223003_20241029224003_N__C_0136_0000.zip\n",
      "downloads/W_XX-EUMETSAT-Darmstadt,IMG+SAT,MTI1+LI-2-LFL--FD--x-x--ARC-x_C_EUMT_20241029224016_L2PF_OPE_20241029223003_20241029224003_N__C_0136_0000.zip has been unzipped and deleted.\n",
      "downloads/W_XX-EUMETSAT-Darmstadt,IMG+SAT,MTI1+LI-2-LFL--FD--x-x--ARC-x_C_EUMT_20241029064019_L2PF_OPE_20241029063003_20241029064003_N__T_0040_0000.zip\n",
      "downloads/W_XX-EUMETSAT-Darmstadt,IMG+SAT,MTI1+LI-2-LFL--FD--x-x--ARC-x_C_EUMT_20241029064019_L2PF_OPE_20241029063003_20241029064003_N__T_0040_0000.zip has been unzipped and deleted.\n",
      "downloads/W_XX-EUMETSAT-Darmstadt,IMG+SAT,MTI1+LI-2-LFL--FD--x-x--ARC-x_C_EUMT_20241029134023_L2PF_OPE_20241029133003_20241029134003_N__T_0082_0000.zip\n",
      "downloads/W_XX-EUMETSAT-Darmstadt,IMG+SAT,MTI1+LI-2-LFL--FD--x-x--ARC-x_C_EUMT_20241029134023_L2PF_OPE_20241029133003_20241029134003_N__T_0082_0000.zip has been unzipped and deleted.\n",
      "downloads/W_XX-EUMETSAT-Darmstadt,IMG+SAT,MTI1+LI-2-LFL--FD--x-x--ARC-x_C_EUMT_20241029082019_L2PF_OPE_20241029081003_20241029082003_N__T_0050_0000.zip\n",
      "downloads/W_XX-EUMETSAT-Darmstadt,IMG+SAT,MTI1+LI-2-LFL--FD--x-x--ARC-x_C_EUMT_20241029082019_L2PF_OPE_20241029081003_20241029082003_N__T_0050_0000.zip has been unzipped and deleted.\n",
      "downloads/W_XX-EUMETSAT-Darmstadt,IMG+SAT,MTI1+LI-2-LFL--FD--x-x--ARC-x_C_EUMT_20241029051016_L2PF_OPE_20241029050003_20241029051003_N__T_0031_0000.zip\n",
      "downloads/W_XX-EUMETSAT-Darmstadt,IMG+SAT,MTI1+LI-2-LFL--FD--x-x--ARC-x_C_EUMT_20241029051016_L2PF_OPE_20241029050003_20241029051003_N__T_0031_0000.zip has been unzipped and deleted.\n",
      "downloads/W_XX-EUMETSAT-Darmstadt,IMG+SAT,MTI1+LI-2-LFL--FD--x-x--ARC-x_C_EUMT_20241029173020_L2PF_OPE_20241029172003_20241029173003_N__C_0105_0000.zip\n",
      "downloads/W_XX-EUMETSAT-Darmstadt,IMG+SAT,MTI1+LI-2-LFL--FD--x-x--ARC-x_C_EUMT_20241029173020_L2PF_OPE_20241029172003_20241029173003_N__C_0105_0000.zip has been unzipped and deleted.\n",
      "downloads/W_XX-EUMETSAT-Darmstadt,IMG+SAT,MTI1+LI-2-LFL--FD--x-x--ARC-x_C_EUMT_20241029183019_L2PF_OPE_20241029182003_20241029183003_N__C_0111_0000.zip\n",
      "downloads/W_XX-EUMETSAT-Darmstadt,IMG+SAT,MTI1+LI-2-LFL--FD--x-x--ARC-x_C_EUMT_20241029183019_L2PF_OPE_20241029182003_20241029183003_N__C_0111_0000.zip has been unzipped and deleted.\n",
      "downloads/W_XX-EUMETSAT-Darmstadt,IMG+SAT,MTI1+LI-2-LFL--FD--x-x--ARC-x_C_EUMT_20241029011016_L2PF_OPE_20241029010003_20241029011003_N__T_0007_0000.zip\n",
      "downloads/W_XX-EUMETSAT-Darmstadt,IMG+SAT,MTI1+LI-2-LFL--FD--x-x--ARC-x_C_EUMT_20241029011016_L2PF_OPE_20241029010003_20241029011003_N__T_0007_0000.zip has been unzipped and deleted.\n",
      "downloads/W_XX-EUMETSAT-Darmstadt,IMG+SAT,MTI1+LI-2-LFL--FD--x-x--ARC-x_C_EUMT_20241029104021_L2PF_OPE_20241029103003_20241029104003_N__T_0064_0000.zip\n",
      "downloads/W_XX-EUMETSAT-Darmstadt,IMG+SAT,MTI1+LI-2-LFL--FD--x-x--ARC-x_C_EUMT_20241029104021_L2PF_OPE_20241029103003_20241029104003_N__T_0064_0000.zip has been unzipped and deleted.\n",
      "downloads/W_XX-EUMETSAT-Darmstadt,IMG+SAT,MTI1+LI-2-LFL--FD--x-x--ARC-x_C_EUMT_20241029105020_L2PF_OPE_20241029104003_20241029105003_N__T_0065_0000.zip\n",
      "downloads/W_XX-EUMETSAT-Darmstadt,IMG+SAT,MTI1+LI-2-LFL--FD--x-x--ARC-x_C_EUMT_20241029105020_L2PF_OPE_20241029104003_20241029105003_N__T_0065_0000.zip has been unzipped and deleted.\n",
      "downloads/W_XX-EUMETSAT-Darmstadt,IMG+SAT,MTI1+LI-2-LFL--FD--x-x--ARC-x_C_EUMT_20241029202017_L2PF_OPE_20241029201003_20241029202003_N__C_0122_0000.zip\n",
      "downloads/W_XX-EUMETSAT-Darmstadt,IMG+SAT,MTI1+LI-2-LFL--FD--x-x--ARC-x_C_EUMT_20241029202017_L2PF_OPE_20241029201003_20241029202003_N__C_0122_0000.zip has been unzipped and deleted.\n",
      "downloads/W_XX-EUMETSAT-Darmstadt,IMG+SAT,MTI1+LI-2-LFL--FD--x-x--ARC-x_C_EUMT_20241029194018_L2PF_OPE_20241029193003_20241029194003_N__C_0118_0000.zip\n",
      "downloads/W_XX-EUMETSAT-Darmstadt,IMG+SAT,MTI1+LI-2-LFL--FD--x-x--ARC-x_C_EUMT_20241029194018_L2PF_OPE_20241029193003_20241029194003_N__C_0118_0000.zip has been unzipped and deleted.\n",
      "downloads/W_XX-EUMETSAT-Darmstadt,IMG+SAT,MTI1+LI-2-LFL--FD--x-x--ARC-x_C_EUMT_20241029152019_L2PF_OPE_20241029151003_20241029152003_N__C_0092_0000.zip\n",
      "downloads/W_XX-EUMETSAT-Darmstadt,IMG+SAT,MTI1+LI-2-LFL--FD--x-x--ARC-x_C_EUMT_20241029152019_L2PF_OPE_20241029151003_20241029152003_N__C_0092_0000.zip has been unzipped and deleted.\n",
      "downloads/W_XX-EUMETSAT-Darmstadt,IMG+SAT,MTI1+LI-2-LFL--FD--x-x--ARC-x_C_EUMT_20241029034015_L2PF_OPE_20241029033003_20241029034003_N__T_0022_0000.zip\n",
      "downloads/W_XX-EUMETSAT-Darmstadt,IMG+SAT,MTI1+LI-2-LFL--FD--x-x--ARC-x_C_EUMT_20241029034015_L2PF_OPE_20241029033003_20241029034003_N__T_0022_0000.zip has been unzipped and deleted.\n",
      "downloads/W_XX-EUMETSAT-Darmstadt,IMG+SAT,MTI1+LI-2-LFL--FD--x-x--ARC-x_C_EUMT_20241029133022_L2PF_OPE_20241029132003_20241029133003_N__T_0081_0000.zip\n",
      "downloads/W_XX-EUMETSAT-Darmstadt,IMG+SAT,MTI1+LI-2-LFL--FD--x-x--ARC-x_C_EUMT_20241029133022_L2PF_OPE_20241029132003_20241029133003_N__T_0081_0000.zip has been unzipped and deleted.\n",
      "downloads/W_XX-EUMETSAT-Darmstadt,IMG+SAT,MTI1+LI-2-LFL--FD--x-x--ARC-x_C_EUMT_20241029144020_L2PF_OPE_20241029143003_20241029144003_N__C_0088_0000.zip\n",
      "downloads/W_XX-EUMETSAT-Darmstadt,IMG+SAT,MTI1+LI-2-LFL--FD--x-x--ARC-x_C_EUMT_20241029144020_L2PF_OPE_20241029143003_20241029144003_N__C_0088_0000.zip has been unzipped and deleted.\n",
      "downloads/W_XX-EUMETSAT-Darmstadt,IMG+SAT,MTI1+LI-2-LFL--FD--x-x--ARC-x_C_EUMT_20241029125024_L2PF_OPE_20241029124003_20241029125003_N__T_0077_0000.zip\n",
      "downloads/W_XX-EUMETSAT-Darmstadt,IMG+SAT,MTI1+LI-2-LFL--FD--x-x--ARC-x_C_EUMT_20241029125024_L2PF_OPE_20241029124003_20241029125003_N__T_0077_0000.zip has been unzipped and deleted.\n",
      "downloads/W_XX-EUMETSAT-Darmstadt,IMG+SAT,MTI1+LI-2-LFL--FD--x-x--ARC-x_C_EUMT_20241029023015_L2PF_OPE_20241029022003_20241029023003_N__T_0015_0000.zip\n",
      "downloads/W_XX-EUMETSAT-Darmstadt,IMG+SAT,MTI1+LI-2-LFL--FD--x-x--ARC-x_C_EUMT_20241029023015_L2PF_OPE_20241029022003_20241029023003_N__T_0015_0000.zip has been unzipped and deleted.\n",
      "downloads/W_XX-EUMETSAT-Darmstadt,IMG+SAT,MTI1+LI-2-LFL--FD--x-x--ARC-x_C_EUMT_20241029180020_L2PF_OPE_20241029175003_20241029180003_N__C_0108_0000.zip\n",
      "downloads/W_XX-EUMETSAT-Darmstadt,IMG+SAT,MTI1+LI-2-LFL--FD--x-x--ARC-x_C_EUMT_20241029180020_L2PF_OPE_20241029175003_20241029180003_N__C_0108_0000.zip has been unzipped and deleted.\n",
      "downloads/W_XX-EUMETSAT-Darmstadt,IMG+SAT,MTI1+LI-2-LFL--FD--x-x--ARC-x_C_EUMT_20241029231015_L2PF_OPE_20241029230003_20241029231003_N__C_0139_0000.zip\n",
      "downloads/W_XX-EUMETSAT-Darmstadt,IMG+SAT,MTI1+LI-2-LFL--FD--x-x--ARC-x_C_EUMT_20241029231015_L2PF_OPE_20241029230003_20241029231003_N__C_0139_0000.zip has been unzipped and deleted.\n",
      "downloads/W_XX-EUMETSAT-Darmstadt,IMG+SAT,MTI1+LI-2-LFL--FD--x-x--ARC-x_C_EUMT_20241029100020_L2PF_OPE_20241029095003_20241029100003_N__T_0060_0000.zip\n",
      "downloads/W_XX-EUMETSAT-Darmstadt,IMG+SAT,MTI1+LI-2-LFL--FD--x-x--ARC-x_C_EUMT_20241029100020_L2PF_OPE_20241029095003_20241029100003_N__T_0060_0000.zip has been unzipped and deleted.\n",
      "downloads/W_XX-EUMETSAT-Darmstadt,IMG+SAT,MTI1+LI-2-LFL--FD--x-x--ARC-x_C_EUMT_20241029210017_L2PF_OPE_20241029205003_20241029210003_N__C_0126_0000.zip\n",
      "downloads/W_XX-EUMETSAT-Darmstadt,IMG+SAT,MTI1+LI-2-LFL--FD--x-x--ARC-x_C_EUMT_20241029210017_L2PF_OPE_20241029205003_20241029210003_N__C_0126_0000.zip has been unzipped and deleted.\n"
     ]
    }
   ],
   "source": [
    "Data_folder='downloads/'\n",
    "#for file in glob.glob(\"downloads/*.zip\"):\n",
    "for file in glob.glob(Data_folder+\"*.zip\"):\n",
    "    print(file)\n",
    "    if os.path.exists(file):\n",
    "        with zipfile.ZipFile(file, 'r') as zip_ref:\n",
    "            # Extract the content of the .zip\n",
    "            #zip_ref.extractall(path=f'{file[:-4]}/')\n",
    "            zip_ref.extractall(Data_folder)\n",
    "        # Remove the .zip file in favour of the extracted product\n",
    "        os.remove(file)\n",
    "        print(f\"{file} has been unzipped and deleted.\")\n",
    "    else:\n",
    "        print(f\"{file} does not exist.\")"
   ]
  },
  {
   "cell_type": "markdown",
   "metadata": {},
   "source": [
    "## Converting values into a CSV file (optional)\n",
    "\n",
    "As the MTG LI products are well structured in NetCDF files, we can convert them easily to text or a comma-seperated values (CSV) files. Depending on our use case, this can make it easier for other systems to work with the data."
   ]
  },
  {
   "cell_type": "markdown",
   "metadata": {},
   "source": [
    "First, we need to define which file we want to convert. To do so, we need to define the filename of the body chunk of our desired product and load the NetCDF file:"
   ]
  },
  {
   "cell_type": "code",
   "execution_count": null,
   "metadata": {},
   "outputs": [],
   "source": [
    "file_to_convert = glob.glob(\"downloads/*BODY*.nc\")[0]\n",
    "li_ds = netCDF4.Dataset(file_to_convert, 'r')"
   ]
  },
  {
   "cell_type": "markdown",
   "metadata": {},
   "source": [
    "Each product has a bunch of variables. To list all existing variables we can print them:"
   ]
  },
  {
   "cell_type": "code",
   "execution_count": null,
   "metadata": {},
   "outputs": [],
   "source": [
    "for var in li_ds.variables:\n",
    "    print(var)"
   ]
  },
  {
   "cell_type": "markdown",
   "metadata": {},
   "source": [
    "Now, we can choose the variables we want to have in our CSV:"
   ]
  },
  {
   "cell_type": "code",
   "execution_count": null,
   "metadata": {},
   "outputs": [],
   "source": [
    "latitude = li_ds['latitude'][:]\n",
    "longitude = li_ds['longitude'][:]\n",
    "flash_id = li_ds['flash_id'][:]\n",
    "flash_time = li_ds['flash_time'][:]\n",
    "flash_duration = li_ds['flash_duration'][:]\n",
    "flash_footprint = li_ds['flash_footprint'][:]\n",
    "radiance = li_ds['radiance'][:]\n",
    "number_of_events = li_ds['number_of_events'][:]\n",
    "number_of_groups = li_ds['number_of_groups'][:]\n",
    "flash_filter_confidence = li_ds['flash_filter_confidence'][:]"
   ]
  },
  {
   "cell_type": "markdown",
   "metadata": {},
   "source": [
    "The `flash_time` is measured as [epoch time](https://en.wikipedia.org/wiki/Epoch_%28computing%29) in products from Meteosat Third Generation satellites. To make it easier to work with them, we will recalculate the regular date time from it. We can do that, using the following function:"
   ]
  },
  {
   "cell_type": "code",
   "execution_count": null,
   "metadata": {},
   "outputs": [],
   "source": [
    "def epoch_to_datetime(flash_time):\n",
    "    flash_time_list = []\n",
    "    \n",
    "    for i in flash_time:\n",
    "        i = int(i.flatten())\n",
    "        mtg_reference_datetime=datetime.datetime(2000, 1, 1, 0, 0)\n",
    "        mtg_datetime=mtg_reference_datetime + datetime.timedelta(seconds=i)\n",
    "        flash_time_list.append(mtg_datetime)\n",
    "\n",
    "    return flash_time_list"
   ]
  },
  {
   "cell_type": "markdown",
   "metadata": {},
   "source": [
    "To bring them into a structure that fit's a CSV file, we are creating a dataframe where each observation is a row and every variable/value is in a seperate column."
   ]
  },
  {
   "cell_type": "code",
   "execution_count": null,
   "metadata": {},
   "outputs": [],
   "source": [
    "# Building dataframe\n",
    "lfl = pd.DataFrame({\n",
    "    'latitude': latitude.flatten(),\n",
    "    'longitude': longitude.flatten(),\n",
    "    'flash_id': flash_id.flatten(),\n",
    "    'flash_time': epoch_to_datetime(flash_time),\n",
    "    'flash_duration(ms)': flash_duration.flatten(),\n",
    "    'flash_footprint(km2)': flash_footprint.flatten(),\n",
    "    'radiance(scaled)': radiance.flatten(),\n",
    "    'number_of_events': number_of_events.flatten(),\n",
    "    'number_of_groups': number_of_groups.flatten(),\n",
    "    'flash_filter_confidence(not_scaled)': flash_filter_confidence.flatten(),\n",
    "})"
   ]
  },
  {
   "cell_type": "markdown",
   "metadata": {},
   "source": [
    "Our dataframe is now generated:"
   ]
  },
  {
   "cell_type": "code",
   "execution_count": null,
   "metadata": {},
   "outputs": [],
   "source": [
    "lfl"
   ]
  },
  {
   "cell_type": "markdown",
   "metadata": {},
   "source": [
    "Finally, we can save them into a CSV file which is named as our product:"
   ]
  },
  {
   "cell_type": "code",
   "execution_count": null,
   "metadata": {},
   "outputs": [],
   "source": [
    "lfl.to_csv(file_to_convert[:-3] + '.csv')"
   ]
  },
  {
   "cell_type": "markdown",
   "metadata": {
    "Collapsed": "false"
   },
   "source": [
    "<hr>"
   ]
  },
  {
   "cell_type": "markdown",
   "metadata": {
    "Collapsed": "false"
   },
   "source": [
    "<p style=\"text-align:left;\">This project is licensed under the <a href=\"./LICENSE.TXT\">MIT License</a> <span style=\"float:right;\"><a href=\"https://gitlab.eumetsat.int/eumetlab/data-services/eumdac_data_store\">View on GitLab</a> | <a href=\"https://classroom.eumetsat.int/\">EUMETSAT Training</a> | <a href=mailto:ops@eumetsat.int>Contact</a></span></p>"
   ]
  }
 ],
 "metadata": {
  "kernelspec": {
   "display_name": "eumdac_data_store",
   "language": "python",
   "name": "eumdac_data_store"
  },
  "language_info": {
   "codemirror_mode": {
    "name": "ipython",
    "version": 3
   },
   "file_extension": ".py",
   "mimetype": "text/x-python",
   "name": "python",
   "nbconvert_exporter": "python",
   "pygments_lexer": "ipython3",
   "version": "3.10.19"
  },
  "vscode": {
   "interpreter": {
    "hash": "f61363903226f946a13497630069b9119a23165c9161346d2c3a6f0af415279b"
   }
  }
 },
 "nbformat": 4,
 "nbformat_minor": 4
}
