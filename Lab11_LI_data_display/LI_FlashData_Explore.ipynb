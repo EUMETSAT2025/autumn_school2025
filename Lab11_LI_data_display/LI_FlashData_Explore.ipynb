{
 "cells": [
  {
   "cell_type": "markdown",
   "metadata": {},
   "source": [
    "<img src='img/EUMETSAT_Logo_WhiteonBlue.png' alt='logo EUMETSAT' align='right' width='30%'></img>"
   ]
  },
  {
   "cell_type": "markdown",
   "metadata": {},
   "source": [
    "## <span style=\"color:blue\">**MTG LI data explore**</span>"
   ]
  },
  {
   "cell_type": "markdown",
   "metadata": {},
   "source": [
    "<hr>"
   ]
  },
  {
   "cell_type": "markdown",
   "metadata": {
    "tags": []
   },
   "source": [
    "## Explore & Display Meteosat Third Generation (MTG) LI data\n",
    "### Level 2 Flash Product"
   ]
  },
  {
   "cell_type": "markdown",
   "metadata": {},
   "source": [
    "<div class=\"alert alert-block alert-warning\">\n",
    "    \n",
    "<b>PREREQUISITES </b>\n",
    "    \n",
    "This notebook has the following requirement:\n",
    "    \n",
    "the notebook describes operations on an MTG LI product that can be downloaded as described in the notebook [**Link to notebook on GitHub**](https://gitlab.eumetsat.int/eumetlab/data-services/eumdac_data_store/-/blob/master/1_6_MTG_LI_data_access.ipynb?ref_type=heads)\n",
    "    \n",
    "\n",
    "</div>\n",
    "<hr>"
   ]
  },
  {
   "cell_type": "markdown",
   "metadata": {
    "tags": []
   },
   "source": [
    "### About"
   ]
  },
  {
   "cell_type": "markdown",
   "metadata": {},
   "source": [
    "This notebook provides you with an introduction to Level 2 data from the Lightning Imager instrument. The MTG LI was launched in December 2022 and is on board of the MTG-I1 satellite and provides continuous optical observations of lightning. <br>\n",
    "\n",
    "Basic Facts about LI Instrument:\n",
    "> **Spatial resolution at Nadir**: `4.5 km (variable throughout the Field of View, FOV)`<br>\n",
    "> **Sectral Band**: `777.4 nm and 1.9 nm narrow band` <br>\n",
    "> **Frame rate**: `1 ms` <br>\n",
    "\n",
    "\n",
    "\n",
    "Five products are disseminated as level 2 data:\n",
    "\n",
    "1) Point data:\n",
    "   * Group - \n",
    "This is an optical pulse detected by LI in one frame (that should be considered as a counterpart of the ground-detected stroke)\n",
    "   * Flash - The collection of groups that are correlated in space and time  (that should be considered as counterparts of the ground-detected flashes\n",
    ">\n",
    "3) Gridded data:\n",
    "   * Accumulated Flash (keeps track of the density of events within sequences)\n",
    "   * Accumulated Flash Area (Allows to keep track of the areas touched by flashes)\n",
    "   * Accumulated Flash Radiance (representing the total radiance detected within a certain pixel from multiple events)\n",
    "  \n",
    "Reference: <a href=\"https://user.eumetsat.int/resources/user-guides/mtg-li-level-2-data-guide#ID-Group-and-flash-data\">link</a>.\n",
    " "
   ]
  },
  {
   "cell_type": "markdown",
   "metadata": {},
   "source": [
    "### Outline\n",
    "This notebook is focusing on the **Level 2 Flash product**. It gives guidance on:\n",
    "\n",
    "1) how to load data and inspect its contents <br>\n",
    "2) how to display a map with the spatial distribution of lightning flashes across parts of the globe for a given date, with colors indicating the time of day when the flashes occur (temporal distribution of the flashes) "
   ]
  },
  {
   "cell_type": "markdown",
   "metadata": {},
   "source": [
    "### Data used\n",
    "\n",
    "| Product Description  | Data Store collection ID| Product Navigator | \n",
    "|:--------------------:|:-----------------------:|:-------------:|\n",
    "| MTG LI level-2 Flash | EO:EUM:DAT:0691         | <a href=\"https://data.eumetsat.int/data/map/EO:EUM:DAT:0691\">link</a> |\n",
    "\n",
    "\n",
    "A product is made of the following files:\n",
    "* **Body chunks** (NetCDF): One body chunk containing the measured data values in NetCDF structure.\n",
    "* Trailer chunk (NetCDF): One trailer chunk that contains at least the list of preceding body chunks that have been produced for the dataset. \n",
    "* Quicklooks (PNG): Images related to data that enable fast viewing for the purpose of selection by archive users.\n",
    "* manifest.xml: The manifest contains further information about the SIP, especially the relationships among the different items constituting the package.\n",
    "* EOPMetadata.xml: The EOPMetadata file contains metadata about the product based on the OGC Earth Observation Metadata Profile of Observations and Measurements (OGC document 10-157r4).\n"
   ]
  },
  {
   "cell_type": "markdown",
   "metadata": {
    "tags": []
   },
   "source": [
    "### Module Content:\n",
    "- [1 - Load and Inspect MTG LI data (FLASHES)](#LI_load)\n",
    "- [2 - Data display](#Data_display)\n",
    "- [2.1 - Select time range](#Select_time)\n",
    "- [2.1 - Select Region Of Interest](#Select_region)\n"
   ]
  },
  {
   "cell_type": "markdown",
   "metadata": {},
   "source": [
    "<hr>"
   ]
  },
  {
   "cell_type": "markdown",
   "metadata": {},
   "source": [
    "##### Load required libraries"
   ]
  },
  {
   "cell_type": "markdown",
   "metadata": {},
   "source": [
    " We begin by importing all of the libraries that we need to run this notebook. If you have built your python using the environment file provided in this repository, then you should have everything you need. For more information on building environment, please see the repository"
   ]
  },
  {
   "cell_type": "code",
   "execution_count": null,
   "metadata": {},
   "outputs": [],
   "source": [
    "from glob import glob\n",
    "from satpy.scene import Scene\n",
    "from AuxiliaryFunctions import plot_lmap_from_filenames\n",
    "from AuxiliaryFunctions import filter_filenames\n",
    "from datetime import datetime"
   ]
  },
  {
   "cell_type": "markdown",
   "metadata": {
    "tags": []
   },
   "source": [
    "## <a id='LI_load'></a>1. Load and Inspect LI data"
   ]
  },
  {
   "cell_type": "markdown",
   "metadata": {},
   "source": [
    "From the [EUMETSAT Data Store](https://data.eumetsat.int/data/map/EO:EUM:DAT:MSG:HRSEVIRI), we downloaded LI data sensed for a specific day. The **Data_folder** variable should point to the folder containing LI LFL products, unzipped by the LI data download Notebook. As the data is contained in the **BODY** files, and since the data files have 'BODY' in their filenames, we will use the wildcard *BODY* to search for the relevant files within the folder. Another wildcard `/*/` is needed as each product is unzipped into its own subdirectory."
   ]
  },
  {
   "cell_type": "code",
   "execution_count": null,
   "metadata": {},
   "outputs": [],
   "source": [
    "Data_folder='downloads/*BODY*.nc'"
   ]
  },
  {
   "cell_type": "markdown",
   "metadata": {},
   "source": [
    "We save the list with the filenames in the folder into a variable called filenames, and sort the list:"
   ]
  },
  {
   "cell_type": "code",
   "execution_count": null,
   "metadata": {},
   "outputs": [],
   "source": [
    "filenames = glob(Data_folder)\n",
    "filenames.sort()"
   ]
  },
  {
   "cell_type": "markdown",
   "metadata": {},
   "source": [
    "To access a file for a specific date, you can specify its position in the list with a specific index, e.g. `[2]` (indexing starts from 0)."
   ]
  },
  {
   "cell_type": "code",
   "execution_count": null,
   "metadata": {},
   "outputs": [],
   "source": [
    "first_file = [filenames[0]]\n",
    "first_file"
   ]
  },
  {
   "cell_type": "markdown",
   "metadata": {},
   "source": [
    "The Python package [satpy](https://satpy.readthedocs.io/en/stable/) supports reading and loading data from many input files, like from LI data. To check the data readers available from satpy, you can uncomment the following line. For LI data, we are interested in `li_l2_nc` reader."
   ]
  },
  {
   "cell_type": "code",
   "execution_count": null,
   "metadata": {},
   "outputs": [],
   "source": [
    "#import satpy\n",
    "#satpy.available_readers()"
   ]
  },
  {
   "cell_type": "markdown",
   "metadata": {},
   "source": [
    "Next, you can use the `Scene` constructor from the [satpy](https://satpy.readthedocs.io/en/stable/index.html) library to load the data files. Once loaded, a `Scene` object represents a single geographic region of data, typically at a single continuous time range.\n",
    "\n",
    "You have to specify the two keyword arguments `reader` and `filenames` in order to successfully load a scene. "
   ]
  },
  {
   "cell_type": "code",
   "execution_count": null,
   "metadata": {},
   "outputs": [],
   "source": [
    "scn = Scene(reader=\"li_l2_nc\", \n",
    "            filenames=first_file)"
   ]
  },
  {
   "cell_type": "markdown",
   "metadata": {},
   "source": [
    "A `Scene` object loads all band information of a satellite image. With the function `available_dataset_names()`, you can see the available datasets available in the LI data file."
   ]
  },
  {
   "cell_type": "code",
   "execution_count": null,
   "metadata": {},
   "outputs": [],
   "source": [
    "scn.available_dataset_names()"
   ]
  },
  {
   "cell_type": "markdown",
   "metadata": {},
   "source": [
    "In this JN we demonstrate how to obtain spatial distribution of lightning flashes across parts of the globe with colors indicating the time of day when the flashes occur. Therefore, we will be loading the 'flash_time' dataset. This variable corresponds to UTC time of the first group in the flash. Additionaly, to map the location of each flash, we also need to load the corresponding  latitude and longitude variables."
   ]
  },
  {
   "cell_type": "code",
   "execution_count": null,
   "metadata": {},
   "outputs": [],
   "source": [
    "latitude_dataset_name='latitude'\n",
    "longitude_dataset_name='longitude'\n",
    "time_dataset_name='flash_time'\n",
    "scn.load([latitude_dataset_name, longitude_dataset_name, time_dataset_name])\n",
    "latitude_dataset_uncorr = scn[latitude_dataset_name].compute()\n",
    "longitude_dataset_uncorr = scn[longitude_dataset_name].compute()\n",
    "time_dataset = scn[time_dataset_name].compute()"
   ]
  },
  {
   "cell_type": "markdown",
   "metadata": {},
   "source": [
    "We can also check the start and end time of the data within the file:"
   ]
  },
  {
   "cell_type": "code",
   "execution_count": null,
   "metadata": {},
   "outputs": [],
   "source": [
    "print(time_dataset.start_time)\n",
    "print(time_dataset.end_time)"
   ]
  },
  {
   "cell_type": "markdown",
   "metadata": {},
   "source": [
    "When using data retrieved from the EUMETSAT Data Store these variables should indicate a time range (difference between start_time and end_time of 10 minutes, since the stored data files correspond to 10-minute-long files (containing 60 windows of 10 sec each)). On the opposite, disseminated files correspond to 10 sec of measurements."
   ]
  },
  {
   "cell_type": "markdown",
   "metadata": {},
   "source": [
    "## <a id='Data_display'></a>2. Data display"
   ]
  },
  {
   "cell_type": "markdown",
   "metadata": {},
   "source": [
    "### <a id='Select_time'></a>2.1 Select Time Range"
   ]
  },
  {
   "cell_type": "markdown",
   "metadata": {},
   "source": [
    "This notebook is prepared to display LI data covering 1 day. Yet, you can narrow the time range of the data displayed.\n",
    "\n",
    "Current Time Range:\n",
    "\n",
    "* start_dt = 2024-09-01 00:00\n",
    "* end_dt = 2024-09-02 00:00\n",
    "\n",
    "How to Modify:\n",
    "* Set a new starting time by providing new numeric values in the format: start_dt = datetime (year, month, day, hour, minute).\n",
    "* Set a new ending time by providing new numeric values in the format: end_dt = datetime (year, month, day, hour, minute). <br>\n",
    "   For example, to set the range of times to be displayed between start time September 1, 2024, at 16:30 and 18:30, you would write:<br>\n",
    "   start_dt = datetime (2024, 9, 1, 16, 30).<br>\n",
    "   end_dt = datetime (2024, 9, 1, 18, 30).\n",
    "\n",
    "  Note: please be aware that in **minute you should choose 0 / 10 /20 /30 /40 /50**"
   ]
  },
  {
   "cell_type": "markdown",
   "metadata": {},
   "source": [
    "<div class=\"alert alert-block alert-success\">\n",
    "<b>You may want to modify the next cell:</b><br />\n",
    "</div>"
   ]
  },
  {
   "cell_type": "code",
   "execution_count": null,
   "metadata": {},
   "outputs": [],
   "source": [
    "start_dt = datetime(2024, 10, 29, 0, 0)\n",
    "end_dt = datetime(2024, 10, 30, 0, 0)"
   ]
  },
  {
   "cell_type": "code",
   "execution_count": null,
   "metadata": {},
   "outputs": [],
   "source": [
    "filtered_files = filter_filenames(filenames, start_dt, end_dt)"
   ]
  },
  {
   "cell_type": "code",
   "execution_count": null,
   "metadata": {},
   "outputs": [],
   "source": [
    "area_nswe = None\n",
    "#area_nswe = [80, 20, -30, 50]"
   ]
  },
  {
   "cell_type": "markdown",
   "metadata": {},
   "source": [
    "Optionally we can also plot the boundaries of the field-of-views of the 4 LI cameras by setting the `plot_fov` below `True`. Please consider that especially if the data is not corrected for the parallax effect, a few LI lightning locations can also appear slightly outside the outer boundaries of the field-of-view polygons. "
   ]
  },
  {
   "cell_type": "code",
   "execution_count": null,
   "metadata": {},
   "outputs": [],
   "source": [
    "plot_fov = True"
   ]
  },
  {
   "cell_type": "markdown",
   "metadata": {},
   "source": [
    "In the next cell we are setting the title and calling the function that produces the display of the flash data with colors indicating the time of day when the flashes occurr, as depicted by the color bar on the right. This functions returns to use figure and axes associated with the plot."
   ]
  },
  {
   "cell_type": "code",
   "execution_count": null,
   "metadata": {},
   "outputs": [],
   "source": [
    "title = str(start_dt.date())+ ' ' + str(time_dataset_name)\n",
    "fig,ax = plot_lmap_from_filenames(filtered_files, time_dataset_name, area_nswe, title, plot_fov=plot_fov)"
   ]
  },
  {
   "cell_type": "markdown",
   "metadata": {},
   "source": [
    "### <a id='Select_region'></a>2.2 Select Region Of Interest"
   ]
  },
  {
   "cell_type": "markdown",
   "metadata": {},
   "source": [
    "The notebook is set by default to display lightning data over the entire area covered by the Lightning Sensor.\n",
    "However, if you would like to focus on a specific Region Of Interest (ROI), you can do so by entering the latitude and longitude coordinates in the variable provided. So:\n",
    "* If you prefer to use the default area, leave the 'line area_nswe = None' uncommented.\n",
    "* If you want to select your own ROI, uncomment the line for the ROI and enter your specific coordinates. The format should be **[lat_max, lat_min, lon_min, lon_max]**"
   ]
  },
  {
   "cell_type": "markdown",
   "metadata": {},
   "source": [
    "<div class=\"alert alert-block alert-success\">\n",
    "<b>You may want to  modify the next cell:</b><br />\n",
    "</div>"
   ]
  },
  {
   "cell_type": "code",
   "execution_count": null,
   "metadata": {},
   "outputs": [],
   "source": [
    "#area_nswe = None\n",
    "#area_nswe = [45, 35, 5, 20] # Italy\n",
    "area_nswe = [45, 30, -10, 10] # Spain"
   ]
  },
  {
   "cell_type": "markdown",
   "metadata": {},
   "source": [
    "In the next cell, we set the title and call the function that produces the display of the flash data with colours indicating the time of day when the flashes occur, as depicted by the colour bar on the right. This function returns to use figures and axes associated with the plot."
   ]
  },
  {
   "cell_type": "markdown",
   "metadata": {},
   "source": [
    "<div class=\"alert alert-block alert-success\">\n",
    "<b>You may want to adapt the title of the plot in the next cell:</b><br />\n",
    "</div>"
   ]
  },
  {
   "cell_type": "code",
   "execution_count": null,
   "metadata": {},
   "outputs": [],
   "source": [
    "title = 'Flash Map for Iberian Peninsula from MTG LI ' + '[' + start_dt.strftime(\"%Y-%m-%d\") + ' (' + start_dt.strftime(\"%H:%M\") + '-' + start_dt.strftime(\"%H:%M\")+ ') '+ ']'\n",
    "\n",
    "fig,ax=plot_lmap_from_filenames(filtered_files, time_dataset_name, area_nswe, title)"
   ]
  },
  {
   "cell_type": "markdown",
   "metadata": {},
   "source": [
    "You may want to save the image to a file (PNG format). You can do that by running the below cell. This will save the file into the current folder, but if you want it saved elsewhere, you can change the output_filename accordingly. "
   ]
  },
  {
   "cell_type": "code",
   "execution_count": null,
   "metadata": {},
   "outputs": [],
   "source": [
    "output_filename = title + \".png\"\n",
    "fig.savefig(output_filename)"
   ]
  },
  {
   "cell_type": "markdown",
   "metadata": {},
   "source": [
    "<div class=\"alert alert-info\" role=\"alert\">\n",
    "\n",
    "Please try to analyze the obtained map, keeping the following questions in mind as part of your interpretation: \n",
    "\n",
    "Which regions on the map show the highest concentration of lightning flashes?\n",
    "\n",
    "What time of day do most lightning flashes occur in West and Central Africa, according to the color-coded map? How does this compare to the timing of the lightning maximum in South America?\n",
    "\n",
    "Based on the map, what relationship can you infer between the time of day and the occurrence of lightning ?\n",
    "\n",
    "What could explain the relatively lower concentration of lightning flashes at higher latitudes compared to the equatorial regions in this dataset?\n",
    "\n",
    "What can you say about the lightning distribution between the land and the oceans? What could explain the difference?\n"
   ]
  },
  {
   "cell_type": "markdown",
   "metadata": {},
   "source": [
    "<br>"
   ]
  },
  {
   "cell_type": "markdown",
   "metadata": {},
   "source": [
    "<br>"
   ]
  },
  {
   "cell_type": "markdown",
   "metadata": {},
   "source": [
    "<hr>"
   ]
  },
  {
   "cell_type": "markdown",
   "metadata": {
    "Collapsed": "false"
   },
   "source": [
    "\n",
    "    \n",
    "<p style=\"text-align:right;\"> <a href='https://training.eumetsat.int'>EUMETSAT Training</a> | <a href='mailto:training@eumetsat.int'>Contact the training team</a></p>"
   ]
  }
 ],
 "metadata": {
  "author": "Carla Barroso (EUMETSAT), Djordje Gencic (Exostaff), Natasa Strelec Mahovic (EUMETSAT), Ivan Smiljanic (Exostaff), Vesa Nietosvaara (EUMETSAT) ",
  "description": "Within this notebook we will be practicing the handling and visualisation of Lightning Imager Level 2 data.",
  "image": "../img/mtg_li_l2_afr_airmass_rgb-20240607T155000.png",
  "kernelspec": {
   "display_name": "MTG",
   "language": "python",
   "name": "mtg"
  },
  "language_info": {
   "codemirror_mode": {
    "name": "ipython",
    "version": 3
   },
   "file_extension": ".py",
   "mimetype": "text/x-python",
   "name": "python",
   "nbconvert_exporter": "python",
   "pygments_lexer": "ipython3",
   "version": "3.9.23"
  },
  "services": {
   "eumetsat": {
    "binder": {
     "link": "",
     "service_contact": "ops@eumetsat.int",
     "service_provider": "EUMETSAT"
    },
    "colab": {
     "link": "",
     "service_contact": "ops@eumetsat.int",
     "service_provider": "EUMETSAT"
    },
    "git": {
     "link": "https://gitlab.eumetsat.int/eumetlab/weather/weather-labs/weather-labs-1/-/blob/master/Lab11_LI_data_display/LI_Data_explore.ipynb",
     "service_contact": "ops@eumetsat.int",
     "service_provider": "EUMETSAT"
    },
    "jupyter": {
     "link": "",
     "service_contact": "ops@eumetsat.int",
     "service_provider": "EUMETSAT"
    }
   }
  },
  "tags": {
   "category": "exercise",
   "domain": "weather",
   "level": "L2",
   "platform": "MTG"
  }
 },
 "nbformat": 4,
 "nbformat_minor": 4
}
