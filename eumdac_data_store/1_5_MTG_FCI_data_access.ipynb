{
 "cells": [
  {
   "cell_type": "markdown",
   "metadata": {
    "Collapsed": "false"
   },
   "source": [
    "<img src='./img/DataStore_EUMETSAT.png'/>"
   ]
  },
  {
   "cell_type": "markdown",
   "metadata": {},
   "source": [
    "Copyright (c) 2025 EUMETSAT <br>\n",
    "License: MIT"
   ]
  },
  {
   "cell_type": "markdown",
   "metadata": {
    "Collapsed": "false"
   },
   "source": [
    "<hr>"
   ]
  },
  {
   "cell_type": "markdown",
   "metadata": {
    "Collapsed": "false"
   },
   "source": [
    "<a href=\"./index.ipynb\">← Index</a>\n",
    "<br>\n",
    "<a href=\"./1_4_Sentinel3_data_access.ipynb\">← Sentinel-3 Data Store access with EUMDAC</a><span style=\"float:right;\"><a href=\"./1_6_MTG_LI_data_access.ipynb\">Accessing MTG LI products →</a>"
   ]
  },
  {
   "cell_type": "markdown",
   "metadata": {},
   "source": [
    "# Accessing MTG FCI products"
   ]
  },
  {
   "cell_type": "markdown",
   "metadata": {
    "jp-MarkdownHeadingCollapsed": true
   },
   "source": [
    "### Data used\n",
    "\n",
    "| Product Description  | Data Store collection ID| Product Navigator |\n",
    "|:--------------------:|:-----------------------:|:-----------------:|\n",
    "| FCI Level 1c Normal Resolution Image Data - MTG - 0 degree | EO:EUM:DAT:0662 | [link](https://data.eumetsat.int/product/EO:EUM:DAT:0662) |\n",
    "| FCI Level 1c High Resolution Image Data - MTG - 0 degree | EO:EUM:DAT:0665 | [link](https://data.eumetsat.int/product/EO:EUM:DAT:0665) |\n",
    "\n",
    "\n",
    "### Learning outcomes\n",
    "\n",
    "At the end of this notebook you will know;\n",
    "* How to refine your **searches** for MTG products in the EUMETSAT Data Store using the `eumdac` API client\n",
    "* How to **download** products from your refined search results\n",
    "* How to **download components** of a product\n",
    "* How to **customise** products using the Data Tailor Web Service"
   ]
  },
  {
   "cell_type": "markdown",
   "metadata": {},
   "source": [
    "## Selecting and filtering a collection\n",
    "As usual, we begin by importing our required modules."
   ]
  },
  {
   "cell_type": "code",
   "execution_count": null,
   "metadata": {},
   "outputs": [],
   "source": [
    "import eumdac\n",
    "import datetime\n",
    "import shutil\n",
    "import fnmatch\n",
    "import requests\n",
    "import time\n",
    "import os\n",
    "import zipfile\n",
    "import json"
   ]
  },
  {
   "cell_type": "markdown",
   "metadata": {},
   "source": [
    "Now, we have to authorize with our personal credentials to generate the token."
   ]
  },
  {
   "cell_type": "code",
   "execution_count": null,
   "metadata": {},
   "outputs": [],
   "source": [
    "# Insert your personal key and secret into the single quotes\n",
    "consumer_key = 'YOUR_CONSUMER_KEY'\n",
    "consumer_secret = 'YOUR_CONSUMER_SECRET'\n",
    "\n",
    "\n",
    "credentials = (consumer_key, consumer_secret)\n",
    "\n",
    "token = eumdac.AccessToken(credentials)\n",
    "\n",
    "print(f\"This token '{token}' expires {token.expiration}\")"
   ]
  },
  {
   "cell_type": "markdown",
   "metadata": {},
   "source": [
    "<div class=\"alert alert-block alert-success\">\n",
    "<b>NOTE:</b><br />\n",
    "You can find your personal API credentials here: <a href=\"https://api.eumetsat.int/api-key/\">https://api.eumetsat.int/api-key/</a>\n",
    "</div>"
   ]
  },
  {
   "cell_type": "markdown",
   "metadata": {},
   "source": [
    "Let's start by selecting a collection we want to browse and print some useful information about this collection. For more information on determining which collections are available, see the previous tutorial, <a href=\"./1_Discovering_collections.ipynb\">Discovering collections</a>."
   ]
  },
  {
   "cell_type": "code",
   "execution_count": null,
   "metadata": {},
   "outputs": [],
   "source": [
    "datastore = eumdac.DataStore(token)\n",
    "\n",
    "selected_collection = datastore.get_collection('EO:EUM:DAT:0662')\n",
    "print(f\"{selected_collection} - {selected_collection.title}\")\n",
    "print(f\"Description: {selected_collection.abstract}\")\n",
    "print(f\"Metadata: {selected_collection.metadata}\")\n",
    "print(f\"Search options: {selected_collection.search_options} \\n\")\n",
    "\n",
    "selected_collection = datastore.get_collection('EO:EUM:DAT:0665')\n",
    "print(f\"{selected_collection} - {selected_collection.title}\")\n",
    "print(f\"Description: {selected_collection.abstract}\")\n",
    "print(f\"Metadata: {selected_collection.metadata}\")\n",
    "print(f\"Search options: {selected_collection.search_options}\")"
   ]
  },
  {
   "cell_type": "markdown",
   "metadata": {},
   "source": [
    "The previous tutorial also showed us how to select a collection and filter it for products of interest using both time and location. As we are using a GEO product for our examples, there is no need to set a bounding box. However, we are going to perform a similar operation using time filtering so that we can set up a download. So, let's run our query to get our product IDs."
   ]
  },
  {
   "cell_type": "code",
   "execution_count": null,
   "metadata": {},
   "outputs": [],
   "source": [
    "# Select a collection\n",
    "selected_collection = datastore.get_collection('EO:EUM:DAT:0662')\n",
    "\n",
    "# Set sensing start and end time\n",
    "start = datetime.datetime(2025, 6, 24, 10, 30)\n",
    "end = datetime.datetime(2025, 6, 24, 10, 35)\n",
    "\n",
    "# Retrieve datasets that match our filter\n",
    "products = selected_collection.search(\n",
    "    dtstart=start,\n",
    "    dtend=end)\n",
    "\n",
    "print(f\"{products.total_results} products found:\")\n",
    "\n",
    "for product in products:\n",
    "    print(product)"
   ]
  },
  {
   "cell_type": "markdown",
   "metadata": {},
   "source": [
    "We have found some datasets. In the following sections we will look at ways of downloading these."
   ]
  },
  {
   "cell_type": "markdown",
   "metadata": {},
   "source": [
    "<div class=\"alert alert-block alert-success\">\n",
    "<b>NOTE:</b><br />\n",
    "MTG products follow the WMO file naming convention. You can find more information about this in our User Portal guide: <a href=\"https://user.eumetsat.int/resources/user-guides/mtg-fci-level-1c-data-guide#ID-Naming-convention\">https://user.eumetsat.int/resources/user-guides/mtg-fci-level-1c-data-guide#ID-Naming-convention</a>\n",
    "</div>"
   ]
  },
  {
   "cell_type": "markdown",
   "metadata": {},
   "source": [
    "## Download products"
   ]
  },
  {
   "cell_type": "markdown",
   "metadata": {},
   "source": [
    "Products can be downloaded by providing either their product ID, or a combination of their collection ID and several search parameters. We can download entire products, or specific file components (e.g. metadata only). The following section gives you three **independent** examples."
   ]
  },
  {
   "cell_type": "markdown",
   "metadata": {},
   "source": [
    "### Download all products from search"
   ]
  },
  {
   "cell_type": "markdown",
   "metadata": {},
   "source": [
    "We have found our relevant products. Now we would like to download all of them without having to select every single product. For this we can simply loop over the products and save the products as files in our directory."
   ]
  },
  {
   "cell_type": "code",
   "execution_count": null,
   "metadata": {},
   "outputs": [],
   "source": [
    "for product in products:\n",
    "    with product.open() as fsrc, \\\n",
    "            open(fsrc.name, mode='wb') as fdst:\n",
    "        shutil.copyfileobj(fsrc, fdst)\n",
    "        print(f'Download of product {product} finished.')\n",
    "    \n",
    "print('All downloads are finished.')"
   ]
  },
  {
   "cell_type": "markdown",
   "metadata": {},
   "source": [
    "Perfect, now you downloaded all products based on your search parameters."
   ]
  },
  {
   "cell_type": "markdown",
   "metadata": {},
   "source": [
    "### Download a single product\n",
    "Sometimes, however, we only need one specific product from the collection. For this purpose we can just search for the product in the collection."
   ]
  },
  {
   "cell_type": "code",
   "execution_count": null,
   "metadata": {},
   "outputs": [],
   "source": [
    "single_product = datastore.get_product(\n",
    "    product_id='W_XX-EUMETSAT-Darmstadt,IMG+SAT,MTI1+FCI-1C-RRAD-FDHSI-FD--x-x---x_C_EUMT_20250126214245_IDPFI_OPE_20250126214007_20250126214928_N__O_0131_0000',\n",
    "    collection_id='EO:EUM:DAT:0662')\n",
    "\n",
    "print(single_product) "
   ]
  },
  {
   "cell_type": "markdown",
   "metadata": {},
   "source": [
    "...and download it as usual:"
   ]
  },
  {
   "cell_type": "code",
   "execution_count": null,
   "metadata": {},
   "outputs": [],
   "source": [
    "with single_product.open() as fsrc, open(fsrc.name, mode='wb') as fdst:\n",
    "    shutil.copyfileobj(fsrc, fdst)"
   ]
  },
  {
   "cell_type": "markdown",
   "metadata": {},
   "source": [
    "### Download chunks of the products based on coverage\n",
    "An FCI dataset covers a full repeat cycle and is divided into a series of individual files or 'chunks' which facilitate dissemination. The main bulk of the dataset is a series of chunks that contain the observation data within the repeat cycle. There is also a trailer chunk that contains information applicable to or derived from the complete repeat cycle. Every product consists of around 40 chunks within a full disc repeat cycle.\n",
    "\n",
    "<div class=\"alert alert-block alert-success\">\n",
    "<b>NOTE:</b><br />\n",
    "Find more information about how data chunks are working in our User Portal guide: <a href=\"https://user.eumetsat.int/resources/user-guides/mtg-fci-level-1c-data-guide#ID-Level-1C-registered-radiance-datasets-structure-and-presentation\">https://user.eumetsat.int/resources/user-guides/mtg-fci-level-1c-data-guide#ID-Level-1C-registered-radiance-datasets-structure-and-presentation</a>\n",
    "</div>\n",
    "\n",
    "Let's investigate how the chunks of a product can be examined and downloaded. First, we select a specific product using product ID:"
   ]
  },
  {
   "cell_type": "code",
   "execution_count": null,
   "metadata": {},
   "outputs": [],
   "source": [
    "product = datastore.get_product(\n",
    "    product_id='W_XX-EUMETSAT-Darmstadt,IMG+SAT,MTI1+FCI-1C-RRAD-FDHSI-FD--x-x---x_C_EUMT_20250126214245_IDPFI_OPE_20250126214007_20250126214928_N__O_0131_0000',\n",
    "    collection_id='EO:EUM:DAT:0662')\n",
    "\n",
    "print(product)"
   ]
  },
  {
   "cell_type": "markdown",
   "metadata": {},
   "source": [
    "Now we can display the product entries. Product entries are all files within a product, e.g. files with the observation data, metadata files and manifests."
   ]
  },
  {
   "cell_type": "code",
   "execution_count": null,
   "metadata": {},
   "outputs": [],
   "source": [
    "for entry in product.entries:\n",
    "    print(entry)"
   ]
  },
  {
   "cell_type": "markdown",
   "metadata": {},
   "source": [
    "If you are interested in a particular geographical area, it makes sense to download not the full product, but the interesting parts of it that covering your area of interest. We can split the full disc into multiple sections with it's corresponding chunks:\n",
    "\n",
    "<img src='./img/MTG_lacs.png'/>\n",
    "\n",
    "Additionally, we recommend to download the trailer chunk (chunk 41) as it contains additional information and statistics regarding the whole repeat cycle.\n",
    "\n",
    "In the code cell below we defined which chunk files are part of which area coverage (plus trailer chunk):"
   ]
  },
  {
   "cell_type": "code",
   "execution_count": null,
   "metadata": {},
   "outputs": [],
   "source": [
    "FD = [\"*_????_00[0-3][0-9].nc\", \"*_????_0040.nc\", \"*_????_0041.nc\"] # Full disc; chunks 01-40 + 41\n",
    "H1 = [\"*_????_000[1-9].nc\", \"*_????_001[0-9].nc\", \"*_????_002[0-1].nc\", \"*_????_0041.nc\"] # chunks 01-21 + 41\n",
    "H2 = [\"*_????_002[0-9].nc\", \"*_????_003[0-9].nc\", \"*_????_0040.nc\", \"*_????_0041.nc\"] # chunks 20-40 + 41\n",
    "T1 = [\"*_????_000[1-9].nc\", \"*_????_001[0-6].nc\", \"*_????_0041.nc\"] # chunks 01-16 + 41\n",
    "T2 = [\"*_????_001[3-9].nc\", \"*_????_002[0-7].nc\", \"*_????_0041.nc\"] # chunks 13-27 + 41\n",
    "T3 = [\"*_????_002[6-9].nc\", \"*_????_003[0-9].nc\", \"*_????_0040.nc\", \"*_????_0041.nc\"] # chunks 26-48 + 41\n",
    "Q1 = [\"*_????_000[0-9].nc\", \"*_????_001[0-3].nc\", \"*_????_0041.nc\"] # chunks 01-13 + 41\n",
    "Q2 = [\"*_????_001[0-9].nc\", \"*_????_002[0-1].nc\", \"*_????_0041.nc\"] # chunks 10-21 + 41\n",
    "Q3 = [\"*_????_002[0-9].nc\", \"*_????_0030.nc\", \"*_????_0041.nc\"] # chunks 20-30 + 41\n",
    "Q4 = [\"*_????_0029.nc\", \"*_????_003[0-9].nc\", \"*_????_0040.nc\", \"*_????_0041.nc\"] # chunks 29-40 + 41\n",
    "\n",
    "# This function checks if a product entry is part of the requested coverage\n",
    "def get_coverage(coverage, filenames):\n",
    "    chunks = []\n",
    "    for pattern in coverage:\n",
    "        for file in filenames:\n",
    "            if fnmatch.fnmatch(file, pattern):\n",
    "                chunks.append(file)\n",
    "    return chunks"
   ]
  },
  {
   "cell_type": "markdown",
   "metadata": {},
   "source": [
    "<div class=\"alert alert-block alert-success\">\n",
    "<b>NOTE:</b><br />\n",
    "Find more information about the different scanning services and local area coverages (LAC) in our User Portal guide: <a href=\"https://user.eumetsat.int/resources/user-guides/mtg-fci-level-1c-data-guide#ID-Scanning-services\">https://user.eumetsat.int/resources/user-guides/mtg-fci-level-1c-data-guide#ID-Scanning-services</a>\n",
    "</div>"
   ]
  },
  {
   "cell_type": "markdown",
   "metadata": {},
   "source": [
    "Now we can define the area we are interested in, loop over all product entries and download just the bits that we are interested in."
   ]
  },
  {
   "cell_type": "code",
   "execution_count": null,
   "metadata": {},
   "outputs": [],
   "source": [
    "# Select the coverage area\n",
    "coverage = Q4  # Change this to the desired coverage\n",
    "\n",
    "# Get the matching files\n",
    "matching_files = get_coverage(coverage, product.entries)\n",
    "\n",
    "if not matching_files:\n",
    "    print(\"No matching files found for the selected coverage.\")\n",
    "else:\n",
    "    for file in matching_files:\n",
    "        try:\n",
    "            with product.open(entry=file) as fsrc, open(fsrc.name, mode='wb') as fdst:\n",
    "                shutil.copyfileobj(fsrc, fdst)\n",
    "                print(f'Download of file {fsrc.name} finished.')\n",
    "        except Exception as e:\n",
    "            print(f\"Error downloading {file}: {e}\")"
   ]
  },
  {
   "cell_type": "markdown",
   "metadata": {},
   "source": [
    "### Identifying MTG FCI Chunks for a Specific Region of Interest (ROI)"
   ]
  },
  {
   "cell_type": "markdown",
   "metadata": {},
   "source": [
    "For some use-cases the provided coverage areas dont offer enough detalisation, and a user might be interested in downloading only those data chunks that match their region of interest. Further steps will show users how identify Meteosat Third Generation (MTG) data chunks they need to download for a given Region Of Interest (ROI).\n"
   ]
  },
  {
   "cell_type": "markdown",
   "metadata": {},
   "source": [
    "### Define your Region of Interest (ROI):\n",
    "Specify the geographic bounds using latitude and longitude coordinates to specify the geographic region you are interested in.\n",
    "\n"
   ]
  },
  {
   "cell_type": "code",
   "execution_count": null,
   "metadata": {},
   "outputs": [],
   "source": [
    "# Define ROI bounds (latitude and longitude bounding bbox)\n",
    "user_roi = {\n",
    "    \"lat_min\": 25,\n",
    "    \"lat_max\": 35,\n",
    "    \"lon_min\": -16,\n",
    "    \"lon_max\": -5\n",
    "}\n",
    "print(f\"Defined ROI: {user_roi}\")\n"
   ]
  },
  {
   "cell_type": "markdown",
   "metadata": {},
   "source": [
    "Now we want to know what is the MTG FCI data chunks cover and match that to the region of interest (ROI). To do this we need to perform coordinate converstion to know the geographical extent for each of the data chunks.\n",
    "\n",
    "MTG FCI data uses a reference grid that defines the geo-referenced position of the image pixel centroids at level 1c in a normalised geostationary projection. The transformation from satellite viewing angles (λs,fs) to geographical coordinates (lon, lat) is done using a inverse projection function. You can get more familiar with details about how the FCI data in the MTG User Guide: https://user.eumetsat.int/resources/user-guides/mtg-fci-level-1c-data-guide#ID-FCI \n",
    "\n",
    "For sake of convenience and to save on computer resource consumption we will be using a pre-processed chunk map file (FCI_chunks.wkt) that is added to this code repositor. Using a pre-processed chunk map helps us avoid performing the coordinate conversion operation, which in our example file was done for every second pixel. If you need the more exact data chunk extents mapping, then we strongly suggest to set up and run your own corrdinate conversion processing following the information in service and data user guides."
   ]
  },
  {
   "cell_type": "code",
   "execution_count": null,
   "metadata": {},
   "outputs": [],
   "source": [
    "import os\n",
    "from shapely.wkt import loads\n",
    "from shapely.geometry import Polygon\n",
    "\n",
    "# Define file path to precomputed FCI data chunk map in WKT format \n",
    "wkt_file_path = \"FCI_chunks.wkt\"  \n",
    "\n",
    "if not os.path.exists(wkt_file_path):\n",
    "    raise FileNotFoundError(f\"File {wkt_file_path} not found. Make sure it is in the repository.\")\n",
    "\n",
    "# Load WKT chunk footprints\n",
    "with open(wkt_file_path, \"r\") as file:\n",
    "    wkt_data = file.readlines()\n",
    "\n",
    "# Parse chunk polygons from WKT\n",
    "chunk_polygons = {}\n",
    "for line in wkt_data:\n",
    "    chunk_id, wkt_poly = line.strip().split(',', 1)  # Extract chunk ID\n",
    "    chunk_polygons[chunk_id] = loads(wkt_poly)  \n",
    "\n",
    "print(f\"Loaded {len(chunk_polygons)} chunk footprints from WKT file.\")"
   ]
  },
  {
   "cell_type": "markdown",
   "metadata": {},
   "source": [
    "### Match ROI to Chunks:\n",
    "Now we can find which data chunks intersect with your defined ROI. Running the next cell will print the corresponding chunk ID's.\n"
   ]
  },
  {
   "cell_type": "code",
   "execution_count": null,
   "metadata": {},
   "outputs": [],
   "source": [
    "# Convert user ROI to a Shapely Polygon\n",
    "roi_polygon = Polygon([\n",
    "    (user_roi[\"lon_min\"], user_roi[\"lat_min\"]),\n",
    "    (user_roi[\"lon_min\"], user_roi[\"lat_max\"]),\n",
    "    (user_roi[\"lon_max\"], user_roi[\"lat_max\"]),\n",
    "    (user_roi[\"lon_max\"], user_roi[\"lat_min\"])\n",
    "])\n",
    "\n",
    "# Find chunks that intersect with ROI\n",
    "relevant_chunks = []\n",
    "for chunk_id, chunk_poly in chunk_polygons.items():\n",
    "    if roi_polygon.intersects(chunk_poly):\n",
    "        relevant_chunks.append(chunk_id)\n",
    "\n",
    "print(f\"Found {len(relevant_chunks)} chunks intersecting the ROI: {relevant_chunks}\")"
   ]
  },
  {
   "cell_type": "markdown",
   "metadata": {},
   "source": [
    "### Plot:\n",
    "Let's display the ROI and MTG data chunks on a map to see the intersect.\n"
   ]
  },
  {
   "cell_type": "code",
   "execution_count": null,
   "metadata": {},
   "outputs": [],
   "source": [
    "import geopandas as gpd\n",
    "import matplotlib.pyplot as plt\n",
    "import cartopy.crs as ccrs\n",
    "import cartopy.feature as cfeature\n",
    "from shapely.geometry import LineString\n",
    "from pyproj import CRS\n",
    "\n",
    "wgs84_crs = CRS.from_proj4(\"+proj=longlat +ellps=WGS84 +datum=WGS84 +no_defs\")\n",
    "\n",
    "# Convert chunk polygons to a GeoDataFrame\n",
    "gdf_chunks = gpd.GeoDataFrame({\"chunk_id\": list(chunk_polygons.keys()), \"geometry\": list(chunk_polygons.values())}, crs=wgs84_crs)\n",
    "# Plot setup\n",
    "fig, ax = plt.subplots(figsize=(12, 12), subplot_kw={\"projection\": ccrs.PlateCarree()})\n",
    "ax.set_extent([-90, 90, -90, 90])\n",
    "ax.coastlines(\"50m\", linewidth=0.25)\n",
    "ax.add_feature(cfeature.LAND, facecolor=\"lightgray\", edgecolor=\"black\", linewidth=0.25)\n",
    "\n",
    "# Plot chunks with labels\n",
    "for i, row in gdf_chunks.iterrows():\n",
    "    chunk_id, chunk_poly = row[\"chunk_id\"], row[\"geometry\"]\n",
    "    if not chunk_poly.is_valid: continue\n",
    "    ax.fill(*chunk_poly.exterior.xy, color=plt.cm.tab20.colors[i % 20], alpha=0.25, transform=ccrs.PlateCarree())\n",
    "\n",
    "    # Label position inside polygon\n",
    "    center_x = (chunk_poly.bounds[0] + chunk_poly.bounds[2]) / 2 \n",
    "    vertical_line = LineString([(center_x, chunk_poly.bounds[1]), (center_x, chunk_poly.bounds[3])])\n",
    "    label_y = vertical_line.intersection(chunk_poly).centroid.y\n",
    "    ax.text(center_x, label_y, chunk_id, fontsize=6, transform=ccrs.PlateCarree(), ha=\"center\", va=\"center\")\n",
    "\n",
    "# Highlight ROI\n",
    "ax.plot(*roi_polygon.exterior.xy, color=\"red\", linewidth=1, linestyle=\"dashed\", transform=ccrs.PlateCarree())\n",
    "plt.title(\"MTG Chunk coverage extent and user ROI\")\n",
    "plt.show()\n"
   ]
  },
  {
   "cell_type": "markdown",
   "metadata": {},
   "source": [
    "### Download matching Chunks:\n",
    "Now we can download the chunks that match the specified ROI.\n",
    "We also want to filter that data using a time period for search:"
   ]
  },
  {
   "cell_type": "code",
   "execution_count": null,
   "metadata": {},
   "outputs": [],
   "source": [
    "dtstart = datetime.datetime(2025, 7, 7, 7, 0)\n",
    "dtend   = datetime.datetime(2025, 7, 7, 7, 10)\n",
    "#start = datetime.datetime(2025, 6, 24, 10, 30)\n",
    "#end = datetime.datetime(2025, 6, 24, 10, 35)\n",
    "\n",
    "print(f\"Time window: from {dtstart} to {dtend}.\")\n"
   ]
  },
  {
   "cell_type": "markdown",
   "metadata": {},
   "source": [
    "Now we can combine the filters and download data based on the selected time and ROI. Additionally, the trailer chunk for each relevant timestep will be added to the downloads, ensuring further dataset usability."
   ]
  },
  {
   "cell_type": "code",
   "execution_count": null,
   "metadata": {},
   "outputs": [],
   "source": [
    "def download_chunks_in_time_window(selected_collection, dtstart, dtend, chunk_ids):\n",
    "    \"\"\"\n",
    "    Search for products in the given time window, download relevant .nc entries and trailer chunk (0041).\n",
    "    \"\"\"\n",
    "\n",
    "    # Always ensure trailer chunk \"0041\" is included\n",
    "    chunk_ids.append(\"0041\")\n",
    "\n",
    "    chunk_patterns = [f\"_{cid}.nc\" for cid in chunk_ids]\n",
    "\n",
    "    # Products in time window\n",
    "    products = selected_collection.search(dtstart=dtstart, dtend=dtend)\n",
    "    print(f\"Found {len(products)} matching timestep(s).\")\n",
    "\n",
    "    # Filter relevant entries\n",
    "    for product in products:\n",
    "        for entry in product.entries:\n",
    "            if any(pattern in entry for pattern in chunk_patterns):\n",
    "                try:\n",
    "                    with product.open(entry=entry) as fsrc:\n",
    "                        local_filename = os.path.basename(fsrc.name)\n",
    "                        print(f\"Downloading file {local_filename}...\")\n",
    "                        with open(local_filename, 'wb') as fdst:\n",
    "                            shutil.copyfileobj(fsrc, fdst)\n",
    "                        print(f\"Saved file {local_filename}\")\n",
    "                except Exception as e:\n",
    "                    print(f\"Error downloading {entry}: {e}\")\n",
    "\n",
    "# Run the function\n",
    "download_chunks_in_time_window(\n",
    "    selected_collection=selected_collection, dtstart=dtstart, dtend=dtend, chunk_ids=relevant_chunks)"
   ]
  },
  {
   "cell_type": "markdown",
   "metadata": {},
   "source": [
    "### Save the example FCI data Chunk map locally\n",
    "If you need to save the chunk map as a file, you can grab it directly from the repo or run the following cell. If it is already on your device, then nothing else will be downloaded.\n"
   ]
  },
  {
   "cell_type": "code",
   "execution_count": null,
   "metadata": {},
   "outputs": [],
   "source": [
    "output_file = \"mtg_chunk_map.wkt\"\n",
    "\n",
    "if not os.path.exists(output_file):\n",
    "    with open(output_file, \"w\") as f:\n",
    "        for chunk_id, chunk_poly in chunk_polygons.items():\n",
    "            f.write(f\"{chunk_id},{chunk_poly.wkt}\\n\")\n",
    "    print(f\"Chunk map WKT saved as {output_file}.\")\n",
    "else:\n",
    "    print(f\"Chunk map WKT already exists locally as {output_file}.\")"
   ]
  },
  {
   "cell_type": "markdown",
   "metadata": {},
   "source": [
    "## Customise products"
   ]
  },
  {
   "cell_type": "markdown",
   "metadata": {},
   "source": [
    "The Data Tailor is a product customisation toolbox designed to enable users to tailor satellite data to their specific needs. It offers the ability to subset and aggregate data products across space and time, filter layers, generate quick looks, reproject data onto new coordinate reference systems, and reformat data into widely used Geographic Information System (GIS) formats such as netCDF and GeoTIFF, as well as image formats like JPEG and PNG. The Data Tailor can currently customize data from various satellite collections, including MTG FCI."
   ]
  },
  {
   "cell_type": "code",
   "execution_count": null,
   "metadata": {},
   "outputs": [],
   "source": [
    "# Create datatailor object with with your token\n",
    "datatailor = eumdac.DataTailor(token)"
   ]
  },
  {
   "cell_type": "markdown",
   "metadata": {},
   "source": [
    "You can now select and FCI collection, set a start and end time and select a product within the dates."
   ]
  },
  {
   "cell_type": "code",
   "execution_count": null,
   "metadata": {},
   "outputs": [],
   "source": [
    "# Select an FCI collection, eg \"FCI Level 1c High Resolution Image Data - MTG - 0 degree\" - \"EO:EUM:DAT:0665\"\n",
    "selected_collection = datastore.get_collection('EO:EUM:DAT:0665')\n",
    " \n",
    "# Set sensing start and end time\n",
    "start = datetime.datetime(2025, 1, 26, 19, 30)\n",
    "end = datetime.datetime(2025, 1, 26, 23, 30)\n",
    " \n",
    "# Retrieve latest product that matches the filter\n",
    "product = selected_collection.search(\n",
    "    dtstart=start,\n",
    "    dtend=end).first()"
   ]
  },
  {
   "cell_type": "markdown",
   "metadata": {},
   "source": [
    "You should define a chain for a Data Tailor customisation."
   ]
  },
  {
   "cell_type": "code",
   "execution_count": null,
   "metadata": {},
   "outputs": [],
   "source": [
    "# Define the chain configuration\n",
    "chain = eumdac.tailor_models.Chain(\n",
    "    product='FCIL1HRFI',\n",
    "    format='geotiff',\n",
    "    filter={\"bands\" : [\"ir_38_hr_effective_radiance\", \"ir_38_hr_effective_radiance\"]},\n",
    "    projection='geographic',\n",
    "    roi='western_europe'\n",
    ")"
   ]
  },
  {
   "cell_type": "markdown",
   "metadata": {},
   "source": [
    "After defining the chain, we can start the customisation and track its status."
   ]
  },
  {
   "cell_type": "code",
   "execution_count": null,
   "metadata": {},
   "outputs": [],
   "source": [
    "# Send the customisation to Data Tailor Web Services\n",
    "customisation = datatailor.new_customisation(product, chain=chain)\n",
    " \n",
    "status = customisation.status\n",
    "sleep_time = 10 # seconds\n",
    " \n",
    "# Customisation loop to read current status of the customisation\n",
    "print(\"Starting customisation process...\")\n",
    "while status:\n",
    "    # Get the status of the ongoing customisation\n",
    "    status = customisation.status\n",
    "    if \"DONE\" in status:\n",
    "        print(f\"Customisation {customisation._id} is successfully completed.\")\n",
    "        break\n",
    "    elif status in [\"ERROR\", \"FAILED\", \"DELETED\", \"KILLED\", \"INACTIVE\"]:\n",
    "        print(f\"Customisation {customisation._id} was unsuccessful. Customisation log is printed.\\n\")\n",
    "        print(customisation.logfile)\n",
    "        break\n",
    "    elif \"QUEUED\" in status:\n",
    "        print(f\"Customisation {customisation._id} is queued.\")\n",
    "    elif \"RUNNING\" in status:\n",
    "        print(f\"Customisation {customisation._id} is running.\")\n",
    "    time.sleep(sleep_time)"
   ]
  },
  {
   "cell_type": "markdown",
   "metadata": {},
   "source": [
    "After the customisation is DONE, you can download the customised product from the Data Tailor Web Services"
   ]
  },
  {
   "cell_type": "code",
   "execution_count": null,
   "metadata": {},
   "outputs": [],
   "source": [
    "# Download the customised product\n",
    "print(\"Starting download of customised products...\")\n",
    "for product in customisation.outputs:\n",
    "    print(f\"Downloading product: {product}\")\n",
    "    with customisation.stream_output(product) as source_file, open(source_file.name, 'wb') as destination_file:\n",
    "        shutil.copyfileobj(source_file, destination_file)\n",
    "    print(f\"Product {product} downloaded successfully.\")"
   ]
  },
  {
   "cell_type": "markdown",
   "metadata": {},
   "source": [
    "<a href=\"./index.ipynb\">← Index</a>\n",
    "<br>\n",
    "<a href=\"./1_4_Sentinel3_data_access.ipynb\">← Sentinel-3 Data Store access with EUMDAC</a><span style=\"float:right;\"><a href=\"./1_6_MTG_LI_data_access.ipynb\">Accessing MTG LI Level 2 products →</a>"
   ]
  },
  {
   "cell_type": "markdown",
   "metadata": {
    "Collapsed": "false"
   },
   "source": [
    "<hr>"
   ]
  },
  {
   "cell_type": "markdown",
   "metadata": {
    "Collapsed": "false"
   },
   "source": [
    "<p style=\"text-align:left;\">This project is licensed under the <a href=\"./LICENSE.TXT\">MIT License</a> <span style=\"float:right;\"><a href=\"https://gitlab.eumetsat.int/eumetlab/data-services/eumdac_data_store\">View on GitLab</a> | <a href=\"https://classroom.eumetsat.int/\">EUMETSAT Training</a> | <a href=mailto:ops@eumetsat.int>Contact</a></span></p>"
   ]
  }
 ],
 "metadata": {
  "kernelspec": {
   "display_name": "eumdac_data_store",
   "language": "python",
   "name": "eumdac_data_store"
  },
  "language_info": {
   "codemirror_mode": {
    "name": "ipython",
    "version": 3
   },
   "file_extension": ".py",
   "mimetype": "text/x-python",
   "name": "python",
   "nbconvert_exporter": "python",
   "pygments_lexer": "ipython3",
   "version": "3.10.18"
  },
  "vscode": {
   "interpreter": {
    "hash": "f61363903226f946a13497630069b9119a23165c9161346d2c3a6f0af415279b"
   }
  }
 },
 "nbformat": 4,
 "nbformat_minor": 4
}
