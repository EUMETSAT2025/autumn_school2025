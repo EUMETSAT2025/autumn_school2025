{
 "cells": [
  {
   "cell_type": "markdown",
   "id": "28312bc2-5e31-48a9-88ef-906ffdce9a7f",
   "metadata": {},
   "source": [
    "<span style=float:center><img src='../img/LSASAF_Name_Colour.png' alt='LSA SAF' align='right' width='20%'></img>\n",
    "<span style=float:center><img src='../img/eumet_logo.png' alt='Eumetsat logo' align='center' width='30%'></img>"
   ]
  },
  {
   "cell_type": "markdown",
   "id": "7cc4c2d7-b3e3-4aa0-856c-6cf7db11a468",
   "metadata": {},
   "source": [
    "## <span style=\"color:blue\">**International Autumn School on Satellite Data Applications (2025)**</span>"
   ]
  },
  {
   "cell_type": "markdown",
   "id": "c3b2193a-cbd9-43cd-bb56-1d390acaeb4b",
   "metadata": {},
   "source": [
    "**Copyright:** 2024 EUMETSAT <br>\n",
    "**License:** MIT <br>\n",
    "**Authors:** Antonio Vecoli **[vecoli@meeo.it]** (EUMETSAT/MEEO)"
   ]
  },
  {
   "cell_type": "markdown",
   "id": "ecb16da1-fa23-4fdf-95ec-fdba8c34d22d",
   "metadata": {},
   "source": [
    "<div class=\"alert alert-block alert-info\"> \n",
    "     <h3><b>Data exploration & visualization </b></h3> </div>"
   ]
  },
  {
   "cell_type": "markdown",
   "id": "d78e74d9-1717-4b2a-b385-8a6c1f8819aa",
   "metadata": {},
   "source": [
    "<div class=\"alert alert-block alert-warning\">\n",
    "    \n",
    "<b>PREREQUISITES </b>\n",
    "    \n",
    "This notebook has the following requirement:\n",
    "    \n",
    "the notebook describes operations on the LSA SAF product downloaded in the notebook [**01_LSAF_download_2024.ipynb**](./01_LSAF_download_2024.ipynb), so one **LST Sky-All** product, like for instance,\n",
    "    \n",
    "<span style=\"color:black\">**NETCDF4_LSASAF_MSG_MLST-AS_MSG-Disk_202310091230.nc**</span>    \n",
    "    \n",
    "should be already stored in a subfolder of this Jupyter instance.\n",
    "</div>\n",
    "<hr>"
   ]
  },
  {
   "cell_type": "markdown",
   "id": "ebe792d1-d832-4997-84d3-c3b3f09c5294",
   "metadata": {},
   "source": [
    "<span style=float:center><img src='../img/lsasaf_msg_mlst-as_msg-disk.png' alt='CMSAF' align='right' width='25%'></img>\n",
    "</span> \n",
    "\n",
    "# **2 - How to explore and visualize an LSA SAF product**:\n",
    "## **the example of an LST All-Sky product** "
   ]
  },
  {
   "cell_type": "markdown",
   "id": "ca21d88f-7ae1-4a9c-99b2-a2a5337b2678",
   "metadata": {
    "tags": []
   },
   "source": [
    "### **Data used**"
   ]
  },
  {
   "cell_type": "markdown",
   "id": "b3cc1856-36aa-45b4-b8c7-e980b3dd5d89",
   "metadata": {},
   "source": [
    "|Product name| **Product Description**                    | Area | Spat. Resolution (degrees) |Temp. Coverage|Temp. Resolution | Data Access|\n",
    "|:--------------------------------------------:|:----:|:---:|:---:|:---:|:---:|:---:|\n",
    "|<span style=\"color:blue\">**MLST-AS [LSA-005]**</span>|<span style=\"color:blue\">**MSG Land Surface Temperature - All Sky**</span>|<span style=\"color:blue\">**MSG Disk**</span>|**0.05x0.05**|<span style=\"color:blue\">**2020 - NRT**</span>|<span style=\"color:blue\">**30 min**</span> |[**link**](https://datalsasaf.lsasvcs.ipma.pt/PRODUCTS/MSG/MLST-AS/)|"
   ]
  },
  {
   "cell_type": "markdown",
   "id": "04bfbc83-afd0-449f-bf14-407e9a9c53fe",
   "metadata": {},
   "source": [
    "### **Introduction**\n",
    "\n",
    "This Jupyter Notebook will explain you how to load an LST All-Sky product in the version of a NetCDF file, in order to extract the variables and the attributes that are included in the product. Dedicated sections will then show how to use specific Python libraries to obtain basic or more advanced plot of the selected variable."
   ]
  },
  {
   "cell_type": "markdown",
   "id": "c1885959-1345-4e50-a1e5-f45d79f00b0d",
   "metadata": {},
   "source": [
    "### **Outline**\n",
    "\n",
    "* [**2.1 - Loading/reading an LST All-Sky product**](#reading)\n",
    "* [**2.2 - Basic Data Visualization**](#basic) \n",
    "* [**2.3 - Advanced Data Visualization/1 (Cartopy)**](#advanced)\n",
    "* [**2.4 - Advanced Data Visualization/2**](#advanced+)    "
   ]
  },
  {
   "cell_type": "markdown",
   "id": "e33fcc7b-c1cd-49f0-8b84-b865335a8006",
   "metadata": {},
   "source": [
    "<hr>"
   ]
  },
  {
   "cell_type": "markdown",
   "id": "4d34edfe-90db-48e1-a675-93ef9d94a02b",
   "metadata": {},
   "source": [
    "#### **Importing required libraries**"
   ]
  },
  {
   "cell_type": "code",
   "execution_count": null,
   "id": "7cb1e40d-24ac-4cdb-8e0d-526028a2783f",
   "metadata": {},
   "outputs": [],
   "source": [
    "import os\n",
    "import zipfile\n",
    "\n",
    "from netCDF4 import Dataset     # read / write NetCDF4 files\n",
    "\n",
    "import numpy as np  \n",
    "\n",
    "from datetime import datetime   #handling basic date and time types\n",
    "\n",
    "import matplotlib.pyplot as plt # plotting library\n",
    "import cartopy, cartopy.crs as ccrs # produce maps and other geospatial data analyses\n",
    "import cartopy.feature as cfeature  # common drawing and filtering operations\n",
    "import cartopy.io.shapereader as shpreader # import shapefiles\n",
    "from cartopy.mpl.gridliner import LONGITUDE_FORMATTER, LATITUDE_FORMATTER\n",
    "import matplotlib \n",
    "from matplotlib.offsetbox import AnchoredText                        # adds an anchored text box in the corner\n",
    "from matplotlib.offsetbox import OffsetImage                         # change the image size (zoom)\n",
    "from matplotlib.offsetbox import AnnotationBbox                      # creates an annotation using an OffsetBox\n",
    "from mpl_toolkits.axes_grid1.anchored_artists import AnchoredSizeBar # draw a horizontal scale bar with a center-aligned label underneath\n",
    "import matplotlib.font_manager as fm                                 # a module for finding, managing, and using fonts across platforms"
   ]
  },
  {
   "cell_type": "markdown",
   "id": "2ed2f13f-4e37-4c9e-9e19-b4830fbb01e2",
   "metadata": {},
   "source": [
    "<hr>"
   ]
  },
  {
   "cell_type": "markdown",
   "id": "624da095-d152-4ed9-bf27-6cada37b225c",
   "metadata": {},
   "source": [
    "### <a id=\"reading\"></a>**2.1 - Loading/reading an LST All-Sky product**"
   ]
  },
  {
   "cell_type": "markdown",
   "id": "c519288a-0a4b-4aa2-936f-28f104fb9236",
   "metadata": {},
   "source": [
    "A NetCDF file can be easily loaded and explored by using the [**NetCDF4**](https://unidata.github.io/netcdf4-python/) library, that will open the product showing the full set of variables, attributes and metadata elements, each listed with the proper keyword and value."
   ]
  },
  {
   "cell_type": "code",
   "execution_count": null,
   "id": "8bc81246-d53e-43e8-93b5-cb363c7e7ddf",
   "metadata": {},
   "outputs": [],
   "source": [
    "# open the file using the NetCDF4 library\n",
    "file = Dataset(\"../data/lst/NETCDF4_LSASAF_MSG_MLST-ASv2_MSG-Disk_202505220000.nc\")\n",
    "\n",
    "file"
   ]
  },
  {
   "cell_type": "markdown",
   "id": "d135907f-2a8d-41b7-90a4-64754b25b51f",
   "metadata": {},
   "source": [
    "Each element of the dataset can be selected with the same syntax. For example if you want to extract the  <span style=\"color:red\">**dimensions**</span> attribute:"
   ]
  },
  {
   "cell_type": "code",
   "execution_count": null,
   "id": "45f89bd5-c642-486c-8854-15f4c712433f",
   "metadata": {},
   "outputs": [],
   "source": [
    "file.dimensions"
   ]
  },
  {
   "cell_type": "markdown",
   "id": "5b82957c-89e1-491b-bd2a-e25c96aa3710",
   "metadata": {},
   "source": [
    "In the same way you can access the group of variables contained in the product by extracting the <span style=\"color:red\">**variables**</span> object:"
   ]
  },
  {
   "cell_type": "code",
   "execution_count": null,
   "id": "5ee8bdd9-afab-4388-818d-918af3fc39d2",
   "metadata": {},
   "outputs": [],
   "source": [
    "variables = file.variables\n",
    "variables"
   ]
  },
  {
   "cell_type": "markdown",
   "id": "15cb4847-bebe-4a86-97fb-25cbe4e9b8bb",
   "metadata": {},
   "source": [
    "Accessing the <span style=\"color:red\">**variables**</span> object included in the product has made visible the whole set of metadata for each of the variables. The variable of interest can be extracted by selecting its name: "
   ]
  },
  {
   "cell_type": "code",
   "execution_count": null,
   "id": "9e08085f-e0a8-4e37-96bc-914daa4b085e",
   "metadata": {},
   "outputs": [],
   "source": [
    "LST = variables['MLST-AS']\n",
    "LST"
   ]
  },
  {
   "cell_type": "markdown",
   "id": "b7eed532-5847-4604-99d3-8b297a428860",
   "metadata": {},
   "source": [
    "From the variable it is possible to extract the raster containing the LST values:"
   ]
  },
  {
   "cell_type": "code",
   "execution_count": null,
   "id": "a290cfc8-67e4-47bb-b6a0-a67c27cbd7e6",
   "metadata": {},
   "outputs": [],
   "source": [
    "data = LST[0,:,:]"
   ]
  },
  {
   "cell_type": "markdown",
   "id": "66961aff-d2e8-4c1e-aa18-c14c2b2c8c3a",
   "metadata": {},
   "source": [
    "<span style=\"color:blue\">**data**</span> is now a bidimensional array of pixel values with size 3201x3201. that is ready to be plotted."
   ]
  },
  {
   "cell_type": "markdown",
   "id": "e94a9bda-eab0-4355-9159-e1f0db48c767",
   "metadata": {},
   "source": [
    "<hr>"
   ]
  },
  {
   "cell_type": "markdown",
   "id": "8ee050be-dc32-4064-a71f-f77e50362ace",
   "metadata": {
    "tags": []
   },
   "source": [
    "### <a id=\"basic\"></a>**2.2 - Basic Data Visualization**\n",
    "\n",
    "We will now define the elements that are needed to provide a basic visualization of the data, including:\n",
    "\n",
    "* size of the map\n",
    "* proper labels \n",
    "* colormap\n",
    "\n",
    "First of all we will retrieve the details that will be then displayed in the labels. All these elements are included in the attributes of the product that has been open in the previous section, so the contents will be extracted from it:"
   ]
  },
  {
   "cell_type": "code",
   "execution_count": null,
   "id": "fdc30cc4-3cea-40b6-a130-14ef93e387cd",
   "metadata": {},
   "outputs": [],
   "source": [
    "# get the date\n",
    "\n",
    "date_str  = file.getncattr('time_coverage_start') #instruction to extract the value of an attribute from the product\n",
    "date_format = '%Y-%m-%dT%H:%M:%SZ'\n",
    "date_obj = datetime.strptime(date_str, date_format)\n",
    "date = date_obj.strftime('%Y-%m-%d %H:%M:%S UTC') #time conversion in UTC format\n",
    "\n",
    "date"
   ]
  },
  {
   "cell_type": "markdown",
   "id": "723ae3e0-c9b0-495d-9699-87c5ec8701d2",
   "metadata": {},
   "source": [
    "The last element we need before starting to work on the plot is to know where is the **origin** of the data, in term of **latitudes** . If the array of latitudes starts from the lower value, the origin is defined as **lower**, **upper** otherwise.\n",
    "For this purpose we need to extract the array of latitudes from the product object. If you look into the <span style=\"color:red\">**variables**</span> object, you will find a **lat** variable that is the needed one:"
   ]
  },
  {
   "cell_type": "code",
   "execution_count": null,
   "id": "1b0da8ec-66a9-46bc-9e14-b35a585c7a0d",
   "metadata": {},
   "outputs": [],
   "source": [
    "# extract the lats\n",
    "lats = file.variables['lat'][:]\n",
    "\n",
    "# print the lats\n",
    "print(lats)"
   ]
  },
  {
   "cell_type": "markdown",
   "id": "40637e2a-6150-499e-8fcc-4b9df32cdc87",
   "metadata": {},
   "source": [
    "So we have an **upper** origin.\n",
    "\n",
    "The main settings of a plot in Python are then provided using the [**Matplotlib**](https://matplotlib.org/stable/plot_types/index.html) library:"
   ]
  },
  {
   "cell_type": "code",
   "execution_count": null,
   "id": "f82b28c7-42af-4120-a5bf-9526a79630f7",
   "metadata": {},
   "outputs": [],
   "source": [
    "# choose the plot size (width x height, in inches)\n",
    "plt.figure(figsize=(10,10))\n",
    "\n",
    "# plot the image\n",
    "plt.imshow(data, vmin=-20, vmax=50, origin='upper', cmap='jet',interpolation = 'None')\n",
    "\n",
    "# add a colorbar\n",
    "plt.colorbar(label='Land Surface Temperature - All Sky (°C) - Instantaneous', extend='both', orientation='horizontal',\n",
    "             pad=0.05, fraction=0.05)\n",
    "\n",
    "# add a title\n",
    "plt.title(f'MSG/SEVIRI -  LST - All Sky Instantaneous\\n{date}', fontweight='bold', fontsize=10, loc='left')\n",
    "plt.title('Autumn School 2025', fontsize=10, loc='right')\n",
    "\n",
    "#-------------------------------------------------------------------------------------------------------------------\n",
    "\n",
    "# save the image\n",
    "plt.savefig('OUTPUT/image_LST-AS_1.png')\n",
    "\n",
    "# show the image\n",
    "plt.show()"
   ]
  },
  {
   "cell_type": "markdown",
   "id": "1b20e9a5-6501-4e93-bf48-fbec6be0387e",
   "metadata": {},
   "source": [
    "As you can see the basic map includes only elements retrieved from the product without plotting any other feature imported from external sources. But it is possible to improve the map by enriching it with features that provide a more complete context for the data."
   ]
  },
  {
   "cell_type": "markdown",
   "id": "4b1eb7c2-a8f5-4bfe-b16f-19aca729d123",
   "metadata": {},
   "source": [
    "<hr>"
   ]
  },
  {
   "cell_type": "markdown",
   "id": "3d730201-a785-4088-92b4-fbd5f30bdf33",
   "metadata": {},
   "source": [
    "### <a id=\"advanced\"></a>**2.3 - Advanced Data Visualization/1 (Cartopy)**\n",
    "\n",
    "Introducing the [**Cartopy**](https://scitools.org.uk/cartopy/docs/latest/getting_started/index.html) library will allow you to add features both from internal sources of the library and from external sources, as well as introducing a lat-lon grid, or selecting a specific projection and much more. Here we will show you few of the most used features and then you will have the possibility to dive into the linked documentation and try more features on your own."
   ]
  },
  {
   "cell_type": "markdown",
   "id": "dc4f6a85-e2cf-4815-b5c8-d381a88ed974",
   "metadata": {},
   "source": [
    "#### **2.3.1 General Cartopy settings**"
   ]
  },
  {
   "cell_type": "markdown",
   "id": "5a8a54a1-3d80-4381-b237-1294bbce16af",
   "metadata": {},
   "source": [
    "As a first element, Cartopy allows you to decide the extent of the map you want to plot and as a first example we provide the map with for the full disk of SEVIRI which is also the bounding box of the current product.\n",
    "So first the max and min values of longitude and latitude dimensions must be retrieved. The array of latitude values has been already defined, now only the longitudes are missing:"
   ]
  },
  {
   "cell_type": "code",
   "execution_count": null,
   "id": "dee8eeba-10e2-4b2a-b56a-427d4d53731a",
   "metadata": {},
   "outputs": [],
   "source": [
    "# extract the lons\n",
    "lons = file.variables['lon'][:]\n",
    "print(lons)"
   ]
  },
  {
   "cell_type": "markdown",
   "id": "67c0c6c9-adbf-4a81-888c-a459ae7b7cad",
   "metadata": {},
   "source": [
    "Now we can start defining the elements of the map using the Cartopy features:"
   ]
  },
  {
   "cell_type": "code",
   "execution_count": null,
   "id": "e69d4293-75d8-4599-b73b-55f0851d99c6",
   "metadata": {},
   "outputs": [],
   "source": [
    "# choose the plot size (width x height, in inches)\n",
    "plt.figure(figsize=(10,10))\n",
    "\n",
    "# use the PlateCarree projection in cartopy\n",
    "ax = plt.axes(projection=ccrs.PlateCarree())\n",
    "\n",
    "# define the image extent\n",
    "img_extent = [lons.min(), lons.max(), lats.min(), lats.max()]\n",
    "\n",
    "\n",
    "# plot the image\n",
    "img = ax.imshow(data, vmin=-10, vmax=50, origin='upper', extent = img_extent, cmap='jet',interpolation = 'None')\n",
    "\n",
    "\n",
    "# add some various map elements to the plot\n",
    "ax.add_feature(cfeature.LAND)\n",
    "ax.add_feature(cfeature.OCEAN)\n",
    "\n",
    "# add coastlines, borders and gridlines\n",
    "ax.coastlines(resolution='50m', color='black', linewidth=0.5)\n",
    "ax.add_feature(cartopy.feature.BORDERS, edgecolor='black', linewidth=0.4)\n",
    "gl = ax.gridlines(crs=ccrs.PlateCarree(), \n",
    "                  color='gray', \n",
    "                  alpha=1.0, \n",
    "                  linestyle='--', \n",
    "                  linewidth=0.25,\n",
    "                  xlocs=np.arange(-180, 181, 10), \n",
    "                  ylocs=np.arange(-90, 91, 10), \n",
    "                  draw_labels=True)\n",
    "\n",
    "gl.top_labels = False\n",
    "gl.right_labels = False\n",
    "\n",
    "# add a colorbar\n",
    "plt.colorbar(img, label='Land Surface Temperature - All Sky (°C)', extend='both', orientation='horizontal',\n",
    "             pad=0.05, fraction=0.04)\n",
    "\n",
    "# get the date\n",
    "date_str  = file.getncattr('time_coverage_start')\n",
    "date_format = '%Y-%m-%dT%H:%M:%SZ'\n",
    "date_obj = datetime.strptime(date_str, date_format)\n",
    "date = date_obj.strftime('%Y-%m-%d %H:%M:%S UTC')\n",
    "\n",
    "# add a title\n",
    "plt.title(f'MSG/SEVIRI -  LST - All Sky \\n{date}', fontweight='bold', fontsize=10, loc='left')\n",
    "plt.title('Autumn School 2025', fontsize=10, loc='right')\n",
    "\n",
    "# save the image\n",
    "plt.savefig('OUTPUT/image_LST-AS_2.png')\n",
    "\n",
    "# show the image\n",
    "plt.show()"
   ]
  },
  {
   "cell_type": "markdown",
   "id": "dad5155b-d8f1-4843-9d15-dd84d3497601",
   "metadata": {},
   "source": [
    "#### **2.3.2 Regional map with shapefile features**"
   ]
  },
  {
   "cell_type": "markdown",
   "id": "88bed4f5-3113-4677-9093-a13e7bca8531",
   "metadata": {},
   "source": [
    "Having the possibility to select the area of visualization for the map means also that you can display the data for a specific subregion of the original spatial coverage.\n",
    "And when producing a map on a smaller e it can be necessary to add more local borders that are not available in Cartopy. Let's for example focus in the area of Italy.\n",
    "There are multpiple sources to get administrative borders on a global scale or on a country level.\n",
    "\n",
    "The [https://www.naturalearthdata.com](https://www.naturalearthdata.com) provides a wide set of features with shapefile format, categorized in **Cultural**,**Phyisical** and **Raster** domains.\n",
    "\n",
    "For our purpose we will instead get national and administrative borders for a specific country from the [**GADM website**](https://gadm.org/index.html) where you can find them down to the local level for each country and available in different formats, including shapefile.\n",
    "\n",
    "Let's then take the link to the full shapefile package for GItaly and define the destination folder where the package will be stored."
   ]
  },
  {
   "cell_type": "code",
   "execution_count": null,
   "id": "cc05dec7-2bfb-4bf6-abbb-6174997bf34f",
   "metadata": {},
   "outputs": [],
   "source": [
    "#link = 'https://geodata.ucdavis.edu/gadm/gadm4.1/shp/gadm41_ITA_shp.zip'\n",
    "#destination = 'auxfiles/'"
   ]
  },
  {
   "cell_type": "markdown",
   "id": "37dc1ec2-14bf-4c35-a524-27c35fc14585",
   "metadata": {},
   "source": [
    "It is now possible to build the instruction that will download the data:"
   ]
  },
  {
   "cell_type": "code",
   "execution_count": null,
   "id": "88c8ef18-0ff4-485f-98a9-441ba85e8a71",
   "metadata": {},
   "outputs": [],
   "source": [
    "#instruction= 'wget -P '+ destination + ' '+ link "
   ]
  },
  {
   "cell_type": "code",
   "execution_count": null,
   "id": "8e6f255a-55a3-4bf2-916b-0dfa4b3e4363",
   "metadata": {},
   "outputs": [],
   "source": [
    "#os.system(instruction)"
   ]
  },
  {
   "cell_type": "markdown",
   "id": "2a52f02f-3350-4a6d-9996-915fb887374b",
   "metadata": {},
   "source": [
    "We have then to unzip the downloaded file:"
   ]
  },
  {
   "cell_type": "code",
   "execution_count": null,
   "id": "4c04c5ae-a321-4d66-a26e-89f250815825",
   "metadata": {},
   "outputs": [],
   "source": [
    "#with zipfile.ZipFile('auxfiles/gadm41_ITA_shp.zip', 'r') as zip_ref:\n",
    "#    zip_ref.extractall(path = 'auxfiles/gadm41_ITA/')"
   ]
  },
  {
   "cell_type": "markdown",
   "id": "3ac3d2db-f59b-43a6-b9a4-c09f9ae81448",
   "metadata": {},
   "source": [
    "Once the shapefiles are available, they can be included in the creation of the map with Cartopy. \n",
    "The following operations will be implemented to obtain the final map:\n",
    "\n",
    "* general Cartopy setting of the map\n",
    "* defining the extent of the map\n",
    "* adding Cartopy features \n",
    "* adding the selected shapefile \n",
    "* setting colorbar and labels"
   ]
  },
  {
   "cell_type": "code",
   "execution_count": null,
   "id": "7d14dd50-1fa4-4046-9993-ceff0e5b7083",
   "metadata": {},
   "outputs": [],
   "source": [
    "# choose the plot size (width x height, in inches)\n",
    "plt.figure(figsize=(10,10))\n",
    "\n",
    "# use the PlateCarree projection in cartopy\n",
    "ax = plt.axes(projection=ccrs.PlateCarree())\n",
    "\n",
    "#extent = [6,35, 20,48] #[lonmin,latmin, lonmax,latmax]\n",
    "extent = [-10,35, 5,45] #[lonmin,latmin, lonmax,latmax]\n",
    "\n",
    "# latitude lower and upper index\n",
    "latli = np.argmin( np.abs( lats - extent[1] ) )\n",
    "latui = np.argmin( np.abs( lats - extent[3] ) )\n",
    "\n",
    "# longitude lower and upper index\n",
    "lonli = np.argmin( np.abs( lons - extent[0] ) )\n",
    "lonui = np.argmin( np.abs( lons - extent[2] ) )\n",
    "\n",
    "# extract the data\n",
    "data = file.variables['MLST-AS'][ 0 , latui:latli , lonli:lonui ]\n",
    "\n",
    "# define the image extent\n",
    "img_extent = [extent[0], extent[2], extent[1], extent[3]]\n",
    "\n",
    "# plot the image\n",
    "img = ax.imshow(data, vmin=-10, vmax=50, origin='upper', extent=img_extent, cmap='RdYlBu_r',interpolation='None')\n",
    "\n",
    "# add coastlines, borders and gridlines\n",
    "ax.coastlines(resolution='10m', color='lightgrey', linewidth=0.8)\n",
    "ax.add_feature(cartopy.feature.BORDERS, edgecolor='darkgrey', linewidth=0.5)\n",
    "gl = ax.gridlines(crs=ccrs.PlateCarree(), color='gray', alpha=1.0, linestyle='--', linewidth=0.25, xlocs=np.arange(-180, 181, 5), ylocs=np.arange(-90, 91, 5), draw_labels=True)\n",
    "gl.top_labels = False\n",
    "gl.right_labels = False\n",
    "gl.xpadding = -5\n",
    "gl.ypadding = -5\n",
    "\n",
    "\n",
    "# add some elements to the plot\n",
    "ax.add_feature(cfeature.LAND)\n",
    "ax.add_feature(cfeature.OCEAN)\n",
    "\n",
    "# add a colorbar\n",
    "\n",
    "# add a shapefile\n",
    "shapefile = list(shpreader.Reader('auxfiles/gadm41_ITA/gadm41_ITA_1.shp').geometries())\n",
    "ax.add_geometries(shapefile, ccrs.PlateCarree(), edgecolor='black',facecolor='none', linewidth=0.3)\n",
    "plt.colorbar(img, label='Land Surface Temperature -All Sky (°C)', extend='both', orientation='horizontal', pad=0.045, fraction=0.045)\n",
    "\n",
    "# add a title\n",
    "plt.title(f'MSG/SEVIRI -  LST - All Sky \\n{date}', fontweight='bold', fontsize=10, loc='left')\n",
    "plt.title('Autumn School 2025', fontsize=10, loc='right')\n",
    "\n",
    "#-------------------------------------------------------------------------------------------------------------------\n",
    "\n",
    "# save the image\n",
    "plt.savefig('OUTPUT/image_LST-AS_3.png')\n",
    "\n",
    "# show the image\n",
    "plt.show()"
   ]
  },
  {
   "cell_type": "markdown",
   "id": "f8dd4550-db72-451c-9756-8aa78f6d96ac",
   "metadata": {},
   "source": [
    "<hr>"
   ]
  },
  {
   "cell_type": "markdown",
   "id": "71e19232-cf94-495c-804f-0e4ec4cf7472",
   "metadata": {},
   "source": [
    "### <a id=\"advanced+\"></a>**2.4 - Advanced Data Visualization/2**"
   ]
  },
  {
   "cell_type": "markdown",
   "id": "3ec0e2b1-88ea-45b2-9349-da85d1a96158",
   "metadata": {},
   "source": [
    "The maps produced in Python can be further enhanced by choosing a more appropriate colormap or adding images and details from external sources. In this section in particular, you will see:\n",
    "\n",
    "* how to create customized colormaps\n",
    "* how to include additional feature or add external images into a map"
   ]
  },
  {
   "cell_type": "markdown",
   "id": "9f617172-628f-4399-ba11-71d34b136a52",
   "metadata": {},
   "source": [
    "When working in Python to produce maps, Matplotlib is one of the reference packages for plots and it provides a set of ready-to-use colormaps [[**link**]](https://matplotlib.org/stable/gallery/color/colormap_reference.html). But in many cases the available colormaps can not be suitable for the data you have to visualize and a good option is the possibility to create customized colormaps, with colors directly selected by the user.\n",
    "\n",
    "As an example, by taking from this website [https://imagecolorpicker.com/](https://imagecolorpicker.com/) you can pick the colors you want to use with their specificx **hexadecimal** codes and here follows how you can create your colormap: "
   ]
  },
  {
   "cell_type": "code",
   "execution_count": null,
   "id": "0ff700ed-0e56-48d8-a266-8a0aabfe956c",
   "metadata": {},
   "outputs": [],
   "source": [
    "colors = [\"#010044\", \"#001856\", \"#0f2187\", \"#0f30b1\", \"#0d62bc\", \"#2183e8\",\n",
    "          \"#4ba7fc\", \"#94d3ff\", \"#e5fdff\", \"#fce875\", \"#ffbd33\", \"#ff9d02\", \"#ff5d00\",\n",
    "          \"#e72000\", \"#d20e02\", \"#b7270c\", \"#971515\", \"#860000\", \"#6b014b\", \"#500059\"]\n",
    "cmap = matplotlib.colors.ListedColormap(colors)\n",
    "cmap.set_over('#500059')\n",
    "cmap.set_under('#010044')\n",
    "vmin = -10\n",
    "vmax = 50"
   ]
  },
  {
   "cell_type": "markdown",
   "id": "2bfdf32c-3885-403e-a5f6-aac197bf93bf",
   "metadata": {},
   "source": [
    "In addition, with the following code you will be able to add a logo, or another image, to the map, setting its size and position:"
   ]
  },
  {
   "cell_type": "code",
   "execution_count": null,
   "id": "b83316da-bfed-4016-89a1-87b2404a6b0c",
   "metadata": {},
   "outputs": [],
   "source": [
    "my_logo = plt.imread('../img/LSASAF_Name_Colour.png')\n",
    "imagebox = OffsetImage(my_logo, zoom = 0.02)\n",
    "ab1 = AnnotationBbox(imagebox, (0.9, 0.05), xycoords=\"axes fraction\", frameon = True, zorder=6)\n"
   ]
  },
  {
   "cell_type": "markdown",
   "id": "f7b1e5a6-fb41-4090-a707-9e2182dc4f12",
   "metadata": {},
   "source": [
    "Matplotlib also allows to insert a scale bar in the map,using its [AnchoredSizeBar](https://matplotlib.org/stable/api/_as_gen/mpl_toolkits.axes_grid1.anchored_artists.AnchoredSizeBar.html) feature: "
   ]
  },
  {
   "cell_type": "code",
   "execution_count": null,
   "id": "ec8698f0-c5a3-4282-92ab-8e1c00cde587",
   "metadata": {},
   "outputs": [],
   "source": [
    "# choose the plot size (width x height, in inches)\n",
    "plt.figure(figsize=(10,10))\n",
    "\n",
    "# use the PlateCarree projection in cartopy\n",
    "ax1 = plt.axes(projection=ccrs.PlateCarree())\n",
    "\n",
    "# define the image extent\n",
    "img_extent = [lons.min(), lons.max(), lats.min(), lats.max()]\n",
    "\n",
    "\n",
    "# plot the image\n",
    "data = LST[0,:,:]\n",
    "\n",
    "img = ax1.imshow(data, vmin=-10, vmax=50, origin='upper', extent = img_extent, cmap=cmap,interpolation = 'None')\n",
    "\n",
    "\n",
    "# add some various map elements to the plot\n",
    "ax1.add_feature(cfeature.LAND)\n",
    "ax1.add_feature(cfeature.OCEAN)\n",
    "\n",
    "# add coastlines, borders and gridlines\n",
    "ax1.coastlines(resolution='50m', color='black', linewidth=0.5)\n",
    "ax1.add_feature(cartopy.feature.BORDERS, edgecolor='black', linewidth=0.4)\n",
    "gl = ax1.gridlines(crs=ccrs.PlateCarree(), color='gray', alpha=1.0, linestyle='--', linewidth=0.25, xlocs=np.arange(-180, 181, 20), ylocs=np.arange(-90, 91, 20), draw_labels=True)\n",
    "gl.top_labels = False\n",
    "gl.right_labels = False\n",
    "gl.xformatter=LONGITUDE_FORMATTER\n",
    "gl.yformatter=LATITUDE_FORMATTER\n",
    "\n",
    "ax1.add_artist(ab1)\n",
    "\n",
    "# add scale bar\n",
    "fontprops = fm.FontProperties(size=8)\n",
    "distance = 500\n",
    "scalebar = AnchoredSizeBar(ax1.transData, (distance / 111), str(distance) + ' km', loc='lower left', pad=0.25, color='black',\n",
    "                           frameon=True, label_top=True, sep=4, size_vertical=0.2, fontproperties=fontprops)\n",
    "ax1.add_artist(scalebar)\n",
    "\n",
    "# add a colorbar\n",
    "plt.colorbar(img, label='Land Surface Temperature - All Sky (°C)', extend='both', orientation='horizontal',\n",
    "             pad=0.05, fraction=0.04)\n",
    "\n",
    "# get the date\n",
    "date_str  = file.getncattr('time_coverage_start')\n",
    "date_format = '%Y-%m-%dT%H:%M:%SZ'\n",
    "date_obj = datetime.strptime(date_str, date_format)\n",
    "date = date_obj.strftime('%Y-%m-%d %H:%M:%S UTC')\n",
    "\n",
    "# add a title\n",
    "plt.title(f'MSG/SEVIRI -  LST - All Sky \\n{date}', fontweight='bold', fontsize=10, loc='left')\n",
    "plt.title('Autumn School 2025', fontsize=10, loc='right')\n",
    "\n",
    "# save the image\n",
    "plt.savefig('OUTPUT/image_LST-AS_4.png')\n",
    "\n",
    "# show the image\n",
    "plt.show()"
   ]
  },
  {
   "cell_type": "markdown",
   "id": "40ddb172-884f-4bd3-ae45-0ea2ea4d2b63",
   "metadata": {},
   "source": [
    "<hr>"
   ]
  },
  {
   "cell_type": "markdown",
   "id": "cb48d1dd-6d7e-4a1c-94e2-cf95f22955ee",
   "metadata": {},
   "source": [
    "<span style=float:center><img src='../img/LSASAF_Name_Colour.png' alt='LSA SAF' align='right' width='20%'></img>\n",
    "<span style=float:center><img src='../img/eumet_logo.png' alt='Eumetsat logo' align='center' width='20%'></img>"
   ]
  }
 ],
 "metadata": {
  "kernelspec": {
   "display_name": "Python [conda env:.conda-LSASAF_env_plus]",
   "language": "python",
   "name": "conda-env-.conda-LSASAF_env_plus-py"
  },
  "language_info": {
   "codemirror_mode": {
    "name": "ipython",
    "version": 3
   },
   "file_extension": ".py",
   "mimetype": "text/x-python",
   "name": "python",
   "nbconvert_exporter": "python",
   "pygments_lexer": "ipython3",
   "version": "3.10.15"
  }
 },
 "nbformat": 4,
 "nbformat_minor": 5
}
