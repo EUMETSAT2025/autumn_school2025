{
 "cells": [
  {
   "cell_type": "markdown",
   "id": "1c0129ba-1154-4333-b6b4-96c7d3df1880",
   "metadata": {},
   "source": [
    "<span style=float:center><img src='../img/LSASAF_Name_Colour.png' alt='CM SAF' align='right' width='20%'></img>\n",
    "<span style=float:center><img src='../img/eumet_logo.png' alt='Eumetsat logo' align='center' width='30%'></img>"
   ]
  },
  {
   "cell_type": "markdown",
   "id": "a3cd3651-e728-4984-b53e-3617729cc3ca",
   "metadata": {},
   "source": [
    "## <span style=\"color:blue\">**International Autumn School on Satellite Data Applications (2024)**</span>"
   ]
  },
  {
   "cell_type": "markdown",
   "id": "6440c990-ed64-486f-a64b-c8300f5037bd",
   "metadata": {},
   "source": [
    "**Copyright:** 2024 EUMETSAT <br>\n",
    "**License:** MIT <br>\n",
    "**Authors:** Antonio Vecoli **[vecoli@meeo.it]** (EUMETSAT/MEEO)"
   ]
  },
  {
   "cell_type": "markdown",
   "id": "c1684f3e-ed03-4bf0-9154-2b17c2866464",
   "metadata": {},
   "source": [
    "<div class=\"alert alert-block alert-success\">\n",
    "    <h3><b>Data Download</b></h3> </div>"
   ]
  },
  {
   "cell_type": "markdown",
   "id": "e15fbcb9-3e78-4ab4-a17a-89e8e4e0fc2f",
   "metadata": {},
   "source": [
    "<div class=\"alert alert-block alert-warning\">\n",
    "    \n",
    "<b>PREREQUISITES </b>\n",
    "    \n",
    "This notebook has the following requirement:\n",
    "  - **<a href=\"https://datalsasaf.lsasvcs.ipma.pt/\" target=\"_blank\">A LSA SAF Data Service account </a>** if you want to download one or more products from the LSA SAF datasets.\n",
    "\n",
    "    The registration page can be reached from the [**LSA SAF Home Page**](https://landsaf.ipma.pt/en/) where you can also find the complete catalogue describing all the available datasets.\n",
    "\n",
    "There are no prerequisite modules for this notebook.\n",
    "</div>\n",
    "<hr>"
   ]
  },
  {
   "cell_type": "markdown",
   "id": "aee2e02f-6ee1-4d35-b181-e2b02e439c53",
   "metadata": {},
   "source": [
    "<span style=float:center><img src='../img/lsasaf_msg_mlst-as_msg-disk.png' alt='CMSAF' align='right' width='25%'></img>\n",
    "</span> \n",
    "\n",
    "# **1 - How to download an LSA SAF product**:\n",
    "## **the example of MSG Land Surface Temperature(LST) All-Sky** "
   ]
  },
  {
   "cell_type": "markdown",
   "id": "7d0a396a-ab73-4ae3-a191-f055f46f2649",
   "metadata": {},
   "source": [
    "### Data used"
   ]
  },
  {
   "cell_type": "markdown",
   "id": "41e10d04-f3f2-4055-b2c4-a5af553efffa",
   "metadata": {},
   "source": [
    "|Product name| **Product Description**                    | Area | Spat. Resolution (degrees) |Temp. Coverage|Temp. Resolution | Data Access|\n",
    "|:--------------------------------------------:|:----:|:---:|:---:|:---:|:---:|:---:|\n",
    "|<span style=\"color:blue\">**MLST-AS [LSA-005]**</span>|<span style=\"color:blue\">**MSG Land Surface Temperature - All Sky**</span>|<span style=\"color:blue\">**MSG Disk**</span>|**0.05x0.05**|<span style=\"color:blue\">**2020 - NRT**</span>|<span style=\"color:blue\">**30 min**</span> |[**link**](https://datalsasaf.lsasvcs.ipma.pt/PRODUCTS/MSG/MLST-AS/)|"
   ]
  },
  {
   "cell_type": "markdown",
   "id": "96fab4fe-6fd9-4a40-a0c1-ecfe5bbe36f7",
   "metadata": {},
   "source": [
    "### **Introduction**\n",
    "\n",
    "This Jupyter notebook will guide you step by step into the operations  needed to select and then download a product for a specific dataset included in the catalogue that is available in the [**LSA SAF Home Page**](https://landsaf.ipma.pt/en/). The registration to the **LSA SAF Data Service** will allow you to explore all the datasets and choose the temporal period of interest. Then, with your LSA SAF credentials you will be able to download the product directly in this Jupyter environment where you can open, process and visualize the retrieved data."
   ]
  },
  {
   "cell_type": "markdown",
   "id": "1fa70211-9e92-4041-9f8a-6befa026dc69",
   "metadata": {},
   "source": [
    "### **Outline**\n",
    "\n",
    "* [**1.1 - Browsing the LSA SAF catalogue**](#browse)\n",
    "* [**1.2 - Accessing the LSA SAF Data Service**](#service) \n",
    "* [**1.3 - Downloading the product**](#download)"
   ]
  },
  {
   "cell_type": "markdown",
   "id": "d4185ed1-041e-4139-bf25-1119802dd3a6",
   "metadata": {},
   "source": [
    "<hr>"
   ]
  },
  {
   "cell_type": "markdown",
   "id": "1468504b-a5c1-4b8e-8fa5-dc7024dd5a87",
   "metadata": {},
   "source": [
    "#### **Importing required libraries**"
   ]
  },
  {
   "cell_type": "code",
   "execution_count": 1,
   "id": "b53b9009-9fa8-4801-a7d5-761041f61d8d",
   "metadata": {},
   "outputs": [],
   "source": [
    "import os  #library to use functionalities of the operating system:\n",
    "#           in particular, to run command line instruction inside the code cells\n",
    "#           of the notebook"
   ]
  },
  {
   "cell_type": "markdown",
   "id": "6c52bcbb-545c-40a0-9785-1c03dbc3db39",
   "metadata": {},
   "source": [
    "<hr>"
   ]
  },
  {
   "cell_type": "markdown",
   "id": "f639a17f-53b6-4302-9c5b-7df49aa68a6b",
   "metadata": {},
   "source": [
    "### <a id=\"browse\"></a>**1.1 - Browsing the LSA SAF catalogue**"
   ]
  },
  {
   "cell_type": "markdown",
   "id": "eba4f82e-0554-4713-ab62-a5c34be32a7f",
   "metadata": {},
   "source": [
    "<span style=float:center><img src='../img/EUM_school_1.png' alt='Products' align='right' width='60%'></img>\n",
    "</span>\n",
    "\n",
    "The LSA SAF home page provides a dedicated <span style=\"color:blue\">**Products**</span> section where the available datasets are grouped in 6 specific thematic areas. You can find this section at the following link: [**https://landsaf.ipma.pt/en/data/products/**](https://landsaf.ipma.pt/en/data/products/)\n",
    "\n",
    "Each of the areas provides a short description of the related datasets and the links to the data sources.\n",
    "\n",
    "For the example in this notebook you should look at the **Land Surface Temperature, Land Surface Emissivity** section where you will find details about the **LST All Sky** dataset, including its official name <span style=\"color:red\">**MLST-AS [LSA-005]**</span>  which will be useful to search for its products in the Data Access Service."
   ]
  },
  {
   "cell_type": "markdown",
   "id": "68654047-1b75-4e8b-a38a-9cbf1c791a26",
   "metadata": {},
   "source": [
    "<hr>"
   ]
  },
  {
   "cell_type": "markdown",
   "id": "a8eca400-d004-4426-a5dc-57ecee1433f9",
   "metadata": {},
   "source": [
    "### <a id=\"service\"></a>**1.2 - Accessing the LSA SAF Data Service**"
   ]
  },
  {
   "cell_type": "markdown",
   "id": "89784f2e-ca89-45a7-b2ae-f03710d33a78",
   "metadata": {},
   "source": [
    "<span style=float:center><img src='../img/EUM_school_2.jpg' alt='Products' align='right' width='60%'></img>\n",
    "</span>\n",
    "\n",
    "As you should already have completed the registration process for the LSA SAF Data Service, you should have received the credentials that will allow you to enter the **Data Archive** from the following page:\n",
    "\n",
    "[**https://datalsasaf.lsasvcs.ipma.pt/**](https://datalsasaf.lsasvcs.ipma.pt/)\n",
    "\n",
    "\n",
    "Here you will also find the link to a <span style=\"color:red\">**User Guide**</span> which provides explanations and code about how to access the data with multiple approaches. "
   ]
  },
  {
   "cell_type": "markdown",
   "id": "0a525dcf-b8a9-45ca-b6bb-1a7c641f7989",
   "metadata": {},
   "source": [
    "<hr>"
   ]
  },
  {
   "cell_type": "markdown",
   "id": "ae122f37-4cac-43f1-b526-cc5e55bcf796",
   "metadata": {},
   "source": [
    "### <a id=\"download\"></a>**1.3 - Downloading the product**"
   ]
  },
  {
   "cell_type": "markdown",
   "id": "5c0bc977-bfa4-4862-94b2-0b059464529a",
   "metadata": {},
   "source": [
    "In this example you will see how it is possible to download a single product using the **Wget** instruction and for this reason it is necessary to obtain the URL associated to the product. All the products have the same spatial coverage( the **MSG Disk**) so once you will have selected a dataset, the only variable that can change is the temporal one.\n",
    "\n",
    "We have already retrieved the official name of the LST All Sky dataset so you can now search for products in the Data Archive, starting from the following page:\n",
    "\n",
    "[**https://datalsasaf.lsasvcs.ipma.pt/PRODUCTS/MSG/MLST-AS/NETCDF/**](https://datalsasaf.lsasvcs.ipma.pt/PRODUCTS/MSG/MLST-AS/NETCDF/)\n",
    "\n",
    "<span style=float:center><img src='../img/EUM_school_3.jpg' alt='Products' align='center' width='80%'></img>\n",
    "</span>"
   ]
  },
  {
   "cell_type": "markdown",
   "id": "ec47db96-47d5-4689-a86a-131aaae7227c",
   "metadata": {},
   "source": [
    "The path to find the LST All-Sky products is defined on top of the page and for this example the 9 of October 2023 has been selected:\n",
    "\n",
    "`https://datalsasaf.lsasvcs.ipma.pt/PRODUCTS/MSG/MLST-AS/NETCDF/2023/10/09/`\n",
    "\n",
    "You can browse the dataset by yourself by changing the date and even the specific time.\n",
    "\n",
    "The resulting page provides all the available products for the selected day, with a frequency of 30 minutes. If the time of the choice is 12.30, then it is possible to retrieve the corresponding URL with a right-click on the selected link.\n",
    "For our purpose we will store this link in a python string:"
   ]
  },
  {
   "cell_type": "code",
   "execution_count": 2,
   "id": "24c547a1-a7aa-452c-b9d5-5db47019e932",
   "metadata": {},
   "outputs": [],
   "source": [
    "link = 'https://datalsasaf.lsasvcs.ipma.pt/PRODUCTS/MSG/MLST-ASv2/NETCDF/2024/09/16/NETCDF4_LSASAF_MSG_MLST-ASv2_MSG-Disk_202409161400.nc'"
   ]
  },
  {
   "cell_type": "markdown",
   "id": "3b343d48-7635-4084-bcdb-8cf69dc5c2d2",
   "metadata": {},
   "source": [
    "<span style=\"color:red\">**IMPORTANT:**</span> the Data Service provides all the products both in **NetCDF** and **HDF**, and it has been decided to work with the NetCDF version to avoid complicated conversions and  because Python makes available effective and easy-to-use libraries to work with that format."
   ]
  },
  {
   "cell_type": "markdown",
   "id": "e5187eb0-1e4c-48af-9797-048068b8841a",
   "metadata": {},
   "source": [
    "Now to implement the download operation you need to define the following variables:"
   ]
  },
  {
   "cell_type": "code",
   "execution_count": 3,
   "id": "2a5b7a44-847e-44fe-82dc-889494bf290f",
   "metadata": {},
   "outputs": [],
   "source": [
    "username = 'USERNAME' #username of the Data Service account\n",
    "password = 'PASSWORD' #password of the Data Service account\n",
    "dest_folder = 'TYPE THE RELATIVE PATH OF THE DESTINATION FOLDER'  # folder where the product will be downloaded"
   ]
  },
  {
   "cell_type": "code",
   "execution_count": 4,
   "id": "2b868a9e-7120-4acd-8ac4-015a77782afe",
   "metadata": {},
   "outputs": [],
   "source": [
    "username = '' #username of the Data Service account\n",
    "password = '' #password of the Data Service account\n",
    "dest_folder = 'data/'  # folder where the product will be downloaded"
   ]
  },
  {
   "cell_type": "markdown",
   "id": "91a74249-e2ad-4703-9195-6d34363b15ce",
   "metadata": {},
   "source": [
    "The link to product has already been retrieved, so the final instruction to be executed can be defined:"
   ]
  },
  {
   "cell_type": "code",
   "execution_count": 5,
   "id": "cc1e602c-3109-4959-9e45-7960031b6d1c",
   "metadata": {},
   "outputs": [
    {
     "data": {
      "text/plain": [
       "'wget -c --no-check-certificate      --user=carlabarroso22 --password=carlabarroso24# -P data/ https://datalsasaf.lsasvcs.ipma.pt/PRODUCTS/MSG/MLST-ASv2/NETCDF/2024/09/16/NETCDF4_LSASAF_MSG_MLST-ASv2_MSG-Disk_202409161400.nc'"
      ]
     },
     "execution_count": 5,
     "metadata": {},
     "output_type": "execute_result"
    }
   ],
   "source": [
    "instruction = 'wget -c --no-check-certificate \\\n",
    "     --user='+ username + ' --password='+password+ ' -P '+ dest_folder + ' '+ link\n",
    "\n",
    "instruction"
   ]
  },
  {
   "cell_type": "markdown",
   "id": "a0b40758-0298-4536-8d15-852fdf472f8e",
   "metadata": {},
   "source": [
    "and this is the function to run the download process:"
   ]
  },
  {
   "cell_type": "code",
   "execution_count": 6,
   "id": "95aa3cb6-e2c2-4405-b71d-7be3147e43d1",
   "metadata": {},
   "outputs": [
    {
     "name": "stderr",
     "output_type": "stream",
     "text": [
      "--2024-10-18 08:01:19--  https://datalsasaf.lsasvcs.ipma.pt/PRODUCTS/MSG/MLST-ASv2/NETCDF/2024/09/16/NETCDF4_LSASAF_MSG_MLST-ASv2_MSG-Disk_202409161400.nc\n",
      "Resolving datalsasaf.lsasvcs.ipma.pt (datalsasaf.lsasvcs.ipma.pt)... 193.137.20.109\n",
      "Connecting to datalsasaf.lsasvcs.ipma.pt (datalsasaf.lsasvcs.ipma.pt)|193.137.20.109|:443... connected.\n",
      "HTTP request sent, awaiting response... 401 Unauthorized\n",
      "Authentication selected: Basic realm=\"Restricted\"\n",
      "Connecting to datalsasaf.lsasvcs.ipma.pt (datalsasaf.lsasvcs.ipma.pt)|193.137.20.109|:443... connected.\n",
      "HTTP request sent, awaiting response... 200 OK\n",
      "Length: 3995361 (3.8M) [application/octet-stream]\n",
      "Saving to: ‘data/NETCDF4_LSASAF_MSG_MLST-ASv2_MSG-Disk_202409161400.nc’\n",
      "\n",
      "     0K .......... .......... .......... .......... ..........  1%  418K 9s\n",
      "    50K .......... .......... .......... .......... ..........  2%  826K 7s\n",
      "   100K .......... .......... .......... .......... ..........  3%  422K 7s\n",
      "   150K .......... .......... .......... .......... ..........  5%  839K 7s\n",
      "   200K .......... .......... .......... .......... ..........  6%  838K 6s\n",
      "   250K .......... .......... .......... .......... ..........  7% 56.7M 5s\n",
      "   300K .......... .......... .......... .......... ..........  8%  858K 5s\n",
      "   350K .......... .......... .......... .......... .......... 10%  142M 4s\n",
      "   400K .......... .......... .......... .......... .......... 11% 17.7M 4s\n",
      "   450K .......... .......... .......... .......... .......... 12% 91.3M 3s\n",
      "   500K .......... .......... .......... .......... .......... 14%  899K 3s\n",
      "   550K .......... .......... .......... .......... .......... 15% 30.2M 3s\n",
      "   600K .......... .......... .......... .......... .......... 16%  313M 3s\n",
      "   650K .......... .......... .......... .......... .......... 17% 23.3M 2s\n",
      "   700K .......... .......... .......... .......... .......... 19%  183M 2s\n",
      "   750K .......... .......... .......... .......... .......... 20%  328M 2s\n",
      "   800K .......... .......... .......... .......... .......... 21%  248M 2s\n",
      "   850K .......... .......... .......... .......... .......... 23%  299M 2s\n",
      "   900K .......... .......... .......... .......... .......... 24%  314M 2s\n",
      "   950K .......... .......... .......... .......... .......... 25%  918K 2s\n",
      "  1000K .......... .......... .......... .......... .......... 26%  112M 2s\n",
      "  1050K .......... .......... .......... .......... .......... 28% 11.5M 2s\n",
      "  1100K .......... .......... .......... .......... .......... 29%  387M 1s\n",
      "  1150K .......... .......... .......... .......... .......... 30%  263M 1s\n",
      "  1200K .......... .......... .......... .......... .......... 32%  278M 1s\n",
      "  1250K .......... .......... .......... .......... .......... 33%  341M 1s\n",
      "  1300K .......... .......... .......... .......... .......... 34%  317M 1s\n",
      "  1350K .......... .......... .......... .......... .......... 35%  339M 1s\n",
      "  1400K .......... .......... .......... .......... .......... 37%  161M 1s\n",
      "  1450K .......... .......... .......... .......... .......... 38% 17.5M 1s\n",
      "  1500K .......... .......... .......... .......... .......... 39%  198M 1s\n",
      "  1550K .......... .......... .......... .......... .......... 41%  348M 1s\n",
      "  1600K .......... .......... .......... .......... .......... 42%  295M 1s\n",
      "  1650K .......... .......... .......... .......... .......... 43%  376M 1s\n",
      "  1700K .......... .......... .......... .......... .......... 44%  297M 1s\n",
      "  1750K .......... .......... .......... .......... .......... 46%  375M 1s\n",
      "  1800K .......... .......... .......... .......... .......... 47% 1010K 1s\n",
      "  1850K .......... .......... .......... .......... .......... 48% 97.0M 1s\n",
      "  1900K .......... .......... .......... .......... .......... 49% 80.7M 1s\n",
      "  1950K .......... .......... .......... .......... .......... 51%  189M 1s\n",
      "  2000K .......... .......... .......... .......... .......... 52% 97.2M 1s\n",
      "  2050K .......... .......... .......... .......... .......... 53% 16.5M 1s\n",
      "  2100K .......... .......... .......... .......... .......... 55% 45.0M 1s\n",
      "  2150K .......... .......... .......... .......... .......... 56%  279M 1s\n",
      "  2200K .......... .......... .......... .......... .......... 57%  156M 0s\n",
      "  2250K .......... .......... .......... .......... .......... 58%  103M 0s\n",
      "  2300K .......... .......... .......... .......... .......... 60%  104M 0s\n",
      "  2350K .......... .......... .......... .......... .......... 61% 46.5M 0s\n",
      "  2400K .......... .......... .......... .......... .......... 62%  215M 0s\n",
      "  2450K .......... .......... .......... .......... .......... 64%  288M 0s\n",
      "  2500K .......... .......... .......... .......... .......... 65% 93.1M 0s\n",
      "  2550K .......... .......... .......... .......... .......... 66%  216M 0s\n",
      "  2600K .......... .......... .......... .......... .......... 67% 58.8M 0s\n",
      "  2650K .......... .......... .......... .......... .......... 69%  239M 0s\n",
      "  2700K .......... .......... .......... .......... .......... 70% 91.8M 0s\n",
      "  2750K .......... .......... .......... .......... .......... 71% 47.8M 0s\n",
      "  2800K .......... .......... .......... .......... .......... 73%  224M 0s\n",
      "  2850K .......... .......... .......... .......... .......... 74% 21.6M 0s\n",
      "  2900K .......... .......... .......... .......... .......... 75%  243M 0s\n",
      "  2950K .......... .......... .......... .......... .......... 76%  262M 0s\n",
      "  3000K .......... .......... .......... .......... .......... 78%  263M 0s\n",
      "  3050K .......... .......... .......... .......... .......... 79%  298M 0s\n",
      "  3100K .......... .......... .......... .......... .......... 80%  337M 0s\n",
      "  3150K .......... .......... .......... .......... .......... 82%  201M 0s\n",
      "  3200K .......... .......... .......... .......... .......... 83% 92.1M 0s\n",
      "  3250K .......... .......... .......... .......... .......... 84%  114M 0s\n",
      "  3300K .......... .......... .......... .......... .......... 85%  117M 0s\n",
      "  3350K .......... .......... .......... .......... .......... 87% 78.2M 0s\n",
      "  3400K .......... .......... .......... .......... .......... 88%  188M 0s\n",
      "  3450K .......... .......... .......... .......... .......... 89% 93.5M 0s\n",
      "  3500K .......... .......... .......... .......... .......... 90%  105M 0s\n",
      "  3550K .......... .......... .......... .......... .......... 92% 1.53M 0s\n",
      "  3600K .......... .......... .......... .......... .......... 93% 5.50M 0s\n",
      "  3650K .......... .......... .......... .......... .......... 94%  128M 0s\n",
      "  3700K .......... .......... .......... .......... .......... 96% 92.2M 0s\n",
      "  3750K .......... .......... .......... .......... .......... 97%  126M 0s\n",
      "  3800K .......... .......... .......... .......... .......... 98% 81.9M 0s\n",
      "  3850K .......... .......... .......... .......... .......... 99%  163M 0s\n",
      "  3900K .                                                     100% 3.20T=0.7s\n",
      "\n",
      "2024-10-18 08:01:20 (5.32 MB/s) - ‘data/NETCDF4_LSASAF_MSG_MLST-ASv2_MSG-Disk_202409161400.nc’ saved [3995361/3995361]\n",
      "\n"
     ]
    },
    {
     "data": {
      "text/plain": [
       "0"
      ]
     },
     "execution_count": 6,
     "metadata": {},
     "output_type": "execute_result"
    }
   ],
   "source": [
    "os.system(instruction)"
   ]
  },
  {
   "cell_type": "markdown",
   "id": "a446bdac-0a47-4bb7-af1c-a306398668a6",
   "metadata": {},
   "source": [
    "At the end of the operation, if the output value is **0** then the process has been successful.\n",
    "You have then downlodaded a single LST All-Sky product in your jupyter environment."
   ]
  },
  {
   "cell_type": "markdown",
   "id": "acbbb7d6-f28e-433d-b825-25f641d9148e",
   "metadata": {},
   "source": [
    "<hr>"
   ]
  },
  {
   "cell_type": "markdown",
   "id": "a76a0009-6f0e-4876-bbc5-8b3125585569",
   "metadata": {},
   "source": [
    "<span style=float:center><img src='../img/LSASAF_Name_Colour.png' alt='LSA SAF' align='right' width='20%'></img>\n",
    "<span style=float:center><img src='../img/eumet_logo.png' alt='Eumetsat logo' align='center' width='20%'></img>"
   ]
  },
  {
   "cell_type": "code",
   "execution_count": null,
   "id": "30aa9e35-f9dc-4662-9ef4-94199c14ad58",
   "metadata": {},
   "outputs": [],
   "source": []
  }
 ],
 "metadata": {
  "kernelspec": {
   "display_name": "Python [conda env:LSASAF_env]",
   "language": "python",
   "name": "conda-env-LSASAF_env-py"
  },
  "language_info": {
   "codemirror_mode": {
    "name": "ipython",
    "version": 3
   },
   "file_extension": ".py",
   "mimetype": "text/x-python",
   "name": "python",
   "nbconvert_exporter": "python",
   "pygments_lexer": "ipython3",
   "version": "3.10.15"
  }
 },
 "nbformat": 4,
 "nbformat_minor": 5
}
