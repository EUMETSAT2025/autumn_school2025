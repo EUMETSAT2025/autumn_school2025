{
 "cells": [
  {
   "cell_type": "markdown",
   "metadata": {
    "Collapsed": "false"
   },
   "source": [
    "<img src='../img/banner.png' align='right' width='100%'></img>"
   ]
  },
  {
   "cell_type": "markdown",
   "metadata": {},
   "source": [
    "<div class=\"alert alert-block alert-success\">\n",
    "<b>PREREQUISITE </b>\n",
    "\n",
    "* It is expected for user to be familiar with Python. \n",
    "* It is expected, that **MLST-ASv2** product data is downloaded from [LSA-SAF data server](https://datalsasaf.lsasvcs.ipma.pt/PRODUCTS/MSG/MLST-ASv2/NETCDF/2022/) in `NetCDF4` format for July and August 2022 and saved locally.\n",
    "\n",
    "</div>"
   ]
  },
  {
   "cell_type": "markdown",
   "metadata": {
    "Collapsed": "false"
   },
   "source": [
    "<hr>"
   ]
  },
  {
   "cell_type": "markdown",
   "metadata": {},
   "source": [
    "# Comparison Between LSA-SAF MLST-ASv2 and Air Temperature Measurements"
   ]
  },
  {
   "cell_type": "markdown",
   "metadata": {},
   "source": [
    "#### About \n"
   ]
  },
  {
   "cell_type": "markdown",
   "metadata": {},
   "source": [
    "LSA-SAF Land Surface Temperature - All Sky Version 2 product ([MLST-ASv2](https://lsa-saf.eumetsat.int/en/data/products/land-surface-temperature-and-emissivity/)) is an estimate for the temperature of the ground surface produced using data from the MSG satellite. In meteorology, the measurement of air temperature at 2 m height in a [Stevenson screen](https://en.wikipedia.org/wiki/Stevenson_screen) (an instrument shelter) is traditionally used.\n",
    "\n",
    "Land surface temperature (LST) is related to the air temperature (at 2 m), but the exact relationship is rather complicated. In this notebook, we try to illustrate this relation, rather than precisely investigate it. We decided to use the LSA SAF MLST-ASv2 product instead of the LSA SAF Land Surface Temperature product (MLST) since LSA SAF MLST-ASv2 estimates LST even in cloudy conditions.\n",
    "\n",
    "Air temperature is measured at a limited number of in-situ meteorological stations. On the contrary, the satellite measurements conducted by the Meteosat Second Generation satellite (MSG) provide gridded data on a full disk.\n",
    "\n",
    "The area covered by a single pixel typically does not have uniform distribution as the temperature is greatly affected by land cover, altitude, etc. Examples of heterogeneous pixels can be urbanized areas and geographically diverse areas (mountains, hills, different types of vegetation, etc.).\n",
    "\n",
    "Knowing the exact relationship between air temperature and satellite based LST would have numerous useful applications. There are several methodologies to find the relationship between air temperature and LST. For example, there is both a seasonal dependency ([Noserikia et al., 2023](https://doi.org/10.1016/j.scitotenv.2023.167306)) and a major land cover dependency ([do Nascimento et al., 2022](https://doi.org/10.3390/atmos13030491)).\n",
    "\n",
    "In this notebook, we aim to demonstrate the differences between LST from MLST-ASv2, and air temperature measured at 2 m height in Stevenson screen."
   ]
  },
  {
   "cell_type": "markdown",
   "metadata": {},
   "source": [
    "#### How to Access the Data\n",
    "\n",
    "For this example, MLST-ASv2 measurements from July 1, 2022, to August 31, 2022, are used. All measurements are available as `NetCDF4` as well as `HDF5` files, but only the former will be used here. The LSA SAF products files can be downloaded from the [data server](https://datalsasaf.lsasvcs.ipma.pt/PRODUCTS/) available at https://datalsasaf.lsasvcs.ipma.pt/ with prior registration.\n",
    "Data can be downloaded in various ways [tutorial](https://lsa-saf.eumetsat.int/en/user-support/tutorials/) , for instance manually, using approach published on [lsasaf_data_access GitLab](https://gitlab.com/helpdesk.landsaf/lsasaf_data_access/-/blob/main/examples/webdav/webdav_colab_example.ipynb) repository or using [WebDAV protocol](https://gitlab.com/helpdesk.landsaf/lsasaf_data_access/-/wikis/data/webdav). An additional option is to use the `GNU Wget` program. [wget example](01_MLST_plot_NetCDF4.ipynb#wget)\n",
    "\n",
    "Measurements of the air temperature are attached to this notebook in `.csv` format. They are publicly available on the Slovenian Environmental Agency (ARSO) [data archive](http://www.meteo.si/met/sl/archive/). The data access is described in video tutorials [1](https://www.youtube.com/watch?v=RCV4mdjevS0), [2](https://www.youtube.com/watch?v=MzSnSy34Dbw) and [3](https://www.youtube.com/watch?v=CPcSwqnTu2w)."
   ]
  },
  {
   "cell_type": "markdown",
   "metadata": {},
   "source": [
    "#### Basic Facts on the LSA SAF MLST-ASv2 \n",
    "\n",
    " > **Spatial resolution**: 3km at nadir \n",
    " >\n",
    " > **Spatial coverage**: MSG disk \n",
    " >\n",
    " > **Time steps**: 30 min  \n",
    " >\n",
    " > **Data availability**: from 2004"
   ]
  },
  {
   "cell_type": "markdown",
   "metadata": {
    "Collapsed": "false"
   },
   "source": [
    "#### Module Outline:\n",
    "* [1 - Preparing the Data](#First)\n",
    "* [2 - Plotting the Measurements](#Second)\n",
    "* [3 - Comparison](#Third)\n",
    "* [4 - Conclusion](#Fourth)"
   ]
  },
  {
   "cell_type": "markdown",
   "metadata": {},
   "source": [
    "#### Load Required Libraries"
   ]
  },
  {
   "cell_type": "code",
   "execution_count": null,
   "metadata": {},
   "outputs": [],
   "source": [
    "import matplotlib.pyplot as plt     # a library that provides plotting capability\n",
    "import datetime as dt               # a library that allows us to work with dates and times\n",
    "import xarray as xr                 # a library that helps us work efficiently with multidimensional arrays with\n",
    "import numpy as np                  # a library that lets us work with arrays\n",
    "import pandas as pd                 # a library for time series analysis\n",
    "\n",
    "# Set the matplotlib backend to inline\n",
    "%matplotlib inline\n",
    "\n",
    "# Set the default figure size\n",
    "plt.rcParams['figure.figsize'] = [13, 8]"
   ]
  },
  {
   "cell_type": "markdown",
   "metadata": {},
   "source": [
    "### <a id='First'></a>1. Preparing the Data"
   ]
  },
  {
   "cell_type": "markdown",
   "metadata": {},
   "source": [
    "Air temperature was measured by the Slovenian Environmental Agency (ARSO) in the summer of 2022. The data was obtained from the automated meteorological weather station in Ljubljana, located at 46.0655° N, 14.5124° E at an elevation of 299 m. Measurements are recorded every 10 min.\n",
    "\n",
    "The in-situ meteorological station in Ljubljana is located within an urbanized area on an open grass-covered area with dimensions 50 m x 50 m and is surrounded by urbanized areas."
   ]
  },
  {
   "cell_type": "markdown",
   "metadata": {},
   "source": [
    "The air temperature measurements are imported from a `.csv` file `03_AIR_T_2m.csv` with columns `time` and `temperature`. Measurements are imported as `pandas.DataSet` and `pd.to_datetime()` is used to change time entry from `string` to `DateTime` object."
   ]
  },
  {
   "cell_type": "code",
   "execution_count": null,
   "metadata": {},
   "outputs": [],
   "source": [
    "# Load air temperature measurements\n",
    "air_2=pd.read_csv(\"stationdata/03_AIR_T_2m.csv\",sep=\",\")\n",
    "\n",
    "# Change time from string to datetime\n",
    "air_2[\"time\"]=pd.to_datetime(air_2[\"time\"], errors=\"coerce\")\n",
    "\n",
    "# Show the dataset\n",
    "print(air_2)"
   ]
  },
  {
   "cell_type": "markdown",
   "metadata": {},
   "source": [
    "Before loading the MLST-ASv2 data we define the dates and area of interest.\n",
    "In this case, we are extracting only a single pixel, the center from which is the closest to the meteorological station in Ljubljana."
   ]
  },
  {
   "cell_type": "code",
   "execution_count": null,
   "metadata": {},
   "outputs": [],
   "source": [
    "# Start and end dates are defined\n",
    "start_date=dt.datetime(2022, 7, 1)\n",
    "end_date=dt.datetime(2022, 7, 10)\n",
    "\n",
    "# List of DateTime objects for measurements is defined\n",
    "date_range=pd.date_range(start_date,end_date-dt.timedelta(minutes=30),freq='30T')\n",
    "\n",
    "# Location is defined\n",
    "Ljubljana_lat=46.0655\n",
    "Ljubljana_lon=14.5124"
   ]
  },
  {
   "cell_type": "markdown",
   "metadata": {},
   "source": [
    "In the next step, we extract only values of the pixel, that is nearest to the location of the interest, by using `method=\"nearest\"`.\n",
    "We append only the valid `datetime` objects without missing data to the list of dates.\n",
    "\n",
    "Then we load the data from the NetCDF4 files. The slow load is used when the `xarray` dataset is first defined and only the values matching pre-defined coordinates are actually loaded into memory."
   ]
  },
  {
   "cell_type": "code",
   "execution_count": null,
   "metadata": {},
   "outputs": [],
   "source": [
    "# Create an empty list\n",
    "LSA_SAF_temperature=np.empty(0)\n",
    "LSA_SAF_date=[]\n",
    "\n",
    "\n",
    "# Loop over the dates of interest\n",
    "for i, time in enumerate(date_range):        \n",
    "        try:\n",
    "                # Define dataset\n",
    "                LSA_SAF_ds=xr.open_dataset(\"../data/lst/NETCDF4_LSASAF_MSG_MLST-ASv2_MSG-Disk_\"\n",
    "                                        +str(\"{:02d}\".format(date_range[i].year))\n",
    "                                        +str(\"{:02d}\".format(date_range[i].month))\n",
    "                                        +str(\"{:02d}\".format(date_range[i].day))\n",
    "                                        +str(\"{:02d}\".format(date_range[i].hour))\n",
    "                                        +str(\"{:02d}\".format(date_range[i].minute))\n",
    "                                        +\".nc\")\n",
    "               \n",
    "                # Load and append the desired data point\n",
    "                LSA_SAF_temperature=np.append(\n",
    "                                        LSA_SAF_temperature,\n",
    "                                        LSA_SAF_ds.sel(lat=[Ljubljana_lat], lon=[Ljubljana_lon], method=\"nearest\")['MLST-AS'].load().values[0]\n",
    "                                         )     \n",
    "                # Append the measurement time\n",
    "                LSA_SAF_date.append(date_range[i])\n",
    "\n",
    "                # Close dataset to free the memory\n",
    "                LSA_SAF_ds.close()\n",
    "\n",
    "        # In case loading was not successful\n",
    "        except:\n",
    "                print(\"Missing value: \"+str(date_range[i]))"
   ]
  },
  {
   "cell_type": "markdown",
   "metadata": {},
   "source": [
    "### <a id='Second'></a>2. Plotting the Measurements"
   ]
  },
  {
   "cell_type": "markdown",
   "metadata": {},
   "source": [
    "In this step, we plot both measurements using plot method from matplotlib library. We can limit the range on the x-axis using the `xlim` to plot only the measurements for a certain time period, in this case, one week."
   ]
  },
  {
   "cell_type": "code",
   "execution_count": null,
   "metadata": {},
   "outputs": [],
   "source": [
    "# Font and figure sizes are defined\n",
    "fontsize=14\n",
    "fig=plt.figure()\n",
    "\n",
    "# The air temperature measurements are plotted\n",
    "plt.plot(air_2[\"time\"].to_numpy(),\n",
    "         air_2[\"temperature\"].to_numpy(),\n",
    "         label=\"Air 2.00 m\",\n",
    "         color=\"blue\",\n",
    "         linestyle='dashed')\n",
    "\n",
    "\n",
    "# LSA-SAF MLST-ASv2 measurements are plotted\n",
    "plt.plot(LSA_SAF_date,\n",
    "         LSA_SAF_temperature,\n",
    "         label=\"LSA-SAF MLST-ASv2\",\n",
    "         color=\"red\"\n",
    "         )\n",
    "\n",
    "# Set plot limits\n",
    "plt.xlim(pd.Timestamp('2022-07-01'), pd.Timestamp('2022-07-10'))\n",
    "plt.ylim(10,45)\n",
    "\n",
    "#Set grid and ticks\n",
    "plt.grid()\n",
    "plt.xlabel('Date')\n",
    "plt.ylabel('Temperature [˚C]')\n",
    "\n",
    "# Add legend\n",
    "plt.legend(fontsize=fontsize)\n",
    "\n",
    "plt.title('LSA SAF MLST-ASv2 vs Air temperature \\n Location: Ljubljana Bežigrad')\n",
    "\n",
    "# To save figure uncomment line bellow.\n",
    "plt.savefig(\"OUTPUT/LSA_SAF_MLST-ASv2_comparison.png\")"
   ]
  },
  {
   "cell_type": "markdown",
   "metadata": {},
   "source": [
    "### <a id='Third'></a>3. Comparison\n",
    "\n",
    "From the figure, we are able to observe that LST and air temperature are correlated, although there might be some phase shifts due to different thermal capacities of land and gas. Air temperature is shifted slightly in time behind LST.\n",
    "Additionally we can observe that land surface is more sensitive to radiative warming and cooling which results in higher amplitudes as well as greater temperature gradients."
   ]
  },
  {
   "cell_type": "markdown",
   "metadata": {},
   "source": [
    "### <a id='Fourth'></a>4. Conclusion\n",
    "\n",
    "With this notebook, we demonstrate the differences among LST from MLST-ASv2 and air temperature at 2 m. Loading and exploration of MLST-ASv2 and in-situ measurements is accomplished with Python. Presented are time series of temperature from two different sources (satellite and in-situ)."
   ]
  },
  {
   "cell_type": "markdown",
   "metadata": {},
   "source": [
    "#### References:\n",
    "\n",
    "* Nadbath M. (2008). Meteorološka postaja Ljubljana Bežigrad, Naše Okolje, special edition. [https://meteo.arso.gov.si/uploads/probase/www/climate/text/sl/stations/ljubljana-bezigrad.pdf](https://meteo.arso.gov.si/uploads/probase/www/climate/text/sl/stations/ljubljana-bezigrad.pdf). Accessed: 19.12.2023.    \n",
    "\n",
    "* do Nascimento A.C.L., Galvani, E., Gobo, J.P.A., et al. (2022) Comparison between Air Temperature and Land Surface Temperature for the City of São Paulo, Brazil. Atmosphere. [https://doi.org/10.3390/atmos13030491](https://doi.org/10.3390/atmos13030491). Accessed: 19.12.2023.\n",
    "\n",
    "* Naserikia M., Hart M., Nazarian N., et al. (2023) Land surface and air temperature dynamics: The role of urban form and seasonality. Sci. of the Tot. Environment. [https://doi.org/10.1016/j.scitotenv.2023.167306](https://doi.org/10.1016/j.scitotenv.2023.167306) Accessed: 19.12.2023."
   ]
  }
 ],
 "metadata": {
  "author": "Vid Primožič, Ahac Pazlar, Boštjan Muri",
  "description": "This Jupyter Notebook presents the analysis of the LSA SAF MLST-ASv2 product and its comparison with the in-situ measurements of the air temperature at 2m. LSA SAF MLST-ASv2 product is an estimate for land surface temperature, based on the observations of the Meteosat Second Generation satellite. ",
  "image": "../img/lst_2_thumbnaill.png",
  "kernelspec": {
   "display_name": "LSASAF_env_plus",
   "language": "python",
   "name": "lsasaf_env_plus"
  },
  "language_info": {
   "codemirror_mode": {
    "name": "ipython",
    "version": 3
   },
   "file_extension": ".py",
   "mimetype": "text/x-python",
   "name": "python",
   "nbconvert_exporter": "python",
   "pygments_lexer": "ipython3",
   "version": "3.10.15"
  },
  "services": {
   "eumetsat": {
    "git": {
     "link": "https://gitlab.eumetsat.int/eumetlab/atmosphere/atmosphere/-/blob/master/name.ipynb",
     "service_contact": "training@eumetsat.int",
     "service_provider": "EUMETSAT"
    },
    "jupyter": {
     "link": "https://ltpy.adamplatform.eu/hub/user-redirect/lab/tree",
     "service_contact": "ltpy@meeo.it",
     "service_provider": "MEEO s.r.l"
    }
   }
  },
  "tags": {
   "domain": "Land",
   "service": "",
   "subtheme": "subtheme",
   "tags": ""
  },
  "title": "Comparison Between LSA-SAF MLST-ASv2 and Air Temperature Measurements"
 },
 "nbformat": 4,
 "nbformat_minor": 4
}
