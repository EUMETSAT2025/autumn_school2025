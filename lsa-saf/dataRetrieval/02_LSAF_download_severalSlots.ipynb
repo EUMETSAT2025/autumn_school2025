{
 "cells": [
  {
   "cell_type": "markdown",
   "id": "1c0129ba-1154-4333-b6b4-96c7d3df1880",
   "metadata": {},
   "source": [
    "<span style=float:center><img src='../img/LSASAF_Name_Colour.png' alt='LSA SAF' align='right' width='20%'></img>\n",
    "<span style=float:center><img src='../img/eumet_logo.png' alt='Eumetsat logo' align='center' width='30%'></img>"
   ]
  },
  {
   "cell_type": "markdown",
   "id": "a3cd3651-e728-4984-b53e-3617729cc3ca",
   "metadata": {},
   "source": [
    "## <span style=\"color:blue\">**International Autumn School on Satellite Data Applications (2025)**</span>"
   ]
  },
  {
   "cell_type": "markdown",
   "id": "6440c990-ed64-486f-a64b-c8300f5037bd",
   "metadata": {},
   "source": [
    "**Copyright:** 2024 EUMETSAT <br>\n",
    "**License:** MIT <br>\n",
    "**Authors:** Antonio Vecoli **[vecoli@meeo.it]** (EUMETSAT/MEEO)<br>\n",
    "**Modified:** Carla Barroso **[carlabarroso@eumetsat.int]** (EUMETSAT)"
   ]
  },
  {
   "cell_type": "markdown",
   "id": "c1684f3e-ed03-4bf0-9154-2b17c2866464",
   "metadata": {},
   "source": [
    "<div class=\"alert alert-block alert-success\">\n",
    "    <h3><b>Data Download</b></h3> </div>"
   ]
  },
  {
   "cell_type": "markdown",
   "id": "e15fbcb9-3e78-4ab4-a17a-89e8e4e0fc2f",
   "metadata": {},
   "source": [
    "<div class=\"alert alert-block alert-warning\">\n",
    "    \n",
    "<b>PREREQUISITES </b>\n",
    "    \n",
    "This notebook has the following requirement:\n",
    "  - **<a href=\"https://datalsasaf.lsasvcs.ipma.pt/\" target=\"_blank\">A LSA SAF Data Service account </a>** if you want to download one or more products from the LSA SAF datasets.\n",
    "\n",
    "    The registration page can be reached from the [**LSA SAF Home Page**](https://landsaf.ipma.pt/en/) where you can also find the complete catalogue describing all the available datasets.\n",
    "\n",
    "There are no prerequisite modules for this notebook.\n",
    "</div>\n",
    "<hr>"
   ]
  },
  {
   "cell_type": "markdown",
   "id": "7d0a396a-ab73-4ae3-a191-f055f46f2649",
   "metadata": {},
   "source": [
    "### Data used"
   ]
  },
  {
   "cell_type": "markdown",
   "id": "41e10d04-f3f2-4055-b2c4-a5af553efffa",
   "metadata": {},
   "source": [
    "|Product name| **Product Description**                    | Area | Spat. Resolution (degrees) |Temp. Coverage|Temp. Resolution | Data Access|\n",
    "|:--------------------------------------------:|:----:|:---:|:---:|:---:|:---:|:---:|\n",
    "|<span style=\"color:blue\">**MLST-AS [LSA-005]**</span>|<span style=\"color:blue\">**MSG Land Surface Temperature - All Sky**</span>|<span style=\"color:blue\">**MSG Disk**</span>|**0.05x0.05**|<span style=\"color:blue\">**2020 - NRT**</span>|<span style=\"color:blue\">**30 min**</span> |[**link**](https://datalsasaf.lsasvcs.ipma.pt/PRODUCTS/MSG/MLST-AS/)|"
   ]
  },
  {
   "cell_type": "markdown",
   "id": "96fab4fe-6fd9-4a40-a0c1-ecfe5bbe36f7",
   "metadata": {},
   "source": [
    "### **Introduction**\n",
    "\n",
    "This Jupyter notebook will guide you step by step into the operations needed to select and then download a set o ftime slots for a specific LSA SAF product  included in the catalogue that is available in the [**LSA SAF Home Page**](https://landsaf.ipma.pt/en/). The registration to the **LSA SAF Data Service** will allow you to explore all the datasets and choose the temporal period of interest. Then, with your LSA SAF credentials you will be able to download the product directly in this Jupyter environment where you can open, process and visualize the retrieved data."
   ]
  },
  {
   "cell_type": "markdown",
   "id": "1fa70211-9e92-4041-9f8a-6befa026dc69",
   "metadata": {},
   "source": [
    "### **Outline**\n",
    "\n",
    "* [**1.1 - Browsing the LSA SAF catalogue**](#browse)\n",
    "* [**1.2 - Accessing the LSA SAF Data Service**](#service) \n",
    "* [**1.3 - Downloading the products**](#download)"
   ]
  },
  {
   "cell_type": "markdown",
   "id": "d4185ed1-041e-4139-bf25-1119802dd3a6",
   "metadata": {},
   "source": [
    "<hr>"
   ]
  },
  {
   "cell_type": "markdown",
   "id": "1468504b-a5c1-4b8e-8fa5-dc7024dd5a87",
   "metadata": {},
   "source": [
    "#### **Importing required libraries**"
   ]
  },
  {
   "cell_type": "code",
   "execution_count": null,
   "id": "b53b9009-9fa8-4801-a7d5-761041f61d8d",
   "metadata": {},
   "outputs": [],
   "source": [
    "import os  #library to use functionalities of the operating system:\n",
    "#           in particular, to run command line instruction inside the code cells\n",
    "#           of the notebook\n",
    "import datetime as dt  # a library that allows us to work with dates and times\n",
    "import pandas as pd    # a library for time series analysis\n",
    "import subprocess"
   ]
  },
  {
   "cell_type": "markdown",
   "id": "6c52bcbb-545c-40a0-9785-1c03dbc3db39",
   "metadata": {},
   "source": [
    "<hr>"
   ]
  },
  {
   "cell_type": "markdown",
   "id": "f639a17f-53b6-4302-9c5b-7df49aa68a6b",
   "metadata": {},
   "source": [
    "### <a id=\"browse\"></a>**1.1 - Browsing the LSA SAF catalogue**"
   ]
  },
  {
   "cell_type": "markdown",
   "id": "eba4f82e-0554-4713-ab62-a5c34be32a7f",
   "metadata": {},
   "source": [
    "<span style=float:center><img src='../img/EUM_school_1.png' alt='Products' align='right' width='60%'></img>\n",
    "</span>\n",
    "\n",
    "The LSA SAF home page provides a dedicated <span style=\"color:blue\">**Products**</span> section where the available datasets are grouped in 6 specific thematic areas. You can find this section at the following link: [**https://landsaf.ipma.pt/en/data/products/**](https://landsaf.ipma.pt/en/data/products/)\n",
    "\n",
    "Each of the areas provides a short description of the related datasets and the links to the data sources.\n",
    "\n",
    "In this notebook we show you how to download the **LST All Sky** product (official name <span style=\"color:red\">**MLST-ASv2**</span>), but you can select other product to download."
   ]
  },
  {
   "cell_type": "markdown",
   "id": "7e566886-efef-4248-a952-5c828bb69739",
   "metadata": {},
   "source": [
    "### <a id=\"service\"></a>**1.2 - Accessing the LSA SAF Data Service**"
   ]
  },
  {
   "cell_type": "markdown",
   "id": "89784f2e-ca89-45a7-b2ae-f03710d33a78",
   "metadata": {},
   "source": [
    "<span style=float:center><img src='../img/EUM_school_2.jpg' alt='Products' align='right' width='60%'></img>\n",
    "</span>\n",
    "\n",
    "As you should already have completed the registration process for the LSA SAF Data Service, you should have received the credentials that will allow you to enter the **Data Archive** from the following page:\n",
    "\n",
    "[**https://datalsasaf.lsasvcs.ipma.pt/**](https://datalsasaf.lsasvcs.ipma.pt/)\n",
    "\n",
    "\n",
    "Here you will also find the link to a <span style=\"color:red\">**User Guide**</span> which provides explanations and code about how to access the data with multiple approaches. "
   ]
  },
  {
   "cell_type": "markdown",
   "id": "f36bf178-3aa0-42bf-bd2f-5642b1444170",
   "metadata": {},
   "source": [
    "### <a id=\"download\"></a>**1.3 - Downloading the product over one day**"
   ]
  },
  {
   "cell_type": "markdown",
   "id": "859463b5-f21b-4de9-a689-4af6ccb867a3",
   "metadata": {},
   "source": [
    "Now to implement the download operation you need to define the following variables:"
   ]
  },
  {
   "cell_type": "code",
   "execution_count": null,
   "id": "2a5b7a44-847e-44fe-82dc-889494bf290f",
   "metadata": {},
   "outputs": [],
   "source": [
    "username = 'USERNAME' #username of the Data Service account\n",
    "password = 'PASSWORD' #password of the Data Service account\n",
    "dest_folder = 'TYPE THE RELATIVE PATH OF THE DESTINATION FOLDER'  # folder where the product will be downloaded"
   ]
  },
  {
   "cell_type": "code",
   "execution_count": null,
   "id": "4967dba9-c620-4364-97d4-40502a6ed1e9",
   "metadata": {},
   "outputs": [],
   "source": [
    "\n",
    "dest_folder = '../data/lst/'  # folder where the product will be downloaded\n"
   ]
  },
  {
   "cell_type": "markdown",
   "id": "0924448d-d74b-4b7b-b045-aac568f011fc",
   "metadata": {},
   "source": [
    "Next you can choose the product you want to download"
   ]
  },
  {
   "cell_type": "code",
   "execution_count": null,
   "id": "9f9586b6-cfb9-4bef-b54e-ed1c4d4b6507",
   "metadata": {},
   "outputs": [],
   "source": [
    "Product_name='MLST-ASv2'\n"
   ]
  },
  {
   "cell_type": "markdown",
   "id": "7d659b55-166d-4de5-bcd4-dd136a82874b",
   "metadata": {},
   "source": [
    "We will donwload all files from a single day, at a given time frequency. Please note that the best temporal frequency of LSA SAF products is 15 min. Hovewever, not all the products are available at this time frequency. The user should check the LSA SAF catalogue.\n"
   ]
  },
  {
   "cell_type": "code",
   "execution_count": null,
   "id": "238f610f",
   "metadata": {},
   "outputs": [],
   "source": [
    "start_date = dt.datetime(2022, 6, 30)\n",
    "end_date = dt.datetime(2022, 7, 20)\n",
    "\n",
    "timefreq=60"
   ]
  },
  {
   "cell_type": "code",
   "execution_count": null,
   "id": "7d5719ed-35ef-496c-bb8d-29e587fc6604",
   "metadata": {},
   "outputs": [],
   "source": [
    "date_range = pd.date_range(start_date, end_date, freq=\"d\")\n",
    "# create a list of hours for which we have MLST-ASv2 data (every 30 minutes)\n",
    "day_range = pd.date_range(date_range[0], date_range[0] + dt.timedelta(minutes=1410), freq=dt.timedelta(minutes=timefreq))\n",
    "Filename_prefix='NETCDF4_LSASAF_MSG_'+Product_name+'_MSG-Disk_'\n",
    "for file in date_range:\n",
    "  for time in day_range:\n",
    "\n",
    "    print(time)\n",
    "    # build the file name based on the parameters\n",
    "    file_name = Filename_prefix \\\n",
    "    + str(\"{:02d}\".format(file.year)) \\\n",
    "    + str(\"{:02d}\".format(file.month)) \\\n",
    "    + str(\"{:02d}\".format(file.day)) \\\n",
    "    + str(\"{:02d}\".format(time.hour)) \\\n",
    "    + str(\"{:02d}\".format(time.minute)) \\\n",
    "    + \".nc\"\n",
    "\n",
    "    # \"year\", \"month\" and \"day\" reference for folders\n",
    "    year = str(\"{:02d}\".format(file.year))\n",
    "    month = str(\"{:02d}\".format(file.month))\n",
    "    day = str(\"{:02d}\".format(file.day))\n",
    "# download the \"Land Surface Temperature - All Sky Version 2\" file\n",
    "\n",
    "   # link = \"https://datalsasaf.lsasvcs.ipma.pt/PRODUCTS/MSG/{Product_name}/NETCDF/{year}/{month}/{day}/{file_name}\"\n",
    "    link = f\"https://datalsasaf.lsasvcs.ipma.pt/PRODUCTS/MSG/{Product_name}/NETCDF/{year}/{month}/{day}/{file_name}\"\n",
    "  \n",
    "    command = [\n",
    "        \"wget\", \"-c\", \"--no-check-certificate\",\n",
    "        \"--user\", username, \"--password\", password,\n",
    "        \"-P\", dest_folder, link\n",
    "    ]\n",
    "    #print(f\"Downloading {link} ...\")\n",
    "    subprocess.run(command)\n",
    "#    subprocess.run(command, stdout=subprocess.DEVNULL, stderr=subprocess.DEVNULL)\n",
    " \n"
   ]
  },
  {
   "cell_type": "markdown",
   "id": "acbbb7d6-f28e-433d-b825-25f641d9148e",
   "metadata": {},
   "source": [
    "<hr>"
   ]
  },
  {
   "cell_type": "markdown",
   "id": "a76a0009-6f0e-4876-bbc5-8b3125585569",
   "metadata": {},
   "source": [
    "<span style=float:center><img src='../img/LSASAF_Name_Colour.png' alt='LSA SAF' align='right' width='20%'></img>\n",
    "<span style=float:center><img src='../img/eumet_logo.png' alt='Eumetsat logo' align='center' width='20%'></img>"
   ]
  },
  {
   "cell_type": "code",
   "execution_count": null,
   "id": "30aa9e35-f9dc-4662-9ef4-94199c14ad58",
   "metadata": {},
   "outputs": [],
   "source": []
  }
 ],
 "metadata": {
  "kernelspec": {
   "display_name": "Python 3 (ipykernel)",
   "language": "python",
   "name": "python3"
  },
  "language_info": {
   "codemirror_mode": {
    "name": "ipython",
    "version": 3
   },
   "file_extension": ".py",
   "mimetype": "text/x-python",
   "name": "python",
   "nbconvert_exporter": "python",
   "pygments_lexer": "ipython3",
   "version": "3.10.10"
  }
 },
 "nbformat": 4,
 "nbformat_minor": 5
}
