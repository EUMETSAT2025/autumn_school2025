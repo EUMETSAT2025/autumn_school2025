{
 "cells": [
  {
   "cell_type": "markdown",
   "id": "1c0129ba-1154-4333-b6b4-96c7d3df1880",
   "metadata": {},
   "source": [
    "<span style=float:center><img src='../img/LSASAF_Name_Colour.png' alt='CM SAF' align='right' width='20%'></img>\n",
    "<span style=float:center><img src='../img/eumet_logo.png' alt='Eumetsat logo' align='center' width='30%'></img>"
   ]
  },
  {
   "cell_type": "markdown",
   "id": "a3cd3651-e728-4984-b53e-3617729cc3ca",
   "metadata": {},
   "source": [
    "## <span style=\"color:blue\">**International Autumn School on Satellite Data Applications (2025)**</span>"
   ]
  },
  {
   "cell_type": "markdown",
   "id": "c1684f3e-ed03-4bf0-9154-2b17c2866464",
   "metadata": {},
   "source": [
    "<div class=\"alert alert-block alert-success\">\n",
    "    <h3><b>NDVI Data Download</b></h3> </div>\n"
   ]
  },
  {
   "cell_type": "markdown",
   "id": "e15fbcb9-3e78-4ab4-a17a-89e8e4e0fc2f",
   "metadata": {},
   "source": [
    "<div class=\"alert alert-block alert-warning\">\n",
    "    \n",
    "<b>PREREQUISITES </b>\n",
    "    \n",
    "This notebook has the following requirement:\n",
    "  - **<a href=\"https://datalsasaf.lsasvcs.ipma.pt/\" target=\"_blank\">A LSA SAF Data Service account </a>** if you want to download one or more products from the LSA SAF datasets.\n",
    "\n",
    "    The registration page can be reached from the [**LSA SAF Home Page**](https://landsaf.ipma.pt/en/) where you can also find the complete catalogue describing all the available datasets.\n",
    "\n",
    "There are no prerequisite modules for this notebook.\n",
    "</div>\n",
    "<hr>"
   ]
  },
  {
   "cell_type": "markdown",
   "id": "1468504b-a5c1-4b8e-8fa5-dc7024dd5a87",
   "metadata": {},
   "source": [
    "#### **Importing required libraries**"
   ]
  },
  {
   "cell_type": "code",
   "execution_count": null,
   "id": "b53b9009-9fa8-4801-a7d5-761041f61d8d",
   "metadata": {},
   "outputs": [],
   "source": [
    "import os  #library to use functionalities of the operating system:\n",
    "#           in particular, to run command line instruction inside the code cells\n",
    "#           of the notebook\n",
    "import subprocess\n",
    "import zipfile \n",
    "import os\n",
    "import fnmatch"
   ]
  },
  {
   "cell_type": "markdown",
   "id": "6c52bcbb-545c-40a0-9785-1c03dbc3db39",
   "metadata": {},
   "source": [
    "<hr>"
   ]
  },
  {
   "cell_type": "markdown",
   "id": "e5187eb0-1e4c-48af-9797-048068b8841a",
   "metadata": {},
   "source": [
    "Now to implement the download operation you need to define the following variables:"
   ]
  },
  {
   "cell_type": "code",
   "execution_count": null,
   "id": "2a5b7a44-847e-44fe-82dc-889494bf290f",
   "metadata": {},
   "outputs": [],
   "source": [
    "username = 'USERNAME' #username of the Data Service account\n",
    "password = 'PASSWORD' #password of the Data Service account\n",
    "dest_folder = 'TYPE THE RELATIVE PATH OF THE DESTINATION FOLDER'  # folder where the product will be downloaded"
   ]
  },
  {
   "cell_type": "code",
   "execution_count": null,
   "id": "0fcc111f-d091-4cbb-b883-6c84a4698a8f",
   "metadata": {},
   "outputs": [],
   "source": [
    "# Folder where the files will be saved\n",
    "dest_folder = \"../data/NDVI/\" # folder where the product will be downloaded\n",
    "os.makedirs(dest_folder, exist_ok=True)"
   ]
  },
  {
   "cell_type": "code",
   "execution_count": null,
   "id": "dced9331-ae4d-49be-8870-601882ec445c",
   "metadata": {},
   "outputs": [],
   "source": [
    "Month = \"07\"\n",
    "IniDekad = \"21\"\n",
    "firstyear = 2010\n",
    "lastyear = 2021\n",
    "years = list(range(firstyear, lastyear + 1))\n",
    "\n",
    "for year in years:\n",
    "    link = f\"https://datalsasaf.lsasvcs.ipma.pt/PRODUCTS/EPS/ENDVI10/ENVI/{year}/{Month}/{IniDekad}/METOP_AVHRR_{year}{Month}{IniDekad}_S10_EUR_V200.zip\"\n",
    "    command = [\n",
    "        \"wget\", \"-c\", \"--no-check-certificate\",\n",
    "        \"--user\", username, \"--password\", password,\n",
    "        \"-P\", dest_folder, link\n",
    "    ]\n",
    "    subprocess.run(command, stdout=subprocess.DEVNULL, stderr=subprocess.DEVNULL)\n"
   ]
  },
  {
   "cell_type": "markdown",
   "id": "acbbb7d6-f28e-433d-b825-25f641d9148e",
   "metadata": {},
   "source": [
    "<hr>"
   ]
  },
  {
   "cell_type": "code",
   "execution_count": null,
   "id": "5c96eb04-a324-42cb-9ec7-1bdd2c6ba7f0",
   "metadata": {},
   "outputs": [],
   "source": [
    "# Unzip/extract any compressed files in the folder\n",
    "\n",
    "for file_name in os.listdir(dest_folder):\n",
    "    file_path = os.path.join(dest_folder, file_name)\n",
    "\n",
    "    if file_name.endswith(\".zip\"):\n",
    "        with zipfile.ZipFile(file_path, 'r') as zip_ref:\n",
    "            zip_ref.extractall(dest_folder)\n",
    "        #print(f\"Unzipped: {file_name}\")\n",
    "\n",
    "    elif file_name.endswith(\".gz\"):\n",
    "        with gzip.open(file_path, 'rb') as f_in:\n",
    "            output_path = file_path[:-3]  # remove .gz\n",
    "            with open(output_path, 'wb') as f_out:\n",
    "                shutil.copyfileobj(f_in, f_out)\n",
    "        #print(f\"Extracted: {file_name}\")\n",
    "\n",
    "    elif file_name.endswith((\".tar\", \".tar.gz\", \".tgz\")):\n",
    "        with tarfile.open(file_path, 'r:*') as tar_ref:\n",
    "            tar_ref.extractall(dest_folder)\n",
    "        #print(f\"Untarred: {file_name}\")\n",
    "\n",
    "print(\"✅ All files extracted successfully.\")"
   ]
  },
  {
   "cell_type": "code",
   "execution_count": null,
   "id": "57bcb352-857e-44f0-bb2e-4be94379b467",
   "metadata": {},
   "outputs": [],
   "source": [
    "# Pattern to keep\n",
    "keep_pattern = \"METOP_AVHRR_*_S10_EUR_NDV.img\"\n",
    "\n",
    "# Loop through all files and delete those that don't match the pattern\n",
    "for file_name in os.listdir(dest_folder):\n",
    "    file_path = os.path.join(dest_folder, file_name)\n",
    "\n",
    "    # Only keep files matching the pattern\n",
    "    if not fnmatch.fnmatch(file_name, keep_pattern):\n",
    "        if os.path.isfile(file_path):  # skip folders\n",
    "            os.remove(file_path)\n",
    "            #print(f\"Deleted: {file_name}\")\n",
    "\n",
    "print(\"✅ Cleanup complete. Only 'METOP_AVHRR_*_S10_EUR_NDV.img' files remain.\")\n"
   ]
  },
  {
   "cell_type": "markdown",
   "id": "a76a0009-6f0e-4876-bbc5-8b3125585569",
   "metadata": {},
   "source": [
    "<span style=float:center><img src='../img/LSASAF_Name_Colour.png' alt='LSA SAF' align='right' width='20%'></img>\n",
    "<span style=float:center><img src='../img/eumet_logo.png' alt='Eumetsat logo' align='center' width='20%'></img>"
   ]
  }
 ],
 "metadata": {
  "kernelspec": {
   "display_name": "Python [conda env:LSASAF_env]",
   "language": "python",
   "name": "conda-env-LSASAF_env-py"
  },
  "language_info": {
   "codemirror_mode": {
    "name": "ipython",
    "version": 3
   },
   "file_extension": ".py",
   "mimetype": "text/x-python",
   "name": "python",
   "nbconvert_exporter": "python",
   "pygments_lexer": "ipython3",
   "version": "3.10.15"
  }
 },
 "nbformat": 4,
 "nbformat_minor": 5
}
