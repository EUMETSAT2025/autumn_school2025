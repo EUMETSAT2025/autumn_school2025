{
 "cells": [
  {
   "cell_type": "markdown",
   "id": "1c0129ba-1154-4333-b6b4-96c7d3df1880",
   "metadata": {},
   "source": [
    "<span style=float:center><img src='../img/LSASAF_Name_Colour.png' alt='CM SAF' align='right' width='20%'></img>\n",
    "<span style=float:center><img src='../img/eumet_logo.png' alt='Eumetsat logo' align='center' width='30%'></img>"
   ]
  },
  {
   "cell_type": "markdown",
   "id": "a3cd3651-e728-4984-b53e-3617729cc3ca",
   "metadata": {},
   "source": [
    "## <span style=\"color:blue\">**International Autumn School on Satellite Data Applications (2025)**</span>"
   ]
  },
  {
   "cell_type": "markdown",
   "id": "c1684f3e-ed03-4bf0-9154-2b17c2866464",
   "metadata": {},
   "source": [
    "<div class=\"alert alert-block alert-success\">\n",
    "    <h3><b>NDVI Data Download</b></h3> </div>\n"
   ]
  },
  {
   "cell_type": "markdown",
   "id": "e15fbcb9-3e78-4ab4-a17a-89e8e4e0fc2f",
   "metadata": {},
   "source": [
    "<div class=\"alert alert-block alert-warning\">\n",
    "    \n",
    "<b>PREREQUISITES </b>\n",
    "    \n",
    "This notebook has the following requirement:\n",
    "  - **<a href=\"https://datalsasaf.lsasvcs.ipma.pt/\" target=\"_blank\">A LSA SAF Data Service account </a>** if you want to download one or more products from the LSA SAF datasets.\n",
    "\n",
    "    The registration page can be reached from the [**LSA SAF Home Page**](https://landsaf.ipma.pt/en/) where you can also find the complete catalogue describing all the available datasets.\n",
    "\n",
    "There are no prerequisite modules for this notebook.\n",
    "</div>\n",
    "<hr>"
   ]
  },
  {
   "cell_type": "markdown",
   "id": "1468504b-a5c1-4b8e-8fa5-dc7024dd5a87",
   "metadata": {},
   "source": [
    "#### **Importing required libraries**"
   ]
  },
  {
   "cell_type": "code",
   "execution_count": 1,
   "id": "b53b9009-9fa8-4801-a7d5-761041f61d8d",
   "metadata": {},
   "outputs": [],
   "source": [
    "import os  #library to use functionalities of the operating system:\n",
    "#           in particular, to run command line instruction inside the code cells\n",
    "#           of the notebook\n",
    "import subprocess\n",
    "import zipfile \n",
    "import os\n",
    "import fnmatch"
   ]
  },
  {
   "cell_type": "markdown",
   "id": "6c52bcbb-545c-40a0-9785-1c03dbc3db39",
   "metadata": {},
   "source": [
    "<hr>"
   ]
  },
  {
   "cell_type": "markdown",
   "id": "e5187eb0-1e4c-48af-9797-048068b8841a",
   "metadata": {},
   "source": [
    "Now to implement the download operation you need to define the following variables:"
   ]
  },
  {
   "cell_type": "code",
   "execution_count": 2,
   "id": "2a5b7a44-847e-44fe-82dc-889494bf290f",
   "metadata": {},
   "outputs": [],
   "source": [
    "username = '' #username of the Data Service account\n",
    "password = '' #password of the Data Service account\n",
    "dest_folder = '../data/NDVI/'  # folder where the product will be downloaded"
   ]
  },
  {
   "cell_type": "code",
   "execution_count": 3,
   "id": "0fcc111f-d091-4cbb-b883-6c84a4698a8f",
   "metadata": {},
   "outputs": [],
   "source": [
    "os.makedirs(dest_folder, exist_ok=True)"
   ]
  },
  {
   "cell_type": "code",
   "execution_count": 4,
   "id": "5b37b659-829e-4848-aafb-1d0917141e63",
   "metadata": {},
   "outputs": [],
   "source": [
    "Month = \"07\"\n",
    "IniDekad = \"21\"\n",
    "firstyear = 2010\n",
    "lastyear = 2020"
   ]
  },
  {
   "cell_type": "code",
   "execution_count": 5,
   "id": "e6060e2d-5768-41c1-9dd9-dfe45a26fac7",
   "metadata": {},
   "outputs": [
    {
     "name": "stdout",
     "output_type": "stream",
     "text": [
      "METOP_AVHRR_20100721_S10_EUR_V200.zip\n",
      "✅ Extracted: METOP_AVHRR_20100721_S10_EUR_NDV.img\n",
      "🗑️ Deleted ZIP: METOP_AVHRR_20100721_S10_EUR_V200.zip\n",
      "METOP_AVHRR_20110721_S10_EUR_V200.zip\n",
      "✅ Extracted: METOP_AVHRR_20110721_S10_EUR_NDV.img\n",
      "🗑️ Deleted ZIP: METOP_AVHRR_20110721_S10_EUR_V200.zip\n",
      "METOP_AVHRR_20120721_S10_EUR_V200.zip\n",
      "✅ Extracted: METOP_AVHRR_20120721_S10_EUR_NDV.img\n",
      "🗑️ Deleted ZIP: METOP_AVHRR_20120721_S10_EUR_V200.zip\n",
      "METOP_AVHRR_20130721_S10_EUR_V200.zip\n",
      "✅ Extracted: METOP_AVHRR_20130721_S10_EUR_NDV.img\n",
      "🗑️ Deleted ZIP: METOP_AVHRR_20130721_S10_EUR_V200.zip\n",
      "METOP_AVHRR_20140721_S10_EUR_V200.zip\n",
      "✅ Extracted: METOP_AVHRR_20140721_S10_EUR_NDV.img\n",
      "🗑️ Deleted ZIP: METOP_AVHRR_20140721_S10_EUR_V200.zip\n",
      "METOP_AVHRR_20150721_S10_EUR_V200.zip\n",
      "✅ Extracted: METOP_AVHRR_20150721_S10_EUR_NDV.img\n",
      "🗑️ Deleted ZIP: METOP_AVHRR_20150721_S10_EUR_V200.zip\n",
      "METOP_AVHRR_20160721_S10_EUR_V200.zip\n",
      "✅ Extracted: METOP_AVHRR_20160721_S10_EUR_NDV.img\n",
      "🗑️ Deleted ZIP: METOP_AVHRR_20160721_S10_EUR_V200.zip\n",
      "METOP_AVHRR_20170721_S10_EUR_V200.zip\n",
      "✅ Extracted: METOP_AVHRR_20170721_S10_EUR_NDV.img\n",
      "🗑️ Deleted ZIP: METOP_AVHRR_20170721_S10_EUR_V200.zip\n",
      "METOP_AVHRR_20180721_S10_EUR_V200.zip\n",
      "✅ Extracted: METOP_AVHRR_20180721_S10_EUR_NDV.img\n",
      "🗑️ Deleted ZIP: METOP_AVHRR_20180721_S10_EUR_V200.zip\n",
      "METOP_AVHRR_20190721_S10_EUR_V200.zip\n",
      "✅ Extracted: METOP_AVHRR_20190721_S10_EUR_NDV.img\n",
      "🗑️ Deleted ZIP: METOP_AVHRR_20190721_S10_EUR_V200.zip\n",
      "METOP_AVHRR_20200721_S10_EUR_V200.zip\n",
      "✅ Extracted: METOP_AVHRR_20200721_S10_EUR_NDV.img\n",
      "🗑️ Deleted ZIP: METOP_AVHRR_20200721_S10_EUR_V200.zip\n",
      "METOP_AVHRR_20210721_S10_EUR_V200.zip\n",
      "✅ Extracted: METOP_AVHRR_20210721_S10_EUR_NDV.img\n",
      "🗑️ Deleted ZIP: METOP_AVHRR_20210721_S10_EUR_V200.zip\n",
      "METOP_AVHRR_20220721_S10_EUR_V200.zip\n",
      "✅ Extracted: METOP_AVHRR_20220721_S10_EUR_NDV.img\n",
      "🗑️ Deleted ZIP: METOP_AVHRR_20220721_S10_EUR_V200.zip\n",
      "METOP_AVHRR_20230721_S10_EUR_V200.zip\n",
      "✅ Extracted: METOP_AVHRR_20230721_S10_EUR_NDV.img\n",
      "🗑️ Deleted ZIP: METOP_AVHRR_20230721_S10_EUR_V200.zip\n",
      "METOP_AVHRR_20240721_S10_EUR_V200.zip\n",
      "✅ Extracted: METOP_AVHRR_20240721_S10_EUR_NDV.img\n",
      "🗑️ Deleted ZIP: METOP_AVHRR_20240721_S10_EUR_V200.zip\n",
      "METOP_AVHRR_20250721_S10_EUR_V200.zip\n",
      "✅ Extracted: METOP_AVHRR_20250721_S10_EUR_NDV.img\n",
      "🗑️ Deleted ZIP: METOP_AVHRR_20250721_S10_EUR_V200.zip\n"
     ]
    }
   ],
   "source": [
    "years = list(range(firstyear, lastyear + 1))\n",
    "keep_pattern = \"METOP_AVHRR_*_S10_EUR_NDV.img\"\n",
    "\n",
    "\n",
    "# --- Main loop ---\n",
    "for year in years:\n",
    "    link = f\"https://datalsasaf.lsasvcs.ipma.pt/PRODUCTS/EPS/ENDVI10/ENVI/{year}/{Month}/{IniDekad}/METOP_AVHRR_{year}{Month}{IniDekad}_S10_EUR_V200.zip\"\n",
    "    file_name = os.path.basename(link)\n",
    "    print(file_name)\n",
    "    file_path = os.path.join(dest_folder, file_name)\n",
    "\n",
    "    # Download file\n",
    "    command = [\n",
    "        \"wget\", \"-c\", \"--no-check-certificate\",\n",
    "        \"--user\", username, \"--password\", password,\n",
    "        \"-P\", dest_folder, link\n",
    "    ]\n",
    "    subprocess.run(command, stdout=subprocess.DEVNULL, stderr=subprocess.DEVNULL)\n",
    "\n",
    "    # Check if download succeeded\n",
    "    if not os.path.exists(file_path):\n",
    "        print(f\"⚠️ File not found or download failed: {file_name}\")\n",
    "        continue\n",
    "\n",
    "    # Extract only .img file matching the pattern\n",
    "    try:\n",
    "        with zipfile.ZipFile(file_path, 'r') as zip_ref:\n",
    "            members = zip_ref.namelist()\n",
    "            matched_files = [f for f in members if fnmatch.fnmatch(f, keep_pattern)]\n",
    "\n",
    "            if not matched_files:\n",
    "                print(f\"⚠️ No matching .img file found in {file_name}\")\n",
    "                continue\n",
    "\n",
    "            for matched in matched_files:\n",
    "                zip_ref.extract(matched, dest_folder)\n",
    "                print(f\"✅ Extracted: {matched}\")\n",
    "\n",
    "    except zipfile.BadZipFile:\n",
    "        print(f\"⚠️ Skipping invalid zip file: {file_name}\")\n",
    "        continue\n",
    "\n",
    "    # Optionally delete the ZIP to save space\n",
    "    try:\n",
    "        os.remove(file_path)\n",
    "        print(f\"🗑️ Deleted ZIP: {file_name}\")\n",
    "    except Exception as e:\n",
    "        print(f\"⚠️ Could not delete ZIP: {e}\")"
   ]
  },
  {
   "cell_type": "markdown",
   "id": "acbbb7d6-f28e-433d-b825-25f641d9148e",
   "metadata": {},
   "source": [
    "<hr>"
   ]
  },
  {
   "cell_type": "markdown",
   "id": "a76a0009-6f0e-4876-bbc5-8b3125585569",
   "metadata": {},
   "source": [
    "<span style=float:center><img src='../img/LSASAF_Name_Colour.png' alt='LSA SAF' align='right' width='20%'></img>\n",
    "<span style=float:center><img src='../img/eumet_logo.png' alt='Eumetsat logo' align='center' width='20%'></img>"
   ]
  }
 ],
 "metadata": {
  "kernelspec": {
   "display_name": "Python 3 (ipykernel)",
   "language": "python",
   "name": "python3"
  },
  "language_info": {
   "codemirror_mode": {
    "name": "ipython",
    "version": 3
   },
   "file_extension": ".py",
   "mimetype": "text/x-python",
   "name": "python",
   "nbconvert_exporter": "python",
   "pygments_lexer": "ipython3",
   "version": "3.11.11"
  }
 },
 "nbformat": 4,
 "nbformat_minor": 5
}
